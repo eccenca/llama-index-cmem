{
 "cells": [
  {
   "metadata": {},
   "cell_type": "markdown",
   "source": [
    "# Chat Engine with NLSPARQLRetriever\n",
    "\n",
    "To use the CMEM integration, use a RetrieverQueryEngine with NLSPARQLRetriever and CMEMGraphStore."
   ]
  },
  {
   "metadata": {
    "ExecuteTime": {
     "end_time": "2025-04-02T05:59:51.704160Z",
     "start_time": "2025-04-02T05:59:50.832494Z"
    }
   },
   "cell_type": "code",
   "source": "%pip install cmem-cmempy llama-index python-dotenv",
   "outputs": [
    {
     "name": "stdout",
     "output_type": "stream",
     "text": [
      "Requirement already satisfied: cmem-cmempy in /home/pfreytag/github.com/eccenca/llama-index-cmem/.venv/lib/python3.12/site-packages (24.3.0)\r\n",
      "Requirement already satisfied: llama-index in /home/pfreytag/github.com/eccenca/llama-index-cmem/.venv/lib/python3.12/site-packages (0.12.18)\r\n",
      "Requirement already satisfied: python-dotenv in /home/pfreytag/github.com/eccenca/llama-index-cmem/.venv/lib/python3.12/site-packages (1.0.1)\r\n",
      "Requirement already satisfied: certifi>=2023.7.22 in /home/pfreytag/github.com/eccenca/llama-index-cmem/.venv/lib/python3.12/site-packages (from cmem-cmempy) (2025.1.31)\r\n",
      "Requirement already satisfied: pyparsing<4.0.0,>=3.1.1 in /home/pfreytag/github.com/eccenca/llama-index-cmem/.venv/lib/python3.12/site-packages (from cmem-cmempy) (3.2.1)\r\n",
      "Requirement already satisfied: rdflib<7.0.0,>=6.3.2 in /home/pfreytag/github.com/eccenca/llama-index-cmem/.venv/lib/python3.12/site-packages (from cmem-cmempy) (6.3.2)\r\n",
      "Requirement already satisfied: requests<3.0.0,>=2.31.0 in /home/pfreytag/github.com/eccenca/llama-index-cmem/.venv/lib/python3.12/site-packages (from cmem-cmempy) (2.32.3)\r\n",
      "Requirement already satisfied: requests-toolbelt<2.0.0,>=1.0.0 in /home/pfreytag/github.com/eccenca/llama-index-cmem/.venv/lib/python3.12/site-packages (from cmem-cmempy) (1.0.0)\r\n",
      "Requirement already satisfied: llama-index-agent-openai<0.5.0,>=0.4.0 in /home/pfreytag/github.com/eccenca/llama-index-cmem/.venv/lib/python3.12/site-packages (from llama-index) (0.4.6)\r\n",
      "Requirement already satisfied: llama-index-cli<0.5.0,>=0.4.0 in /home/pfreytag/github.com/eccenca/llama-index-cmem/.venv/lib/python3.12/site-packages (from llama-index) (0.4.0)\r\n",
      "Requirement already satisfied: llama-index-core<0.13.0,>=0.12.18 in /home/pfreytag/github.com/eccenca/llama-index-cmem/.venv/lib/python3.12/site-packages (from llama-index) (0.12.18)\r\n",
      "Requirement already satisfied: llama-index-embeddings-openai<0.4.0,>=0.3.0 in /home/pfreytag/github.com/eccenca/llama-index-cmem/.venv/lib/python3.12/site-packages (from llama-index) (0.3.1)\r\n",
      "Requirement already satisfied: llama-index-indices-managed-llama-cloud>=0.4.0 in /home/pfreytag/github.com/eccenca/llama-index-cmem/.venv/lib/python3.12/site-packages (from llama-index) (0.6.7)\r\n",
      "Requirement already satisfied: llama-index-llms-openai<0.4.0,>=0.3.0 in /home/pfreytag/github.com/eccenca/llama-index-cmem/.venv/lib/python3.12/site-packages (from llama-index) (0.3.20)\r\n",
      "Requirement already satisfied: llama-index-multi-modal-llms-openai<0.5.0,>=0.4.0 in /home/pfreytag/github.com/eccenca/llama-index-cmem/.venv/lib/python3.12/site-packages (from llama-index) (0.4.3)\r\n",
      "Requirement already satisfied: llama-index-program-openai<0.4.0,>=0.3.0 in /home/pfreytag/github.com/eccenca/llama-index-cmem/.venv/lib/python3.12/site-packages (from llama-index) (0.3.1)\r\n",
      "Requirement already satisfied: llama-index-question-gen-openai<0.4.0,>=0.3.0 in /home/pfreytag/github.com/eccenca/llama-index-cmem/.venv/lib/python3.12/site-packages (from llama-index) (0.3.0)\r\n",
      "Requirement already satisfied: llama-index-readers-file<0.5.0,>=0.4.0 in /home/pfreytag/github.com/eccenca/llama-index-cmem/.venv/lib/python3.12/site-packages (from llama-index) (0.4.5)\r\n",
      "Requirement already satisfied: llama-index-readers-llama-parse>=0.4.0 in /home/pfreytag/github.com/eccenca/llama-index-cmem/.venv/lib/python3.12/site-packages (from llama-index) (0.4.0)\r\n",
      "Requirement already satisfied: nltk>3.8.1 in /home/pfreytag/github.com/eccenca/llama-index-cmem/.venv/lib/python3.12/site-packages (from llama-index) (3.9.1)\r\n",
      "Requirement already satisfied: openai>=1.14.0 in /home/pfreytag/github.com/eccenca/llama-index-cmem/.venv/lib/python3.12/site-packages (from llama-index-agent-openai<0.5.0,>=0.4.0->llama-index) (1.63.2)\r\n",
      "Requirement already satisfied: PyYAML>=6.0.1 in /home/pfreytag/github.com/eccenca/llama-index-cmem/.venv/lib/python3.12/site-packages (from llama-index-core<0.13.0,>=0.12.18->llama-index) (6.0.2)\r\n",
      "Requirement already satisfied: SQLAlchemy>=1.4.49 in /home/pfreytag/github.com/eccenca/llama-index-cmem/.venv/lib/python3.12/site-packages (from SQLAlchemy[asyncio]>=1.4.49->llama-index-core<0.13.0,>=0.12.18->llama-index) (2.0.38)\r\n",
      "Requirement already satisfied: aiohttp<4.0.0,>=3.8.6 in /home/pfreytag/github.com/eccenca/llama-index-cmem/.venv/lib/python3.12/site-packages (from llama-index-core<0.13.0,>=0.12.18->llama-index) (3.11.12)\r\n",
      "Requirement already satisfied: dataclasses-json in /home/pfreytag/github.com/eccenca/llama-index-cmem/.venv/lib/python3.12/site-packages (from llama-index-core<0.13.0,>=0.12.18->llama-index) (0.6.7)\r\n",
      "Requirement already satisfied: deprecated>=1.2.9.3 in /home/pfreytag/github.com/eccenca/llama-index-cmem/.venv/lib/python3.12/site-packages (from llama-index-core<0.13.0,>=0.12.18->llama-index) (1.2.18)\r\n",
      "Requirement already satisfied: dirtyjson<2.0.0,>=1.0.8 in /home/pfreytag/github.com/eccenca/llama-index-cmem/.venv/lib/python3.12/site-packages (from llama-index-core<0.13.0,>=0.12.18->llama-index) (1.0.8)\r\n",
      "Requirement already satisfied: filetype<2.0.0,>=1.2.0 in /home/pfreytag/github.com/eccenca/llama-index-cmem/.venv/lib/python3.12/site-packages (from llama-index-core<0.13.0,>=0.12.18->llama-index) (1.2.0)\r\n",
      "Requirement already satisfied: fsspec>=2023.5.0 in /home/pfreytag/github.com/eccenca/llama-index-cmem/.venv/lib/python3.12/site-packages (from llama-index-core<0.13.0,>=0.12.18->llama-index) (2025.2.0)\r\n",
      "Requirement already satisfied: httpx in /home/pfreytag/github.com/eccenca/llama-index-cmem/.venv/lib/python3.12/site-packages (from llama-index-core<0.13.0,>=0.12.18->llama-index) (0.28.1)\r\n",
      "Requirement already satisfied: nest-asyncio<2.0.0,>=1.5.8 in /home/pfreytag/github.com/eccenca/llama-index-cmem/.venv/lib/python3.12/site-packages (from llama-index-core<0.13.0,>=0.12.18->llama-index) (1.6.0)\r\n",
      "Requirement already satisfied: networkx>=3.0 in /home/pfreytag/github.com/eccenca/llama-index-cmem/.venv/lib/python3.12/site-packages (from llama-index-core<0.13.0,>=0.12.18->llama-index) (3.4.2)\r\n",
      "Requirement already satisfied: numpy in /home/pfreytag/github.com/eccenca/llama-index-cmem/.venv/lib/python3.12/site-packages (from llama-index-core<0.13.0,>=0.12.18->llama-index) (2.2.3)\r\n",
      "Requirement already satisfied: pillow>=9.0.0 in /home/pfreytag/github.com/eccenca/llama-index-cmem/.venv/lib/python3.12/site-packages (from llama-index-core<0.13.0,>=0.12.18->llama-index) (11.1.0)\r\n",
      "Requirement already satisfied: pydantic>=2.8.0 in /home/pfreytag/github.com/eccenca/llama-index-cmem/.venv/lib/python3.12/site-packages (from llama-index-core<0.13.0,>=0.12.18->llama-index) (2.10.6)\r\n",
      "Requirement already satisfied: tenacity!=8.4.0,<10.0.0,>=8.2.0 in /home/pfreytag/github.com/eccenca/llama-index-cmem/.venv/lib/python3.12/site-packages (from llama-index-core<0.13.0,>=0.12.18->llama-index) (9.0.0)\r\n",
      "Requirement already satisfied: tiktoken>=0.3.3 in /home/pfreytag/github.com/eccenca/llama-index-cmem/.venv/lib/python3.12/site-packages (from llama-index-core<0.13.0,>=0.12.18->llama-index) (0.9.0)\r\n",
      "Requirement already satisfied: tqdm<5.0.0,>=4.66.1 in /home/pfreytag/github.com/eccenca/llama-index-cmem/.venv/lib/python3.12/site-packages (from llama-index-core<0.13.0,>=0.12.18->llama-index) (4.67.1)\r\n",
      "Requirement already satisfied: typing-extensions>=4.5.0 in /home/pfreytag/github.com/eccenca/llama-index-cmem/.venv/lib/python3.12/site-packages (from llama-index-core<0.13.0,>=0.12.18->llama-index) (4.12.2)\r\n",
      "Requirement already satisfied: typing-inspect>=0.8.0 in /home/pfreytag/github.com/eccenca/llama-index-cmem/.venv/lib/python3.12/site-packages (from llama-index-core<0.13.0,>=0.12.18->llama-index) (0.9.0)\r\n",
      "Requirement already satisfied: wrapt in /home/pfreytag/github.com/eccenca/llama-index-cmem/.venv/lib/python3.12/site-packages (from llama-index-core<0.13.0,>=0.12.18->llama-index) (1.17.2)\r\n",
      "Requirement already satisfied: llama-cloud<0.2.0,>=0.1.8 in /home/pfreytag/github.com/eccenca/llama-index-cmem/.venv/lib/python3.12/site-packages (from llama-index-indices-managed-llama-cloud>=0.4.0->llama-index) (0.1.12)\r\n",
      "Requirement already satisfied: beautifulsoup4<5.0.0,>=4.12.3 in /home/pfreytag/github.com/eccenca/llama-index-cmem/.venv/lib/python3.12/site-packages (from llama-index-readers-file<0.5.0,>=0.4.0->llama-index) (4.13.3)\r\n",
      "Requirement already satisfied: pandas in /home/pfreytag/github.com/eccenca/llama-index-cmem/.venv/lib/python3.12/site-packages (from llama-index-readers-file<0.5.0,>=0.4.0->llama-index) (2.2.3)\r\n",
      "Requirement already satisfied: pypdf<6.0.0,>=5.1.0 in /home/pfreytag/github.com/eccenca/llama-index-cmem/.venv/lib/python3.12/site-packages (from llama-index-readers-file<0.5.0,>=0.4.0->llama-index) (5.3.0)\r\n",
      "Requirement already satisfied: striprtf<0.0.27,>=0.0.26 in /home/pfreytag/github.com/eccenca/llama-index-cmem/.venv/lib/python3.12/site-packages (from llama-index-readers-file<0.5.0,>=0.4.0->llama-index) (0.0.26)\r\n",
      "Requirement already satisfied: llama-parse>=0.5.0 in /home/pfreytag/github.com/eccenca/llama-index-cmem/.venv/lib/python3.12/site-packages (from llama-index-readers-llama-parse>=0.4.0->llama-index) (0.6.1)\r\n",
      "Requirement already satisfied: click in /home/pfreytag/github.com/eccenca/llama-index-cmem/.venv/lib/python3.12/site-packages (from nltk>3.8.1->llama-index) (8.1.8)\r\n",
      "Requirement already satisfied: joblib in /home/pfreytag/github.com/eccenca/llama-index-cmem/.venv/lib/python3.12/site-packages (from nltk>3.8.1->llama-index) (1.4.2)\r\n",
      "Requirement already satisfied: regex>=2021.8.3 in /home/pfreytag/github.com/eccenca/llama-index-cmem/.venv/lib/python3.12/site-packages (from nltk>3.8.1->llama-index) (2024.11.6)\r\n",
      "Requirement already satisfied: isodate<0.7.0,>=0.6.0 in /home/pfreytag/github.com/eccenca/llama-index-cmem/.venv/lib/python3.12/site-packages (from rdflib<7.0.0,>=6.3.2->cmem-cmempy) (0.6.1)\r\n",
      "Requirement already satisfied: charset-normalizer<4,>=2 in /home/pfreytag/github.com/eccenca/llama-index-cmem/.venv/lib/python3.12/site-packages (from requests<3.0.0,>=2.31.0->cmem-cmempy) (3.4.1)\r\n",
      "Requirement already satisfied: idna<4,>=2.5 in /home/pfreytag/github.com/eccenca/llama-index-cmem/.venv/lib/python3.12/site-packages (from requests<3.0.0,>=2.31.0->cmem-cmempy) (3.10)\r\n",
      "Requirement already satisfied: urllib3<3,>=1.21.1 in /home/pfreytag/github.com/eccenca/llama-index-cmem/.venv/lib/python3.12/site-packages (from requests<3.0.0,>=2.31.0->cmem-cmempy) (2.3.0)\r\n",
      "Requirement already satisfied: aiohappyeyeballs>=2.3.0 in /home/pfreytag/github.com/eccenca/llama-index-cmem/.venv/lib/python3.12/site-packages (from aiohttp<4.0.0,>=3.8.6->llama-index-core<0.13.0,>=0.12.18->llama-index) (2.4.6)\r\n",
      "Requirement already satisfied: aiosignal>=1.1.2 in /home/pfreytag/github.com/eccenca/llama-index-cmem/.venv/lib/python3.12/site-packages (from aiohttp<4.0.0,>=3.8.6->llama-index-core<0.13.0,>=0.12.18->llama-index) (1.3.2)\r\n",
      "Requirement already satisfied: attrs>=17.3.0 in /home/pfreytag/github.com/eccenca/llama-index-cmem/.venv/lib/python3.12/site-packages (from aiohttp<4.0.0,>=3.8.6->llama-index-core<0.13.0,>=0.12.18->llama-index) (25.1.0)\r\n",
      "Requirement already satisfied: frozenlist>=1.1.1 in /home/pfreytag/github.com/eccenca/llama-index-cmem/.venv/lib/python3.12/site-packages (from aiohttp<4.0.0,>=3.8.6->llama-index-core<0.13.0,>=0.12.18->llama-index) (1.5.0)\r\n",
      "Requirement already satisfied: multidict<7.0,>=4.5 in /home/pfreytag/github.com/eccenca/llama-index-cmem/.venv/lib/python3.12/site-packages (from aiohttp<4.0.0,>=3.8.6->llama-index-core<0.13.0,>=0.12.18->llama-index) (6.1.0)\r\n",
      "Requirement already satisfied: propcache>=0.2.0 in /home/pfreytag/github.com/eccenca/llama-index-cmem/.venv/lib/python3.12/site-packages (from aiohttp<4.0.0,>=3.8.6->llama-index-core<0.13.0,>=0.12.18->llama-index) (0.2.1)\r\n",
      "Requirement already satisfied: yarl<2.0,>=1.17.0 in /home/pfreytag/github.com/eccenca/llama-index-cmem/.venv/lib/python3.12/site-packages (from aiohttp<4.0.0,>=3.8.6->llama-index-core<0.13.0,>=0.12.18->llama-index) (1.18.3)\r\n",
      "Requirement already satisfied: soupsieve>1.2 in /home/pfreytag/github.com/eccenca/llama-index-cmem/.venv/lib/python3.12/site-packages (from beautifulsoup4<5.0.0,>=4.12.3->llama-index-readers-file<0.5.0,>=0.4.0->llama-index) (2.6)\r\n",
      "Requirement already satisfied: six in /home/pfreytag/github.com/eccenca/llama-index-cmem/.venv/lib/python3.12/site-packages (from isodate<0.7.0,>=0.6.0->rdflib<7.0.0,>=6.3.2->cmem-cmempy) (1.17.0)\r\n",
      "Requirement already satisfied: anyio in /home/pfreytag/github.com/eccenca/llama-index-cmem/.venv/lib/python3.12/site-packages (from httpx->llama-index-core<0.13.0,>=0.12.18->llama-index) (4.8.0)\r\n",
      "Requirement already satisfied: httpcore==1.* in /home/pfreytag/github.com/eccenca/llama-index-cmem/.venv/lib/python3.12/site-packages (from httpx->llama-index-core<0.13.0,>=0.12.18->llama-index) (1.0.7)\r\n",
      "Requirement already satisfied: h11<0.15,>=0.13 in /home/pfreytag/github.com/eccenca/llama-index-cmem/.venv/lib/python3.12/site-packages (from httpcore==1.*->httpx->llama-index-core<0.13.0,>=0.12.18->llama-index) (0.14.0)\r\n",
      "Requirement already satisfied: llama-cloud-services>=0.6.1 in /home/pfreytag/github.com/eccenca/llama-index-cmem/.venv/lib/python3.12/site-packages (from llama-parse>=0.5.0->llama-index-readers-llama-parse>=0.4.0->llama-index) (0.6.1)\r\n",
      "Requirement already satisfied: distro<2,>=1.7.0 in /home/pfreytag/github.com/eccenca/llama-index-cmem/.venv/lib/python3.12/site-packages (from openai>=1.14.0->llama-index-agent-openai<0.5.0,>=0.4.0->llama-index) (1.9.0)\r\n",
      "Requirement already satisfied: jiter<1,>=0.4.0 in /home/pfreytag/github.com/eccenca/llama-index-cmem/.venv/lib/python3.12/site-packages (from openai>=1.14.0->llama-index-agent-openai<0.5.0,>=0.4.0->llama-index) (0.8.2)\r\n",
      "Requirement already satisfied: sniffio in /home/pfreytag/github.com/eccenca/llama-index-cmem/.venv/lib/python3.12/site-packages (from openai>=1.14.0->llama-index-agent-openai<0.5.0,>=0.4.0->llama-index) (1.3.1)\r\n",
      "Requirement already satisfied: annotated-types>=0.6.0 in /home/pfreytag/github.com/eccenca/llama-index-cmem/.venv/lib/python3.12/site-packages (from pydantic>=2.8.0->llama-index-core<0.13.0,>=0.12.18->llama-index) (0.7.0)\r\n",
      "Requirement already satisfied: pydantic-core==2.27.2 in /home/pfreytag/github.com/eccenca/llama-index-cmem/.venv/lib/python3.12/site-packages (from pydantic>=2.8.0->llama-index-core<0.13.0,>=0.12.18->llama-index) (2.27.2)\r\n",
      "Requirement already satisfied: greenlet!=0.4.17 in /home/pfreytag/github.com/eccenca/llama-index-cmem/.venv/lib/python3.12/site-packages (from SQLAlchemy>=1.4.49->SQLAlchemy[asyncio]>=1.4.49->llama-index-core<0.13.0,>=0.12.18->llama-index) (3.1.1)\r\n",
      "Requirement already satisfied: mypy-extensions>=0.3.0 in /home/pfreytag/github.com/eccenca/llama-index-cmem/.venv/lib/python3.12/site-packages (from typing-inspect>=0.8.0->llama-index-core<0.13.0,>=0.12.18->llama-index) (1.0.0)\r\n",
      "Requirement already satisfied: marshmallow<4.0.0,>=3.18.0 in /home/pfreytag/github.com/eccenca/llama-index-cmem/.venv/lib/python3.12/site-packages (from dataclasses-json->llama-index-core<0.13.0,>=0.12.18->llama-index) (3.26.1)\r\n",
      "Requirement already satisfied: python-dateutil>=2.8.2 in /home/pfreytag/github.com/eccenca/llama-index-cmem/.venv/lib/python3.12/site-packages (from pandas->llama-index-readers-file<0.5.0,>=0.4.0->llama-index) (2.9.0.post0)\r\n",
      "Requirement already satisfied: pytz>=2020.1 in /home/pfreytag/github.com/eccenca/llama-index-cmem/.venv/lib/python3.12/site-packages (from pandas->llama-index-readers-file<0.5.0,>=0.4.0->llama-index) (2025.1)\r\n",
      "Requirement already satisfied: tzdata>=2022.7 in /home/pfreytag/github.com/eccenca/llama-index-cmem/.venv/lib/python3.12/site-packages (from pandas->llama-index-readers-file<0.5.0,>=0.4.0->llama-index) (2025.1)\r\n",
      "Requirement already satisfied: packaging>=17.0 in /home/pfreytag/github.com/eccenca/llama-index-cmem/.venv/lib/python3.12/site-packages (from marshmallow<4.0.0,>=3.18.0->dataclasses-json->llama-index-core<0.13.0,>=0.12.18->llama-index) (24.2)\r\n",
      "Note: you may need to restart the kernel to use updated packages.\n"
     ]
    }
   ],
   "execution_count": 1
  },
  {
   "cell_type": "markdown",
   "metadata": {},
   "source": [
    "Load environment from `.env` file. \n",
    "Start by `cp .env-template .env` and edit the content of `.env` accordingly."
   ]
  },
  {
   "cell_type": "code",
   "metadata": {
    "ExecuteTime": {
     "end_time": "2025-04-02T05:59:51.716465Z",
     "start_time": "2025-04-02T05:59:51.707705Z"
    }
   },
   "source": [
    "%load_ext dotenv\n",
    "%dotenv\n",
    "%reload_ext dotenv"
   ],
   "outputs": [],
   "execution_count": 2
  },
  {
   "cell_type": "markdown",
   "metadata": {},
   "source": [
    "Set up the LLM"
   ]
  },
  {
   "cell_type": "code",
   "metadata": {
    "ExecuteTime": {
     "end_time": "2025-04-02T05:59:52.832909Z",
     "start_time": "2025-04-02T05:59:51.772251Z"
    }
   },
   "source": [
    "from llama_index.core import Settings\n",
    "from llama_index.llms.openai import OpenAI\n",
    "\n",
    "model = \"gpt-4o-mini\"\n",
    "llm = OpenAI(model=model)\n",
    "Settings.llm = llm"
   ],
   "outputs": [],
   "execution_count": 3
  },
  {
   "cell_type": "markdown",
   "metadata": {},
   "source": [
    "Set up all components."
   ]
  },
  {
   "cell_type": "code",
   "metadata": {
    "ExecuteTime": {
     "end_time": "2025-04-02T05:59:53.159872Z",
     "start_time": "2025-04-02T05:59:52.888825Z"
    }
   },
   "source": [
    "from llama_index.core import get_response_synthesizer\n",
    "from llama_index.core.chat_engine import CondensePlusContextChatEngine\n",
    "from llama_index.core.memory import ChatMemoryBuffer\n",
    "\n",
    "from llama_index_cmem.executor.cmem_sparql_executor import CMEMSPARQLExecutor\n",
    "from llama_index_cmem.retrievers import NLSPARQLRetriever\n",
    "\n",
    "from cmem.cmempy.dp.proxy.graph import get\n",
    "\n",
    "\n",
    "response_synthesizer = get_response_synthesizer()\n",
    "\n",
    "ontology_triples = get(\"http://ld.company.org/prod-vocab/\", owl_imports_resolution=True, accept=\"text/turtle\").content\n",
    "\n",
    "retriever = NLSPARQLRetriever(executor=CMEMSPARQLExecutor(), ontology_triples=ontology_triples, llm=llm)\n",
    "\n",
    "memory = ChatMemoryBuffer.from_defaults()\n",
    "\n",
    "chat_engine = CondensePlusContextChatEngine(\n",
    "    retriever=retriever,\n",
    "    llm=llm,\n",
    "    memory=memory\n",
    ")"
   ],
   "outputs": [],
   "execution_count": 4
  },
  {
   "cell_type": "markdown",
   "metadata": {},
   "source": [
    "Define a natural language query, run via query engine and get a natural language response answering the question."
   ]
  },
  {
   "cell_type": "code",
   "metadata": {
    "ExecuteTime": {
     "end_time": "2025-04-02T06:00:12.587235Z",
     "start_time": "2025-04-02T05:59:53.166395Z"
    }
   },
   "source": [
    "from IPython.display import JSON, Code, Markdown\n",
    "\n",
    "\n",
    "def ask(prompt: str) -> None:\n",
    "    \"\"\"Ask a question and display the answer.\"\"\"\n",
    "    display(Markdown(f\"## Prompt: _{prompt}_\"))\n",
    "    response = chat_engine.chat(prompt)\n",
    "    display(Markdown(f\"### Final response\\n\\n{response!s}\\n\\n\"))\n",
    "    for node in response.source_nodes:\n",
    "        display(Markdown(\"#### SPARQL query\\n\\n\"))\n",
    "        display(Code(data=node.metadata[\"sparql_query\"], language=\"sparql\"))\n",
    "        display(Markdown(\"#### CMEM result\\n\\n\"))\n",
    "        display(JSON(data=node.metadata[\"result\"]))\n",
    "\n",
    "\n",
    "query = \"List all hardware with price. Limit the results to 20 items.\"\n",
    "ask(query)"
   ],
   "outputs": [
    {
     "data": {
      "text/plain": [
       "<IPython.core.display.Markdown object>"
      ],
      "text/markdown": "## Prompt: _List all hardware with price. Limit the results to 20 items._"
     },
     "metadata": {},
     "output_type": "display_data"
    },
    {
     "data": {
      "text/plain": [
       "<IPython.core.display.Markdown object>"
      ],
      "text/markdown": "### Final response\n\nHere are 20 hardware items along with their prices:\n\n1. **Hardware**: [hw-C247-3833661](http://ld.company.org/prod-instances/hw-C247-3833661)\n   - **Price**: 3.44 EUR\n\n2. **Hardware**: [hw-E355-4376121](http://ld.company.org/prod-instances/hw-E355-4376121)\n   - **Price**: 5.53 EUR\n\n3. **Hardware**: [hw-G826-1197003](http://ld.company.org/prod-instances/hw-G826-1197003)\n   - **Price**: 0.44 EUR\n\n4. **Hardware**: [hw-N560-4369045](http://ld.company.org/prod-instances/hw-N560-4369045)\n   - **Price**: 2.61 EUR\n\n5. **Hardware**: [hw-P253-1288849](http://ld.company.org/prod-instances/hw-P253-1288849)\n   - **Price**: 0.98 EUR\n\n6. **Hardware**: [hw-R490-4226805](http://ld.company.org/prod-instances/hw-R490-4226805)\n   - **Price**: 4.78 EUR\n\n7. **Hardware**: [hw-R902-1645052](http://ld.company.org/prod-instances/hw-R902-1645052)\n   - **Price**: 0.65 EUR\n\n8. **Hardware**: [hw-S649-2935217](http://ld.company.org/prod-instances/hw-S649-2935217)\n   - **Price**: 5.22 EUR\n\n9. **Hardware**: [hw-H569-9184293](http://ld.company.org/prod-instances/hw-H569-9184293)\n   - **Price**: 3.96 EUR\n\n10. **Hardware**: [hw-I409-8215134](http://ld.company.org/prod-instances/hw-I409-8215134)\n    - **Price**: 2.46 EUR\n\n11. **Hardware**: [hw-K367-1320550](http://ld.company.org/prod-instances/hw-K367-1320550)\n    - **Price**: 4.08 EUR\n\n12. **Hardware**: [hw-M662-6209836](http://ld.company.org/prod-instances/hw-M662-6209836)\n    - **Price**: 3.29 EUR\n\n13. **Hardware**: [hw-N881-4812973](http://ld.company.org/prod-instances/hw-N881-4812973)\n    - **Price**: 1.6 EUR\n\n14. **Hardware**: [hw-S418-2584457](http://ld.company.org/prod-instances/hw-S418-2584457)\n    - **Price**: 4.32 EUR\n\n15. **Hardware**: [hw-V178-8820348](http://ld.company.org/prod-instances/hw-V178-8820348)\n    - **Price**: 2.3 EUR\n\n16. **Hardware**: [hw-W986-7950553](http://ld.company.org/prod-instances/hw-W986-7950553)\n    - **Price**: 5.27 EUR\n\n17. **Hardware**: [hw-X716-6172862](http://ld.company.org/prod-instances/hw-X716-6172862)\n    - **Price**: 3.2 EUR\n\n18. **Hardware**: [hw-B646-2108570](http://ld.company.org/prod-instances/hw-B646-2108570)\n    - **Price**: 1.14 EUR\n\n19. **Hardware**: [hw-G439-8153345](http://ld.company.org/prod-instances/hw-G439-8153345)\n    - **Price**: 2.33 EUR\n\n20. **Hardware**: [hw-H173-1200706](http://ld.company.org/prod-instances/hw-H173-1200706)\n    - **Price**: 2.77 EUR\n\nIf you need more information or additional items, feel free to ask!\n\n"
     },
     "metadata": {},
     "output_type": "display_data"
    },
    {
     "data": {
      "text/plain": [
       "<IPython.core.display.Markdown object>"
      ],
      "text/markdown": "#### SPARQL query\n\n"
     },
     "metadata": {},
     "output_type": "display_data"
    },
    {
     "data": {
      "text/plain": [
       "PREFIX pv: <http://ld.company.org/prod-vocab/>\n",
       "PREFIX xsd: <http://www.w3.org/2001/XMLSchema#>\n",
       "\n",
       "SELECT ?hardware ?price ?amount ?currency WHERE {\n",
       "  ?hardware a pv:Hardware .\n",
       "  ?hardware pv:price ?price .\n",
       "  ?price pv:amount ?amount .\n",
       "  ?price pv:currency ?currency .\n",
       "} LIMIT 20"
      ],
      "text/html": [
       "<style>pre { line-height: 125%; }\n",
       "td.linenos .normal { color: inherit; background-color: transparent; padding-left: 5px; padding-right: 5px; }\n",
       "span.linenos { color: inherit; background-color: transparent; padding-left: 5px; padding-right: 5px; }\n",
       "td.linenos .special { color: #000000; background-color: #ffffc0; padding-left: 5px; padding-right: 5px; }\n",
       "span.linenos.special { color: #000000; background-color: #ffffc0; padding-left: 5px; padding-right: 5px; }\n",
       ".output_html .hll { background-color: #ffffcc }\n",
       ".output_html { background: #f8f8f8; }\n",
       ".output_html .c { color: #3D7B7B; font-style: italic } /* Comment */\n",
       ".output_html .err { border: 1px solid #F00 } /* Error */\n",
       ".output_html .k { color: #008000; font-weight: bold } /* Keyword */\n",
       ".output_html .o { color: #666 } /* Operator */\n",
       ".output_html .ch { color: #3D7B7B; font-style: italic } /* Comment.Hashbang */\n",
       ".output_html .cm { color: #3D7B7B; font-style: italic } /* Comment.Multiline */\n",
       ".output_html .cp { color: #9C6500 } /* Comment.Preproc */\n",
       ".output_html .cpf { color: #3D7B7B; font-style: italic } /* Comment.PreprocFile */\n",
       ".output_html .c1 { color: #3D7B7B; font-style: italic } /* Comment.Single */\n",
       ".output_html .cs { color: #3D7B7B; font-style: italic } /* Comment.Special */\n",
       ".output_html .gd { color: #A00000 } /* Generic.Deleted */\n",
       ".output_html .ge { font-style: italic } /* Generic.Emph */\n",
       ".output_html .ges { font-weight: bold; font-style: italic } /* Generic.EmphStrong */\n",
       ".output_html .gr { color: #E40000 } /* Generic.Error */\n",
       ".output_html .gh { color: #000080; font-weight: bold } /* Generic.Heading */\n",
       ".output_html .gi { color: #008400 } /* Generic.Inserted */\n",
       ".output_html .go { color: #717171 } /* Generic.Output */\n",
       ".output_html .gp { color: #000080; font-weight: bold } /* Generic.Prompt */\n",
       ".output_html .gs { font-weight: bold } /* Generic.Strong */\n",
       ".output_html .gu { color: #800080; font-weight: bold } /* Generic.Subheading */\n",
       ".output_html .gt { color: #04D } /* Generic.Traceback */\n",
       ".output_html .kc { color: #008000; font-weight: bold } /* Keyword.Constant */\n",
       ".output_html .kd { color: #008000; font-weight: bold } /* Keyword.Declaration */\n",
       ".output_html .kn { color: #008000; font-weight: bold } /* Keyword.Namespace */\n",
       ".output_html .kp { color: #008000 } /* Keyword.Pseudo */\n",
       ".output_html .kr { color: #008000; font-weight: bold } /* Keyword.Reserved */\n",
       ".output_html .kt { color: #B00040 } /* Keyword.Type */\n",
       ".output_html .m { color: #666 } /* Literal.Number */\n",
       ".output_html .s { color: #BA2121 } /* Literal.String */\n",
       ".output_html .na { color: #687822 } /* Name.Attribute */\n",
       ".output_html .nb { color: #008000 } /* Name.Builtin */\n",
       ".output_html .nc { color: #00F; font-weight: bold } /* Name.Class */\n",
       ".output_html .no { color: #800 } /* Name.Constant */\n",
       ".output_html .nd { color: #A2F } /* Name.Decorator */\n",
       ".output_html .ni { color: #717171; font-weight: bold } /* Name.Entity */\n",
       ".output_html .ne { color: #CB3F38; font-weight: bold } /* Name.Exception */\n",
       ".output_html .nf { color: #00F } /* Name.Function */\n",
       ".output_html .nl { color: #767600 } /* Name.Label */\n",
       ".output_html .nn { color: #00F; font-weight: bold } /* Name.Namespace */\n",
       ".output_html .nt { color: #008000; font-weight: bold } /* Name.Tag */\n",
       ".output_html .nv { color: #19177C } /* Name.Variable */\n",
       ".output_html .ow { color: #A2F; font-weight: bold } /* Operator.Word */\n",
       ".output_html .w { color: #BBB } /* Text.Whitespace */\n",
       ".output_html .mb { color: #666 } /* Literal.Number.Bin */\n",
       ".output_html .mf { color: #666 } /* Literal.Number.Float */\n",
       ".output_html .mh { color: #666 } /* Literal.Number.Hex */\n",
       ".output_html .mi { color: #666 } /* Literal.Number.Integer */\n",
       ".output_html .mo { color: #666 } /* Literal.Number.Oct */\n",
       ".output_html .sa { color: #BA2121 } /* Literal.String.Affix */\n",
       ".output_html .sb { color: #BA2121 } /* Literal.String.Backtick */\n",
       ".output_html .sc { color: #BA2121 } /* Literal.String.Char */\n",
       ".output_html .dl { color: #BA2121 } /* Literal.String.Delimiter */\n",
       ".output_html .sd { color: #BA2121; font-style: italic } /* Literal.String.Doc */\n",
       ".output_html .s2 { color: #BA2121 } /* Literal.String.Double */\n",
       ".output_html .se { color: #AA5D1F; font-weight: bold } /* Literal.String.Escape */\n",
       ".output_html .sh { color: #BA2121 } /* Literal.String.Heredoc */\n",
       ".output_html .si { color: #A45A77; font-weight: bold } /* Literal.String.Interpol */\n",
       ".output_html .sx { color: #008000 } /* Literal.String.Other */\n",
       ".output_html .sr { color: #A45A77 } /* Literal.String.Regex */\n",
       ".output_html .s1 { color: #BA2121 } /* Literal.String.Single */\n",
       ".output_html .ss { color: #19177C } /* Literal.String.Symbol */\n",
       ".output_html .bp { color: #008000 } /* Name.Builtin.Pseudo */\n",
       ".output_html .fm { color: #00F } /* Name.Function.Magic */\n",
       ".output_html .vc { color: #19177C } /* Name.Variable.Class */\n",
       ".output_html .vg { color: #19177C } /* Name.Variable.Global */\n",
       ".output_html .vi { color: #19177C } /* Name.Variable.Instance */\n",
       ".output_html .vm { color: #19177C } /* Name.Variable.Magic */\n",
       ".output_html .il { color: #666 } /* Literal.Number.Integer.Long */</style><div class=\"highlight\"><pre><span></span><span class=\"k\">PREFIX</span> <span class=\"nn\">pv</span><span class=\"p\">:</span> <span class=\"nl\">&lt;http://ld.company.org/prod-vocab/&gt;</span>\n",
       "<span class=\"k\">PREFIX</span> <span class=\"nn\">xsd</span><span class=\"p\">:</span> <span class=\"nl\">&lt;http://www.w3.org/2001/XMLSchema#&gt;</span>\n",
       "\n",
       "<span class=\"k\">SELECT</span> <span class=\"nv\">?hardware</span> <span class=\"nv\">?price</span> <span class=\"nv\">?amount</span> <span class=\"nv\">?currency</span> <span class=\"k\">WHERE</span> <span class=\"p\">{</span>\n",
       "  <span class=\"nv\">?hardware</span> <span class=\"k\">a</span> <span class=\"nn\">pv</span><span class=\"p\">:</span><span class=\"nt\">Hardware</span> <span class=\"p\">.</span>\n",
       "  <span class=\"nv\">?hardware</span> <span class=\"nn\">pv</span><span class=\"p\">:</span><span class=\"nt\">price</span> <span class=\"nv\">?price</span> <span class=\"p\">.</span>\n",
       "  <span class=\"nv\">?price</span> <span class=\"nn\">pv</span><span class=\"p\">:</span><span class=\"nt\">amount</span> <span class=\"nv\">?amount</span> <span class=\"p\">.</span>\n",
       "  <span class=\"nv\">?price</span> <span class=\"nn\">pv</span><span class=\"p\">:</span><span class=\"nt\">currency</span> <span class=\"nv\">?currency</span> <span class=\"p\">.</span>\n",
       "<span class=\"p\">}</span> <span class=\"k\">LIMIT</span> <span class=\"mi\">20</span>\n",
       "</pre></div>\n"
      ],
      "text/latex": "\\begin{Verbatim}[commandchars=\\\\\\{\\}]\n\\PY{k}{PREFIX} \\PY{n+nn}{pv}\\PY{p}{:} \\PY{n+nl}{\\PYZlt{}http://ld.company.org/prod\\PYZhy{}vocab/\\PYZgt{}}\n\\PY{k}{PREFIX} \\PY{n+nn}{xsd}\\PY{p}{:} \\PY{n+nl}{\\PYZlt{}http://www.w3.org/2001/XMLSchema\\PYZsh{}\\PYZgt{}}\n\n\\PY{k}{SELECT} \\PY{n+nv}{?hardware} \\PY{n+nv}{?price} \\PY{n+nv}{?amount} \\PY{n+nv}{?currency} \\PY{k}{WHERE} \\PY{p}{\\PYZob{}}\n  \\PY{n+nv}{?hardware} \\PY{k}{a} \\PY{n+nn}{pv}\\PY{p}{:}\\PY{n+nt}{Hardware} \\PY{p}{.}\n  \\PY{n+nv}{?hardware} \\PY{n+nn}{pv}\\PY{p}{:}\\PY{n+nt}{price} \\PY{n+nv}{?price} \\PY{p}{.}\n  \\PY{n+nv}{?price} \\PY{n+nn}{pv}\\PY{p}{:}\\PY{n+nt}{amount} \\PY{n+nv}{?amount} \\PY{p}{.}\n  \\PY{n+nv}{?price} \\PY{n+nn}{pv}\\PY{p}{:}\\PY{n+nt}{currency} \\PY{n+nv}{?currency} \\PY{p}{.}\n\\PY{p}{\\PYZcb{}} \\PY{k}{LIMIT} \\PY{l+m+mi}{20}\n\\end{Verbatim}\n"
     },
     "metadata": {},
     "output_type": "display_data"
    },
    {
     "data": {
      "text/plain": [
       "<IPython.core.display.Markdown object>"
      ],
      "text/markdown": "#### CMEM result\n\n"
     },
     "metadata": {},
     "output_type": "display_data"
    },
    {
     "data": {
      "text/plain": [
       "<IPython.core.display.JSON object>"
      ],
      "application/json": {
       "head": {
        "vars": [
         "hardware",
         "price",
         "amount",
         "currency"
        ]
       },
       "results": {
        "bindings": [
         {
          "hardware": {
           "type": "uri",
           "value": "http://ld.company.org/prod-instances/hw-C247-3833661"
          },
          "price": {
           "type": "uri",
           "value": "http://ld.company.org/prod-instances/price-hw-C247-3833661-EUR"
          },
          "amount": {
           "type": "literal",
           "datatype": "http://www.w3.org/2001/XMLSchema#double",
           "value": "3.44"
          },
          "currency": {
           "type": "literal",
           "value": "EUR"
          }
         },
         {
          "hardware": {
           "type": "uri",
           "value": "http://ld.company.org/prod-instances/hw-E355-4376121"
          },
          "price": {
           "type": "uri",
           "value": "http://ld.company.org/prod-instances/price-hw-E355-4376121-EUR"
          },
          "amount": {
           "type": "literal",
           "datatype": "http://www.w3.org/2001/XMLSchema#double",
           "value": "5.53"
          },
          "currency": {
           "type": "literal",
           "value": "EUR"
          }
         },
         {
          "hardware": {
           "type": "uri",
           "value": "http://ld.company.org/prod-instances/hw-G826-1197003"
          },
          "price": {
           "type": "uri",
           "value": "http://ld.company.org/prod-instances/price-hw-G826-1197003-EUR"
          },
          "amount": {
           "type": "literal",
           "datatype": "http://www.w3.org/2001/XMLSchema#double",
           "value": "0.44"
          },
          "currency": {
           "type": "literal",
           "value": "EUR"
          }
         },
         {
          "hardware": {
           "type": "uri",
           "value": "http://ld.company.org/prod-instances/hw-N560-4369045"
          },
          "price": {
           "type": "uri",
           "value": "http://ld.company.org/prod-instances/price-hw-N560-4369045-EUR"
          },
          "amount": {
           "type": "literal",
           "datatype": "http://www.w3.org/2001/XMLSchema#double",
           "value": "2.61"
          },
          "currency": {
           "type": "literal",
           "value": "EUR"
          }
         },
         {
          "hardware": {
           "type": "uri",
           "value": "http://ld.company.org/prod-instances/hw-P253-1288849"
          },
          "price": {
           "type": "uri",
           "value": "http://ld.company.org/prod-instances/price-hw-P253-1288849-EUR"
          },
          "amount": {
           "type": "literal",
           "datatype": "http://www.w3.org/2001/XMLSchema#double",
           "value": "0.98"
          },
          "currency": {
           "type": "literal",
           "value": "EUR"
          }
         },
         {
          "hardware": {
           "type": "uri",
           "value": "http://ld.company.org/prod-instances/hw-R490-4226805"
          },
          "price": {
           "type": "uri",
           "value": "http://ld.company.org/prod-instances/price-hw-R490-4226805-EUR"
          },
          "amount": {
           "type": "literal",
           "datatype": "http://www.w3.org/2001/XMLSchema#double",
           "value": "4.78"
          },
          "currency": {
           "type": "literal",
           "value": "EUR"
          }
         },
         {
          "hardware": {
           "type": "uri",
           "value": "http://ld.company.org/prod-instances/hw-R902-1645052"
          },
          "price": {
           "type": "uri",
           "value": "http://ld.company.org/prod-instances/price-hw-R902-1645052-EUR"
          },
          "amount": {
           "type": "literal",
           "datatype": "http://www.w3.org/2001/XMLSchema#double",
           "value": "0.65"
          },
          "currency": {
           "type": "literal",
           "value": "EUR"
          }
         },
         {
          "hardware": {
           "type": "uri",
           "value": "http://ld.company.org/prod-instances/hw-S649-2935217"
          },
          "price": {
           "type": "uri",
           "value": "http://ld.company.org/prod-instances/price-hw-S649-2935217-EUR"
          },
          "amount": {
           "type": "literal",
           "datatype": "http://www.w3.org/2001/XMLSchema#double",
           "value": "5.22"
          },
          "currency": {
           "type": "literal",
           "value": "EUR"
          }
         },
         {
          "hardware": {
           "type": "uri",
           "value": "http://ld.company.org/prod-instances/hw-H569-9184293"
          },
          "price": {
           "type": "uri",
           "value": "http://ld.company.org/prod-instances/price-hw-H569-9184293-EUR"
          },
          "amount": {
           "type": "literal",
           "datatype": "http://www.w3.org/2001/XMLSchema#double",
           "value": "3.96"
          },
          "currency": {
           "type": "literal",
           "value": "EUR"
          }
         },
         {
          "hardware": {
           "type": "uri",
           "value": "http://ld.company.org/prod-instances/hw-I409-8215134"
          },
          "price": {
           "type": "uri",
           "value": "http://ld.company.org/prod-instances/price-hw-I409-8215134-EUR"
          },
          "amount": {
           "type": "literal",
           "datatype": "http://www.w3.org/2001/XMLSchema#double",
           "value": "2.46"
          },
          "currency": {
           "type": "literal",
           "value": "EUR"
          }
         },
         {
          "hardware": {
           "type": "uri",
           "value": "http://ld.company.org/prod-instances/hw-K367-1320550"
          },
          "price": {
           "type": "uri",
           "value": "http://ld.company.org/prod-instances/price-hw-K367-1320550-EUR"
          },
          "amount": {
           "type": "literal",
           "datatype": "http://www.w3.org/2001/XMLSchema#double",
           "value": "4.08"
          },
          "currency": {
           "type": "literal",
           "value": "EUR"
          }
         },
         {
          "hardware": {
           "type": "uri",
           "value": "http://ld.company.org/prod-instances/hw-M662-6209836"
          },
          "price": {
           "type": "uri",
           "value": "http://ld.company.org/prod-instances/price-hw-M662-6209836-EUR"
          },
          "amount": {
           "type": "literal",
           "datatype": "http://www.w3.org/2001/XMLSchema#double",
           "value": "3.29"
          },
          "currency": {
           "type": "literal",
           "value": "EUR"
          }
         },
         {
          "hardware": {
           "type": "uri",
           "value": "http://ld.company.org/prod-instances/hw-N881-4812973"
          },
          "price": {
           "type": "uri",
           "value": "http://ld.company.org/prod-instances/price-hw-N881-4812973-EUR"
          },
          "amount": {
           "type": "literal",
           "datatype": "http://www.w3.org/2001/XMLSchema#double",
           "value": "1.6"
          },
          "currency": {
           "type": "literal",
           "value": "EUR"
          }
         },
         {
          "hardware": {
           "type": "uri",
           "value": "http://ld.company.org/prod-instances/hw-S418-2584457"
          },
          "price": {
           "type": "uri",
           "value": "http://ld.company.org/prod-instances/price-hw-S418-2584457-EUR"
          },
          "amount": {
           "type": "literal",
           "datatype": "http://www.w3.org/2001/XMLSchema#double",
           "value": "4.32"
          },
          "currency": {
           "type": "literal",
           "value": "EUR"
          }
         },
         {
          "hardware": {
           "type": "uri",
           "value": "http://ld.company.org/prod-instances/hw-V178-8820348"
          },
          "price": {
           "type": "uri",
           "value": "http://ld.company.org/prod-instances/price-hw-V178-8820348-EUR"
          },
          "amount": {
           "type": "literal",
           "datatype": "http://www.w3.org/2001/XMLSchema#double",
           "value": "2.3"
          },
          "currency": {
           "type": "literal",
           "value": "EUR"
          }
         },
         {
          "hardware": {
           "type": "uri",
           "value": "http://ld.company.org/prod-instances/hw-W986-7950553"
          },
          "price": {
           "type": "uri",
           "value": "http://ld.company.org/prod-instances/price-hw-W986-7950553-EUR"
          },
          "amount": {
           "type": "literal",
           "datatype": "http://www.w3.org/2001/XMLSchema#double",
           "value": "5.27"
          },
          "currency": {
           "type": "literal",
           "value": "EUR"
          }
         },
         {
          "hardware": {
           "type": "uri",
           "value": "http://ld.company.org/prod-instances/hw-X716-6172862"
          },
          "price": {
           "type": "uri",
           "value": "http://ld.company.org/prod-instances/price-hw-X716-6172862-EUR"
          },
          "amount": {
           "type": "literal",
           "datatype": "http://www.w3.org/2001/XMLSchema#double",
           "value": "3.2"
          },
          "currency": {
           "type": "literal",
           "value": "EUR"
          }
         },
         {
          "hardware": {
           "type": "uri",
           "value": "http://ld.company.org/prod-instances/hw-B646-2108570"
          },
          "price": {
           "type": "uri",
           "value": "http://ld.company.org/prod-instances/price-hw-B646-2108570-EUR"
          },
          "amount": {
           "type": "literal",
           "datatype": "http://www.w3.org/2001/XMLSchema#double",
           "value": "1.14"
          },
          "currency": {
           "type": "literal",
           "value": "EUR"
          }
         },
         {
          "hardware": {
           "type": "uri",
           "value": "http://ld.company.org/prod-instances/hw-G439-8153345"
          },
          "price": {
           "type": "uri",
           "value": "http://ld.company.org/prod-instances/price-hw-G439-8153345-EUR"
          },
          "amount": {
           "type": "literal",
           "datatype": "http://www.w3.org/2001/XMLSchema#double",
           "value": "2.33"
          },
          "currency": {
           "type": "literal",
           "value": "EUR"
          }
         },
         {
          "hardware": {
           "type": "uri",
           "value": "http://ld.company.org/prod-instances/hw-H173-1200706"
          },
          "price": {
           "type": "uri",
           "value": "http://ld.company.org/prod-instances/price-hw-H173-1200706-EUR"
          },
          "amount": {
           "type": "literal",
           "datatype": "http://www.w3.org/2001/XMLSchema#double",
           "value": "2.77"
          },
          "currency": {
           "type": "literal",
           "value": "EUR"
          }
         }
        ]
       }
      }
     },
     "metadata": {
      "application/json": {
       "expanded": false,
       "root": "root"
      }
     },
     "output_type": "display_data"
    }
   ],
   "execution_count": 5
  }
 ],
 "metadata": {
  "kernelspec": {
   "display_name": ".venv",
   "language": "python",
   "name": "python3"
  },
  "language_info": {
   "codemirror_mode": {
    "name": "ipython",
    "version": 3
   },
   "file_extension": ".py",
   "mimetype": "text/x-python",
   "name": "python",
   "nbconvert_exporter": "python",
   "pygments_lexer": "ipython3",
   "version": "3.13.0"
  }
 },
 "nbformat": 4,
 "nbformat_minor": 2
}
