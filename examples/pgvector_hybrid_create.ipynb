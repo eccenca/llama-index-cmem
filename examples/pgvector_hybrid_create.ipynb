{
 "cells": [
  {
   "cell_type": "code",
   "execution_count": 1,
   "id": "initial_id",
   "metadata": {
    "ExecuteTime": {
     "end_time": "2025-01-23T16:00:56.769070Z",
     "start_time": "2025-01-23T16:00:54.957789Z"
    },
    "collapsed": true
   },
   "outputs": [
    {
     "name": "stdout",
     "output_type": "stream",
     "text": [
      "Requirement already satisfied: cmem-cmempy in /Users/rene/Documents/git/github/eccenca/llama-index-cmem/.venv/lib/python3.13/site-packages (24.3.0)\n",
      "Requirement already satisfied: llama-index in /Users/rene/Documents/git/github/eccenca/llama-index-cmem/.venv/lib/python3.13/site-packages (0.12.11)\n",
      "Requirement already satisfied: python-dotenv in /Users/rene/Documents/git/github/eccenca/llama-index-cmem/.venv/lib/python3.13/site-packages (1.0.1)\n",
      "Requirement already satisfied: llama-index-vector-stores-postgres in /Users/rene/Documents/git/github/eccenca/llama-index-cmem/.venv/lib/python3.13/site-packages (0.4.2)\n",
      "Requirement already satisfied: certifi>=2023.7.22 in /Users/rene/Documents/git/github/eccenca/llama-index-cmem/.venv/lib/python3.13/site-packages (from cmem-cmempy) (2024.12.14)\n",
      "Requirement already satisfied: pyparsing<4.0.0,>=3.1.1 in /Users/rene/Documents/git/github/eccenca/llama-index-cmem/.venv/lib/python3.13/site-packages (from cmem-cmempy) (3.2.1)\n",
      "Requirement already satisfied: rdflib<7.0.0,>=6.3.2 in /Users/rene/Documents/git/github/eccenca/llama-index-cmem/.venv/lib/python3.13/site-packages (from cmem-cmempy) (6.3.2)\n",
      "Requirement already satisfied: requests<3.0.0,>=2.31.0 in /Users/rene/Documents/git/github/eccenca/llama-index-cmem/.venv/lib/python3.13/site-packages (from cmem-cmempy) (2.32.3)\n",
      "Requirement already satisfied: requests-toolbelt<2.0.0,>=1.0.0 in /Users/rene/Documents/git/github/eccenca/llama-index-cmem/.venv/lib/python3.13/site-packages (from cmem-cmempy) (1.0.0)\n",
      "Requirement already satisfied: llama-index-agent-openai<0.5.0,>=0.4.0 in /Users/rene/Documents/git/github/eccenca/llama-index-cmem/.venv/lib/python3.13/site-packages (from llama-index) (0.4.2)\n",
      "Requirement already satisfied: llama-index-cli<0.5.0,>=0.4.0 in /Users/rene/Documents/git/github/eccenca/llama-index-cmem/.venv/lib/python3.13/site-packages (from llama-index) (0.4.0)\n",
      "Requirement already satisfied: llama-index-core<0.13.0,>=0.12.11 in /Users/rene/Documents/git/github/eccenca/llama-index-cmem/.venv/lib/python3.13/site-packages (from llama-index) (0.12.11)\n",
      "Requirement already satisfied: llama-index-embeddings-openai<0.4.0,>=0.3.0 in /Users/rene/Documents/git/github/eccenca/llama-index-cmem/.venv/lib/python3.13/site-packages (from llama-index) (0.3.1)\n",
      "Requirement already satisfied: llama-index-indices-managed-llama-cloud>=0.4.0 in /Users/rene/Documents/git/github/eccenca/llama-index-cmem/.venv/lib/python3.13/site-packages (from llama-index) (0.6.3)\n",
      "Requirement already satisfied: llama-index-llms-openai<0.4.0,>=0.3.0 in /Users/rene/Documents/git/github/eccenca/llama-index-cmem/.venv/lib/python3.13/site-packages (from llama-index) (0.3.13)\n",
      "Requirement already satisfied: llama-index-multi-modal-llms-openai<0.5.0,>=0.4.0 in /Users/rene/Documents/git/github/eccenca/llama-index-cmem/.venv/lib/python3.13/site-packages (from llama-index) (0.4.2)\n",
      "Requirement already satisfied: llama-index-program-openai<0.4.0,>=0.3.0 in /Users/rene/Documents/git/github/eccenca/llama-index-cmem/.venv/lib/python3.13/site-packages (from llama-index) (0.3.1)\n",
      "Requirement already satisfied: llama-index-question-gen-openai<0.4.0,>=0.3.0 in /Users/rene/Documents/git/github/eccenca/llama-index-cmem/.venv/lib/python3.13/site-packages (from llama-index) (0.3.0)\n",
      "Requirement already satisfied: llama-index-readers-file<0.5.0,>=0.4.0 in /Users/rene/Documents/git/github/eccenca/llama-index-cmem/.venv/lib/python3.13/site-packages (from llama-index) (0.4.3)\n",
      "Requirement already satisfied: llama-index-readers-llama-parse>=0.4.0 in /Users/rene/Documents/git/github/eccenca/llama-index-cmem/.venv/lib/python3.13/site-packages (from llama-index) (0.4.0)\n",
      "Requirement already satisfied: nltk>3.8.1 in /Users/rene/Documents/git/github/eccenca/llama-index-cmem/.venv/lib/python3.13/site-packages (from llama-index) (3.9.1)\n",
      "Requirement already satisfied: asyncpg<1.0.0,>=0.29.0 in /Users/rene/Documents/git/github/eccenca/llama-index-cmem/.venv/lib/python3.13/site-packages (from llama-index-vector-stores-postgres) (0.30.0)\n",
      "Requirement already satisfied: pgvector<1.0.0,>=0.3.6 in /Users/rene/Documents/git/github/eccenca/llama-index-cmem/.venv/lib/python3.13/site-packages (from llama-index-vector-stores-postgres) (0.3.6)\n",
      "Requirement already satisfied: psycopg2-binary<3.0.0,>=2.9.9 in /Users/rene/Documents/git/github/eccenca/llama-index-cmem/.venv/lib/python3.13/site-packages (from llama-index-vector-stores-postgres) (2.9.10)\n",
      "Requirement already satisfied: sqlalchemy<2.1,>=1.4.49 in /Users/rene/Documents/git/github/eccenca/llama-index-cmem/.venv/lib/python3.13/site-packages (from sqlalchemy[asyncio]<2.1,>=1.4.49->llama-index-vector-stores-postgres) (2.0.37)\n",
      "Requirement already satisfied: openai>=1.14.0 in /Users/rene/Documents/git/github/eccenca/llama-index-cmem/.venv/lib/python3.13/site-packages (from llama-index-agent-openai<0.5.0,>=0.4.0->llama-index) (1.59.8)\n",
      "Requirement already satisfied: PyYAML>=6.0.1 in /Users/rene/Documents/git/github/eccenca/llama-index-cmem/.venv/lib/python3.13/site-packages (from llama-index-core<0.13.0,>=0.12.11->llama-index) (6.0.2)\n",
      "Requirement already satisfied: aiohttp<4.0.0,>=3.8.6 in /Users/rene/Documents/git/github/eccenca/llama-index-cmem/.venv/lib/python3.13/site-packages (from llama-index-core<0.13.0,>=0.12.11->llama-index) (3.11.11)\n",
      "Requirement already satisfied: dataclasses-json in /Users/rene/Documents/git/github/eccenca/llama-index-cmem/.venv/lib/python3.13/site-packages (from llama-index-core<0.13.0,>=0.12.11->llama-index) (0.6.7)\n",
      "Requirement already satisfied: deprecated>=1.2.9.3 in /Users/rene/Documents/git/github/eccenca/llama-index-cmem/.venv/lib/python3.13/site-packages (from llama-index-core<0.13.0,>=0.12.11->llama-index) (1.2.15)\n",
      "Requirement already satisfied: dirtyjson<2.0.0,>=1.0.8 in /Users/rene/Documents/git/github/eccenca/llama-index-cmem/.venv/lib/python3.13/site-packages (from llama-index-core<0.13.0,>=0.12.11->llama-index) (1.0.8)\n",
      "Requirement already satisfied: filetype<2.0.0,>=1.2.0 in /Users/rene/Documents/git/github/eccenca/llama-index-cmem/.venv/lib/python3.13/site-packages (from llama-index-core<0.13.0,>=0.12.11->llama-index) (1.2.0)\n",
      "Requirement already satisfied: fsspec>=2023.5.0 in /Users/rene/Documents/git/github/eccenca/llama-index-cmem/.venv/lib/python3.13/site-packages (from llama-index-core<0.13.0,>=0.12.11->llama-index) (2024.12.0)\n",
      "Requirement already satisfied: httpx in /Users/rene/Documents/git/github/eccenca/llama-index-cmem/.venv/lib/python3.13/site-packages (from llama-index-core<0.13.0,>=0.12.11->llama-index) (0.28.1)\n",
      "Requirement already satisfied: nest-asyncio<2.0.0,>=1.5.8 in /Users/rene/Documents/git/github/eccenca/llama-index-cmem/.venv/lib/python3.13/site-packages (from llama-index-core<0.13.0,>=0.12.11->llama-index) (1.6.0)\n",
      "Requirement already satisfied: networkx>=3.0 in /Users/rene/Documents/git/github/eccenca/llama-index-cmem/.venv/lib/python3.13/site-packages (from llama-index-core<0.13.0,>=0.12.11->llama-index) (3.4.2)\n",
      "Requirement already satisfied: numpy in /Users/rene/Documents/git/github/eccenca/llama-index-cmem/.venv/lib/python3.13/site-packages (from llama-index-core<0.13.0,>=0.12.11->llama-index) (2.2.1)\n",
      "Requirement already satisfied: pillow>=9.0.0 in /Users/rene/Documents/git/github/eccenca/llama-index-cmem/.venv/lib/python3.13/site-packages (from llama-index-core<0.13.0,>=0.12.11->llama-index) (11.1.0)\n",
      "Requirement already satisfied: pydantic>=2.8.0 in /Users/rene/Documents/git/github/eccenca/llama-index-cmem/.venv/lib/python3.13/site-packages (from llama-index-core<0.13.0,>=0.12.11->llama-index) (2.10.5)\n",
      "Requirement already satisfied: tenacity!=8.4.0,<10.0.0,>=8.2.0 in /Users/rene/Documents/git/github/eccenca/llama-index-cmem/.venv/lib/python3.13/site-packages (from llama-index-core<0.13.0,>=0.12.11->llama-index) (9.0.0)\n",
      "Requirement already satisfied: tiktoken>=0.3.3 in /Users/rene/Documents/git/github/eccenca/llama-index-cmem/.venv/lib/python3.13/site-packages (from llama-index-core<0.13.0,>=0.12.11->llama-index) (0.8.0)\n",
      "Requirement already satisfied: tqdm<5.0.0,>=4.66.1 in /Users/rene/Documents/git/github/eccenca/llama-index-cmem/.venv/lib/python3.13/site-packages (from llama-index-core<0.13.0,>=0.12.11->llama-index) (4.67.1)\n",
      "Requirement already satisfied: typing-extensions>=4.5.0 in /Users/rene/Documents/git/github/eccenca/llama-index-cmem/.venv/lib/python3.13/site-packages (from llama-index-core<0.13.0,>=0.12.11->llama-index) (4.12.2)\n",
      "Requirement already satisfied: typing-inspect>=0.8.0 in /Users/rene/Documents/git/github/eccenca/llama-index-cmem/.venv/lib/python3.13/site-packages (from llama-index-core<0.13.0,>=0.12.11->llama-index) (0.9.0)\n",
      "Requirement already satisfied: wrapt in /Users/rene/Documents/git/github/eccenca/llama-index-cmem/.venv/lib/python3.13/site-packages (from llama-index-core<0.13.0,>=0.12.11->llama-index) (1.17.2)\n",
      "Requirement already satisfied: llama-cloud>=0.1.5 in /Users/rene/Documents/git/github/eccenca/llama-index-cmem/.venv/lib/python3.13/site-packages (from llama-index-indices-managed-llama-cloud>=0.4.0->llama-index) (0.1.9)\n",
      "Requirement already satisfied: beautifulsoup4<5.0.0,>=4.12.3 in /Users/rene/Documents/git/github/eccenca/llama-index-cmem/.venv/lib/python3.13/site-packages (from llama-index-readers-file<0.5.0,>=0.4.0->llama-index) (4.12.3)\n",
      "Requirement already satisfied: pandas in /Users/rene/Documents/git/github/eccenca/llama-index-cmem/.venv/lib/python3.13/site-packages (from llama-index-readers-file<0.5.0,>=0.4.0->llama-index) (2.2.3)\n",
      "Requirement already satisfied: pypdf<6.0.0,>=5.1.0 in /Users/rene/Documents/git/github/eccenca/llama-index-cmem/.venv/lib/python3.13/site-packages (from llama-index-readers-file<0.5.0,>=0.4.0->llama-index) (5.1.0)\n",
      "Requirement already satisfied: striprtf<0.0.27,>=0.0.26 in /Users/rene/Documents/git/github/eccenca/llama-index-cmem/.venv/lib/python3.13/site-packages (from llama-index-readers-file<0.5.0,>=0.4.0->llama-index) (0.0.26)\n",
      "Requirement already satisfied: llama-parse>=0.5.0 in /Users/rene/Documents/git/github/eccenca/llama-index-cmem/.venv/lib/python3.13/site-packages (from llama-index-readers-llama-parse>=0.4.0->llama-index) (0.5.19)\n",
      "Requirement already satisfied: click in /Users/rene/Documents/git/github/eccenca/llama-index-cmem/.venv/lib/python3.13/site-packages (from nltk>3.8.1->llama-index) (8.1.8)\n",
      "Requirement already satisfied: joblib in /Users/rene/Documents/git/github/eccenca/llama-index-cmem/.venv/lib/python3.13/site-packages (from nltk>3.8.1->llama-index) (1.4.2)\n",
      "Requirement already satisfied: regex>=2021.8.3 in /Users/rene/Documents/git/github/eccenca/llama-index-cmem/.venv/lib/python3.13/site-packages (from nltk>3.8.1->llama-index) (2024.11.6)\n",
      "Requirement already satisfied: isodate<0.7.0,>=0.6.0 in /Users/rene/Documents/git/github/eccenca/llama-index-cmem/.venv/lib/python3.13/site-packages (from rdflib<7.0.0,>=6.3.2->cmem-cmempy) (0.6.1)\n",
      "Requirement already satisfied: charset-normalizer<4,>=2 in /Users/rene/Documents/git/github/eccenca/llama-index-cmem/.venv/lib/python3.13/site-packages (from requests<3.0.0,>=2.31.0->cmem-cmempy) (3.4.1)\n",
      "Requirement already satisfied: idna<4,>=2.5 in /Users/rene/Documents/git/github/eccenca/llama-index-cmem/.venv/lib/python3.13/site-packages (from requests<3.0.0,>=2.31.0->cmem-cmempy) (3.10)\n",
      "Requirement already satisfied: urllib3<3,>=1.21.1 in /Users/rene/Documents/git/github/eccenca/llama-index-cmem/.venv/lib/python3.13/site-packages (from requests<3.0.0,>=2.31.0->cmem-cmempy) (2.3.0)\n",
      "Requirement already satisfied: greenlet!=0.4.17 in /Users/rene/Documents/git/github/eccenca/llama-index-cmem/.venv/lib/python3.13/site-packages (from sqlalchemy[asyncio]<2.1,>=1.4.49->llama-index-vector-stores-postgres) (3.1.1)\n",
      "Requirement already satisfied: aiohappyeyeballs>=2.3.0 in /Users/rene/Documents/git/github/eccenca/llama-index-cmem/.venv/lib/python3.13/site-packages (from aiohttp<4.0.0,>=3.8.6->llama-index-core<0.13.0,>=0.12.11->llama-index) (2.4.4)\n",
      "Requirement already satisfied: aiosignal>=1.1.2 in /Users/rene/Documents/git/github/eccenca/llama-index-cmem/.venv/lib/python3.13/site-packages (from aiohttp<4.0.0,>=3.8.6->llama-index-core<0.13.0,>=0.12.11->llama-index) (1.3.2)\n",
      "Requirement already satisfied: attrs>=17.3.0 in /Users/rene/Documents/git/github/eccenca/llama-index-cmem/.venv/lib/python3.13/site-packages (from aiohttp<4.0.0,>=3.8.6->llama-index-core<0.13.0,>=0.12.11->llama-index) (24.3.0)\n",
      "Requirement already satisfied: frozenlist>=1.1.1 in /Users/rene/Documents/git/github/eccenca/llama-index-cmem/.venv/lib/python3.13/site-packages (from aiohttp<4.0.0,>=3.8.6->llama-index-core<0.13.0,>=0.12.11->llama-index) (1.5.0)\n",
      "Requirement already satisfied: multidict<7.0,>=4.5 in /Users/rene/Documents/git/github/eccenca/llama-index-cmem/.venv/lib/python3.13/site-packages (from aiohttp<4.0.0,>=3.8.6->llama-index-core<0.13.0,>=0.12.11->llama-index) (6.1.0)\n",
      "Requirement already satisfied: propcache>=0.2.0 in /Users/rene/Documents/git/github/eccenca/llama-index-cmem/.venv/lib/python3.13/site-packages (from aiohttp<4.0.0,>=3.8.6->llama-index-core<0.13.0,>=0.12.11->llama-index) (0.2.1)\n",
      "Requirement already satisfied: yarl<2.0,>=1.17.0 in /Users/rene/Documents/git/github/eccenca/llama-index-cmem/.venv/lib/python3.13/site-packages (from aiohttp<4.0.0,>=3.8.6->llama-index-core<0.13.0,>=0.12.11->llama-index) (1.18.3)\n",
      "Requirement already satisfied: soupsieve>1.2 in /Users/rene/Documents/git/github/eccenca/llama-index-cmem/.venv/lib/python3.13/site-packages (from beautifulsoup4<5.0.0,>=4.12.3->llama-index-readers-file<0.5.0,>=0.4.0->llama-index) (2.6)\n",
      "Requirement already satisfied: six in /Users/rene/Documents/git/github/eccenca/llama-index-cmem/.venv/lib/python3.13/site-packages (from isodate<0.7.0,>=0.6.0->rdflib<7.0.0,>=6.3.2->cmem-cmempy) (1.17.0)\n",
      "Requirement already satisfied: anyio in /Users/rene/Documents/git/github/eccenca/llama-index-cmem/.venv/lib/python3.13/site-packages (from httpx->llama-index-core<0.13.0,>=0.12.11->llama-index) (4.8.0)\n",
      "Requirement already satisfied: httpcore==1.* in /Users/rene/Documents/git/github/eccenca/llama-index-cmem/.venv/lib/python3.13/site-packages (from httpx->llama-index-core<0.13.0,>=0.12.11->llama-index) (1.0.7)\n",
      "Requirement already satisfied: h11<0.15,>=0.13 in /Users/rene/Documents/git/github/eccenca/llama-index-cmem/.venv/lib/python3.13/site-packages (from httpcore==1.*->httpx->llama-index-core<0.13.0,>=0.12.11->llama-index) (0.14.0)\n",
      "Requirement already satisfied: distro<2,>=1.7.0 in /Users/rene/Documents/git/github/eccenca/llama-index-cmem/.venv/lib/python3.13/site-packages (from openai>=1.14.0->llama-index-agent-openai<0.5.0,>=0.4.0->llama-index) (1.9.0)\n",
      "Requirement already satisfied: jiter<1,>=0.4.0 in /Users/rene/Documents/git/github/eccenca/llama-index-cmem/.venv/lib/python3.13/site-packages (from openai>=1.14.0->llama-index-agent-openai<0.5.0,>=0.4.0->llama-index) (0.8.2)\n",
      "Requirement already satisfied: sniffio in /Users/rene/Documents/git/github/eccenca/llama-index-cmem/.venv/lib/python3.13/site-packages (from openai>=1.14.0->llama-index-agent-openai<0.5.0,>=0.4.0->llama-index) (1.3.1)\n",
      "Requirement already satisfied: annotated-types>=0.6.0 in /Users/rene/Documents/git/github/eccenca/llama-index-cmem/.venv/lib/python3.13/site-packages (from pydantic>=2.8.0->llama-index-core<0.13.0,>=0.12.11->llama-index) (0.7.0)\n",
      "Requirement already satisfied: pydantic-core==2.27.2 in /Users/rene/Documents/git/github/eccenca/llama-index-cmem/.venv/lib/python3.13/site-packages (from pydantic>=2.8.0->llama-index-core<0.13.0,>=0.12.11->llama-index) (2.27.2)\n",
      "Requirement already satisfied: mypy-extensions>=0.3.0 in /Users/rene/Documents/git/github/eccenca/llama-index-cmem/.venv/lib/python3.13/site-packages (from typing-inspect>=0.8.0->llama-index-core<0.13.0,>=0.12.11->llama-index) (1.0.0)\n",
      "Requirement already satisfied: marshmallow<4.0.0,>=3.18.0 in /Users/rene/Documents/git/github/eccenca/llama-index-cmem/.venv/lib/python3.13/site-packages (from dataclasses-json->llama-index-core<0.13.0,>=0.12.11->llama-index) (3.25.1)\n",
      "Requirement already satisfied: python-dateutil>=2.8.2 in /Users/rene/Documents/git/github/eccenca/llama-index-cmem/.venv/lib/python3.13/site-packages (from pandas->llama-index-readers-file<0.5.0,>=0.4.0->llama-index) (2.9.0.post0)\n",
      "Requirement already satisfied: pytz>=2020.1 in /Users/rene/Documents/git/github/eccenca/llama-index-cmem/.venv/lib/python3.13/site-packages (from pandas->llama-index-readers-file<0.5.0,>=0.4.0->llama-index) (2024.2)\n",
      "Requirement already satisfied: tzdata>=2022.7 in /Users/rene/Documents/git/github/eccenca/llama-index-cmem/.venv/lib/python3.13/site-packages (from pandas->llama-index-readers-file<0.5.0,>=0.4.0->llama-index) (2024.2)\n",
      "Requirement already satisfied: packaging>=17.0 in /Users/rene/Documents/git/github/eccenca/llama-index-cmem/.venv/lib/python3.13/site-packages (from marshmallow<4.0.0,>=3.18.0->dataclasses-json->llama-index-core<0.13.0,>=0.12.11->llama-index) (24.2)\n",
      "\n",
      "\u001b[1m[\u001b[0m\u001b[34;49mnotice\u001b[0m\u001b[1;39;49m]\u001b[0m\u001b[39;49m A new release of pip is available: \u001b[0m\u001b[31;49m24.3.1\u001b[0m\u001b[39;49m -> \u001b[0m\u001b[32;49m25.0\u001b[0m\n",
      "\u001b[1m[\u001b[0m\u001b[34;49mnotice\u001b[0m\u001b[1;39;49m]\u001b[0m\u001b[39;49m To update, run: \u001b[0m\u001b[32;49mpip install --upgrade pip\u001b[0m\n",
      "Note: you may need to restart the kernel to use updated packages.\n"
     ]
    }
   ],
   "source": [
    "%pip install cmem-cmempy llama-index python-dotenv llama-index-vector-stores-postgres"
   ]
  },
  {
   "cell_type": "code",
   "execution_count": 2,
   "id": "8350efde25acb664",
   "metadata": {
    "ExecuteTime": {
     "end_time": "2025-01-23T16:00:56.790701Z",
     "start_time": "2025-01-23T16:00:56.776156Z"
    }
   },
   "outputs": [],
   "source": [
    "%load_ext dotenv\n",
    "%dotenv\n",
    "%reload_ext dotenv"
   ]
  },
  {
   "cell_type": "code",
   "execution_count": 3,
   "id": "612b8ea28292dcb9",
   "metadata": {
    "ExecuteTime": {
     "end_time": "2025-01-23T16:00:58.108472Z",
     "start_time": "2025-01-23T16:00:58.104119Z"
    }
   },
   "outputs": [],
   "source": [
    "import os\n",
    "\n",
    "import openai\n",
    "\n",
    "openai.api_key = os.environ[\"OPENAI_API_KEY\"]"
   ]
  },
  {
   "cell_type": "code",
   "execution_count": 4,
   "id": "4db7a722e2563439",
   "metadata": {
    "ExecuteTime": {
     "end_time": "2025-01-23T16:00:59.536414Z",
     "start_time": "2025-01-23T16:00:58.157235Z"
    }
   },
   "outputs": [
    {
     "name": "stdout",
     "output_type": "stream",
     "text": [
      "Using default tag: latest\n",
      "latest: Pulling from ankane/pgvector\n",
      "Digest: sha256:956744bd14e9cbdf639c61c2a2a7c7c2c48a9c8cdd42f7de4ac034f4e96b90f8\n",
      "Status: Image is up to date for ankane/pgvector:latest\n",
      "docker.io/ankane/pgvector:latest\n",
      "\u001b[1m\n",
      "What's next:\u001b[0m\n",
      "    View a summary of image vulnerabilities and recommendations → \u001b[36mdocker scout quickview ankane/pgvector\u001b[0m\n",
      "docker: Error response from daemon: Conflict. The container name \"/pgvector-eccenca\" is already in use by container \"560fcddb8e28282d37c2e62d80b6bd81d8866b5f2501a7705f505d207d55f3b9\". You have to remove (or rename) that container to be able to reuse that name.\n",
      "See 'docker run --help'.\n"
     ]
    }
   ],
   "source": [
    "!docker pull ankane/pgvector\n",
    "!docker run -d -e POSTGRES_USER=eccenca -e POSTGRES_PASSWORD=eccenca -e POSTGRES_DB=eccenca --name pgvector-eccenca -p 5432:5432 ankane/pgvector"
   ]
  },
  {
   "cell_type": "code",
   "execution_count": 5,
   "id": "3d9feefe789495d9",
   "metadata": {
    "ExecuteTime": {
     "end_time": "2025-01-23T16:01:13.443599Z",
     "start_time": "2025-01-23T16:00:59.546483Z"
    }
   },
   "outputs": [
    {
     "data": {
      "text/markdown": [
       "### Documents loaded: __23558__ "
      ],
      "text/plain": [
       "<IPython.core.display.Markdown object>"
      ]
     },
     "metadata": {},
     "output_type": "display_data"
    }
   ],
   "source": [
    "from IPython.display import Markdown\n",
    "\n",
    "from llama_index_cmem.readers.cmem import CMEMReader\n",
    "\n",
    "reader = CMEMReader()\n",
    "documents = reader.load_data(graph=\"http://ld.company.org/prod-inst/\")\n",
    "display(Markdown(f\"### Documents loaded: __{len(documents)}__ \"))"
   ]
  },
  {
   "cell_type": "code",
   "execution_count": 6,
   "id": "b6cd91e6c1fd16f5",
   "metadata": {
    "ExecuteTime": {
     "end_time": "2025-01-23T16:05:44.496504Z",
     "start_time": "2025-01-23T16:01:13.454602Z"
    }
   },
   "outputs": [
    {
     "name": "stderr",
     "output_type": "stream",
     "text": [
      "/Users/rene/Documents/git/github/eccenca/llama-index-cmem/.venv/lib/python3.13/site-packages/tqdm/auto.py:21: TqdmWarning: IProgress not found. Please update jupyter and ipywidgets. See https://ipywidgets.readthedocs.io/en/stable/user_install.html\n",
      "  from .autonotebook import tqdm as notebook_tqdm\n",
      "Parsing nodes: 100%|██████████| 23558/23558 [00:01<00:00, 17014.93it/s]\n",
      "Generating embeddings: 100%|██████████| 2048/2048 [01:20<00:00, 25.49it/s]\n",
      "PG Setup: Error creating HNSW index: (psycopg2.errors.SyntaxError) syntax error at or near \"-\"\n",
      "LINE 1: CREATE INDEX IF NOT EXISTS data_prod-inst_hybrid_embedding_i...\n",
      "                                            ^\n",
      "\n",
      "[SQL: CREATE INDEX IF NOT EXISTS data_prod-inst_hybrid_embedding_idx ON public.data_prod-inst_hybrid USING hnsw (embedding vector_cosine_ops) WITH (m = 16, ef_construction = 64)]\n",
      "(Background on this error at: https://sqlalche.me/e/20/f405)\n",
      "Generating embeddings: 100%|██████████| 2048/2048 [01:37<00:00, 20.95it/s]\n",
      "Generating embeddings: 100%|██████████| 2048/2048 [02:00<00:00, 16.97it/s]\n",
      "Generating embeddings: 100%|██████████| 2048/2048 [01:30<00:00, 22.52it/s]\n",
      "Generating embeddings: 100%|██████████| 2048/2048 [00:58<00:00, 34.86it/s]\n",
      "Generating embeddings: 100%|██████████| 2048/2048 [02:02<00:00, 16.66it/s]\n",
      "Generating embeddings: 100%|██████████| 2048/2048 [00:45<00:00, 45.33it/s]\n",
      "Generating embeddings: 100%|██████████| 2048/2048 [01:36<00:00, 21.20it/s]\n",
      "Generating embeddings: 100%|██████████| 2048/2048 [00:39<00:00, 51.69it/s]\n",
      "Generating embeddings: 100%|██████████| 2048/2048 [01:08<00:00, 30.09it/s]\n",
      "Generating embeddings: 100%|██████████| 2048/2048 [00:35<00:00, 57.73it/s]\n",
      "Generating embeddings: 100%|██████████| 1030/1030 [00:12<00:00, 83.27it/s]\n"
     ]
    }
   ],
   "source": [
    "from llama_index.core import StorageContext, VectorStoreIndex\n",
    "from llama_index.vector_stores.postgres import PGVectorStore\n",
    "\n",
    "hybrid_vector_store = PGVectorStore.from_params(\n",
    "    database=\"eccenca\",\n",
    "    host=\"localhost\",\n",
    "    password=\"eccenca\",\n",
    "    port=\"5432\",\n",
    "    user=\"eccenca\",\n",
    "    table_name=\"prod-inst_hybrid\",\n",
    "    embed_dim=1536,  # openai embedding dimension\n",
    "    hybrid_search=True,\n",
    "    hnsw_kwargs={\n",
    "        \"hnsw_m\": 16,\n",
    "        \"hnsw_ef_construction\": 64,\n",
    "        \"hnsw_ef_search\": 40,\n",
    "        \"hnsw_dist_method\": \"vector_cosine_ops\",\n",
    "    },\n",
    ")\n",
    "\n",
    "storage_context = StorageContext.from_defaults(vector_store=hybrid_vector_store)\n",
    "hybrid_index = VectorStoreIndex.from_documents(\n",
    "    documents, storage_context=storage_context, show_progress=True\n",
    ")\n",
    "hybrid_query_engine = hybrid_index.as_query_engine(vector_store_query_mode=\"hybrid\")"
   ]
  },
  {
   "cell_type": "code",
   "execution_count": 8,
   "id": "2251180f25e3a3ab",
   "metadata": {
    "ExecuteTime": {
     "end_time": "2025-01-23T16:05:47.679368Z",
     "start_time": "2025-01-23T16:05:44.526890Z"
    }
   },
   "outputs": [
    {
     "data": {
      "text/markdown": [
       "## Question: _What information do you have about Liese Adam? Give me as many details as possible._"
      ],
      "text/plain": [
       "<IPython.core.display.Markdown object>"
      ]
     },
     "metadata": {},
     "output_type": "display_data"
    },
    {
     "data": {
      "text/markdown": [
       "### Answer:\n",
       "\n",
       "Liese Adam's full name is Liese Adam and her email address is Liese.Adam@company.org."
      ],
      "text/plain": [
       "<IPython.core.display.Markdown object>"
      ]
     },
     "metadata": {},
     "output_type": "display_data"
    }
   ],
   "source": [
    "question = \"What information do you have about Liese Adam? Give me as many details as possible.\"\n",
    "answer = hybrid_query_engine.query(question)\n",
    "display(Markdown(f\"## Question: _{question}_\"))\n",
    "display(Markdown(f\"### Answer:\\n\\n{answer}\"))"
   ]
  },
  {
   "cell_type": "code",
   "execution_count": null,
   "id": "8c331da2",
   "metadata": {},
   "outputs": [],
   "source": []
  }
 ],
 "metadata": {
  "kernelspec": {
   "display_name": ".venv",
   "language": "python",
   "name": "python3"
  },
  "language_info": {
   "codemirror_mode": {
    "name": "ipython",
    "version": 3
   },
   "file_extension": ".py",
   "mimetype": "text/x-python",
   "name": "python",
   "nbconvert_exporter": "python",
   "pygments_lexer": "ipython3",
   "version": "3.13.0"
  }
 },
 "nbformat": 4,
 "nbformat_minor": 5
}
