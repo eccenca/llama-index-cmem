{
 "cells": [
  {
   "cell_type": "markdown",
   "metadata": {},
   "source": [
    "# Query Engine with CMEMRetriever\n",
    "\n",
    "To use the CMEM integration, use a RetrieverQueryEngine with CMEMRetriever and CMEMGraphStore."
   ]
  },
  {
   "cell_type": "code",
   "execution_count": 6,
   "metadata": {},
   "outputs": [
    {
     "name": "stdout",
     "output_type": "stream",
     "text": [
      "Requirement already satisfied: cmem-cmempy in c:\\users\\peter\\appdata\\local\\pypoetry\\cache\\virtualenvs\\llama-index-cmem-ugamzsbq-py3.13\\lib\\site-packages (24.3.0)\n",
      "Requirement already satisfied: llama-index in c:\\users\\peter\\appdata\\local\\pypoetry\\cache\\virtualenvs\\llama-index-cmem-ugamzsbq-py3.13\\lib\\site-packages (0.12.5)\n",
      "Requirement already satisfied: python-dotenv in c:\\users\\peter\\appdata\\local\\pypoetry\\cache\\virtualenvs\\llama-index-cmem-ugamzsbq-py3.13\\lib\\site-packages (1.0.1)\n",
      "Requirement already satisfied: certifi>=2023.7.22 in c:\\users\\peter\\appdata\\local\\pypoetry\\cache\\virtualenvs\\llama-index-cmem-ugamzsbq-py3.13\\lib\\site-packages (from cmem-cmempy) (2024.12.14)\n",
      "Requirement already satisfied: pyparsing<4.0.0,>=3.1.1 in c:\\users\\peter\\appdata\\local\\pypoetry\\cache\\virtualenvs\\llama-index-cmem-ugamzsbq-py3.13\\lib\\site-packages (from cmem-cmempy) (3.2.0)\n",
      "Requirement already satisfied: rdflib<7.0.0,>=6.3.2 in c:\\users\\peter\\appdata\\local\\pypoetry\\cache\\virtualenvs\\llama-index-cmem-ugamzsbq-py3.13\\lib\\site-packages (from cmem-cmempy) (6.3.2)\n",
      "Requirement already satisfied: requests<3.0.0,>=2.31.0 in c:\\users\\peter\\appdata\\local\\pypoetry\\cache\\virtualenvs\\llama-index-cmem-ugamzsbq-py3.13\\lib\\site-packages (from cmem-cmempy) (2.32.3)\n",
      "Requirement already satisfied: requests-toolbelt<2.0.0,>=1.0.0 in c:\\users\\peter\\appdata\\local\\pypoetry\\cache\\virtualenvs\\llama-index-cmem-ugamzsbq-py3.13\\lib\\site-packages (from cmem-cmempy) (1.0.0)\n",
      "Requirement already satisfied: llama-index-agent-openai<0.5.0,>=0.4.0 in c:\\users\\peter\\appdata\\local\\pypoetry\\cache\\virtualenvs\\llama-index-cmem-ugamzsbq-py3.13\\lib\\site-packages (from llama-index) (0.4.0)\n",
      "Requirement already satisfied: llama-index-cli<0.5.0,>=0.4.0 in c:\\users\\peter\\appdata\\local\\pypoetry\\cache\\virtualenvs\\llama-index-cmem-ugamzsbq-py3.13\\lib\\site-packages (from llama-index) (0.4.0)\n",
      "Requirement already satisfied: llama-index-core<0.13.0,>=0.12.5 in c:\\users\\peter\\appdata\\local\\pypoetry\\cache\\virtualenvs\\llama-index-cmem-ugamzsbq-py3.13\\lib\\site-packages (from llama-index) (0.12.5)\n",
      "Requirement already satisfied: llama-index-embeddings-openai<0.4.0,>=0.3.0 in c:\\users\\peter\\appdata\\local\\pypoetry\\cache\\virtualenvs\\llama-index-cmem-ugamzsbq-py3.13\\lib\\site-packages (from llama-index) (0.3.1)\n",
      "Requirement already satisfied: llama-index-indices-managed-llama-cloud>=0.4.0 in c:\\users\\peter\\appdata\\local\\pypoetry\\cache\\virtualenvs\\llama-index-cmem-ugamzsbq-py3.13\\lib\\site-packages (from llama-index) (0.6.3)\n",
      "Requirement already satisfied: llama-index-legacy<0.10.0,>=0.9.48 in c:\\users\\peter\\appdata\\local\\pypoetry\\cache\\virtualenvs\\llama-index-cmem-ugamzsbq-py3.13\\lib\\site-packages (from llama-index) (0.9.48.post4)\n",
      "Requirement already satisfied: llama-index-llms-openai<0.4.0,>=0.3.0 in c:\\users\\peter\\appdata\\local\\pypoetry\\cache\\virtualenvs\\llama-index-cmem-ugamzsbq-py3.13\\lib\\site-packages (from llama-index) (0.3.10)\n",
      "Requirement already satisfied: llama-index-multi-modal-llms-openai<0.5.0,>=0.4.0 in c:\\users\\peter\\appdata\\local\\pypoetry\\cache\\virtualenvs\\llama-index-cmem-ugamzsbq-py3.13\\lib\\site-packages (from llama-index) (0.4.0)\n",
      "Requirement already satisfied: llama-index-program-openai<0.4.0,>=0.3.0 in c:\\users\\peter\\appdata\\local\\pypoetry\\cache\\virtualenvs\\llama-index-cmem-ugamzsbq-py3.13\\lib\\site-packages (from llama-index) (0.3.1)\n",
      "Requirement already satisfied: llama-index-question-gen-openai<0.4.0,>=0.3.0 in c:\\users\\peter\\appdata\\local\\pypoetry\\cache\\virtualenvs\\llama-index-cmem-ugamzsbq-py3.13\\lib\\site-packages (from llama-index) (0.3.0)\n",
      "Requirement already satisfied: llama-index-readers-file<0.5.0,>=0.4.0 in c:\\users\\peter\\appdata\\local\\pypoetry\\cache\\virtualenvs\\llama-index-cmem-ugamzsbq-py3.13\\lib\\site-packages (from llama-index) (0.4.1)\n",
      "Requirement already satisfied: llama-index-readers-llama-parse>=0.4.0 in c:\\users\\peter\\appdata\\local\\pypoetry\\cache\\virtualenvs\\llama-index-cmem-ugamzsbq-py3.13\\lib\\site-packages (from llama-index) (0.4.0)\n",
      "Requirement already satisfied: nltk>3.8.1 in c:\\users\\peter\\appdata\\local\\pypoetry\\cache\\virtualenvs\\llama-index-cmem-ugamzsbq-py3.13\\lib\\site-packages (from llama-index) (3.9.1)\n",
      "Requirement already satisfied: openai>=1.14.0 in c:\\users\\peter\\appdata\\local\\pypoetry\\cache\\virtualenvs\\llama-index-cmem-ugamzsbq-py3.13\\lib\\site-packages (from llama-index-agent-openai<0.5.0,>=0.4.0->llama-index) (1.57.4)\n",
      "Requirement already satisfied: PyYAML>=6.0.1 in c:\\users\\peter\\appdata\\local\\pypoetry\\cache\\virtualenvs\\llama-index-cmem-ugamzsbq-py3.13\\lib\\site-packages (from llama-index-core<0.13.0,>=0.12.5->llama-index) (6.0.2)\n",
      "Requirement already satisfied: SQLAlchemy>=1.4.49 in c:\\users\\peter\\appdata\\local\\pypoetry\\cache\\virtualenvs\\llama-index-cmem-ugamzsbq-py3.13\\lib\\site-packages (from SQLAlchemy[asyncio]>=1.4.49->llama-index-core<0.13.0,>=0.12.5->llama-index) (2.0.36)\n",
      "Requirement already satisfied: aiohttp<4.0.0,>=3.8.6 in c:\\users\\peter\\appdata\\local\\pypoetry\\cache\\virtualenvs\\llama-index-cmem-ugamzsbq-py3.13\\lib\\site-packages (from llama-index-core<0.13.0,>=0.12.5->llama-index) (3.11.10)\n",
      "Requirement already satisfied: dataclasses-json in c:\\users\\peter\\appdata\\local\\pypoetry\\cache\\virtualenvs\\llama-index-cmem-ugamzsbq-py3.13\\lib\\site-packages (from llama-index-core<0.13.0,>=0.12.5->llama-index) (0.6.7)\n",
      "Requirement already satisfied: deprecated>=1.2.9.3 in c:\\users\\peter\\appdata\\local\\pypoetry\\cache\\virtualenvs\\llama-index-cmem-ugamzsbq-py3.13\\lib\\site-packages (from llama-index-core<0.13.0,>=0.12.5->llama-index) (1.2.15)\n",
      "Requirement already satisfied: dirtyjson<2.0.0,>=1.0.8 in c:\\users\\peter\\appdata\\local\\pypoetry\\cache\\virtualenvs\\llama-index-cmem-ugamzsbq-py3.13\\lib\\site-packages (from llama-index-core<0.13.0,>=0.12.5->llama-index) (1.0.8)\n",
      "Requirement already satisfied: filetype<2.0.0,>=1.2.0 in c:\\users\\peter\\appdata\\local\\pypoetry\\cache\\virtualenvs\\llama-index-cmem-ugamzsbq-py3.13\\lib\\site-packages (from llama-index-core<0.13.0,>=0.12.5->llama-index) (1.2.0)\n",
      "Requirement already satisfied: fsspec>=2023.5.0 in c:\\users\\peter\\appdata\\local\\pypoetry\\cache\\virtualenvs\\llama-index-cmem-ugamzsbq-py3.13\\lib\\site-packages (from llama-index-core<0.13.0,>=0.12.5->llama-index) (2024.10.0)\n",
      "Requirement already satisfied: httpx in c:\\users\\peter\\appdata\\local\\pypoetry\\cache\\virtualenvs\\llama-index-cmem-ugamzsbq-py3.13\\lib\\site-packages (from llama-index-core<0.13.0,>=0.12.5->llama-index) (0.28.1)\n",
      "Requirement already satisfied: nest-asyncio<2.0.0,>=1.5.8 in c:\\users\\peter\\appdata\\local\\pypoetry\\cache\\virtualenvs\\llama-index-cmem-ugamzsbq-py3.13\\lib\\site-packages (from llama-index-core<0.13.0,>=0.12.5->llama-index) (1.6.0)\n",
      "Requirement already satisfied: networkx>=3.0 in c:\\users\\peter\\appdata\\local\\pypoetry\\cache\\virtualenvs\\llama-index-cmem-ugamzsbq-py3.13\\lib\\site-packages (from llama-index-core<0.13.0,>=0.12.5->llama-index) (3.4.2)\n",
      "Requirement already satisfied: numpy in c:\\users\\peter\\appdata\\local\\pypoetry\\cache\\virtualenvs\\llama-index-cmem-ugamzsbq-py3.13\\lib\\site-packages (from llama-index-core<0.13.0,>=0.12.5->llama-index) (2.2.0)\n",
      "Requirement already satisfied: pillow>=9.0.0 in c:\\users\\peter\\appdata\\local\\pypoetry\\cache\\virtualenvs\\llama-index-cmem-ugamzsbq-py3.13\\lib\\site-packages (from llama-index-core<0.13.0,>=0.12.5->llama-index) (11.0.0)\n",
      "Requirement already satisfied: pydantic>=2.8.0 in c:\\users\\peter\\appdata\\local\\pypoetry\\cache\\virtualenvs\\llama-index-cmem-ugamzsbq-py3.13\\lib\\site-packages (from llama-index-core<0.13.0,>=0.12.5->llama-index) (2.10.3)\n",
      "Requirement already satisfied: tenacity!=8.4.0,<10.0.0,>=8.2.0 in c:\\users\\peter\\appdata\\local\\pypoetry\\cache\\virtualenvs\\llama-index-cmem-ugamzsbq-py3.13\\lib\\site-packages (from llama-index-core<0.13.0,>=0.12.5->llama-index) (8.5.0)\n",
      "Requirement already satisfied: tiktoken>=0.3.3 in c:\\users\\peter\\appdata\\local\\pypoetry\\cache\\virtualenvs\\llama-index-cmem-ugamzsbq-py3.13\\lib\\site-packages (from llama-index-core<0.13.0,>=0.12.5->llama-index) (0.8.0)\n",
      "Requirement already satisfied: tqdm<5.0.0,>=4.66.1 in c:\\users\\peter\\appdata\\local\\pypoetry\\cache\\virtualenvs\\llama-index-cmem-ugamzsbq-py3.13\\lib\\site-packages (from llama-index-core<0.13.0,>=0.12.5->llama-index) (4.67.1)\n",
      "Requirement already satisfied: typing-extensions>=4.5.0 in c:\\users\\peter\\appdata\\local\\pypoetry\\cache\\virtualenvs\\llama-index-cmem-ugamzsbq-py3.13\\lib\\site-packages (from llama-index-core<0.13.0,>=0.12.5->llama-index) (4.12.2)\n",
      "Requirement already satisfied: typing-inspect>=0.8.0 in c:\\users\\peter\\appdata\\local\\pypoetry\\cache\\virtualenvs\\llama-index-cmem-ugamzsbq-py3.13\\lib\\site-packages (from llama-index-core<0.13.0,>=0.12.5->llama-index) (0.9.0)\n",
      "Requirement already satisfied: wrapt in c:\\users\\peter\\appdata\\local\\pypoetry\\cache\\virtualenvs\\llama-index-cmem-ugamzsbq-py3.13\\lib\\site-packages (from llama-index-core<0.13.0,>=0.12.5->llama-index) (1.17.0)\n",
      "Requirement already satisfied: llama-cloud>=0.1.5 in c:\\users\\peter\\appdata\\local\\pypoetry\\cache\\virtualenvs\\llama-index-cmem-ugamzsbq-py3.13\\lib\\site-packages (from llama-index-indices-managed-llama-cloud>=0.4.0->llama-index) (0.1.6)\n",
      "Requirement already satisfied: pandas in c:\\users\\peter\\appdata\\local\\pypoetry\\cache\\virtualenvs\\llama-index-cmem-ugamzsbq-py3.13\\lib\\site-packages (from llama-index-legacy<0.10.0,>=0.9.48->llama-index) (2.2.3)\n",
      "Requirement already satisfied: beautifulsoup4<5.0.0,>=4.12.3 in c:\\users\\peter\\appdata\\local\\pypoetry\\cache\\virtualenvs\\llama-index-cmem-ugamzsbq-py3.13\\lib\\site-packages (from llama-index-readers-file<0.5.0,>=0.4.0->llama-index) (4.12.3)\n",
      "Requirement already satisfied: pypdf<6.0.0,>=5.1.0 in c:\\users\\peter\\appdata\\local\\pypoetry\\cache\\virtualenvs\\llama-index-cmem-ugamzsbq-py3.13\\lib\\site-packages (from llama-index-readers-file<0.5.0,>=0.4.0->llama-index) (5.1.0)\n",
      "Requirement already satisfied: striprtf<0.0.27,>=0.0.26 in c:\\users\\peter\\appdata\\local\\pypoetry\\cache\\virtualenvs\\llama-index-cmem-ugamzsbq-py3.13\\lib\\site-packages (from llama-index-readers-file<0.5.0,>=0.4.0->llama-index) (0.0.26)\n",
      "Requirement already satisfied: llama-parse>=0.5.0 in c:\\users\\peter\\appdata\\local\\pypoetry\\cache\\virtualenvs\\llama-index-cmem-ugamzsbq-py3.13\\lib\\site-packages (from llama-index-readers-llama-parse>=0.4.0->llama-index) (0.5.17)\n",
      "Requirement already satisfied: click in c:\\users\\peter\\appdata\\local\\pypoetry\\cache\\virtualenvs\\llama-index-cmem-ugamzsbq-py3.13\\lib\\site-packages (from nltk>3.8.1->llama-index) (8.1.7)\n",
      "Requirement already satisfied: joblib in c:\\users\\peter\\appdata\\local\\pypoetry\\cache\\virtualenvs\\llama-index-cmem-ugamzsbq-py3.13\\lib\\site-packages (from nltk>3.8.1->llama-index) (1.4.2)\n",
      "Requirement already satisfied: regex>=2021.8.3 in c:\\users\\peter\\appdata\\local\\pypoetry\\cache\\virtualenvs\\llama-index-cmem-ugamzsbq-py3.13\\lib\\site-packages (from nltk>3.8.1->llama-index) (2024.11.6)\n",
      "Requirement already satisfied: isodate<0.7.0,>=0.6.0 in c:\\users\\peter\\appdata\\local\\pypoetry\\cache\\virtualenvs\\llama-index-cmem-ugamzsbq-py3.13\\lib\\site-packages (from rdflib<7.0.0,>=6.3.2->cmem-cmempy) (0.6.1)\n",
      "Requirement already satisfied: charset-normalizer<4,>=2 in c:\\users\\peter\\appdata\\local\\pypoetry\\cache\\virtualenvs\\llama-index-cmem-ugamzsbq-py3.13\\lib\\site-packages (from requests<3.0.0,>=2.31.0->cmem-cmempy) (3.4.0)\n",
      "Requirement already satisfied: idna<4,>=2.5 in c:\\users\\peter\\appdata\\local\\pypoetry\\cache\\virtualenvs\\llama-index-cmem-ugamzsbq-py3.13\\lib\\site-packages (from requests<3.0.0,>=2.31.0->cmem-cmempy) (3.10)\n",
      "Requirement already satisfied: urllib3<3,>=1.21.1 in c:\\users\\peter\\appdata\\local\\pypoetry\\cache\\virtualenvs\\llama-index-cmem-ugamzsbq-py3.13\\lib\\site-packages (from requests<3.0.0,>=2.31.0->cmem-cmempy) (2.2.3)\n",
      "Requirement already satisfied: aiohappyeyeballs>=2.3.0 in c:\\users\\peter\\appdata\\local\\pypoetry\\cache\\virtualenvs\\llama-index-cmem-ugamzsbq-py3.13\\lib\\site-packages (from aiohttp<4.0.0,>=3.8.6->llama-index-core<0.13.0,>=0.12.5->llama-index) (2.4.4)\n",
      "Requirement already satisfied: aiosignal>=1.1.2 in c:\\users\\peter\\appdata\\local\\pypoetry\\cache\\virtualenvs\\llama-index-cmem-ugamzsbq-py3.13\\lib\\site-packages (from aiohttp<4.0.0,>=3.8.6->llama-index-core<0.13.0,>=0.12.5->llama-index) (1.3.2)\n",
      "Requirement already satisfied: attrs>=17.3.0 in c:\\users\\peter\\appdata\\local\\pypoetry\\cache\\virtualenvs\\llama-index-cmem-ugamzsbq-py3.13\\lib\\site-packages (from aiohttp<4.0.0,>=3.8.6->llama-index-core<0.13.0,>=0.12.5->llama-index) (24.3.0)\n",
      "Requirement already satisfied: frozenlist>=1.1.1 in c:\\users\\peter\\appdata\\local\\pypoetry\\cache\\virtualenvs\\llama-index-cmem-ugamzsbq-py3.13\\lib\\site-packages (from aiohttp<4.0.0,>=3.8.6->llama-index-core<0.13.0,>=0.12.5->llama-index) (1.5.0)\n",
      "Requirement already satisfied: multidict<7.0,>=4.5 in c:\\users\\peter\\appdata\\local\\pypoetry\\cache\\virtualenvs\\llama-index-cmem-ugamzsbq-py3.13\\lib\\site-packages (from aiohttp<4.0.0,>=3.8.6->llama-index-core<0.13.0,>=0.12.5->llama-index) (6.1.0)\n",
      "Requirement already satisfied: propcache>=0.2.0 in c:\\users\\peter\\appdata\\local\\pypoetry\\cache\\virtualenvs\\llama-index-cmem-ugamzsbq-py3.13\\lib\\site-packages (from aiohttp<4.0.0,>=3.8.6->llama-index-core<0.13.0,>=0.12.5->llama-index) (0.2.1)\n",
      "Requirement already satisfied: yarl<2.0,>=1.17.0 in c:\\users\\peter\\appdata\\local\\pypoetry\\cache\\virtualenvs\\llama-index-cmem-ugamzsbq-py3.13\\lib\\site-packages (from aiohttp<4.0.0,>=3.8.6->llama-index-core<0.13.0,>=0.12.5->llama-index) (1.18.3)\n",
      "Requirement already satisfied: soupsieve>1.2 in c:\\users\\peter\\appdata\\local\\pypoetry\\cache\\virtualenvs\\llama-index-cmem-ugamzsbq-py3.13\\lib\\site-packages (from beautifulsoup4<5.0.0,>=4.12.3->llama-index-readers-file<0.5.0,>=0.4.0->llama-index) (2.6)\n",
      "Requirement already satisfied: six in c:\\users\\peter\\appdata\\local\\pypoetry\\cache\\virtualenvs\\llama-index-cmem-ugamzsbq-py3.13\\lib\\site-packages (from isodate<0.7.0,>=0.6.0->rdflib<7.0.0,>=6.3.2->cmem-cmempy) (1.17.0)\n",
      "Requirement already satisfied: anyio in c:\\users\\peter\\appdata\\local\\pypoetry\\cache\\virtualenvs\\llama-index-cmem-ugamzsbq-py3.13\\lib\\site-packages (from httpx->llama-index-core<0.13.0,>=0.12.5->llama-index) (4.7.0)\n",
      "Requirement already satisfied: httpcore==1.* in c:\\users\\peter\\appdata\\local\\pypoetry\\cache\\virtualenvs\\llama-index-cmem-ugamzsbq-py3.13\\lib\\site-packages (from httpx->llama-index-core<0.13.0,>=0.12.5->llama-index) (1.0.7)\n",
      "Requirement already satisfied: h11<0.15,>=0.13 in c:\\users\\peter\\appdata\\local\\pypoetry\\cache\\virtualenvs\\llama-index-cmem-ugamzsbq-py3.13\\lib\\site-packages (from httpcore==1.*->httpx->llama-index-core<0.13.0,>=0.12.5->llama-index) (0.14.0)\n",
      "Requirement already satisfied: colorama in c:\\users\\peter\\appdata\\local\\pypoetry\\cache\\virtualenvs\\llama-index-cmem-ugamzsbq-py3.13\\lib\\site-packages (from click->nltk>3.8.1->llama-index) (0.4.6)\n",
      "Requirement already satisfied: distro<2,>=1.7.0 in c:\\users\\peter\\appdata\\local\\pypoetry\\cache\\virtualenvs\\llama-index-cmem-ugamzsbq-py3.13\\lib\\site-packages (from openai>=1.14.0->llama-index-agent-openai<0.5.0,>=0.4.0->llama-index) (1.9.0)\n",
      "Requirement already satisfied: jiter<1,>=0.4.0 in c:\\users\\peter\\appdata\\local\\pypoetry\\cache\\virtualenvs\\llama-index-cmem-ugamzsbq-py3.13\\lib\\site-packages (from openai>=1.14.0->llama-index-agent-openai<0.5.0,>=0.4.0->llama-index) (0.8.2)\n",
      "Requirement already satisfied: sniffio in c:\\users\\peter\\appdata\\local\\pypoetry\\cache\\virtualenvs\\llama-index-cmem-ugamzsbq-py3.13\\lib\\site-packages (from openai>=1.14.0->llama-index-agent-openai<0.5.0,>=0.4.0->llama-index) (1.3.1)\n",
      "Requirement already satisfied: annotated-types>=0.6.0 in c:\\users\\peter\\appdata\\local\\pypoetry\\cache\\virtualenvs\\llama-index-cmem-ugamzsbq-py3.13\\lib\\site-packages (from pydantic>=2.8.0->llama-index-core<0.13.0,>=0.12.5->llama-index) (0.7.0)\n",
      "Requirement already satisfied: pydantic-core==2.27.1 in c:\\users\\peter\\appdata\\local\\pypoetry\\cache\\virtualenvs\\llama-index-cmem-ugamzsbq-py3.13\\lib\\site-packages (from pydantic>=2.8.0->llama-index-core<0.13.0,>=0.12.5->llama-index) (2.27.1)\n",
      "Requirement already satisfied: greenlet!=0.4.17 in c:\\users\\peter\\appdata\\local\\pypoetry\\cache\\virtualenvs\\llama-index-cmem-ugamzsbq-py3.13\\lib\\site-packages (from SQLAlchemy[asyncio]>=1.4.49->llama-index-core<0.13.0,>=0.12.5->llama-index) (3.1.1)\n",
      "Requirement already satisfied: mypy-extensions>=0.3.0 in c:\\users\\peter\\appdata\\local\\pypoetry\\cache\\virtualenvs\\llama-index-cmem-ugamzsbq-py3.13\\lib\\site-packages (from typing-inspect>=0.8.0->llama-index-core<0.13.0,>=0.12.5->llama-index) (1.0.0)\n",
      "Requirement already satisfied: marshmallow<4.0.0,>=3.18.0 in c:\\users\\peter\\appdata\\local\\pypoetry\\cache\\virtualenvs\\llama-index-cmem-ugamzsbq-py3.13\\lib\\site-packages (from dataclasses-json->llama-index-core<0.13.0,>=0.12.5->llama-index) (3.23.1)\n",
      "Requirement already satisfied: python-dateutil>=2.8.2 in c:\\users\\peter\\appdata\\local\\pypoetry\\cache\\virtualenvs\\llama-index-cmem-ugamzsbq-py3.13\\lib\\site-packages (from pandas->llama-index-legacy<0.10.0,>=0.9.48->llama-index) (2.9.0.post0)\n",
      "Requirement already satisfied: pytz>=2020.1 in c:\\users\\peter\\appdata\\local\\pypoetry\\cache\\virtualenvs\\llama-index-cmem-ugamzsbq-py3.13\\lib\\site-packages (from pandas->llama-index-legacy<0.10.0,>=0.9.48->llama-index) (2024.2)\n",
      "Requirement already satisfied: tzdata>=2022.7 in c:\\users\\peter\\appdata\\local\\pypoetry\\cache\\virtualenvs\\llama-index-cmem-ugamzsbq-py3.13\\lib\\site-packages (from pandas->llama-index-legacy<0.10.0,>=0.9.48->llama-index) (2024.2)\n",
      "Requirement already satisfied: packaging>=17.0 in c:\\users\\peter\\appdata\\local\\pypoetry\\cache\\virtualenvs\\llama-index-cmem-ugamzsbq-py3.13\\lib\\site-packages (from marshmallow<4.0.0,>=3.18.0->dataclasses-json->llama-index-core<0.13.0,>=0.12.5->llama-index) (24.2)\n",
      "Note: you may need to restart the kernel to use updated packages.\n"
     ]
    }
   ],
   "source": [
    "%pip install cmem-cmempy llama-index python-dotenv"
   ]
  },
  {
   "cell_type": "markdown",
   "metadata": {},
   "source": [
    "Load environment from `.env` file. \n",
    "Start by `cp .env-template .env` and edit the content of `.env` accordingly.  "
   ]
  },
  {
   "cell_type": "code",
   "execution_count": 7,
   "metadata": {},
   "outputs": [
    {
     "name": "stdout",
     "output_type": "stream",
     "text": [
      "The dotenv extension is already loaded. To reload it, use:\n",
      "  %reload_ext dotenv\n"
     ]
    }
   ],
   "source": [
    "%load_ext dotenv\n",
    "%dotenv"
   ]
  },
  {
   "cell_type": "markdown",
   "metadata": {},
   "source": [
    "Set up the LLM"
   ]
  },
  {
   "cell_type": "code",
   "execution_count": 8,
   "metadata": {},
   "outputs": [],
   "source": [
    "from llama_index.core import Settings\n",
    "from llama_index.llms.openai import OpenAI\n",
    "\n",
    "model=\"gpt-4o-mini\"\n",
    "llm = OpenAI(model=model)\n",
    "Settings.llm = llm"
   ]
  },
  {
   "cell_type": "markdown",
   "metadata": {},
   "source": [
    "Set up all components."
   ]
  },
  {
   "cell_type": "code",
   "execution_count": 9,
   "metadata": {},
   "outputs": [],
   "source": [
    "from llama_index.core import get_response_synthesizer\n",
    "from llama_index.core.query_engine import RetrieverQueryEngine\n",
    "\n",
    "from llama_index_cmem.graph_stores.cmem import CMEMGraphStore\n",
    "from llama_index_cmem.retrievers.cmem.cmem_retriever import CMEMRetriever\n",
    "\n",
    "ontology_graph = \"http://ld.company.org/prod-vocab/\"\n",
    "context_graph = \"http://ld.company.org/prod-inst/\"\n",
    "\n",
    "response_synthesizer = get_response_synthesizer(streaming=True)\n",
    "\n",
    "graph_store = CMEMGraphStore()\n",
    "\n",
    "retriever = CMEMRetriever(\n",
    "    graph_store=graph_store,\n",
    "    ontology_graph=ontology_graph,\n",
    "    context_graph=context_graph,\n",
    "    llm=llm\n",
    ")\n",
    "\n",
    "query_engine = RetrieverQueryEngine(\n",
    "    retriever=retriever,\n",
    "    response_synthesizer=response_synthesizer\n",
    ")"
   ]
  },
  {
   "cell_type": "markdown",
   "metadata": {},
   "source": [
    "Define a natural language query, run via query engine and get a natural language response answering the question."
   ]
  },
  {
   "cell_type": "code",
   "execution_count": 10,
   "metadata": {},
   "outputs": [
    {
     "data": {
      "text/markdown": [
       "## Prompt: _List all services with price._"
      ],
      "text/plain": [
       "<IPython.core.display.Markdown object>"
      ]
     },
     "metadata": {},
     "output_type": "display_data"
    },
    {
     "data": {
      "text/markdown": [
       "### Final response:"
      ],
      "text/plain": [
       "<IPython.core.display.Markdown object>"
      ]
     },
     "metadata": {},
     "output_type": "display_data"
    },
    {
     "name": "stdout",
     "output_type": "stream",
     "text": [
      "1. Service: [srv-I241-8776317](http://ld.company.org/prod-instances/srv-I241-8776317) - Price: 1082.00 EUR  \n",
      "2. Service: [srv-U360-2815908](http://ld.company.org/prod-instances/srv-U360-2815908) - Price: 1366.11 EUR  \n",
      "3. Service: [srv-N558-1730215](http://ld.company.org/prod-instances/srv-N558-1730215) - Price: 1125.21 EUR  \n",
      "4. Service: [srv-P516-8211068](http://ld.company.org/prod-instances/srv-P516-8211068) - Price: 1162.32 EUR  \n",
      "5. Service: [srv-Y274-1029755](http://ld.company.org/prod-instances/srv-Y274-1029755) - Price: 1008.28 EUR  \n",
      "6. Service: [srv-O662-4012383](http://ld.company.org/prod-instances/srv-O662-4012383) - Price: 1619.22 EUR  \n",
      "7. Service: [srv-P925-8919074](http://ld.company.org/prod-instances/srv-P925-8919074) - Price: 778.15 EUR  \n",
      "8. Service: [srv-D215-3449390](http://ld.company.org/prod-instances/srv-D215-3449390) - Price: 1709.54 EUR  \n",
      "9. Service: [srv-Y704-9764759](http://ld.company.org/prod-instances/srv-Y704-9764759) - Price: 748.40 EUR  "
     ]
    }
   ],
   "source": [
    "from IPython.display import display, Markdown\n",
    "\n",
    "def ask(prompt):\n",
    "    display(Markdown(f\"## Prompt: _{prompt}_\"))\n",
    "    streaming_response = query_engine.query(query)\n",
    "    display(Markdown(\"### Final response:\"))\n",
    "    streaming_response.print_response_stream()\n",
    "\n",
    "query = \"List all services with price.\"\n",
    "ask(query)"
   ]
  }
 ],
 "metadata": {
  "kernelspec": {
   "display_name": "llama-index-cmem-UgaMZsBQ-py3.13",
   "language": "python",
   "name": "python3"
  },
  "language_info": {
   "codemirror_mode": {
    "name": "ipython",
    "version": 3
   },
   "file_extension": ".py",
   "mimetype": "text/x-python",
   "name": "python",
   "nbconvert_exporter": "python",
   "pygments_lexer": "ipython3",
   "version": "3.13.0"
  }
 },
 "nbformat": 4,
 "nbformat_minor": 2
}
