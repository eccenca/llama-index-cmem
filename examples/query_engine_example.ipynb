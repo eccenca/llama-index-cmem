{
 "cells": [
  {
   "cell_type": "markdown",
   "metadata": {},
   "source": [
    "# Query Engine with CMEMRetriever\n",
    "\n",
    "To use the CMEM integration, use a RetrieverQueryEngine with CMEMRetriever and CMEMGraphStore."
   ]
  },
  {
   "cell_type": "code",
   "execution_count": null,
   "metadata": {},
   "outputs": [],
   "source": [
    "%pip install cmem-cmempy llama-index python-dotenv"
   ]
  },
  {
   "cell_type": "markdown",
   "metadata": {},
   "source": [
    "Load environment from `.env` file. \n",
    "Start by `cp .env-template .env` and edit the content of `.env` accordingly."
   ]
  },
  {
   "cell_type": "code",
   "execution_count": 1,
   "metadata": {},
   "outputs": [],
   "source": [
    "%load_ext dotenv\n",
    "%dotenv"
   ]
  },
  {
   "cell_type": "markdown",
   "metadata": {},
   "source": [
    "Set up the LLM"
   ]
  },
  {
   "cell_type": "code",
   "execution_count": 2,
   "metadata": {},
   "outputs": [],
   "source": [
    "from llama_index.core import Settings\n",
    "from llama_index.llms.openai import OpenAI\n",
    "\n",
    "model=\"gpt-4o-mini\"\n",
    "llm = OpenAI(model=model)\n",
    "Settings.llm = llm"
   ]
  },
  {
   "cell_type": "markdown",
   "metadata": {},
   "source": [
    "Set up all components."
   ]
  },
  {
   "cell_type": "code",
   "execution_count": 3,
   "metadata": {},
   "outputs": [],
   "source": [
    "from llama_index.core import get_response_synthesizer\n",
    "from llama_index.core.query_engine import RetrieverQueryEngine\n",
    "\n",
    "from llama_index_cmem.graph_stores.cmem import CMEMGraphStore\n",
    "from llama_index_cmem.retrievers.cmem.cmem_retriever import CMEMRetriever\n",
    "\n",
    "ontology_graph = \"http://ld.company.org/prod-vocab/\"\n",
    "context_graph = \"http://ld.company.org/prod-inst/\"\n",
    "\n",
    "response_synthesizer = get_response_synthesizer()\n",
    "\n",
    "graph_store = CMEMGraphStore()\n",
    "\n",
    "retriever = CMEMRetriever(\n",
    "    graph_store=graph_store,\n",
    "    ontology_graph=ontology_graph,\n",
    "    context_graph=context_graph,\n",
    "    llm=llm\n",
    ")\n",
    "\n",
    "query_engine = RetrieverQueryEngine(\n",
    "    retriever=retriever,\n",
    "    response_synthesizer=response_synthesizer,\n",
    ")"
   ]
  },
  {
   "cell_type": "markdown",
   "metadata": {},
   "source": [
    "Define a natural language query, run via query engine and get a natural language response answering the question."
   ]
  },
  {
   "cell_type": "code",
   "execution_count": 4,
   "metadata": {},
   "outputs": [
    {
     "name": "stdout",
     "output_type": "stream",
     "text": [
      "Query:\n",
      "List all services with price.\n",
      "Final response:\n",
      "1. Service: [srv-I241-8776317](http://ld.company.org/prod-instances/srv-I241-8776317) - Price: 1082.00 EUR  \n",
      "2. Service: [srv-U360-2815908](http://ld.company.org/prod-instances/srv-U360-2815908) - Price: 1366.11 EUR  \n",
      "3. Service: [srv-N558-1730215](http://ld.company.org/prod-instances/srv-N558-1730215) - Price: 1125.21 EUR  \n",
      "4. Service: [srv-P516-8211068](http://ld.company.org/prod-instances/srv-P516-8211068) - Price: 1162.32 EUR  \n",
      "5. Service: [srv-Y274-1029755](http://ld.company.org/prod-instances/srv-Y274-1029755) - Price: 1008.28 EUR  \n",
      "6. Service: [srv-O662-4012383](http://ld.company.org/prod-instances/srv-O662-4012383) - Price: 1619.22 EUR  \n",
      "7. Service: [srv-P925-8919074](http://ld.company.org/prod-instances/srv-P925-8919074) - Price: 778.15 EUR  \n",
      "8. Service: [srv-D215-3449390](http://ld.company.org/prod-instances/srv-D215-3449390) - Price: 1709.54 EUR  \n",
      "9. Service: [srv-Y704-9764759](http://ld.company.org/prod-instances/srv-Y704-9764759) - Price: 748.40 EUR  \n"
     ]
    }
   ],
   "source": [
    "query = \"List all services with price.\"\n",
    "\n",
    "print(\"Query:\\n\" + query)\n",
    "response = query_engine.query(query)\n",
    "\n",
    "print(\"Final response:\\n\" + str(response))"
   ]
  }
 ],
 "metadata": {
  "kernelspec": {
   "display_name": ".venv",
   "language": "python",
   "name": "python3"
  },
  "language_info": {
   "codemirror_mode": {
    "name": "ipython",
    "version": 3
   },
   "file_extension": ".py",
   "mimetype": "text/x-python",
   "name": "python",
   "nbconvert_exporter": "python",
   "pygments_lexer": "ipython3",
   "version": "3.13.1"
  }
 },
 "nbformat": 4,
 "nbformat_minor": 2
}
