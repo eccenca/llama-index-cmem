{
 "cells": [
  {
   "cell_type": "code",
   "execution_count": 12,
   "id": "initial_id",
   "metadata": {
    "ExecuteTime": {
     "end_time": "2025-01-23T15:59:31.930701Z",
     "start_time": "2025-01-23T15:59:31.025940Z"
    },
    "collapsed": true
   },
   "outputs": [
    {
     "name": "stdout",
     "output_type": "stream",
     "text": [
      "Requirement already satisfied: cmem-cmempy in /home/pfreytag/github.com/eccenca/llama-index-cmem/.venv/lib/python3.12/site-packages (24.3.0)\r\n",
      "Requirement already satisfied: llama-index in /home/pfreytag/github.com/eccenca/llama-index-cmem/.venv/lib/python3.12/site-packages (0.12.11)\r\n",
      "Requirement already satisfied: python-dotenv in /home/pfreytag/github.com/eccenca/llama-index-cmem/.venv/lib/python3.12/site-packages (1.0.1)\r\n",
      "Requirement already satisfied: llama-index-vector-stores-postgres in /home/pfreytag/github.com/eccenca/llama-index-cmem/.venv/lib/python3.12/site-packages (0.4.1)\r\n",
      "Requirement already satisfied: certifi>=2023.7.22 in /home/pfreytag/github.com/eccenca/llama-index-cmem/.venv/lib/python3.12/site-packages (from cmem-cmempy) (2024.12.14)\r\n",
      "Requirement already satisfied: pyparsing<4.0.0,>=3.1.1 in /home/pfreytag/github.com/eccenca/llama-index-cmem/.venv/lib/python3.12/site-packages (from cmem-cmempy) (3.2.1)\r\n",
      "Requirement already satisfied: rdflib<7.0.0,>=6.3.2 in /home/pfreytag/github.com/eccenca/llama-index-cmem/.venv/lib/python3.12/site-packages (from cmem-cmempy) (6.3.2)\r\n",
      "Requirement already satisfied: requests<3.0.0,>=2.31.0 in /home/pfreytag/github.com/eccenca/llama-index-cmem/.venv/lib/python3.12/site-packages (from cmem-cmempy) (2.32.3)\r\n",
      "Requirement already satisfied: requests-toolbelt<2.0.0,>=1.0.0 in /home/pfreytag/github.com/eccenca/llama-index-cmem/.venv/lib/python3.12/site-packages (from cmem-cmempy) (1.0.0)\r\n",
      "Requirement already satisfied: llama-index-agent-openai<0.5.0,>=0.4.0 in /home/pfreytag/github.com/eccenca/llama-index-cmem/.venv/lib/python3.12/site-packages (from llama-index) (0.4.2)\r\n",
      "Requirement already satisfied: llama-index-cli<0.5.0,>=0.4.0 in /home/pfreytag/github.com/eccenca/llama-index-cmem/.venv/lib/python3.12/site-packages (from llama-index) (0.4.0)\r\n",
      "Requirement already satisfied: llama-index-core<0.13.0,>=0.12.11 in /home/pfreytag/github.com/eccenca/llama-index-cmem/.venv/lib/python3.12/site-packages (from llama-index) (0.12.11)\r\n",
      "Requirement already satisfied: llama-index-embeddings-openai<0.4.0,>=0.3.0 in /home/pfreytag/github.com/eccenca/llama-index-cmem/.venv/lib/python3.12/site-packages (from llama-index) (0.3.1)\r\n",
      "Requirement already satisfied: llama-index-indices-managed-llama-cloud>=0.4.0 in /home/pfreytag/github.com/eccenca/llama-index-cmem/.venv/lib/python3.12/site-packages (from llama-index) (0.6.3)\r\n",
      "Requirement already satisfied: llama-index-llms-openai<0.4.0,>=0.3.0 in /home/pfreytag/github.com/eccenca/llama-index-cmem/.venv/lib/python3.12/site-packages (from llama-index) (0.3.13)\r\n",
      "Requirement already satisfied: llama-index-multi-modal-llms-openai<0.5.0,>=0.4.0 in /home/pfreytag/github.com/eccenca/llama-index-cmem/.venv/lib/python3.12/site-packages (from llama-index) (0.4.2)\r\n",
      "Requirement already satisfied: llama-index-program-openai<0.4.0,>=0.3.0 in /home/pfreytag/github.com/eccenca/llama-index-cmem/.venv/lib/python3.12/site-packages (from llama-index) (0.3.1)\r\n",
      "Requirement already satisfied: llama-index-question-gen-openai<0.4.0,>=0.3.0 in /home/pfreytag/github.com/eccenca/llama-index-cmem/.venv/lib/python3.12/site-packages (from llama-index) (0.3.0)\r\n",
      "Requirement already satisfied: llama-index-readers-file<0.5.0,>=0.4.0 in /home/pfreytag/github.com/eccenca/llama-index-cmem/.venv/lib/python3.12/site-packages (from llama-index) (0.4.3)\r\n",
      "Requirement already satisfied: llama-index-readers-llama-parse>=0.4.0 in /home/pfreytag/github.com/eccenca/llama-index-cmem/.venv/lib/python3.12/site-packages (from llama-index) (0.4.0)\r\n",
      "Requirement already satisfied: nltk>3.8.1 in /home/pfreytag/github.com/eccenca/llama-index-cmem/.venv/lib/python3.12/site-packages (from llama-index) (3.9.1)\r\n",
      "Requirement already satisfied: asyncpg<1.0.0,>=0.29.0 in /home/pfreytag/github.com/eccenca/llama-index-cmem/.venv/lib/python3.12/site-packages (from llama-index-vector-stores-postgres) (0.30.0)\r\n",
      "Requirement already satisfied: pgvector<1.0.0,>=0.3.6 in /home/pfreytag/github.com/eccenca/llama-index-cmem/.venv/lib/python3.12/site-packages (from llama-index-vector-stores-postgres) (0.3.6)\r\n",
      "Requirement already satisfied: psycopg2-binary<3.0.0,>=2.9.9 in /home/pfreytag/github.com/eccenca/llama-index-cmem/.venv/lib/python3.12/site-packages (from llama-index-vector-stores-postgres) (2.9.10)\r\n",
      "Requirement already satisfied: sqlalchemy<2.1,>=1.4.49 in /home/pfreytag/github.com/eccenca/llama-index-cmem/.venv/lib/python3.12/site-packages (from sqlalchemy[asyncio]<2.1,>=1.4.49->llama-index-vector-stores-postgres) (2.0.37)\r\n",
      "Requirement already satisfied: openai>=1.14.0 in /home/pfreytag/github.com/eccenca/llama-index-cmem/.venv/lib/python3.12/site-packages (from llama-index-agent-openai<0.5.0,>=0.4.0->llama-index) (1.59.8)\r\n",
      "Requirement already satisfied: PyYAML>=6.0.1 in /home/pfreytag/github.com/eccenca/llama-index-cmem/.venv/lib/python3.12/site-packages (from llama-index-core<0.13.0,>=0.12.11->llama-index) (6.0.2)\r\n",
      "Requirement already satisfied: aiohttp<4.0.0,>=3.8.6 in /home/pfreytag/github.com/eccenca/llama-index-cmem/.venv/lib/python3.12/site-packages (from llama-index-core<0.13.0,>=0.12.11->llama-index) (3.11.11)\r\n",
      "Requirement already satisfied: dataclasses-json in /home/pfreytag/github.com/eccenca/llama-index-cmem/.venv/lib/python3.12/site-packages (from llama-index-core<0.13.0,>=0.12.11->llama-index) (0.6.7)\r\n",
      "Requirement already satisfied: deprecated>=1.2.9.3 in /home/pfreytag/github.com/eccenca/llama-index-cmem/.venv/lib/python3.12/site-packages (from llama-index-core<0.13.0,>=0.12.11->llama-index) (1.2.15)\r\n",
      "Requirement already satisfied: dirtyjson<2.0.0,>=1.0.8 in /home/pfreytag/github.com/eccenca/llama-index-cmem/.venv/lib/python3.12/site-packages (from llama-index-core<0.13.0,>=0.12.11->llama-index) (1.0.8)\r\n",
      "Requirement already satisfied: filetype<2.0.0,>=1.2.0 in /home/pfreytag/github.com/eccenca/llama-index-cmem/.venv/lib/python3.12/site-packages (from llama-index-core<0.13.0,>=0.12.11->llama-index) (1.2.0)\r\n",
      "Requirement already satisfied: fsspec>=2023.5.0 in /home/pfreytag/github.com/eccenca/llama-index-cmem/.venv/lib/python3.12/site-packages (from llama-index-core<0.13.0,>=0.12.11->llama-index) (2024.12.0)\r\n",
      "Requirement already satisfied: httpx in /home/pfreytag/github.com/eccenca/llama-index-cmem/.venv/lib/python3.12/site-packages (from llama-index-core<0.13.0,>=0.12.11->llama-index) (0.28.1)\r\n",
      "Requirement already satisfied: nest-asyncio<2.0.0,>=1.5.8 in /home/pfreytag/github.com/eccenca/llama-index-cmem/.venv/lib/python3.12/site-packages (from llama-index-core<0.13.0,>=0.12.11->llama-index) (1.6.0)\r\n",
      "Requirement already satisfied: networkx>=3.0 in /home/pfreytag/github.com/eccenca/llama-index-cmem/.venv/lib/python3.12/site-packages (from llama-index-core<0.13.0,>=0.12.11->llama-index) (3.4.2)\r\n",
      "Requirement already satisfied: numpy in /home/pfreytag/github.com/eccenca/llama-index-cmem/.venv/lib/python3.12/site-packages (from llama-index-core<0.13.0,>=0.12.11->llama-index) (2.2.1)\r\n",
      "Requirement already satisfied: pillow>=9.0.0 in /home/pfreytag/github.com/eccenca/llama-index-cmem/.venv/lib/python3.12/site-packages (from llama-index-core<0.13.0,>=0.12.11->llama-index) (11.1.0)\r\n",
      "Requirement already satisfied: pydantic>=2.8.0 in /home/pfreytag/github.com/eccenca/llama-index-cmem/.venv/lib/python3.12/site-packages (from llama-index-core<0.13.0,>=0.12.11->llama-index) (2.10.5)\r\n",
      "Requirement already satisfied: tenacity!=8.4.0,<10.0.0,>=8.2.0 in /home/pfreytag/github.com/eccenca/llama-index-cmem/.venv/lib/python3.12/site-packages (from llama-index-core<0.13.0,>=0.12.11->llama-index) (9.0.0)\r\n",
      "Requirement already satisfied: tiktoken>=0.3.3 in /home/pfreytag/github.com/eccenca/llama-index-cmem/.venv/lib/python3.12/site-packages (from llama-index-core<0.13.0,>=0.12.11->llama-index) (0.8.0)\r\n",
      "Requirement already satisfied: tqdm<5.0.0,>=4.66.1 in /home/pfreytag/github.com/eccenca/llama-index-cmem/.venv/lib/python3.12/site-packages (from llama-index-core<0.13.0,>=0.12.11->llama-index) (4.67.1)\r\n",
      "Requirement already satisfied: typing-extensions>=4.5.0 in /home/pfreytag/github.com/eccenca/llama-index-cmem/.venv/lib/python3.12/site-packages (from llama-index-core<0.13.0,>=0.12.11->llama-index) (4.12.2)\r\n",
      "Requirement already satisfied: typing-inspect>=0.8.0 in /home/pfreytag/github.com/eccenca/llama-index-cmem/.venv/lib/python3.12/site-packages (from llama-index-core<0.13.0,>=0.12.11->llama-index) (0.9.0)\r\n",
      "Requirement already satisfied: wrapt in /home/pfreytag/github.com/eccenca/llama-index-cmem/.venv/lib/python3.12/site-packages (from llama-index-core<0.13.0,>=0.12.11->llama-index) (1.17.2)\r\n",
      "Requirement already satisfied: llama-cloud>=0.1.5 in /home/pfreytag/github.com/eccenca/llama-index-cmem/.venv/lib/python3.12/site-packages (from llama-index-indices-managed-llama-cloud>=0.4.0->llama-index) (0.1.9)\r\n",
      "Requirement already satisfied: beautifulsoup4<5.0.0,>=4.12.3 in /home/pfreytag/github.com/eccenca/llama-index-cmem/.venv/lib/python3.12/site-packages (from llama-index-readers-file<0.5.0,>=0.4.0->llama-index) (4.12.3)\r\n",
      "Requirement already satisfied: pandas in /home/pfreytag/github.com/eccenca/llama-index-cmem/.venv/lib/python3.12/site-packages (from llama-index-readers-file<0.5.0,>=0.4.0->llama-index) (2.2.3)\r\n",
      "Requirement already satisfied: pypdf<6.0.0,>=5.1.0 in /home/pfreytag/github.com/eccenca/llama-index-cmem/.venv/lib/python3.12/site-packages (from llama-index-readers-file<0.5.0,>=0.4.0->llama-index) (5.1.0)\r\n",
      "Requirement already satisfied: striprtf<0.0.27,>=0.0.26 in /home/pfreytag/github.com/eccenca/llama-index-cmem/.venv/lib/python3.12/site-packages (from llama-index-readers-file<0.5.0,>=0.4.0->llama-index) (0.0.26)\r\n",
      "Requirement already satisfied: llama-parse>=0.5.0 in /home/pfreytag/github.com/eccenca/llama-index-cmem/.venv/lib/python3.12/site-packages (from llama-index-readers-llama-parse>=0.4.0->llama-index) (0.5.19)\r\n",
      "Requirement already satisfied: click in /home/pfreytag/github.com/eccenca/llama-index-cmem/.venv/lib/python3.12/site-packages (from nltk>3.8.1->llama-index) (8.1.8)\r\n",
      "Requirement already satisfied: joblib in /home/pfreytag/github.com/eccenca/llama-index-cmem/.venv/lib/python3.12/site-packages (from nltk>3.8.1->llama-index) (1.4.2)\r\n",
      "Requirement already satisfied: regex>=2021.8.3 in /home/pfreytag/github.com/eccenca/llama-index-cmem/.venv/lib/python3.12/site-packages (from nltk>3.8.1->llama-index) (2024.11.6)\r\n",
      "Requirement already satisfied: isodate<0.7.0,>=0.6.0 in /home/pfreytag/github.com/eccenca/llama-index-cmem/.venv/lib/python3.12/site-packages (from rdflib<7.0.0,>=6.3.2->cmem-cmempy) (0.6.1)\r\n",
      "Requirement already satisfied: charset-normalizer<4,>=2 in /home/pfreytag/github.com/eccenca/llama-index-cmem/.venv/lib/python3.12/site-packages (from requests<3.0.0,>=2.31.0->cmem-cmempy) (3.4.1)\r\n",
      "Requirement already satisfied: idna<4,>=2.5 in /home/pfreytag/github.com/eccenca/llama-index-cmem/.venv/lib/python3.12/site-packages (from requests<3.0.0,>=2.31.0->cmem-cmempy) (3.10)\r\n",
      "Requirement already satisfied: urllib3<3,>=1.21.1 in /home/pfreytag/github.com/eccenca/llama-index-cmem/.venv/lib/python3.12/site-packages (from requests<3.0.0,>=2.31.0->cmem-cmempy) (2.3.0)\r\n",
      "Requirement already satisfied: greenlet!=0.4.17 in /home/pfreytag/github.com/eccenca/llama-index-cmem/.venv/lib/python3.12/site-packages (from sqlalchemy<2.1,>=1.4.49->sqlalchemy[asyncio]<2.1,>=1.4.49->llama-index-vector-stores-postgres) (3.1.1)\r\n",
      "Requirement already satisfied: aiohappyeyeballs>=2.3.0 in /home/pfreytag/github.com/eccenca/llama-index-cmem/.venv/lib/python3.12/site-packages (from aiohttp<4.0.0,>=3.8.6->llama-index-core<0.13.0,>=0.12.11->llama-index) (2.4.4)\r\n",
      "Requirement already satisfied: aiosignal>=1.1.2 in /home/pfreytag/github.com/eccenca/llama-index-cmem/.venv/lib/python3.12/site-packages (from aiohttp<4.0.0,>=3.8.6->llama-index-core<0.13.0,>=0.12.11->llama-index) (1.3.2)\r\n",
      "Requirement already satisfied: attrs>=17.3.0 in /home/pfreytag/github.com/eccenca/llama-index-cmem/.venv/lib/python3.12/site-packages (from aiohttp<4.0.0,>=3.8.6->llama-index-core<0.13.0,>=0.12.11->llama-index) (24.3.0)\r\n",
      "Requirement already satisfied: frozenlist>=1.1.1 in /home/pfreytag/github.com/eccenca/llama-index-cmem/.venv/lib/python3.12/site-packages (from aiohttp<4.0.0,>=3.8.6->llama-index-core<0.13.0,>=0.12.11->llama-index) (1.5.0)\r\n",
      "Requirement already satisfied: multidict<7.0,>=4.5 in /home/pfreytag/github.com/eccenca/llama-index-cmem/.venv/lib/python3.12/site-packages (from aiohttp<4.0.0,>=3.8.6->llama-index-core<0.13.0,>=0.12.11->llama-index) (6.1.0)\r\n",
      "Requirement already satisfied: propcache>=0.2.0 in /home/pfreytag/github.com/eccenca/llama-index-cmem/.venv/lib/python3.12/site-packages (from aiohttp<4.0.0,>=3.8.6->llama-index-core<0.13.0,>=0.12.11->llama-index) (0.2.1)\r\n",
      "Requirement already satisfied: yarl<2.0,>=1.17.0 in /home/pfreytag/github.com/eccenca/llama-index-cmem/.venv/lib/python3.12/site-packages (from aiohttp<4.0.0,>=3.8.6->llama-index-core<0.13.0,>=0.12.11->llama-index) (1.18.3)\r\n",
      "Requirement already satisfied: soupsieve>1.2 in /home/pfreytag/github.com/eccenca/llama-index-cmem/.venv/lib/python3.12/site-packages (from beautifulsoup4<5.0.0,>=4.12.3->llama-index-readers-file<0.5.0,>=0.4.0->llama-index) (2.6)\r\n",
      "Requirement already satisfied: six in /home/pfreytag/github.com/eccenca/llama-index-cmem/.venv/lib/python3.12/site-packages (from isodate<0.7.0,>=0.6.0->rdflib<7.0.0,>=6.3.2->cmem-cmempy) (1.17.0)\r\n",
      "Requirement already satisfied: anyio in /home/pfreytag/github.com/eccenca/llama-index-cmem/.venv/lib/python3.12/site-packages (from httpx->llama-index-core<0.13.0,>=0.12.11->llama-index) (4.8.0)\r\n",
      "Requirement already satisfied: httpcore==1.* in /home/pfreytag/github.com/eccenca/llama-index-cmem/.venv/lib/python3.12/site-packages (from httpx->llama-index-core<0.13.0,>=0.12.11->llama-index) (1.0.7)\r\n",
      "Requirement already satisfied: h11<0.15,>=0.13 in /home/pfreytag/github.com/eccenca/llama-index-cmem/.venv/lib/python3.12/site-packages (from httpcore==1.*->httpx->llama-index-core<0.13.0,>=0.12.11->llama-index) (0.14.0)\r\n",
      "Requirement already satisfied: distro<2,>=1.7.0 in /home/pfreytag/github.com/eccenca/llama-index-cmem/.venv/lib/python3.12/site-packages (from openai>=1.14.0->llama-index-agent-openai<0.5.0,>=0.4.0->llama-index) (1.9.0)\r\n",
      "Requirement already satisfied: jiter<1,>=0.4.0 in /home/pfreytag/github.com/eccenca/llama-index-cmem/.venv/lib/python3.12/site-packages (from openai>=1.14.0->llama-index-agent-openai<0.5.0,>=0.4.0->llama-index) (0.8.2)\r\n",
      "Requirement already satisfied: sniffio in /home/pfreytag/github.com/eccenca/llama-index-cmem/.venv/lib/python3.12/site-packages (from openai>=1.14.0->llama-index-agent-openai<0.5.0,>=0.4.0->llama-index) (1.3.1)\r\n",
      "Requirement already satisfied: annotated-types>=0.6.0 in /home/pfreytag/github.com/eccenca/llama-index-cmem/.venv/lib/python3.12/site-packages (from pydantic>=2.8.0->llama-index-core<0.13.0,>=0.12.11->llama-index) (0.7.0)\r\n",
      "Requirement already satisfied: pydantic-core==2.27.2 in /home/pfreytag/github.com/eccenca/llama-index-cmem/.venv/lib/python3.12/site-packages (from pydantic>=2.8.0->llama-index-core<0.13.0,>=0.12.11->llama-index) (2.27.2)\r\n",
      "Requirement already satisfied: mypy-extensions>=0.3.0 in /home/pfreytag/github.com/eccenca/llama-index-cmem/.venv/lib/python3.12/site-packages (from typing-inspect>=0.8.0->llama-index-core<0.13.0,>=0.12.11->llama-index) (1.0.0)\r\n",
      "Requirement already satisfied: marshmallow<4.0.0,>=3.18.0 in /home/pfreytag/github.com/eccenca/llama-index-cmem/.venv/lib/python3.12/site-packages (from dataclasses-json->llama-index-core<0.13.0,>=0.12.11->llama-index) (3.25.1)\r\n",
      "Requirement already satisfied: python-dateutil>=2.8.2 in /home/pfreytag/github.com/eccenca/llama-index-cmem/.venv/lib/python3.12/site-packages (from pandas->llama-index-readers-file<0.5.0,>=0.4.0->llama-index) (2.9.0.post0)\r\n",
      "Requirement already satisfied: pytz>=2020.1 in /home/pfreytag/github.com/eccenca/llama-index-cmem/.venv/lib/python3.12/site-packages (from pandas->llama-index-readers-file<0.5.0,>=0.4.0->llama-index) (2024.2)\r\n",
      "Requirement already satisfied: tzdata>=2022.7 in /home/pfreytag/github.com/eccenca/llama-index-cmem/.venv/lib/python3.12/site-packages (from pandas->llama-index-readers-file<0.5.0,>=0.4.0->llama-index) (2024.2)\r\n",
      "Requirement already satisfied: packaging>=17.0 in /home/pfreytag/github.com/eccenca/llama-index-cmem/.venv/lib/python3.12/site-packages (from marshmallow<4.0.0,>=3.18.0->dataclasses-json->llama-index-core<0.13.0,>=0.12.11->llama-index) (24.2)\r\n",
      "Note: you may need to restart the kernel to use updated packages.\n"
     ]
    }
   ],
   "source": [
    "%pip install cmem-cmempy llama-index python-dotenv llama-index-vector-stores-postgres"
   ]
  },
  {
   "cell_type": "code",
   "execution_count": 1,
   "id": "8350efde25acb664",
   "metadata": {
    "ExecuteTime": {
     "end_time": "2025-01-23T15:59:31.950205Z",
     "start_time": "2025-01-23T15:59:31.937340Z"
    }
   },
   "outputs": [],
   "source": [
    "%load_ext dotenv\n",
    "%dotenv\n",
    "%reload_ext dotenv"
   ]
  },
  {
   "cell_type": "code",
   "execution_count": 14,
   "id": "612b8ea28292dcb9",
   "metadata": {
    "ExecuteTime": {
     "end_time": "2025-01-23T15:59:32.059663Z",
     "start_time": "2025-01-23T15:59:32.056526Z"
    }
   },
   "outputs": [],
   "source": [
    "import os\n",
    "\n",
    "import openai\n",
    "\n",
    "openai.api_key = os.environ[\"OPENAI_API_KEY\"]"
   ]
  },
  {
   "cell_type": "code",
   "execution_count": 15,
   "id": "4db7a722e2563439",
   "metadata": {
    "ExecuteTime": {
     "end_time": "2025-01-23T15:59:33.399128Z",
     "start_time": "2025-01-23T15:59:32.114260Z"
    }
   },
   "outputs": [
    {
     "name": "stdout",
     "output_type": "stream",
     "text": [
      "Using default tag: latest\r\n",
      "latest: Pulling from ankane/pgvector\r\n",
      "Digest: sha256:956744bd14e9cbdf639c61c2a2a7c7c2c48a9c8cdd42f7de4ac034f4e96b90f8\r\n",
      "Status: Image is up to date for ankane/pgvector:latest\r\n",
      "docker.io/ankane/pgvector:latest\r\n",
      "docker: Error response from daemon: Conflict. The container name \"/pgvector-eccenca\" is already in use by container \"96a9465720137f2fd7cc29e12a3fb68a7a18a782ff10af02498e5459d2fc8424\". You have to remove (or rename) that container to be able to reuse that name.\r\n",
      "See 'docker run --help'.\r\n"
     ]
    }
   ],
   "source": [
    "!docker pull ankane/pgvector\n",
    "!docker run -d -e POSTGRES_USER=eccenca -e POSTGRES_PASSWORD=eccenca -e POSTGRES_DB=eccenca --name pgvector-eccenca -p 5432:5432 ankane/pgvector"
   ]
  },
  {
   "cell_type": "code",
   "execution_count": 5,
   "id": "2251180f25e3a3ab",
   "metadata": {
    "ExecuteTime": {
     "end_time": "2025-01-23T16:22:39.004653Z",
     "start_time": "2025-01-23T16:22:35.271260Z"
    }
   },
   "outputs": [
    {
     "name": "stderr",
     "output_type": "stream",
     "text": [
      "PG Setup: Error creating HNSW index: (psycopg2.errors.SyntaxError) syntax error at or near \"-\"\n",
      "LINE 1: CREATE INDEX IF NOT EXISTS data_prod-inst_embedding_idx ON p...\n",
      "                                            ^\n",
      "\n",
      "[SQL: CREATE INDEX IF NOT EXISTS data_prod-inst_embedding_idx ON public.data_prod-inst USING hnsw (embedding vector_cosine_ops) WITH (m = 16, ef_construction = 64)]\n",
      "(Background on this error at: https://sqlalche.me/e/20/f405)\n"
     ]
    },
    {
     "data": {
      "text/markdown": [
       "### Question: _What can you tell me about Dietlinde Boehme? Give me as many information and details as possible. Format the result nicely as Markdown. If sensible use list-style format. Also add a textual summary._"
      ],
      "text/plain": [
       "<IPython.core.display.Markdown object>"
      ]
     },
     "metadata": {},
     "output_type": "display_data"
    },
    {
     "data": {
      "text/markdown": [
       "### Answer:\n",
       "\n",
       "- **Name:** Dietlinde Boehme\n",
       "- **Email:** Dietlinde.Boehme@company.org\n",
       "- **Member of:** Marketing\n",
       "- **Address:** Biebricher Allee 880, 65826 Neukalen\n",
       "- **Phone Number:** (06582) 6550636\n",
       "- **Managers:** Liese Adam, Valda Everhart, Lambert Faust, Yanka Schreiber, Baldwin Dirksen, Bert Blumstein, Henny Foth, Kevin Feigenbaum, Sabrina Geiger\n",
       "- **Product Manager for:** \n",
       "  - V881-4674578 - Planck Dipole Driver Crystal\n",
       "  - J555-1586043 - Transformer Inductor Encoder\n",
       "  - O300-8464663 - Crystal Strain\n",
       "\n",
       "**Summary:** Dietlinde Boehme is a member of the Marketing department. She can be reached at Dietlinde.Boehme@company.org or (06582) 6550636. Her address is Biebricher Allee 880, 65826 Neukalen. Dietlinde manages a number of individuals and is the product manager for several products including Planck Dipole Driver Crystal, Transformer Inductor Encoder, and Crystal Strain."
      ],
      "text/plain": [
       "<IPython.core.display.Markdown object>"
      ]
     },
     "metadata": {},
     "output_type": "display_data"
    },
    {
     "data": {
      "text/markdown": [
       "#### Source nodes:"
      ],
      "text/plain": [
       "<IPython.core.display.Markdown object>"
      ]
     },
     "metadata": {},
     "output_type": "display_data"
    },
    {
     "data": {
      "text/markdown": [
       "> __Text:__ Dietlinde Boehme name Dietlinde Boehme\n",
       ">\n",
       "> __Score:__ 0.8683431305476333"
      ],
      "text/plain": [
       "<IPython.core.display.Markdown object>"
      ]
     },
     "metadata": {},
     "output_type": "display_data"
    },
    {
     "data": {
      "text/markdown": [
       "> __Text:__ Dietlinde Boehme email Dietlinde.Boehme@company.org\n",
       ">\n",
       "> __Score:__ 0.8538635299693895"
      ],
      "text/plain": [
       "<IPython.core.display.Markdown object>"
      ]
     },
     "metadata": {},
     "output_type": "display_data"
    },
    {
     "data": {
      "text/markdown": [
       "> __Text:__ Dietlinde Boehme member of Marketing\n",
       ">\n",
       "> __Score:__ 0.8493055880897596"
      ],
      "text/plain": [
       "<IPython.core.display.Markdown object>"
      ]
     },
     "metadata": {},
     "output_type": "display_data"
    },
    {
     "data": {
      "text/markdown": [
       "> __Text:__ Dietlinde Boehme address text Biebricher Allee 880, 65826 Neukalen\n",
       ">\n",
       "> __Score:__ 0.8473105612623083"
      ],
      "text/plain": [
       "<IPython.core.display.Markdown object>"
      ]
     },
     "metadata": {},
     "output_type": "display_data"
    },
    {
     "data": {
      "text/markdown": [
       "> __Text:__ Dietlinde Boehme phone number (06582) 6550636\n",
       ">\n",
       "> __Score:__ 0.8452265674146439"
      ],
      "text/plain": [
       "<IPython.core.display.Markdown object>"
      ]
     },
     "metadata": {},
     "output_type": "display_data"
    },
    {
     "data": {
      "text/markdown": [
       "> __Text:__ Liese Adam has manager Dietlinde Boehme\n",
       ">\n",
       "> __Score:__ 0.8238367543317954"
      ],
      "text/plain": [
       "<IPython.core.display.Markdown object>"
      ]
     },
     "metadata": {},
     "output_type": "display_data"
    },
    {
     "data": {
      "text/markdown": [
       "> __Text:__ Valda Everhart has manager Dietlinde Boehme\n",
       ">\n",
       "> __Score:__ 0.820295008368194"
      ],
      "text/plain": [
       "<IPython.core.display.Markdown object>"
      ]
     },
     "metadata": {},
     "output_type": "display_data"
    },
    {
     "data": {
      "text/markdown": [
       "> __Text:__ Lambert Faust has manager Dietlinde Boehme\n",
       ">\n",
       "> __Score:__ 0.8068297850793998"
      ],
      "text/plain": [
       "<IPython.core.display.Markdown object>"
      ]
     },
     "metadata": {},
     "output_type": "display_data"
    },
    {
     "data": {
      "text/markdown": [
       "> __Text:__ Yanka Schreiber has manager Dietlinde Boehme\n",
       ">\n",
       "> __Score:__ 0.8067049258913256"
      ],
      "text/plain": [
       "<IPython.core.display.Markdown object>"
      ]
     },
     "metadata": {},
     "output_type": "display_data"
    },
    {
     "data": {
      "text/markdown": [
       "> __Text:__ Baldwin Dirksen has manager Dietlinde Boehme\n",
       ">\n",
       "> __Score:__ 0.805559229519426"
      ],
      "text/plain": [
       "<IPython.core.display.Markdown object>"
      ]
     },
     "metadata": {},
     "output_type": "display_data"
    },
    {
     "data": {
      "text/markdown": [
       "> __Text:__ Bert Blumstein has manager Dietlinde Boehme\n",
       ">\n",
       "> __Score:__ 0.8014823908272833"
      ],
      "text/plain": [
       "<IPython.core.display.Markdown object>"
      ]
     },
     "metadata": {},
     "output_type": "display_data"
    },
    {
     "data": {
      "text/markdown": [
       "> __Text:__ Henny Foth has manager Dietlinde Boehme\n",
       ">\n",
       "> __Score:__ 0.8007692813414892"
      ],
      "text/plain": [
       "<IPython.core.display.Markdown object>"
      ]
     },
     "metadata": {},
     "output_type": "display_data"
    },
    {
     "data": {
      "text/markdown": [
       "> __Text:__ Kevin Feigenbaum has manager Dietlinde Boehme\n",
       ">\n",
       "> __Score:__ 0.7990368365093786"
      ],
      "text/plain": [
       "<IPython.core.display.Markdown object>"
      ]
     },
     "metadata": {},
     "output_type": "display_data"
    },
    {
     "data": {
      "text/markdown": [
       "> __Text:__ Sabrina Geiger has manager Dietlinde Boehme\n",
       ">\n",
       "> __Score:__ 0.7961866149457419"
      ],
      "text/plain": [
       "<IPython.core.display.Markdown object>"
      ]
     },
     "metadata": {},
     "output_type": "display_data"
    },
    {
     "data": {
      "text/markdown": [
       "> __Text:__ Dieterich Blau name Dieterich Blau\n",
       ">\n",
       "> __Score:__ 0.7906956423158725"
      ],
      "text/plain": [
       "<IPython.core.display.Markdown object>"
      ]
     },
     "metadata": {},
     "output_type": "display_data"
    },
    {
     "data": {
      "text/markdown": [
       "> __Text:__ Dieterich Blau email Dieterich.Blau@company.org\n",
       ">\n",
       "> __Score:__ 0.7875821590423808"
      ],
      "text/plain": [
       "<IPython.core.display.Markdown object>"
      ]
     },
     "metadata": {},
     "output_type": "display_data"
    },
    {
     "data": {
      "text/markdown": [
       "> __Text:__ Dieterich Blau address text Esplanade 372, 63144 Löwenstein\n",
       ">\n",
       "> __Score:__ 0.7853741561474428"
      ],
      "text/plain": [
       "<IPython.core.display.Markdown object>"
      ]
     },
     "metadata": {},
     "output_type": "display_data"
    },
    {
     "data": {
      "text/markdown": [
       "> __Text:__ Dieterich Blau member of Product Management\n",
       ">\n",
       "> __Score:__ 0.7822794447970847"
      ],
      "text/plain": [
       "<IPython.core.display.Markdown object>"
      ]
     },
     "metadata": {},
     "output_type": "display_data"
    },
    {
     "data": {
      "text/markdown": [
       "> __Text:__ Dieterich Blau phone number +49-2961-28181571\n",
       ">\n",
       "> __Score:__ 0.7806994580388771"
      ],
      "text/plain": [
       "<IPython.core.display.Markdown object>"
      ]
     },
     "metadata": {},
     "output_type": "display_data"
    },
    {
     "data": {
      "text/markdown": [
       "> __Text:__ V881-4674578 - Planck Dipole Driver Crystal has product manager Dietlinde Boehme\n",
       ">\n",
       "> __Score:__ 0.77785780363854"
      ],
      "text/plain": [
       "<IPython.core.display.Markdown object>"
      ]
     },
     "metadata": {},
     "output_type": "display_data"
    },
    {
     "data": {
      "text/markdown": [
       "> __Text:__ Arendt Beitel address text Dessauer Ufer 116, 08763 Olpe\n",
       ">\n",
       "> __Score:__ 0.7773857647452915"
      ],
      "text/plain": [
       "<IPython.core.display.Markdown object>"
      ]
     },
     "metadata": {},
     "output_type": "display_data"
    },
    {
     "data": {
      "text/markdown": [
       "> __Text:__ J555-1586043 - Transformer Inductor Encoder has product manager Dietlinde Boehme\n",
       ">\n",
       "> __Score:__ 0.7766423757928906"
      ],
      "text/plain": [
       "<IPython.core.display.Markdown object>"
      ]
     },
     "metadata": {},
     "output_type": "display_data"
    },
    {
     "data": {
      "text/markdown": [
       "> __Text:__ O300-8464663 - Crystal Strain has product manager Dietlinde Boehme\n",
       ">\n",
       "> __Score:__ 0.7764093875885231"
      ],
      "text/plain": [
       "<IPython.core.display.Markdown object>"
      ]
     },
     "metadata": {},
     "output_type": "display_data"
    },
    {
     "data": {
      "text/markdown": [
       "> __Text:__ Dieterich Blau area of expertise Breaker\n",
       ">\n",
       "> __Score:__ 0.7747626245587768"
      ],
      "text/plain": [
       "<IPython.core.display.Markdown object>"
      ]
     },
     "metadata": {},
     "output_type": "display_data"
    }
   ],
   "source": [
    "from IPython.display import Markdown\n",
    "from llama_index.core import VectorStoreIndex\n",
    "from llama_index.vector_stores.postgres import PGVectorStore\n",
    "\n",
    "vector_store = PGVectorStore.from_params(\n",
    "    database=\"eccenca\",\n",
    "    host=\"localhost\",\n",
    "    password=\"eccenca\",\n",
    "    port=\"5432\",\n",
    "    user=\"eccenca\",\n",
    "    table_name=\"prod-inst\",\n",
    "    embed_dim=1536,  # openai embedding dimension\n",
    "    hnsw_kwargs={\n",
    "        \"hnsw_m\": 16,\n",
    "        \"hnsw_ef_construction\": 64,\n",
    "        \"hnsw_ef_search\": 40,\n",
    "        \"hnsw_dist_method\": \"vector_cosine_ops\",\n",
    "    },\n",
    ")\n",
    "\n",
    "index = VectorStoreIndex.from_vector_store(vector_store=vector_store)\n",
    "query_engine = index.as_query_engine(similarity_top_k=30)\n",
    "question = \"\"\"What can you tell me about Dietlinde Boehme? \\\n",
    "Give me as many information and details as possible. \\\n",
    "Format the result nicely as Markdown. \\\n",
    "If sensible use list-style format. \\\n",
    "Also add a textual summary.\"\"\"\n",
    "answer = query_engine.query(question)\n",
    "\n",
    "display(Markdown(f\"### Question: _{question}_\"))\n",
    "display(Markdown(f\"### Answer:\\n\\n{answer}\"))\n",
    "display(Markdown(\"#### Source nodes:\"))\n",
    "for node in answer.source_nodes:\n",
    "    display(Markdown(f\"> __Text:__ {node.text}\\n>\\n> __Score:__ {node.score}\"))"
   ]
  }
 ],
 "metadata": {
  "kernelspec": {
   "display_name": ".venv",
   "language": "python",
   "name": "python3"
  },
  "language_info": {
   "codemirror_mode": {
    "name": "ipython",
    "version": 3
   },
   "file_extension": ".py",
   "mimetype": "text/x-python",
   "name": "python",
   "nbconvert_exporter": "python",
   "pygments_lexer": "ipython3",
   "version": "3.13.0"
  }
 },
 "nbformat": 4,
 "nbformat_minor": 5
}
