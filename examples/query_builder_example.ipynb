{
 "cells": [
  {
   "cell_type": "markdown",
   "metadata": {},
   "source": [
    "# CMEMQueryBuilder\n",
    "\n",
    "The CMEM query builder generates a SPARQL query based on a given ontology and a natural language question."
   ]
  },
  {
   "cell_type": "code",
   "execution_count": 9,
   "metadata": {},
   "outputs": [
    {
     "name": "stdout",
     "output_type": "stream",
     "text": [
      "Requirement already satisfied: cmem-cmempy in c:\\users\\peter\\appdata\\local\\pypoetry\\cache\\virtualenvs\\llama-index-cmem-ugamzsbq-py3.13\\lib\\site-packages (24.3.0)\n",
      "Requirement already satisfied: llama-index in c:\\users\\peter\\appdata\\local\\pypoetry\\cache\\virtualenvs\\llama-index-cmem-ugamzsbq-py3.13\\lib\\site-packages (0.12.5)\n",
      "Requirement already satisfied: python-dotenv in c:\\users\\peter\\appdata\\local\\pypoetry\\cache\\virtualenvs\\llama-index-cmem-ugamzsbq-py3.13\\lib\\site-packages (1.0.1)\n",
      "Requirement already satisfied: certifi>=2023.7.22 in c:\\users\\peter\\appdata\\local\\pypoetry\\cache\\virtualenvs\\llama-index-cmem-ugamzsbq-py3.13\\lib\\site-packages (from cmem-cmempy) (2024.12.14)\n",
      "Requirement already satisfied: pyparsing<4.0.0,>=3.1.1 in c:\\users\\peter\\appdata\\local\\pypoetry\\cache\\virtualenvs\\llama-index-cmem-ugamzsbq-py3.13\\lib\\site-packages (from cmem-cmempy) (3.2.0)\n",
      "Requirement already satisfied: rdflib<7.0.0,>=6.3.2 in c:\\users\\peter\\appdata\\local\\pypoetry\\cache\\virtualenvs\\llama-index-cmem-ugamzsbq-py3.13\\lib\\site-packages (from cmem-cmempy) (6.3.2)\n",
      "Requirement already satisfied: requests<3.0.0,>=2.31.0 in c:\\users\\peter\\appdata\\local\\pypoetry\\cache\\virtualenvs\\llama-index-cmem-ugamzsbq-py3.13\\lib\\site-packages (from cmem-cmempy) (2.32.3)\n",
      "Requirement already satisfied: requests-toolbelt<2.0.0,>=1.0.0 in c:\\users\\peter\\appdata\\local\\pypoetry\\cache\\virtualenvs\\llama-index-cmem-ugamzsbq-py3.13\\lib\\site-packages (from cmem-cmempy) (1.0.0)\n",
      "Requirement already satisfied: llama-index-agent-openai<0.5.0,>=0.4.0 in c:\\users\\peter\\appdata\\local\\pypoetry\\cache\\virtualenvs\\llama-index-cmem-ugamzsbq-py3.13\\lib\\site-packages (from llama-index) (0.4.0)\n",
      "Requirement already satisfied: llama-index-cli<0.5.0,>=0.4.0 in c:\\users\\peter\\appdata\\local\\pypoetry\\cache\\virtualenvs\\llama-index-cmem-ugamzsbq-py3.13\\lib\\site-packages (from llama-index) (0.4.0)\n",
      "Requirement already satisfied: llama-index-core<0.13.0,>=0.12.5 in c:\\users\\peter\\appdata\\local\\pypoetry\\cache\\virtualenvs\\llama-index-cmem-ugamzsbq-py3.13\\lib\\site-packages (from llama-index) (0.12.5)\n",
      "Requirement already satisfied: llama-index-embeddings-openai<0.4.0,>=0.3.0 in c:\\users\\peter\\appdata\\local\\pypoetry\\cache\\virtualenvs\\llama-index-cmem-ugamzsbq-py3.13\\lib\\site-packages (from llama-index) (0.3.1)\n",
      "Requirement already satisfied: llama-index-indices-managed-llama-cloud>=0.4.0 in c:\\users\\peter\\appdata\\local\\pypoetry\\cache\\virtualenvs\\llama-index-cmem-ugamzsbq-py3.13\\lib\\site-packages (from llama-index) (0.6.3)\n",
      "Requirement already satisfied: llama-index-legacy<0.10.0,>=0.9.48 in c:\\users\\peter\\appdata\\local\\pypoetry\\cache\\virtualenvs\\llama-index-cmem-ugamzsbq-py3.13\\lib\\site-packages (from llama-index) (0.9.48.post4)\n",
      "Requirement already satisfied: llama-index-llms-openai<0.4.0,>=0.3.0 in c:\\users\\peter\\appdata\\local\\pypoetry\\cache\\virtualenvs\\llama-index-cmem-ugamzsbq-py3.13\\lib\\site-packages (from llama-index) (0.3.10)\n",
      "Requirement already satisfied: llama-index-multi-modal-llms-openai<0.5.0,>=0.4.0 in c:\\users\\peter\\appdata\\local\\pypoetry\\cache\\virtualenvs\\llama-index-cmem-ugamzsbq-py3.13\\lib\\site-packages (from llama-index) (0.4.0)\n",
      "Requirement already satisfied: llama-index-program-openai<0.4.0,>=0.3.0 in c:\\users\\peter\\appdata\\local\\pypoetry\\cache\\virtualenvs\\llama-index-cmem-ugamzsbq-py3.13\\lib\\site-packages (from llama-index) (0.3.1)\n",
      "Requirement already satisfied: llama-index-question-gen-openai<0.4.0,>=0.3.0 in c:\\users\\peter\\appdata\\local\\pypoetry\\cache\\virtualenvs\\llama-index-cmem-ugamzsbq-py3.13\\lib\\site-packages (from llama-index) (0.3.0)\n",
      "Requirement already satisfied: llama-index-readers-file<0.5.0,>=0.4.0 in c:\\users\\peter\\appdata\\local\\pypoetry\\cache\\virtualenvs\\llama-index-cmem-ugamzsbq-py3.13\\lib\\site-packages (from llama-index) (0.4.1)\n",
      "Requirement already satisfied: llama-index-readers-llama-parse>=0.4.0 in c:\\users\\peter\\appdata\\local\\pypoetry\\cache\\virtualenvs\\llama-index-cmem-ugamzsbq-py3.13\\lib\\site-packages (from llama-index) (0.4.0)\n",
      "Requirement already satisfied: nltk>3.8.1 in c:\\users\\peter\\appdata\\local\\pypoetry\\cache\\virtualenvs\\llama-index-cmem-ugamzsbq-py3.13\\lib\\site-packages (from llama-index) (3.9.1)\n",
      "Requirement already satisfied: openai>=1.14.0 in c:\\users\\peter\\appdata\\local\\pypoetry\\cache\\virtualenvs\\llama-index-cmem-ugamzsbq-py3.13\\lib\\site-packages (from llama-index-agent-openai<0.5.0,>=0.4.0->llama-index) (1.57.4)\n",
      "Requirement already satisfied: PyYAML>=6.0.1 in c:\\users\\peter\\appdata\\local\\pypoetry\\cache\\virtualenvs\\llama-index-cmem-ugamzsbq-py3.13\\lib\\site-packages (from llama-index-core<0.13.0,>=0.12.5->llama-index) (6.0.2)\n",
      "Requirement already satisfied: SQLAlchemy>=1.4.49 in c:\\users\\peter\\appdata\\local\\pypoetry\\cache\\virtualenvs\\llama-index-cmem-ugamzsbq-py3.13\\lib\\site-packages (from SQLAlchemy[asyncio]>=1.4.49->llama-index-core<0.13.0,>=0.12.5->llama-index) (2.0.36)\n",
      "Requirement already satisfied: aiohttp<4.0.0,>=3.8.6 in c:\\users\\peter\\appdata\\local\\pypoetry\\cache\\virtualenvs\\llama-index-cmem-ugamzsbq-py3.13\\lib\\site-packages (from llama-index-core<0.13.0,>=0.12.5->llama-index) (3.11.10)\n",
      "Requirement already satisfied: dataclasses-json in c:\\users\\peter\\appdata\\local\\pypoetry\\cache\\virtualenvs\\llama-index-cmem-ugamzsbq-py3.13\\lib\\site-packages (from llama-index-core<0.13.0,>=0.12.5->llama-index) (0.6.7)\n",
      "Requirement already satisfied: deprecated>=1.2.9.3 in c:\\users\\peter\\appdata\\local\\pypoetry\\cache\\virtualenvs\\llama-index-cmem-ugamzsbq-py3.13\\lib\\site-packages (from llama-index-core<0.13.0,>=0.12.5->llama-index) (1.2.15)\n",
      "Requirement already satisfied: dirtyjson<2.0.0,>=1.0.8 in c:\\users\\peter\\appdata\\local\\pypoetry\\cache\\virtualenvs\\llama-index-cmem-ugamzsbq-py3.13\\lib\\site-packages (from llama-index-core<0.13.0,>=0.12.5->llama-index) (1.0.8)\n",
      "Requirement already satisfied: filetype<2.0.0,>=1.2.0 in c:\\users\\peter\\appdata\\local\\pypoetry\\cache\\virtualenvs\\llama-index-cmem-ugamzsbq-py3.13\\lib\\site-packages (from llama-index-core<0.13.0,>=0.12.5->llama-index) (1.2.0)\n",
      "Requirement already satisfied: fsspec>=2023.5.0 in c:\\users\\peter\\appdata\\local\\pypoetry\\cache\\virtualenvs\\llama-index-cmem-ugamzsbq-py3.13\\lib\\site-packages (from llama-index-core<0.13.0,>=0.12.5->llama-index) (2024.10.0)\n",
      "Requirement already satisfied: httpx in c:\\users\\peter\\appdata\\local\\pypoetry\\cache\\virtualenvs\\llama-index-cmem-ugamzsbq-py3.13\\lib\\site-packages (from llama-index-core<0.13.0,>=0.12.5->llama-index) (0.28.1)\n",
      "Requirement already satisfied: nest-asyncio<2.0.0,>=1.5.8 in c:\\users\\peter\\appdata\\local\\pypoetry\\cache\\virtualenvs\\llama-index-cmem-ugamzsbq-py3.13\\lib\\site-packages (from llama-index-core<0.13.0,>=0.12.5->llama-index) (1.6.0)\n",
      "Requirement already satisfied: networkx>=3.0 in c:\\users\\peter\\appdata\\local\\pypoetry\\cache\\virtualenvs\\llama-index-cmem-ugamzsbq-py3.13\\lib\\site-packages (from llama-index-core<0.13.0,>=0.12.5->llama-index) (3.4.2)\n",
      "Requirement already satisfied: numpy in c:\\users\\peter\\appdata\\local\\pypoetry\\cache\\virtualenvs\\llama-index-cmem-ugamzsbq-py3.13\\lib\\site-packages (from llama-index-core<0.13.0,>=0.12.5->llama-index) (2.2.0)\n",
      "Requirement already satisfied: pillow>=9.0.0 in c:\\users\\peter\\appdata\\local\\pypoetry\\cache\\virtualenvs\\llama-index-cmem-ugamzsbq-py3.13\\lib\\site-packages (from llama-index-core<0.13.0,>=0.12.5->llama-index) (11.0.0)\n",
      "Requirement already satisfied: pydantic>=2.8.0 in c:\\users\\peter\\appdata\\local\\pypoetry\\cache\\virtualenvs\\llama-index-cmem-ugamzsbq-py3.13\\lib\\site-packages (from llama-index-core<0.13.0,>=0.12.5->llama-index) (2.10.3)\n",
      "Requirement already satisfied: tenacity!=8.4.0,<10.0.0,>=8.2.0 in c:\\users\\peter\\appdata\\local\\pypoetry\\cache\\virtualenvs\\llama-index-cmem-ugamzsbq-py3.13\\lib\\site-packages (from llama-index-core<0.13.0,>=0.12.5->llama-index) (8.5.0)\n",
      "Requirement already satisfied: tiktoken>=0.3.3 in c:\\users\\peter\\appdata\\local\\pypoetry\\cache\\virtualenvs\\llama-index-cmem-ugamzsbq-py3.13\\lib\\site-packages (from llama-index-core<0.13.0,>=0.12.5->llama-index) (0.8.0)\n",
      "Requirement already satisfied: tqdm<5.0.0,>=4.66.1 in c:\\users\\peter\\appdata\\local\\pypoetry\\cache\\virtualenvs\\llama-index-cmem-ugamzsbq-py3.13\\lib\\site-packages (from llama-index-core<0.13.0,>=0.12.5->llama-index) (4.67.1)\n",
      "Requirement already satisfied: typing-extensions>=4.5.0 in c:\\users\\peter\\appdata\\local\\pypoetry\\cache\\virtualenvs\\llama-index-cmem-ugamzsbq-py3.13\\lib\\site-packages (from llama-index-core<0.13.0,>=0.12.5->llama-index) (4.12.2)\n",
      "Requirement already satisfied: typing-inspect>=0.8.0 in c:\\users\\peter\\appdata\\local\\pypoetry\\cache\\virtualenvs\\llama-index-cmem-ugamzsbq-py3.13\\lib\\site-packages (from llama-index-core<0.13.0,>=0.12.5->llama-index) (0.9.0)\n",
      "Requirement already satisfied: wrapt in c:\\users\\peter\\appdata\\local\\pypoetry\\cache\\virtualenvs\\llama-index-cmem-ugamzsbq-py3.13\\lib\\site-packages (from llama-index-core<0.13.0,>=0.12.5->llama-index) (1.17.0)\n",
      "Requirement already satisfied: llama-cloud>=0.1.5 in c:\\users\\peter\\appdata\\local\\pypoetry\\cache\\virtualenvs\\llama-index-cmem-ugamzsbq-py3.13\\lib\\site-packages (from llama-index-indices-managed-llama-cloud>=0.4.0->llama-index) (0.1.6)\n",
      "Requirement already satisfied: pandas in c:\\users\\peter\\appdata\\local\\pypoetry\\cache\\virtualenvs\\llama-index-cmem-ugamzsbq-py3.13\\lib\\site-packages (from llama-index-legacy<0.10.0,>=0.9.48->llama-index) (2.2.3)\n",
      "Requirement already satisfied: beautifulsoup4<5.0.0,>=4.12.3 in c:\\users\\peter\\appdata\\local\\pypoetry\\cache\\virtualenvs\\llama-index-cmem-ugamzsbq-py3.13\\lib\\site-packages (from llama-index-readers-file<0.5.0,>=0.4.0->llama-index) (4.12.3)\n",
      "Requirement already satisfied: pypdf<6.0.0,>=5.1.0 in c:\\users\\peter\\appdata\\local\\pypoetry\\cache\\virtualenvs\\llama-index-cmem-ugamzsbq-py3.13\\lib\\site-packages (from llama-index-readers-file<0.5.0,>=0.4.0->llama-index) (5.1.0)\n",
      "Requirement already satisfied: striprtf<0.0.27,>=0.0.26 in c:\\users\\peter\\appdata\\local\\pypoetry\\cache\\virtualenvs\\llama-index-cmem-ugamzsbq-py3.13\\lib\\site-packages (from llama-index-readers-file<0.5.0,>=0.4.0->llama-index) (0.0.26)\n",
      "Requirement already satisfied: llama-parse>=0.5.0 in c:\\users\\peter\\appdata\\local\\pypoetry\\cache\\virtualenvs\\llama-index-cmem-ugamzsbq-py3.13\\lib\\site-packages (from llama-index-readers-llama-parse>=0.4.0->llama-index) (0.5.17)\n",
      "Requirement already satisfied: click in c:\\users\\peter\\appdata\\local\\pypoetry\\cache\\virtualenvs\\llama-index-cmem-ugamzsbq-py3.13\\lib\\site-packages (from nltk>3.8.1->llama-index) (8.1.7)\n",
      "Requirement already satisfied: joblib in c:\\users\\peter\\appdata\\local\\pypoetry\\cache\\virtualenvs\\llama-index-cmem-ugamzsbq-py3.13\\lib\\site-packages (from nltk>3.8.1->llama-index) (1.4.2)\n",
      "Requirement already satisfied: regex>=2021.8.3 in c:\\users\\peter\\appdata\\local\\pypoetry\\cache\\virtualenvs\\llama-index-cmem-ugamzsbq-py3.13\\lib\\site-packages (from nltk>3.8.1->llama-index) (2024.11.6)\n",
      "Requirement already satisfied: isodate<0.7.0,>=0.6.0 in c:\\users\\peter\\appdata\\local\\pypoetry\\cache\\virtualenvs\\llama-index-cmem-ugamzsbq-py3.13\\lib\\site-packages (from rdflib<7.0.0,>=6.3.2->cmem-cmempy) (0.6.1)\n",
      "Requirement already satisfied: charset-normalizer<4,>=2 in c:\\users\\peter\\appdata\\local\\pypoetry\\cache\\virtualenvs\\llama-index-cmem-ugamzsbq-py3.13\\lib\\site-packages (from requests<3.0.0,>=2.31.0->cmem-cmempy) (3.4.0)\n",
      "Requirement already satisfied: idna<4,>=2.5 in c:\\users\\peter\\appdata\\local\\pypoetry\\cache\\virtualenvs\\llama-index-cmem-ugamzsbq-py3.13\\lib\\site-packages (from requests<3.0.0,>=2.31.0->cmem-cmempy) (3.10)\n",
      "Requirement already satisfied: urllib3<3,>=1.21.1 in c:\\users\\peter\\appdata\\local\\pypoetry\\cache\\virtualenvs\\llama-index-cmem-ugamzsbq-py3.13\\lib\\site-packages (from requests<3.0.0,>=2.31.0->cmem-cmempy) (2.2.3)\n",
      "Requirement already satisfied: aiohappyeyeballs>=2.3.0 in c:\\users\\peter\\appdata\\local\\pypoetry\\cache\\virtualenvs\\llama-index-cmem-ugamzsbq-py3.13\\lib\\site-packages (from aiohttp<4.0.0,>=3.8.6->llama-index-core<0.13.0,>=0.12.5->llama-index) (2.4.4)\n",
      "Requirement already satisfied: aiosignal>=1.1.2 in c:\\users\\peter\\appdata\\local\\pypoetry\\cache\\virtualenvs\\llama-index-cmem-ugamzsbq-py3.13\\lib\\site-packages (from aiohttp<4.0.0,>=3.8.6->llama-index-core<0.13.0,>=0.12.5->llama-index) (1.3.2)\n",
      "Requirement already satisfied: attrs>=17.3.0 in c:\\users\\peter\\appdata\\local\\pypoetry\\cache\\virtualenvs\\llama-index-cmem-ugamzsbq-py3.13\\lib\\site-packages (from aiohttp<4.0.0,>=3.8.6->llama-index-core<0.13.0,>=0.12.5->llama-index) (24.3.0)\n",
      "Requirement already satisfied: frozenlist>=1.1.1 in c:\\users\\peter\\appdata\\local\\pypoetry\\cache\\virtualenvs\\llama-index-cmem-ugamzsbq-py3.13\\lib\\site-packages (from aiohttp<4.0.0,>=3.8.6->llama-index-core<0.13.0,>=0.12.5->llama-index) (1.5.0)\n",
      "Requirement already satisfied: multidict<7.0,>=4.5 in c:\\users\\peter\\appdata\\local\\pypoetry\\cache\\virtualenvs\\llama-index-cmem-ugamzsbq-py3.13\\lib\\site-packages (from aiohttp<4.0.0,>=3.8.6->llama-index-core<0.13.0,>=0.12.5->llama-index) (6.1.0)\n",
      "Requirement already satisfied: propcache>=0.2.0 in c:\\users\\peter\\appdata\\local\\pypoetry\\cache\\virtualenvs\\llama-index-cmem-ugamzsbq-py3.13\\lib\\site-packages (from aiohttp<4.0.0,>=3.8.6->llama-index-core<0.13.0,>=0.12.5->llama-index) (0.2.1)\n",
      "Requirement already satisfied: yarl<2.0,>=1.17.0 in c:\\users\\peter\\appdata\\local\\pypoetry\\cache\\virtualenvs\\llama-index-cmem-ugamzsbq-py3.13\\lib\\site-packages (from aiohttp<4.0.0,>=3.8.6->llama-index-core<0.13.0,>=0.12.5->llama-index) (1.18.3)\n",
      "Requirement already satisfied: soupsieve>1.2 in c:\\users\\peter\\appdata\\local\\pypoetry\\cache\\virtualenvs\\llama-index-cmem-ugamzsbq-py3.13\\lib\\site-packages (from beautifulsoup4<5.0.0,>=4.12.3->llama-index-readers-file<0.5.0,>=0.4.0->llama-index) (2.6)\n",
      "Requirement already satisfied: six in c:\\users\\peter\\appdata\\local\\pypoetry\\cache\\virtualenvs\\llama-index-cmem-ugamzsbq-py3.13\\lib\\site-packages (from isodate<0.7.0,>=0.6.0->rdflib<7.0.0,>=6.3.2->cmem-cmempy) (1.17.0)\n",
      "Requirement already satisfied: anyio in c:\\users\\peter\\appdata\\local\\pypoetry\\cache\\virtualenvs\\llama-index-cmem-ugamzsbq-py3.13\\lib\\site-packages (from httpx->llama-index-core<0.13.0,>=0.12.5->llama-index) (4.7.0)\n",
      "Requirement already satisfied: httpcore==1.* in c:\\users\\peter\\appdata\\local\\pypoetry\\cache\\virtualenvs\\llama-index-cmem-ugamzsbq-py3.13\\lib\\site-packages (from httpx->llama-index-core<0.13.0,>=0.12.5->llama-index) (1.0.7)\n",
      "Requirement already satisfied: h11<0.15,>=0.13 in c:\\users\\peter\\appdata\\local\\pypoetry\\cache\\virtualenvs\\llama-index-cmem-ugamzsbq-py3.13\\lib\\site-packages (from httpcore==1.*->httpx->llama-index-core<0.13.0,>=0.12.5->llama-index) (0.14.0)\n",
      "Requirement already satisfied: colorama in c:\\users\\peter\\appdata\\local\\pypoetry\\cache\\virtualenvs\\llama-index-cmem-ugamzsbq-py3.13\\lib\\site-packages (from click->nltk>3.8.1->llama-index) (0.4.6)\n",
      "Requirement already satisfied: distro<2,>=1.7.0 in c:\\users\\peter\\appdata\\local\\pypoetry\\cache\\virtualenvs\\llama-index-cmem-ugamzsbq-py3.13\\lib\\site-packages (from openai>=1.14.0->llama-index-agent-openai<0.5.0,>=0.4.0->llama-index) (1.9.0)\n",
      "Requirement already satisfied: jiter<1,>=0.4.0 in c:\\users\\peter\\appdata\\local\\pypoetry\\cache\\virtualenvs\\llama-index-cmem-ugamzsbq-py3.13\\lib\\site-packages (from openai>=1.14.0->llama-index-agent-openai<0.5.0,>=0.4.0->llama-index) (0.8.2)\n",
      "Requirement already satisfied: sniffio in c:\\users\\peter\\appdata\\local\\pypoetry\\cache\\virtualenvs\\llama-index-cmem-ugamzsbq-py3.13\\lib\\site-packages (from openai>=1.14.0->llama-index-agent-openai<0.5.0,>=0.4.0->llama-index) (1.3.1)\n",
      "Requirement already satisfied: annotated-types>=0.6.0 in c:\\users\\peter\\appdata\\local\\pypoetry\\cache\\virtualenvs\\llama-index-cmem-ugamzsbq-py3.13\\lib\\site-packages (from pydantic>=2.8.0->llama-index-core<0.13.0,>=0.12.5->llama-index) (0.7.0)\n",
      "Requirement already satisfied: pydantic-core==2.27.1 in c:\\users\\peter\\appdata\\local\\pypoetry\\cache\\virtualenvs\\llama-index-cmem-ugamzsbq-py3.13\\lib\\site-packages (from pydantic>=2.8.0->llama-index-core<0.13.0,>=0.12.5->llama-index) (2.27.1)\n",
      "Requirement already satisfied: greenlet!=0.4.17 in c:\\users\\peter\\appdata\\local\\pypoetry\\cache\\virtualenvs\\llama-index-cmem-ugamzsbq-py3.13\\lib\\site-packages (from SQLAlchemy[asyncio]>=1.4.49->llama-index-core<0.13.0,>=0.12.5->llama-index) (3.1.1)\n",
      "Requirement already satisfied: mypy-extensions>=0.3.0 in c:\\users\\peter\\appdata\\local\\pypoetry\\cache\\virtualenvs\\llama-index-cmem-ugamzsbq-py3.13\\lib\\site-packages (from typing-inspect>=0.8.0->llama-index-core<0.13.0,>=0.12.5->llama-index) (1.0.0)\n",
      "Requirement already satisfied: marshmallow<4.0.0,>=3.18.0 in c:\\users\\peter\\appdata\\local\\pypoetry\\cache\\virtualenvs\\llama-index-cmem-ugamzsbq-py3.13\\lib\\site-packages (from dataclasses-json->llama-index-core<0.13.0,>=0.12.5->llama-index) (3.23.1)\n",
      "Requirement already satisfied: python-dateutil>=2.8.2 in c:\\users\\peter\\appdata\\local\\pypoetry\\cache\\virtualenvs\\llama-index-cmem-ugamzsbq-py3.13\\lib\\site-packages (from pandas->llama-index-legacy<0.10.0,>=0.9.48->llama-index) (2.9.0.post0)\n",
      "Requirement already satisfied: pytz>=2020.1 in c:\\users\\peter\\appdata\\local\\pypoetry\\cache\\virtualenvs\\llama-index-cmem-ugamzsbq-py3.13\\lib\\site-packages (from pandas->llama-index-legacy<0.10.0,>=0.9.48->llama-index) (2024.2)\n",
      "Requirement already satisfied: tzdata>=2022.7 in c:\\users\\peter\\appdata\\local\\pypoetry\\cache\\virtualenvs\\llama-index-cmem-ugamzsbq-py3.13\\lib\\site-packages (from pandas->llama-index-legacy<0.10.0,>=0.9.48->llama-index) (2024.2)\n",
      "Requirement already satisfied: packaging>=17.0 in c:\\users\\peter\\appdata\\local\\pypoetry\\cache\\virtualenvs\\llama-index-cmem-ugamzsbq-py3.13\\lib\\site-packages (from marshmallow<4.0.0,>=3.18.0->dataclasses-json->llama-index-core<0.13.0,>=0.12.5->llama-index) (24.2)\n",
      "Note: you may need to restart the kernel to use updated packages.\n"
     ]
    }
   ],
   "source": [
    "%pip install cmem-cmempy llama-index python-dotenv"
   ]
  },
  {
   "cell_type": "markdown",
   "metadata": {},
   "source": [
    "Load environment from `.env` file. \n",
    "Start by `cp .env-template .env` and edit the content of `.env` accordingly."
   ]
  },
  {
   "cell_type": "code",
   "execution_count": 1,
   "metadata": {},
   "outputs": [],
   "source": [
    "%load_ext dotenv\n",
    "%dotenv\n",
    "%reload_ext dotenv"
   ]
  },
  {
   "cell_type": "markdown",
   "metadata": {},
   "source": [
    "Set up the LLM"
   ]
  },
  {
   "cell_type": "code",
   "execution_count": 2,
   "metadata": {},
   "outputs": [],
   "source": [
    "from llama_index.core import Settings\n",
    "from llama_index.llms.openai import OpenAI\n",
    "\n",
    "model=\"gpt-4o-mini\"\n",
    "llm = OpenAI(model=model)\n",
    "Settings.llm = llm"
   ]
  },
  {
   "cell_type": "markdown",
   "metadata": {},
   "source": [
    "Initialize the query builder with an ontology graph and a context (integration) graph."
   ]
  },
  {
   "cell_type": "code",
   "execution_count": 3,
   "metadata": {},
   "outputs": [],
   "source": [
    "from llama_index_cmem.utils.cmem_query_builder import CMEMQueryBuilder\n",
    "\n",
    "ontology_graph = \"http://ld.company.org/prod-vocab/\"\n",
    "context_graph = \"http://ld.company.org/prod-inst/\"\n",
    "\n",
    "cmem_query_builder = CMEMQueryBuilder(ontology_graph=ontology_graph, context_graph=context_graph, llm=llm)"
   ]
  },
  {
   "cell_type": "markdown",
   "metadata": {},
   "source": [
    "## CMEMQuery\n",
    "\n",
    "Now define your natural language question and let the query builder generate a SPARQL query.\n",
    "The query builder return a CMEMQuery object which holds llm predictions and sparql extracts. This allows to refine the SPARQL query as often as you need."
   ]
  },
  {
   "cell_type": "code",
   "execution_count": 4,
   "metadata": {},
   "outputs": [
    {
     "data": {
      "text/markdown": [
       "## Prompt: _List all services. Limit the results to 20 items._"
      ],
      "text/plain": [
       "<IPython.core.display.Markdown object>"
      ]
     },
     "metadata": {},
     "output_type": "display_data"
    },
    {
     "data": {
      "text/markdown": [
       "### Prediction\n",
       "\n",
       "To answer the user question \"List all services. Limit the results to 20 items,\" we can construct a SPARQL query that retrieves instances of the `pv:Service` class from the RDF graph defined by the provided ontology. \n",
       "\n",
       "Here’s the SPARQL query:\n",
       "\n",
       "```sparql\n",
       "PREFIX pv: <http://ld.company.org/prod-vocab/>\n",
       "\n",
       "SELECT ?service ?name\n",
       "WHERE {\n",
       "  ?service a pv:Service .\n",
       "  ?service pv:name ?name .\n",
       "}\n",
       "LIMIT 20\n",
       "```\n",
       "\n",
       "### Explanation of the Query:\n",
       "\n",
       "1. **PREFIX Declaration**: \n",
       "   - We declare the prefix `pv:` to refer to the vocabulary defined in the ontology (`http://ld.company.org/prod-vocab/`). This allows us to use shorter URIs in our query.\n",
       "\n",
       "2. **SELECT Clause**: \n",
       "   - We specify that we want to select two variables: `?service` (the service instance) and `?name` (the name of the service).\n",
       "\n",
       "3. **WHERE Clause**: \n",
       "   - We define the conditions for our query:\n",
       "     - `?service a pv:Service .`: This line filters the results to include only those resources that are of type `pv:Service`.\n",
       "     - `?service pv:name ?name .`: This line retrieves the name of each service, linking the service instance to its name property.\n",
       "\n",
       "4. **LIMIT Clause**: \n",
       "   - We limit the results to 20 items to comply with the user's request for a manageable number of results.\n",
       "\n",
       "This query will return a list of up to 20 services along with their names from the specified RDF graph.\n",
       "\n"
      ],
      "text/plain": [
       "<IPython.core.display.Markdown object>"
      ]
     },
     "metadata": {},
     "output_type": "display_data"
    },
    {
     "data": {
      "text/markdown": [
       "### SPARQL\n",
       "\n",
       "```sparqlPREFIX pv: <http://ld.company.org/prod-vocab/>\n",
       "\n",
       "SELECT ?service ?name\n",
       "WHERE {\n",
       "  ?service a pv:Service .\n",
       "  ?service pv:name ?name .\n",
       "}\n",
       "LIMIT 20```\n",
       "\n"
      ],
      "text/plain": [
       "<IPython.core.display.Markdown object>"
      ]
     },
     "metadata": {},
     "output_type": "display_data"
    }
   ],
   "source": [
    "from IPython.display import display, Markdown\n",
    "\n",
    "def generate(prompt):\n",
    "    display(Markdown(f\"## Prompt: _{prompt}_\"))\n",
    "    cmem_query = cmem_query_builder.generate_sparql(question=prompt)\n",
    "    display(Markdown(f\"### Prediction\\n\\n{str(cmem_query.get_last_prediction())}\\n\\n\"))\n",
    "    display(Markdown(f\"### SPARQL\\n\\n```sparql{str(cmem_query.get_last_sparql())}```\\n\\n\"))\n",
    "\n",
    "question = \"List all services. Limit the results to 20 items.\"\n",
    "generate(question)"
   ]
  }
 ],
 "metadata": {
  "kernelspec": {
   "display_name": ".venv",
   "language": "python",
   "name": "python3"
  },
  "language_info": {
   "codemirror_mode": {
    "name": "ipython",
    "version": 3
   },
   "file_extension": ".py",
   "mimetype": "text/x-python",
   "name": "python",
   "nbconvert_exporter": "python",
   "pygments_lexer": "ipython3",
   "version": "3.13.0"
  }
 },
 "nbformat": 4,
 "nbformat_minor": 2
}
