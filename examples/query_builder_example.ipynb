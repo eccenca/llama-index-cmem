{
 "cells": [
  {
   "cell_type": "markdown",
   "metadata": {},
   "source": [
    "# CMEMQueryBuilder\n",
    "\n",
    "The CMEM query builder generates a SPARQL query based on a given ontology and a natural language question."
   ]
  },
  {
   "cell_type": "code",
   "execution_count": null,
   "metadata": {},
   "outputs": [],
   "source": [
    "%pip install cmem-cmempy llama-index python-dotenv"
   ]
  },
  {
   "cell_type": "markdown",
   "metadata": {},
   "source": [
    "Load environment from `.env` file. \n",
    "Start by `cp .env-template .env` and edit the content of `.env` accordingly."
   ]
  },
  {
   "cell_type": "code",
   "execution_count": 1,
   "metadata": {},
   "outputs": [],
   "source": [
    "%load_ext dotenv\n",
    "%dotenv"
   ]
  },
  {
   "cell_type": "markdown",
   "metadata": {},
   "source": [
    "Set up the LLM"
   ]
  },
  {
   "cell_type": "code",
   "execution_count": 2,
   "metadata": {},
   "outputs": [],
   "source": [
    "from llama_index.core import Settings\n",
    "from llama_index.llms.openai import OpenAI\n",
    "\n",
    "model=\"gpt-4o-mini\"\n",
    "llm = OpenAI(model=model)\n",
    "Settings.llm = llm"
   ]
  },
  {
   "cell_type": "markdown",
   "metadata": {},
   "source": [
    "Initialize the query builder with an ontology graph and a context (integration) graph."
   ]
  },
  {
   "cell_type": "code",
   "execution_count": 3,
   "metadata": {},
   "outputs": [],
   "source": [
    "from llama_index_cmem.utils.cmem_query_builder import CMEMQueryBuilder\n",
    "\n",
    "ontology_graph = \"http://ld.company.org/prod-vocab/\"\n",
    "context_graph = \"http://ld.company.org/prod-inst/\"\n",
    "\n",
    "cmem_query_builder = CMEMQueryBuilder(ontology_graph=ontology_graph, context_graph=context_graph, llm=llm)"
   ]
  },
  {
   "cell_type": "markdown",
   "metadata": {},
   "source": [
    "Now define your natural language question and let the query builder generate a SPARQL query."
   ]
  },
  {
   "cell_type": "code",
   "execution_count": 4,
   "metadata": {},
   "outputs": [],
   "source": [
    "question = \"List all services. Limit the results to 20 items.\"\n",
    "\n",
    "cmem_query = cmem_query_builder.generate_sparql(question=question)"
   ]
  },
  {
   "cell_type": "markdown",
   "metadata": {},
   "source": [
    "## CMEMQuery\n",
    "\n",
    "The query builder return a CMEMQuery object which holds llm predictions and sparql extracts. This allows to refine the SPARQL query as often as you need."
   ]
  },
  {
   "cell_type": "code",
   "execution_count": 5,
   "metadata": {},
   "outputs": [
    {
     "name": "stdout",
     "output_type": "stream",
     "text": [
      "Question:\n",
      "\n",
      "List all services. Limit the results to 20 items.\n",
      "\n",
      "\n",
      "Prediction:\n",
      "\n",
      "To answer the user question \"List all services. Limit the results to 20 items,\" we can construct a SPARQL query that retrieves instances of the `Service` class from the provided RDF ontology. The query will also limit the results to 20 items.\n",
      "\n",
      "### SPARQL Query\n",
      "\n",
      "```sparql\n",
      "PREFIX pv: <http://ld.company.org/prod-vocab/>\n",
      "\n",
      "SELECT ?service ?name\n",
      "WHERE {\n",
      "    ?service a pv:Service .\n",
      "    ?service pv:name ?name .\n",
      "}\n",
      "LIMIT 20\n",
      "```\n",
      "\n",
      "### Explanation of the Query\n",
      "\n",
      "1. **PREFIX Declaration**: \n",
      "   - We declare the prefix `pv` to refer to the vocabulary defined at `http://ld.company.org/prod-vocab/`. This allows us to use shorter terms in our query.\n",
      "\n",
      "2. **SELECT Clause**: \n",
      "   - We specify that we want to retrieve two variables: `?service` (the service instance) and `?name` (the name of the service).\n",
      "\n",
      "3. **WHERE Clause**: \n",
      "   - We define the conditions for our query:\n",
      "     - `?service a pv:Service`: This line filters the results to only include resources that are of type `Service`.\n",
      "     - `?service pv:name ?name`: This line retrieves the name of each service.\n",
      "\n",
      "4. **LIMIT Clause**: \n",
      "   - We limit the number of results returned to 20 to comply with the user's request.\n",
      "\n",
      "### Result\n",
      "When executed against the specified graph `http://ld.company.org/prod-inst/`, this query will return a list of up to 20 services along with their names, effectively answering the user's question.\n",
      "\n",
      "\n",
      "SPARQL:\n",
      "\n",
      "PREFIX pv: <http://ld.company.org/prod-vocab/>\n",
      "\n",
      "SELECT ?service ?name\n",
      "WHERE {\n",
      "    ?service a pv:Service .\n",
      "    ?service pv:name ?name .\n",
      "}\n",
      "LIMIT 20\n",
      "\n",
      "\n"
     ]
    }
   ],
   "source": [
    "print(\"Question:\\n\")\n",
    "print(question)\n",
    "print(\"\\n\")\n",
    "\n",
    "print(\"Prediction:\\n\")\n",
    "print(cmem_query.get_last_prediction())\n",
    "print(\"\\n\")\n",
    "\n",
    "print(\"SPARQL:\\n\")\n",
    "print(cmem_query.get_last_sparql())\n",
    "print(\"\\n\")"
   ]
  }
 ],
 "metadata": {
  "kernelspec": {
   "display_name": ".venv",
   "language": "python",
   "name": "python3"
  },
  "language_info": {
   "codemirror_mode": {
    "name": "ipython",
    "version": 3
   },
   "file_extension": ".py",
   "mimetype": "text/x-python",
   "name": "python",
   "nbconvert_exporter": "python",
   "pygments_lexer": "ipython3",
   "version": "3.13.1"
  }
 },
 "nbformat": 4,
 "nbformat_minor": 2
}
