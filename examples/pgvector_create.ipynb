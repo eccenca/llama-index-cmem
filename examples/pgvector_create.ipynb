{
 "cells": [
  {
   "cell_type": "code",
   "id": "initial_id",
   "metadata": {
    "collapsed": true,
    "ExecuteTime": {
     "end_time": "2025-04-01T05:01:04.220173Z",
     "start_time": "2025-04-01T05:01:03.352721Z"
    }
   },
   "source": [
    "%pip install cmem-cmempy llama-index python-dotenv llama-index-vector-stores-postgres"
   ],
   "outputs": [
    {
     "name": "stdout",
     "output_type": "stream",
     "text": [
      "Requirement already satisfied: cmem-cmempy in /home/pfreytag/github.com/eccenca/llama-index-cmem/.venv/lib/python3.12/site-packages (24.3.0)\r\n",
      "Requirement already satisfied: llama-index in /home/pfreytag/github.com/eccenca/llama-index-cmem/.venv/lib/python3.12/site-packages (0.12.18)\r\n",
      "Requirement already satisfied: python-dotenv in /home/pfreytag/github.com/eccenca/llama-index-cmem/.venv/lib/python3.12/site-packages (1.0.1)\r\n",
      "Requirement already satisfied: llama-index-vector-stores-postgres in /home/pfreytag/github.com/eccenca/llama-index-cmem/.venv/lib/python3.12/site-packages (0.4.1)\r\n",
      "Requirement already satisfied: certifi>=2023.7.22 in /home/pfreytag/github.com/eccenca/llama-index-cmem/.venv/lib/python3.12/site-packages (from cmem-cmempy) (2025.1.31)\r\n",
      "Requirement already satisfied: pyparsing<4.0.0,>=3.1.1 in /home/pfreytag/github.com/eccenca/llama-index-cmem/.venv/lib/python3.12/site-packages (from cmem-cmempy) (3.2.1)\r\n",
      "Requirement already satisfied: rdflib<7.0.0,>=6.3.2 in /home/pfreytag/github.com/eccenca/llama-index-cmem/.venv/lib/python3.12/site-packages (from cmem-cmempy) (6.3.2)\r\n",
      "Requirement already satisfied: requests<3.0.0,>=2.31.0 in /home/pfreytag/github.com/eccenca/llama-index-cmem/.venv/lib/python3.12/site-packages (from cmem-cmempy) (2.32.3)\r\n",
      "Requirement already satisfied: requests-toolbelt<2.0.0,>=1.0.0 in /home/pfreytag/github.com/eccenca/llama-index-cmem/.venv/lib/python3.12/site-packages (from cmem-cmempy) (1.0.0)\r\n",
      "Requirement already satisfied: llama-index-agent-openai<0.5.0,>=0.4.0 in /home/pfreytag/github.com/eccenca/llama-index-cmem/.venv/lib/python3.12/site-packages (from llama-index) (0.4.6)\r\n",
      "Requirement already satisfied: llama-index-cli<0.5.0,>=0.4.0 in /home/pfreytag/github.com/eccenca/llama-index-cmem/.venv/lib/python3.12/site-packages (from llama-index) (0.4.0)\r\n",
      "Requirement already satisfied: llama-index-core<0.13.0,>=0.12.18 in /home/pfreytag/github.com/eccenca/llama-index-cmem/.venv/lib/python3.12/site-packages (from llama-index) (0.12.18)\r\n",
      "Requirement already satisfied: llama-index-embeddings-openai<0.4.0,>=0.3.0 in /home/pfreytag/github.com/eccenca/llama-index-cmem/.venv/lib/python3.12/site-packages (from llama-index) (0.3.1)\r\n",
      "Requirement already satisfied: llama-index-indices-managed-llama-cloud>=0.4.0 in /home/pfreytag/github.com/eccenca/llama-index-cmem/.venv/lib/python3.12/site-packages (from llama-index) (0.6.7)\r\n",
      "Requirement already satisfied: llama-index-llms-openai<0.4.0,>=0.3.0 in /home/pfreytag/github.com/eccenca/llama-index-cmem/.venv/lib/python3.12/site-packages (from llama-index) (0.3.20)\r\n",
      "Requirement already satisfied: llama-index-multi-modal-llms-openai<0.5.0,>=0.4.0 in /home/pfreytag/github.com/eccenca/llama-index-cmem/.venv/lib/python3.12/site-packages (from llama-index) (0.4.3)\r\n",
      "Requirement already satisfied: llama-index-program-openai<0.4.0,>=0.3.0 in /home/pfreytag/github.com/eccenca/llama-index-cmem/.venv/lib/python3.12/site-packages (from llama-index) (0.3.1)\r\n",
      "Requirement already satisfied: llama-index-question-gen-openai<0.4.0,>=0.3.0 in /home/pfreytag/github.com/eccenca/llama-index-cmem/.venv/lib/python3.12/site-packages (from llama-index) (0.3.0)\r\n",
      "Requirement already satisfied: llama-index-readers-file<0.5.0,>=0.4.0 in /home/pfreytag/github.com/eccenca/llama-index-cmem/.venv/lib/python3.12/site-packages (from llama-index) (0.4.5)\r\n",
      "Requirement already satisfied: llama-index-readers-llama-parse>=0.4.0 in /home/pfreytag/github.com/eccenca/llama-index-cmem/.venv/lib/python3.12/site-packages (from llama-index) (0.4.0)\r\n",
      "Requirement already satisfied: nltk>3.8.1 in /home/pfreytag/github.com/eccenca/llama-index-cmem/.venv/lib/python3.12/site-packages (from llama-index) (3.9.1)\r\n",
      "Requirement already satisfied: asyncpg<1.0.0,>=0.29.0 in /home/pfreytag/github.com/eccenca/llama-index-cmem/.venv/lib/python3.12/site-packages (from llama-index-vector-stores-postgres) (0.30.0)\r\n",
      "Requirement already satisfied: pgvector<1.0.0,>=0.3.6 in /home/pfreytag/github.com/eccenca/llama-index-cmem/.venv/lib/python3.12/site-packages (from llama-index-vector-stores-postgres) (0.3.6)\r\n",
      "Requirement already satisfied: psycopg2-binary<3.0.0,>=2.9.9 in /home/pfreytag/github.com/eccenca/llama-index-cmem/.venv/lib/python3.12/site-packages (from llama-index-vector-stores-postgres) (2.9.10)\r\n",
      "Requirement already satisfied: sqlalchemy<2.1,>=1.4.49 in /home/pfreytag/github.com/eccenca/llama-index-cmem/.venv/lib/python3.12/site-packages (from sqlalchemy[asyncio]<2.1,>=1.4.49->llama-index-vector-stores-postgres) (2.0.38)\r\n",
      "Requirement already satisfied: openai>=1.14.0 in /home/pfreytag/github.com/eccenca/llama-index-cmem/.venv/lib/python3.12/site-packages (from llama-index-agent-openai<0.5.0,>=0.4.0->llama-index) (1.63.2)\r\n",
      "Requirement already satisfied: PyYAML>=6.0.1 in /home/pfreytag/github.com/eccenca/llama-index-cmem/.venv/lib/python3.12/site-packages (from llama-index-core<0.13.0,>=0.12.18->llama-index) (6.0.2)\r\n",
      "Requirement already satisfied: aiohttp<4.0.0,>=3.8.6 in /home/pfreytag/github.com/eccenca/llama-index-cmem/.venv/lib/python3.12/site-packages (from llama-index-core<0.13.0,>=0.12.18->llama-index) (3.11.12)\r\n",
      "Requirement already satisfied: dataclasses-json in /home/pfreytag/github.com/eccenca/llama-index-cmem/.venv/lib/python3.12/site-packages (from llama-index-core<0.13.0,>=0.12.18->llama-index) (0.6.7)\r\n",
      "Requirement already satisfied: deprecated>=1.2.9.3 in /home/pfreytag/github.com/eccenca/llama-index-cmem/.venv/lib/python3.12/site-packages (from llama-index-core<0.13.0,>=0.12.18->llama-index) (1.2.18)\r\n",
      "Requirement already satisfied: dirtyjson<2.0.0,>=1.0.8 in /home/pfreytag/github.com/eccenca/llama-index-cmem/.venv/lib/python3.12/site-packages (from llama-index-core<0.13.0,>=0.12.18->llama-index) (1.0.8)\r\n",
      "Requirement already satisfied: filetype<2.0.0,>=1.2.0 in /home/pfreytag/github.com/eccenca/llama-index-cmem/.venv/lib/python3.12/site-packages (from llama-index-core<0.13.0,>=0.12.18->llama-index) (1.2.0)\r\n",
      "Requirement already satisfied: fsspec>=2023.5.0 in /home/pfreytag/github.com/eccenca/llama-index-cmem/.venv/lib/python3.12/site-packages (from llama-index-core<0.13.0,>=0.12.18->llama-index) (2025.2.0)\r\n",
      "Requirement already satisfied: httpx in /home/pfreytag/github.com/eccenca/llama-index-cmem/.venv/lib/python3.12/site-packages (from llama-index-core<0.13.0,>=0.12.18->llama-index) (0.28.1)\r\n",
      "Requirement already satisfied: nest-asyncio<2.0.0,>=1.5.8 in /home/pfreytag/github.com/eccenca/llama-index-cmem/.venv/lib/python3.12/site-packages (from llama-index-core<0.13.0,>=0.12.18->llama-index) (1.6.0)\r\n",
      "Requirement already satisfied: networkx>=3.0 in /home/pfreytag/github.com/eccenca/llama-index-cmem/.venv/lib/python3.12/site-packages (from llama-index-core<0.13.0,>=0.12.18->llama-index) (3.4.2)\r\n",
      "Requirement already satisfied: numpy in /home/pfreytag/github.com/eccenca/llama-index-cmem/.venv/lib/python3.12/site-packages (from llama-index-core<0.13.0,>=0.12.18->llama-index) (2.2.3)\r\n",
      "Requirement already satisfied: pillow>=9.0.0 in /home/pfreytag/github.com/eccenca/llama-index-cmem/.venv/lib/python3.12/site-packages (from llama-index-core<0.13.0,>=0.12.18->llama-index) (11.1.0)\r\n",
      "Requirement already satisfied: pydantic>=2.8.0 in /home/pfreytag/github.com/eccenca/llama-index-cmem/.venv/lib/python3.12/site-packages (from llama-index-core<0.13.0,>=0.12.18->llama-index) (2.10.6)\r\n",
      "Requirement already satisfied: tenacity!=8.4.0,<10.0.0,>=8.2.0 in /home/pfreytag/github.com/eccenca/llama-index-cmem/.venv/lib/python3.12/site-packages (from llama-index-core<0.13.0,>=0.12.18->llama-index) (9.0.0)\r\n",
      "Requirement already satisfied: tiktoken>=0.3.3 in /home/pfreytag/github.com/eccenca/llama-index-cmem/.venv/lib/python3.12/site-packages (from llama-index-core<0.13.0,>=0.12.18->llama-index) (0.9.0)\r\n",
      "Requirement already satisfied: tqdm<5.0.0,>=4.66.1 in /home/pfreytag/github.com/eccenca/llama-index-cmem/.venv/lib/python3.12/site-packages (from llama-index-core<0.13.0,>=0.12.18->llama-index) (4.67.1)\r\n",
      "Requirement already satisfied: typing-extensions>=4.5.0 in /home/pfreytag/github.com/eccenca/llama-index-cmem/.venv/lib/python3.12/site-packages (from llama-index-core<0.13.0,>=0.12.18->llama-index) (4.12.2)\r\n",
      "Requirement already satisfied: typing-inspect>=0.8.0 in /home/pfreytag/github.com/eccenca/llama-index-cmem/.venv/lib/python3.12/site-packages (from llama-index-core<0.13.0,>=0.12.18->llama-index) (0.9.0)\r\n",
      "Requirement already satisfied: wrapt in /home/pfreytag/github.com/eccenca/llama-index-cmem/.venv/lib/python3.12/site-packages (from llama-index-core<0.13.0,>=0.12.18->llama-index) (1.17.2)\r\n",
      "Requirement already satisfied: llama-cloud<0.2.0,>=0.1.8 in /home/pfreytag/github.com/eccenca/llama-index-cmem/.venv/lib/python3.12/site-packages (from llama-index-indices-managed-llama-cloud>=0.4.0->llama-index) (0.1.12)\r\n",
      "Requirement already satisfied: beautifulsoup4<5.0.0,>=4.12.3 in /home/pfreytag/github.com/eccenca/llama-index-cmem/.venv/lib/python3.12/site-packages (from llama-index-readers-file<0.5.0,>=0.4.0->llama-index) (4.13.3)\r\n",
      "Requirement already satisfied: pandas in /home/pfreytag/github.com/eccenca/llama-index-cmem/.venv/lib/python3.12/site-packages (from llama-index-readers-file<0.5.0,>=0.4.0->llama-index) (2.2.3)\r\n",
      "Requirement already satisfied: pypdf<6.0.0,>=5.1.0 in /home/pfreytag/github.com/eccenca/llama-index-cmem/.venv/lib/python3.12/site-packages (from llama-index-readers-file<0.5.0,>=0.4.0->llama-index) (5.3.0)\r\n",
      "Requirement already satisfied: striprtf<0.0.27,>=0.0.26 in /home/pfreytag/github.com/eccenca/llama-index-cmem/.venv/lib/python3.12/site-packages (from llama-index-readers-file<0.5.0,>=0.4.0->llama-index) (0.0.26)\r\n",
      "Requirement already satisfied: llama-parse>=0.5.0 in /home/pfreytag/github.com/eccenca/llama-index-cmem/.venv/lib/python3.12/site-packages (from llama-index-readers-llama-parse>=0.4.0->llama-index) (0.6.1)\r\n",
      "Requirement already satisfied: click in /home/pfreytag/github.com/eccenca/llama-index-cmem/.venv/lib/python3.12/site-packages (from nltk>3.8.1->llama-index) (8.1.8)\r\n",
      "Requirement already satisfied: joblib in /home/pfreytag/github.com/eccenca/llama-index-cmem/.venv/lib/python3.12/site-packages (from nltk>3.8.1->llama-index) (1.4.2)\r\n",
      "Requirement already satisfied: regex>=2021.8.3 in /home/pfreytag/github.com/eccenca/llama-index-cmem/.venv/lib/python3.12/site-packages (from nltk>3.8.1->llama-index) (2024.11.6)\r\n",
      "Requirement already satisfied: isodate<0.7.0,>=0.6.0 in /home/pfreytag/github.com/eccenca/llama-index-cmem/.venv/lib/python3.12/site-packages (from rdflib<7.0.0,>=6.3.2->cmem-cmempy) (0.6.1)\r\n",
      "Requirement already satisfied: charset-normalizer<4,>=2 in /home/pfreytag/github.com/eccenca/llama-index-cmem/.venv/lib/python3.12/site-packages (from requests<3.0.0,>=2.31.0->cmem-cmempy) (3.4.1)\r\n",
      "Requirement already satisfied: idna<4,>=2.5 in /home/pfreytag/github.com/eccenca/llama-index-cmem/.venv/lib/python3.12/site-packages (from requests<3.0.0,>=2.31.0->cmem-cmempy) (3.10)\r\n",
      "Requirement already satisfied: urllib3<3,>=1.21.1 in /home/pfreytag/github.com/eccenca/llama-index-cmem/.venv/lib/python3.12/site-packages (from requests<3.0.0,>=2.31.0->cmem-cmempy) (2.3.0)\r\n",
      "Requirement already satisfied: greenlet!=0.4.17 in /home/pfreytag/github.com/eccenca/llama-index-cmem/.venv/lib/python3.12/site-packages (from sqlalchemy<2.1,>=1.4.49->sqlalchemy[asyncio]<2.1,>=1.4.49->llama-index-vector-stores-postgres) (3.1.1)\r\n",
      "Requirement already satisfied: aiohappyeyeballs>=2.3.0 in /home/pfreytag/github.com/eccenca/llama-index-cmem/.venv/lib/python3.12/site-packages (from aiohttp<4.0.0,>=3.8.6->llama-index-core<0.13.0,>=0.12.18->llama-index) (2.4.6)\r\n",
      "Requirement already satisfied: aiosignal>=1.1.2 in /home/pfreytag/github.com/eccenca/llama-index-cmem/.venv/lib/python3.12/site-packages (from aiohttp<4.0.0,>=3.8.6->llama-index-core<0.13.0,>=0.12.18->llama-index) (1.3.2)\r\n",
      "Requirement already satisfied: attrs>=17.3.0 in /home/pfreytag/github.com/eccenca/llama-index-cmem/.venv/lib/python3.12/site-packages (from aiohttp<4.0.0,>=3.8.6->llama-index-core<0.13.0,>=0.12.18->llama-index) (25.1.0)\r\n",
      "Requirement already satisfied: frozenlist>=1.1.1 in /home/pfreytag/github.com/eccenca/llama-index-cmem/.venv/lib/python3.12/site-packages (from aiohttp<4.0.0,>=3.8.6->llama-index-core<0.13.0,>=0.12.18->llama-index) (1.5.0)\r\n",
      "Requirement already satisfied: multidict<7.0,>=4.5 in /home/pfreytag/github.com/eccenca/llama-index-cmem/.venv/lib/python3.12/site-packages (from aiohttp<4.0.0,>=3.8.6->llama-index-core<0.13.0,>=0.12.18->llama-index) (6.1.0)\r\n",
      "Requirement already satisfied: propcache>=0.2.0 in /home/pfreytag/github.com/eccenca/llama-index-cmem/.venv/lib/python3.12/site-packages (from aiohttp<4.0.0,>=3.8.6->llama-index-core<0.13.0,>=0.12.18->llama-index) (0.2.1)\r\n",
      "Requirement already satisfied: yarl<2.0,>=1.17.0 in /home/pfreytag/github.com/eccenca/llama-index-cmem/.venv/lib/python3.12/site-packages (from aiohttp<4.0.0,>=3.8.6->llama-index-core<0.13.0,>=0.12.18->llama-index) (1.18.3)\r\n",
      "Requirement already satisfied: soupsieve>1.2 in /home/pfreytag/github.com/eccenca/llama-index-cmem/.venv/lib/python3.12/site-packages (from beautifulsoup4<5.0.0,>=4.12.3->llama-index-readers-file<0.5.0,>=0.4.0->llama-index) (2.6)\r\n",
      "Requirement already satisfied: six in /home/pfreytag/github.com/eccenca/llama-index-cmem/.venv/lib/python3.12/site-packages (from isodate<0.7.0,>=0.6.0->rdflib<7.0.0,>=6.3.2->cmem-cmempy) (1.17.0)\r\n",
      "Requirement already satisfied: anyio in /home/pfreytag/github.com/eccenca/llama-index-cmem/.venv/lib/python3.12/site-packages (from httpx->llama-index-core<0.13.0,>=0.12.18->llama-index) (4.8.0)\r\n",
      "Requirement already satisfied: httpcore==1.* in /home/pfreytag/github.com/eccenca/llama-index-cmem/.venv/lib/python3.12/site-packages (from httpx->llama-index-core<0.13.0,>=0.12.18->llama-index) (1.0.7)\r\n",
      "Requirement already satisfied: h11<0.15,>=0.13 in /home/pfreytag/github.com/eccenca/llama-index-cmem/.venv/lib/python3.12/site-packages (from httpcore==1.*->httpx->llama-index-core<0.13.0,>=0.12.18->llama-index) (0.14.0)\r\n",
      "Requirement already satisfied: llama-cloud-services>=0.6.1 in /home/pfreytag/github.com/eccenca/llama-index-cmem/.venv/lib/python3.12/site-packages (from llama-parse>=0.5.0->llama-index-readers-llama-parse>=0.4.0->llama-index) (0.6.1)\r\n",
      "Requirement already satisfied: distro<2,>=1.7.0 in /home/pfreytag/github.com/eccenca/llama-index-cmem/.venv/lib/python3.12/site-packages (from openai>=1.14.0->llama-index-agent-openai<0.5.0,>=0.4.0->llama-index) (1.9.0)\r\n",
      "Requirement already satisfied: jiter<1,>=0.4.0 in /home/pfreytag/github.com/eccenca/llama-index-cmem/.venv/lib/python3.12/site-packages (from openai>=1.14.0->llama-index-agent-openai<0.5.0,>=0.4.0->llama-index) (0.8.2)\r\n",
      "Requirement already satisfied: sniffio in /home/pfreytag/github.com/eccenca/llama-index-cmem/.venv/lib/python3.12/site-packages (from openai>=1.14.0->llama-index-agent-openai<0.5.0,>=0.4.0->llama-index) (1.3.1)\r\n",
      "Requirement already satisfied: annotated-types>=0.6.0 in /home/pfreytag/github.com/eccenca/llama-index-cmem/.venv/lib/python3.12/site-packages (from pydantic>=2.8.0->llama-index-core<0.13.0,>=0.12.18->llama-index) (0.7.0)\r\n",
      "Requirement already satisfied: pydantic-core==2.27.2 in /home/pfreytag/github.com/eccenca/llama-index-cmem/.venv/lib/python3.12/site-packages (from pydantic>=2.8.0->llama-index-core<0.13.0,>=0.12.18->llama-index) (2.27.2)\r\n",
      "Requirement already satisfied: mypy-extensions>=0.3.0 in /home/pfreytag/github.com/eccenca/llama-index-cmem/.venv/lib/python3.12/site-packages (from typing-inspect>=0.8.0->llama-index-core<0.13.0,>=0.12.18->llama-index) (1.0.0)\r\n",
      "Requirement already satisfied: marshmallow<4.0.0,>=3.18.0 in /home/pfreytag/github.com/eccenca/llama-index-cmem/.venv/lib/python3.12/site-packages (from dataclasses-json->llama-index-core<0.13.0,>=0.12.18->llama-index) (3.26.1)\r\n",
      "Requirement already satisfied: python-dateutil>=2.8.2 in /home/pfreytag/github.com/eccenca/llama-index-cmem/.venv/lib/python3.12/site-packages (from pandas->llama-index-readers-file<0.5.0,>=0.4.0->llama-index) (2.9.0.post0)\r\n",
      "Requirement already satisfied: pytz>=2020.1 in /home/pfreytag/github.com/eccenca/llama-index-cmem/.venv/lib/python3.12/site-packages (from pandas->llama-index-readers-file<0.5.0,>=0.4.0->llama-index) (2025.1)\r\n",
      "Requirement already satisfied: tzdata>=2022.7 in /home/pfreytag/github.com/eccenca/llama-index-cmem/.venv/lib/python3.12/site-packages (from pandas->llama-index-readers-file<0.5.0,>=0.4.0->llama-index) (2025.1)\r\n",
      "Requirement already satisfied: packaging>=17.0 in /home/pfreytag/github.com/eccenca/llama-index-cmem/.venv/lib/python3.12/site-packages (from marshmallow<4.0.0,>=3.18.0->dataclasses-json->llama-index-core<0.13.0,>=0.12.18->llama-index) (24.2)\r\n",
      "Note: you may need to restart the kernel to use updated packages.\n"
     ]
    }
   ],
   "execution_count": 1
  },
  {
   "cell_type": "code",
   "id": "8350efde25acb664",
   "metadata": {
    "ExecuteTime": {
     "end_time": "2025-04-01T05:01:04.236247Z",
     "start_time": "2025-04-01T05:01:04.227004Z"
    }
   },
   "source": [
    "%load_ext dotenv\n",
    "%dotenv\n",
    "%reload_ext dotenv"
   ],
   "outputs": [],
   "execution_count": 2
  },
  {
   "cell_type": "code",
   "id": "612b8ea28292dcb9",
   "metadata": {
    "ExecuteTime": {
     "end_time": "2025-04-01T05:01:04.656001Z",
     "start_time": "2025-04-01T05:01:04.288189Z"
    }
   },
   "source": [
    "import os\n",
    "\n",
    "import openai\n",
    "\n",
    "openai.api_key = os.environ[\"OPENAI_API_KEY\"]"
   ],
   "outputs": [],
   "execution_count": 3
  },
  {
   "cell_type": "code",
   "id": "4db7a722e2563439",
   "metadata": {
    "ExecuteTime": {
     "end_time": "2025-04-01T05:01:05.885997Z",
     "start_time": "2025-04-01T05:01:04.668053Z"
    }
   },
   "source": [
    "!docker pull ankane/pgvector\n",
    "!docker run -d -e POSTGRES_USER=eccenca -e POSTGRES_PASSWORD=eccenca -e POSTGRES_DB=eccenca --name pgvector-eccenca -p 5432:5432 ankane/pgvector"
   ],
   "outputs": [
    {
     "name": "stdout",
     "output_type": "stream",
     "text": [
      "Using default tag: latest\r\n",
      "latest: Pulling from ankane/pgvector\r\n",
      "Digest: sha256:956744bd14e9cbdf639c61c2a2a7c7c2c48a9c8cdd42f7de4ac034f4e96b90f8\r\n",
      "Status: Image is up to date for ankane/pgvector:latest\r\n",
      "docker.io/ankane/pgvector:latest\r\n",
      "docker: Error response from daemon: Conflict. The container name \"/pgvector-eccenca\" is already in use by container \"b6c885e9ba8fed6a52c3cfd6369cb2ba3df7c519423b50b647811974d1367bbb\". You have to remove (or rename) that container to be able to reuse that name.\r\n",
      "\r\n",
      "Run 'docker run --help' for more information\r\n"
     ]
    }
   ],
   "execution_count": 4
  },
  {
   "cell_type": "code",
   "id": "3d9feefe789495d9",
   "metadata": {
    "ExecuteTime": {
     "end_time": "2025-04-01T05:03:04.391693Z",
     "start_time": "2025-04-01T05:01:05.889657Z"
    }
   },
   "source": [
    "from IPython.display import Markdown\n",
    "\n",
    "from llama_index_cmem.executor.cmem_sparql_executor import CMEMSPARQLExecutor\n",
    "from llama_index_cmem.readers.sparql_reader import SPARQLReader\n",
    "\n",
    "\n",
    "sparql_reader = SPARQLReader(executor=CMEMSPARQLExecutor())\n",
    "documents = sparql_reader.load_graph_triples_with_labels(graph=\"http://ld.company.org/prod-inst/\")\n",
    "display(Markdown(f\"### Documents loaded: __{len(documents)}__ \"))"
   ],
   "outputs": [
    {
     "data": {
      "text/plain": [
       "<IPython.core.display.Markdown object>"
      ],
      "text/markdown": "### Documents loaded: __11426__ "
     },
     "metadata": {},
     "output_type": "display_data"
    }
   ],
   "execution_count": 5
  },
  {
   "cell_type": "code",
   "id": "b6cd91e6c1fd16f5",
   "metadata": {
    "ExecuteTime": {
     "end_time": "2025-04-01T05:06:02.433165Z",
     "start_time": "2025-04-01T05:03:04.479896Z"
    }
   },
   "source": [
    "from llama_index.core import StorageContext, VectorStoreIndex\n",
    "from llama_index.vector_stores.postgres import PGVectorStore\n",
    "\n",
    "vector_store = PGVectorStore.from_params(\n",
    "    database=\"eccenca\",\n",
    "    host=\"localhost\",\n",
    "    password=\"eccenca\",\n",
    "    port=\"5432\",\n",
    "    user=\"eccenca\",\n",
    "    table_name=\"prod-inst\",\n",
    "    embed_dim=1536,  # openai embedding dimension\n",
    "    hnsw_kwargs={\n",
    "        \"hnsw_m\": 16,\n",
    "        \"hnsw_ef_construction\": 64,\n",
    "        \"hnsw_ef_search\": 40,\n",
    "        \"hnsw_dist_method\": \"vector_cosine_ops\",\n",
    "    },\n",
    ")\n",
    "\n",
    "storage_context = StorageContext.from_defaults(vector_store=vector_store)\n",
    "index = VectorStoreIndex.from_documents(\n",
    "    documents, storage_context=storage_context, show_progress=True\n",
    ")\n",
    "query_engine = index.as_query_engine()"
   ],
   "outputs": [
    {
     "name": "stderr",
     "output_type": "stream",
     "text": [
      "/home/pfreytag/github.com/eccenca/llama-index-cmem/.venv/lib/python3.12/site-packages/tqdm/auto.py:21: TqdmWarning: IProgress not found. Please update jupyter and ipywidgets. See https://ipywidgets.readthedocs.io/en/stable/user_install.html\n",
      "  from .autonotebook import tqdm as notebook_tqdm\n",
      "Parsing nodes: 100%|██████████| 11426/11426 [00:01<00:00, 6340.76it/s]\n",
      "Generating embeddings: 100%|██████████| 2048/2048 [00:29<00:00, 70.57it/s]\n",
      "PG Setup: Error creating HNSW index: (psycopg2.errors.SyntaxError) syntax error at or near \"-\"\n",
      "LINE 1: CREATE INDEX IF NOT EXISTS data_prod-inst_embedding_idx ON p...\n",
      "                                            ^\n",
      "\n",
      "[SQL: CREATE INDEX IF NOT EXISTS data_prod-inst_embedding_idx ON public.data_prod-inst USING hnsw (embedding vector_cosine_ops) WITH (m = 16, ef_construction = 64)]\n",
      "(Background on this error at: https://sqlalche.me/e/20/f405)\n",
      "Generating embeddings: 100%|██████████| 2048/2048 [00:27<00:00, 74.11it/s]\n",
      "Generating embeddings: 100%|██████████| 2048/2048 [00:28<00:00, 72.42it/s]\n",
      "Generating embeddings: 100%|██████████| 2048/2048 [00:27<00:00, 74.25it/s]\n",
      "Generating embeddings: 100%|██████████| 2048/2048 [00:24<00:00, 84.94it/s]\n",
      "Generating embeddings: 100%|██████████| 1186/1186 [00:20<00:00, 58.76it/s]\n"
     ]
    }
   ],
   "execution_count": 6
  },
  {
   "cell_type": "code",
   "id": "2251180f25e3a3ab",
   "metadata": {
    "ExecuteTime": {
     "end_time": "2025-04-01T05:06:03.578614Z",
     "start_time": "2025-04-01T05:06:02.449144Z"
    }
   },
   "source": [
    "question = \"What information do you have about Liese Adam? Give me as many details as possible.\"\n",
    "answer = query_engine.query(question)\n",
    "display(Markdown(f\"## Question: _{question}_\"))\n",
    "display(Markdown(f\"### Answer:\\n\\n{answer}\"))"
   ],
   "outputs": [
    {
     "data": {
      "text/plain": [
       "<IPython.core.display.Markdown object>"
      ],
      "text/markdown": "## Question: _What information do you have about Liese Adam? Give me as many details as possible._"
     },
     "metadata": {},
     "output_type": "display_data"
    },
    {
     "data": {
      "text/plain": [
       "<IPython.core.display.Markdown object>"
      ],
      "text/markdown": "### Answer:\n\nLiese Adam is a member of the Marketing department. Her areas of expertise include Crystal and Sensor."
     },
     "metadata": {},
     "output_type": "display_data"
    }
   ],
   "execution_count": 7
  }
 ],
 "metadata": {
  "kernelspec": {
   "display_name": ".venv",
   "language": "python",
   "name": "python3"
  },
  "language_info": {
   "codemirror_mode": {
    "name": "ipython",
    "version": 3
   },
   "file_extension": ".py",
   "mimetype": "text/x-python",
   "name": "python",
   "nbconvert_exporter": "python",
   "pygments_lexer": "ipython3",
   "version": "3.13.0"
  }
 },
 "nbformat": 4,
 "nbformat_minor": 5
}
