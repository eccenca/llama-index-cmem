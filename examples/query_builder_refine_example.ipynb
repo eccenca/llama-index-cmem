{
 "cells": [
  {
   "cell_type": "markdown",
   "metadata": {},
   "source": [
    "# CMEMQueryBuilder\n",
    "\n",
    "The CMEM query builder generates a SPARQL query based on a given ontology and a natural language question."
   ]
  },
  {
   "cell_type": "code",
   "execution_count": null,
   "metadata": {},
   "outputs": [],
   "source": [
    "%pip install cmem-cmempy llama-index"
   ]
  },
  {
   "cell_type": "markdown",
   "metadata": {},
   "source": [
    "Add environment if neccessary."
   ]
  },
  {
   "cell_type": "code",
   "execution_count": null,
   "metadata": {},
   "outputs": [],
   "source": [
    "from os import environ\n",
    "\n",
    "environ[\"CMEM_BASE_URI\"] = \"\"\n",
    "environ[\"OAUTH_GRANT_TYPE\"] = \"password\"\n",
    "environ[\"OAUTH_USER\"] = \"admin\"\n",
    "environ[\"OAUTH_PASSWORD\"] = \"\"\n",
    "environ[\"OAUTH_CLIENT_ID\"] = \"cmemc\"\n",
    "\n",
    "environ[\"OPENAI_API_KEY\"] = \"\""
   ]
  },
  {
   "cell_type": "markdown",
   "metadata": {},
   "source": [
    "Set up the LLM"
   ]
  },
  {
   "cell_type": "code",
   "execution_count": 9,
   "metadata": {},
   "outputs": [],
   "source": [
    "from llama_index.core import Settings\n",
    "from llama_index.llms.openai import OpenAI\n",
    "\n",
    "model=\"gpt-4o-mini\"\n",
    "llm = OpenAI(model=model)\n",
    "Settings.llm = llm"
   ]
  },
  {
   "cell_type": "markdown",
   "metadata": {},
   "source": [
    "Initialize the query builder with an ontology graph and a context (integration) graph."
   ]
  },
  {
   "cell_type": "code",
   "execution_count": 10,
   "metadata": {},
   "outputs": [],
   "source": [
    "from llama_index_cmem.utils.cmem_query_builder import CMEMQueryBuilder\n",
    "\n",
    "ontology_graph = \"http://ld.company.org/prod-vocab/\"\n",
    "context_graph = \"http://ld.company.org/prod-inst/\"\n",
    "\n",
    "cmem_query_builder = CMEMQueryBuilder(ontology_graph=ontology_graph, context_graph=context_graph, llm=llm)"
   ]
  },
  {
   "cell_type": "markdown",
   "metadata": {},
   "source": [
    "Now define your natural language question and let the query builder generate a SPARQL query."
   ]
  },
  {
   "cell_type": "code",
   "execution_count": 11,
   "metadata": {},
   "outputs": [],
   "source": [
    "question = \"What is the product category where the most product managers are experts in?\"\n",
    "\n",
    "cmem_query = cmem_query_builder.generate_sparql(question=question)"
   ]
  },
  {
   "cell_type": "markdown",
   "metadata": {},
   "source": [
    "## CMEMQuery\n",
    "\n",
    "The query builder return a CMEMQuery object which holds llm predictions and sparql extracts. This allows to refine the SPARQL query as often as you need."
   ]
  },
  {
   "cell_type": "code",
   "execution_count": null,
   "metadata": {},
   "outputs": [],
   "source": [
    "print(\"Question:\\n\")\n",
    "print(question)\n",
    "print(\"\\n\")\n",
    "\n",
    "print(\"Prediction:\\n\")\n",
    "print(cmem_query.get_last_prediction())\n",
    "print(\"\\n\")\n",
    "\n",
    "print(\"SPARQL:\\n\")\n",
    "print(cmem_query.get_last_sparql())\n",
    "print(\"\\n\")"
   ]
  },
  {
   "cell_type": "markdown",
   "metadata": {},
   "source": [
    "### Refine query\n",
    "\n",
    "Sometimes the generated SPARQL don't work as expected. If so the query builder can be used to refine the generated SPARQL."
   ]
  },
  {
   "cell_type": "code",
   "execution_count": null,
   "metadata": {},
   "outputs": [],
   "source": [
    "cmem_query = cmem_query_builder.refine_sparql(question=question, cmem_query=cmem_query)\n",
    "\n",
    "print(\"Question:\\n\")\n",
    "print(question)\n",
    "print(\"\\n\")\n",
    "\n",
    "print(len(cmem_query.get_prediction_list()))\n",
    "print(len(cmem_query.get_sparql_list()))\n",
    "\n",
    "print(\"Prediction list:\\n\")\n",
    "for prediction in cmem_query.get_prediction_list():\n",
    "    print(prediction)\n",
    "    print(\"\\n\")\n",
    "print(\"\\n\")\n",
    "\n",
    "print(\"SPARQL list:\\n\")\n",
    "for sparql in cmem_query.get_sparql_list():\n",
    "    print(sparql)\n",
    "    print(\"\\n\")\n",
    "print(\"\\n\")"
   ]
  }
 ],
 "metadata": {
  "kernelspec": {
   "display_name": "llama-index-cmem-UgaMZsBQ-py3.13",
   "language": "python",
   "name": "python3"
  },
  "language_info": {
   "codemirror_mode": {
    "name": "ipython",
    "version": 3
   },
   "file_extension": ".py",
   "mimetype": "text/x-python",
   "name": "python",
   "nbconvert_exporter": "python",
   "pygments_lexer": "ipython3",
   "version": "3.13.0"
  }
 },
 "nbformat": 4,
 "nbformat_minor": 2
}
