{
 "cells": [
  {
   "cell_type": "markdown",
   "metadata": {},
   "source": [
    "# CMEMQueryBuilder\n",
    "\n",
    "The CMEM query builder generates a SPARQL query based on a given ontology and a natural language question."
   ]
  },
  {
   "cell_type": "code",
   "execution_count": null,
   "metadata": {},
   "outputs": [],
   "source": [
    "%pip install cmem-cmempy llama-index python-dotenv"
   ]
  },
  {
   "cell_type": "markdown",
   "metadata": {},
   "source": [
    "Load environment from `.env` file. \n",
    "Start by `cp .env-template .env` and edit the content of `.env` accordingly."
   ]
  },
  {
   "cell_type": "code",
   "execution_count": 1,
   "metadata": {},
   "outputs": [],
   "source": [
    "%load_ext dotenv\n",
    "%dotenv"
   ]
  },
  {
   "cell_type": "markdown",
   "metadata": {},
   "source": [
    "Set up the LLM"
   ]
  },
  {
   "cell_type": "code",
   "execution_count": 2,
   "metadata": {},
   "outputs": [],
   "source": [
    "from llama_index.core import Settings\n",
    "from llama_index.llms.openai import OpenAI\n",
    "\n",
    "model=\"gpt-4o-mini\"\n",
    "llm = OpenAI(model=model)\n",
    "Settings.llm = llm"
   ]
  },
  {
   "cell_type": "markdown",
   "metadata": {},
   "source": [
    "Initialize the query builder with an ontology graph and a context (integration) graph."
   ]
  },
  {
   "cell_type": "code",
   "execution_count": 3,
   "metadata": {},
   "outputs": [],
   "source": [
    "from llama_index_cmem.utils.cmem_query_builder import CMEMQueryBuilder\n",
    "\n",
    "ontology_graph = \"http://ld.company.org/prod-vocab/\"\n",
    "context_graph = \"http://ld.company.org/prod-inst/\"\n",
    "\n",
    "cmem_query_builder = CMEMQueryBuilder(ontology_graph=ontology_graph, context_graph=context_graph, llm=llm)"
   ]
  },
  {
   "cell_type": "markdown",
   "metadata": {},
   "source": [
    "Now define your natural language question and let the query builder generate a SPARQL query."
   ]
  },
  {
   "cell_type": "code",
   "execution_count": 4,
   "metadata": {},
   "outputs": [],
   "source": [
    "question = \"What is the product category where the most product managers are experts in?\"\n",
    "\n",
    "cmem_query = cmem_query_builder.generate_sparql(question=question)"
   ]
  },
  {
   "cell_type": "markdown",
   "metadata": {},
   "source": [
    "## CMEMQuery\n",
    "\n",
    "The query builder return a CMEMQuery object which holds llm predictions and sparql extracts. This allows to refine the SPARQL query as often as you need."
   ]
  },
  {
   "cell_type": "code",
   "execution_count": 5,
   "metadata": {},
   "outputs": [
    {
     "name": "stdout",
     "output_type": "stream",
     "text": [
      "Question:\n",
      "\n",
      "What is the product category where the most product managers are experts in?\n",
      "\n",
      "\n",
      "Prediction:\n",
      "\n",
      "To answer the user question \"What is the product category where the most product managers are experts in?\" using the provided RDF ontology, we need to construct a SPARQL query that counts the number of product managers associated with each product category and identifies the category with the highest count.\n",
      "\n",
      "### SPARQL Query\n",
      "\n",
      "```sparql\n",
      "PREFIX pv: <http://ld.company.org/prod-vocab/>\n",
      "PREFIX xsd: <http://www.w3.org/2001/XMLSchema#>\n",
      "\n",
      "SELECT ?category (COUNT(?manager) AS ?managerCount)\n",
      "WHERE {\n",
      "  ?manager a pv:Manager .\n",
      "  ?manager pv:areaOfExpertise ?category .\n",
      "}\n",
      "GROUP BY ?category\n",
      "ORDER BY DESC(?managerCount)\n",
      "LIMIT 1\n",
      "```\n",
      "\n",
      "### Explanation of the Query\n",
      "\n",
      "1. **PREFIX Definitions**: \n",
      "   - We define the prefixes for the ontology to simplify the URIs used in the query. `pv:` is used for the product vocabulary.\n",
      "\n",
      "2. **SELECT Clause**: \n",
      "   - We select two variables: `?category`, which represents the product category, and `COUNT(?manager) AS ?managerCount`, which counts the number of product managers associated with each category.\n",
      "\n",
      "3. **WHERE Clause**: \n",
      "   - We specify the conditions for our query:\n",
      "     - `?manager a pv:Manager`: This line filters the results to include only instances of `pv:Manager`, ensuring we are only counting product managers.\n",
      "     - `?manager pv:areaOfExpertise ?category`: This line links each product manager to their area of expertise, which is a product category.\n",
      "\n",
      "4. **GROUP BY Clause**: \n",
      "   - We group the results by `?category` so that we can count the number of managers for each category.\n",
      "\n",
      "5. **ORDER BY Clause**: \n",
      "   - We order the results in descending order based on the count of managers (`?managerCount`). This ensures that the category with the most product managers appears first.\n",
      "\n",
      "6. **LIMIT Clause**: \n",
      "   - We limit the results to 1, which means we only want the top category with the highest count of product managers.\n",
      "\n",
      "### Conclusion\n",
      "This query will return the product category that has the most product managers as experts, along with the count of those managers. The use of aggregation functions and ordering allows us to efficiently determine the desired result from the RDF data.\n",
      "\n",
      "\n",
      "SPARQL:\n",
      "\n",
      "PREFIX pv: <http://ld.company.org/prod-vocab/>\n",
      "PREFIX xsd: <http://www.w3.org/2001/XMLSchema#>\n",
      "\n",
      "SELECT ?category (COUNT(?manager) AS ?managerCount)\n",
      "WHERE {\n",
      "  ?manager a pv:Manager .\n",
      "  ?manager pv:areaOfExpertise ?category .\n",
      "}\n",
      "GROUP BY ?category\n",
      "ORDER BY DESC(?managerCount)\n",
      "LIMIT 1\n",
      "\n",
      "\n"
     ]
    }
   ],
   "source": [
    "print(\"Question:\\n\")\n",
    "print(question)\n",
    "print(\"\\n\")\n",
    "\n",
    "print(\"Prediction:\\n\")\n",
    "print(cmem_query.get_last_prediction())\n",
    "print(\"\\n\")\n",
    "\n",
    "print(\"SPARQL:\\n\")\n",
    "print(cmem_query.get_last_sparql())\n",
    "print(\"\\n\")"
   ]
  },
  {
   "cell_type": "markdown",
   "metadata": {},
   "source": [
    "### Refine query\n",
    "\n",
    "Sometimes the generated SPARQL don't work as expected. If so the query builder can be used to refine the generated SPARQL."
   ]
  },
  {
   "cell_type": "code",
   "execution_count": 6,
   "metadata": {},
   "outputs": [
    {
     "name": "stdout",
     "output_type": "stream",
     "text": [
      "Question:\n",
      "\n",
      "What is the product category where the most product managers are experts in?\n",
      "\n",
      "\n",
      "2\n",
      "2\n",
      "Prediction list:\n",
      "\n",
      "To answer the user question \"What is the product category where the most product managers are experts in?\" using the provided RDF ontology, we need to construct a SPARQL query that counts the number of product managers associated with each product category and identifies the category with the highest count.\n",
      "\n",
      "### SPARQL Query\n",
      "\n",
      "```sparql\n",
      "PREFIX pv: <http://ld.company.org/prod-vocab/>\n",
      "PREFIX xsd: <http://www.w3.org/2001/XMLSchema#>\n",
      "\n",
      "SELECT ?category (COUNT(?manager) AS ?managerCount)\n",
      "WHERE {\n",
      "  ?manager a pv:Manager .\n",
      "  ?manager pv:areaOfExpertise ?category .\n",
      "}\n",
      "GROUP BY ?category\n",
      "ORDER BY DESC(?managerCount)\n",
      "LIMIT 1\n",
      "```\n",
      "\n",
      "### Explanation of the Query\n",
      "\n",
      "1. **PREFIX Definitions**: \n",
      "   - We define the prefixes for the ontology to simplify the URIs used in the query. `pv:` is used for the product vocabulary.\n",
      "\n",
      "2. **SELECT Clause**: \n",
      "   - We select two variables: `?category`, which represents the product category, and `COUNT(?manager) AS ?managerCount`, which counts the number of product managers associated with each category.\n",
      "\n",
      "3. **WHERE Clause**: \n",
      "   - We specify the conditions for our query:\n",
      "     - `?manager a pv:Manager`: This line filters the results to include only instances of `pv:Manager`, ensuring we are only counting product managers.\n",
      "     - `?manager pv:areaOfExpertise ?category`: This line links each product manager to their area of expertise, which is a product category.\n",
      "\n",
      "4. **GROUP BY Clause**: \n",
      "   - We group the results by `?category` so that we can count the number of managers for each category.\n",
      "\n",
      "5. **ORDER BY Clause**: \n",
      "   - We order the results in descending order based on the count of managers (`?managerCount`). This ensures that the category with the most product managers appears first.\n",
      "\n",
      "6. **LIMIT Clause**: \n",
      "   - We limit the results to 1, which means we only want the top category with the highest count of product managers.\n",
      "\n",
      "### Conclusion\n",
      "This query will return the product category that has the most product managers as experts, along with the count of those managers. The use of aggregation functions and ordering allows us to efficiently determine the desired result from the RDF data.\n",
      "\n",
      "\n",
      "To refine the SPARQL query based on the user question \"What is the product category where the most product managers are experts in?\", we need to ensure that the query accurately counts the number of product managers associated with each product category and returns the category with the highest count.\n",
      "\n",
      "### Explanation of the Refinement:\n",
      "1. **Focus on Product Managers**: The query should specifically look for instances of `pv:Manager` and their associated expertise in `pv:ProductCategory`.\n",
      "2. **Count Managers per Category**: We will count the number of managers for each category using `COUNT(?manager)`.\n",
      "3. **Ordering and Limiting**: The results should be ordered by the count of managers in descending order, and we will limit the results to the top category.\n",
      "\n",
      "### Refined SPARQL Query:\n",
      "```sparql\n",
      "PREFIX pv: <http://ld.company.org/prod-vocab/>\n",
      "PREFIX xsd: <http://www.w3.org/2001/XMLSchema#>\n",
      "\n",
      "SELECT ?category (COUNT(?manager) AS ?managerCount)\n",
      "WHERE {\n",
      "  ?manager a pv:Manager .\n",
      "  ?manager pv:areaOfExpertise ?category .\n",
      "}\n",
      "GROUP BY ?category\n",
      "ORDER BY DESC(?managerCount)\n",
      "LIMIT 1\n",
      "```\n",
      "\n",
      "### Explanation of the Query:\n",
      "- **PREFIX Definitions**: We define the necessary prefixes for our query, specifically `pv` for the product vocabulary.\n",
      "- **SELECT Clause**: We select the product category (`?category`) and the count of managers (`?managerCount`).\n",
      "- **WHERE Clause**: \n",
      "  - We specify that `?manager` must be of type `pv:Manager`.\n",
      "  - We link each manager to their area of expertise using the property `pv:areaOfExpertise`, which connects them to a `pv:ProductCategory`.\n",
      "- **GROUP BY Clause**: This groups the results by the product category, allowing us to count the number of managers per category.\n",
      "- **ORDER BY Clause**: We order the results by the count of managers in descending order to get the category with the most managers at the top.\n",
      "- **LIMIT Clause**: We limit the results to just one, ensuring we only get the top category.\n",
      "\n",
      "This refined query should effectively answer the user's question by providing the product category with the highest number of product managers who are experts in that category.\n",
      "\n",
      "\n",
      "\n",
      "\n",
      "SPARQL list:\n",
      "\n",
      "PREFIX pv: <http://ld.company.org/prod-vocab/>\n",
      "PREFIX xsd: <http://www.w3.org/2001/XMLSchema#>\n",
      "\n",
      "SELECT ?category (COUNT(?manager) AS ?managerCount)\n",
      "WHERE {\n",
      "  ?manager a pv:Manager .\n",
      "  ?manager pv:areaOfExpertise ?category .\n",
      "}\n",
      "GROUP BY ?category\n",
      "ORDER BY DESC(?managerCount)\n",
      "LIMIT 1\n",
      "\n",
      "\n",
      "PREFIX pv: <http://ld.company.org/prod-vocab/>\n",
      "PREFIX xsd: <http://www.w3.org/2001/XMLSchema#>\n",
      "\n",
      "SELECT ?category (COUNT(?manager) AS ?managerCount)\n",
      "WHERE {\n",
      "  ?manager a pv:Manager .\n",
      "  ?manager pv:areaOfExpertise ?category .\n",
      "}\n",
      "GROUP BY ?category\n",
      "ORDER BY DESC(?managerCount)\n",
      "LIMIT 1\n",
      "\n",
      "\n",
      "\n",
      "\n"
     ]
    }
   ],
   "source": [
    "cmem_query = cmem_query_builder.refine_sparql(question=question, cmem_query=cmem_query)\n",
    "\n",
    "print(\"Question:\\n\")\n",
    "print(question)\n",
    "print(\"\\n\")\n",
    "\n",
    "print(len(cmem_query.get_prediction_list()))\n",
    "print(len(cmem_query.get_sparql_list()))\n",
    "\n",
    "print(\"Prediction list:\\n\")\n",
    "for prediction in cmem_query.get_prediction_list():\n",
    "    print(prediction)\n",
    "    print(\"\\n\")\n",
    "print(\"\\n\")\n",
    "\n",
    "print(\"SPARQL list:\\n\")\n",
    "for sparql in cmem_query.get_sparql_list():\n",
    "    print(sparql)\n",
    "    print(\"\\n\")\n",
    "print(\"\\n\")"
   ]
  }
 ],
 "metadata": {
  "kernelspec": {
   "display_name": ".venv",
   "language": "python",
   "name": "python3"
  },
  "language_info": {
   "codemirror_mode": {
    "name": "ipython",
    "version": 3
   },
   "file_extension": ".py",
   "mimetype": "text/x-python",
   "name": "python",
   "nbconvert_exporter": "python",
   "pygments_lexer": "ipython3",
   "version": "3.13.1"
  }
 },
 "nbformat": 4,
 "nbformat_minor": 2
}
