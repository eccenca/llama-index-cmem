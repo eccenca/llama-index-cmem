{
 "cells": [
  {
   "cell_type": "markdown",
   "metadata": {},
   "source": [
    "# CMEMQueryBuilder\n",
    "\n",
    "The CMEM query builder generates a SPARQL query based on a given ontology and a natural language question."
   ]
  },
  {
   "cell_type": "code",
   "execution_count": 8,
   "metadata": {},
   "outputs": [
    {
     "name": "stdout",
     "output_type": "stream",
     "text": [
      "Requirement already satisfied: cmem-cmempy in c:\\users\\peter\\appdata\\local\\pypoetry\\cache\\virtualenvs\\llama-index-cmem-ugamzsbq-py3.13\\lib\\site-packages (24.3.0)\n",
      "Requirement already satisfied: llama-index in c:\\users\\peter\\appdata\\local\\pypoetry\\cache\\virtualenvs\\llama-index-cmem-ugamzsbq-py3.13\\lib\\site-packages (0.12.5)\n",
      "Requirement already satisfied: python-dotenv in c:\\users\\peter\\appdata\\local\\pypoetry\\cache\\virtualenvs\\llama-index-cmem-ugamzsbq-py3.13\\lib\\site-packages (1.0.1)\n",
      "Requirement already satisfied: certifi>=2023.7.22 in c:\\users\\peter\\appdata\\local\\pypoetry\\cache\\virtualenvs\\llama-index-cmem-ugamzsbq-py3.13\\lib\\site-packages (from cmem-cmempy) (2024.12.14)\n",
      "Requirement already satisfied: pyparsing<4.0.0,>=3.1.1 in c:\\users\\peter\\appdata\\local\\pypoetry\\cache\\virtualenvs\\llama-index-cmem-ugamzsbq-py3.13\\lib\\site-packages (from cmem-cmempy) (3.2.0)\n",
      "Requirement already satisfied: rdflib<7.0.0,>=6.3.2 in c:\\users\\peter\\appdata\\local\\pypoetry\\cache\\virtualenvs\\llama-index-cmem-ugamzsbq-py3.13\\lib\\site-packages (from cmem-cmempy) (6.3.2)\n",
      "Requirement already satisfied: requests<3.0.0,>=2.31.0 in c:\\users\\peter\\appdata\\local\\pypoetry\\cache\\virtualenvs\\llama-index-cmem-ugamzsbq-py3.13\\lib\\site-packages (from cmem-cmempy) (2.32.3)\n",
      "Requirement already satisfied: requests-toolbelt<2.0.0,>=1.0.0 in c:\\users\\peter\\appdata\\local\\pypoetry\\cache\\virtualenvs\\llama-index-cmem-ugamzsbq-py3.13\\lib\\site-packages (from cmem-cmempy) (1.0.0)\n",
      "Requirement already satisfied: llama-index-agent-openai<0.5.0,>=0.4.0 in c:\\users\\peter\\appdata\\local\\pypoetry\\cache\\virtualenvs\\llama-index-cmem-ugamzsbq-py3.13\\lib\\site-packages (from llama-index) (0.4.0)\n",
      "Requirement already satisfied: llama-index-cli<0.5.0,>=0.4.0 in c:\\users\\peter\\appdata\\local\\pypoetry\\cache\\virtualenvs\\llama-index-cmem-ugamzsbq-py3.13\\lib\\site-packages (from llama-index) (0.4.0)\n",
      "Requirement already satisfied: llama-index-core<0.13.0,>=0.12.5 in c:\\users\\peter\\appdata\\local\\pypoetry\\cache\\virtualenvs\\llama-index-cmem-ugamzsbq-py3.13\\lib\\site-packages (from llama-index) (0.12.5)\n",
      "Requirement already satisfied: llama-index-embeddings-openai<0.4.0,>=0.3.0 in c:\\users\\peter\\appdata\\local\\pypoetry\\cache\\virtualenvs\\llama-index-cmem-ugamzsbq-py3.13\\lib\\site-packages (from llama-index) (0.3.1)\n",
      "Requirement already satisfied: llama-index-indices-managed-llama-cloud>=0.4.0 in c:\\users\\peter\\appdata\\local\\pypoetry\\cache\\virtualenvs\\llama-index-cmem-ugamzsbq-py3.13\\lib\\site-packages (from llama-index) (0.6.3)\n",
      "Requirement already satisfied: llama-index-legacy<0.10.0,>=0.9.48 in c:\\users\\peter\\appdata\\local\\pypoetry\\cache\\virtualenvs\\llama-index-cmem-ugamzsbq-py3.13\\lib\\site-packages (from llama-index) (0.9.48.post4)\n",
      "Requirement already satisfied: llama-index-llms-openai<0.4.0,>=0.3.0 in c:\\users\\peter\\appdata\\local\\pypoetry\\cache\\virtualenvs\\llama-index-cmem-ugamzsbq-py3.13\\lib\\site-packages (from llama-index) (0.3.10)\n",
      "Requirement already satisfied: llama-index-multi-modal-llms-openai<0.5.0,>=0.4.0 in c:\\users\\peter\\appdata\\local\\pypoetry\\cache\\virtualenvs\\llama-index-cmem-ugamzsbq-py3.13\\lib\\site-packages (from llama-index) (0.4.0)\n",
      "Requirement already satisfied: llama-index-program-openai<0.4.0,>=0.3.0 in c:\\users\\peter\\appdata\\local\\pypoetry\\cache\\virtualenvs\\llama-index-cmem-ugamzsbq-py3.13\\lib\\site-packages (from llama-index) (0.3.1)\n",
      "Requirement already satisfied: llama-index-question-gen-openai<0.4.0,>=0.3.0 in c:\\users\\peter\\appdata\\local\\pypoetry\\cache\\virtualenvs\\llama-index-cmem-ugamzsbq-py3.13\\lib\\site-packages (from llama-index) (0.3.0)\n",
      "Requirement already satisfied: llama-index-readers-file<0.5.0,>=0.4.0 in c:\\users\\peter\\appdata\\local\\pypoetry\\cache\\virtualenvs\\llama-index-cmem-ugamzsbq-py3.13\\lib\\site-packages (from llama-index) (0.4.1)\n",
      "Requirement already satisfied: llama-index-readers-llama-parse>=0.4.0 in c:\\users\\peter\\appdata\\local\\pypoetry\\cache\\virtualenvs\\llama-index-cmem-ugamzsbq-py3.13\\lib\\site-packages (from llama-index) (0.4.0)\n",
      "Requirement already satisfied: nltk>3.8.1 in c:\\users\\peter\\appdata\\local\\pypoetry\\cache\\virtualenvs\\llama-index-cmem-ugamzsbq-py3.13\\lib\\site-packages (from llama-index) (3.9.1)\n",
      "Requirement already satisfied: openai>=1.14.0 in c:\\users\\peter\\appdata\\local\\pypoetry\\cache\\virtualenvs\\llama-index-cmem-ugamzsbq-py3.13\\lib\\site-packages (from llama-index-agent-openai<0.5.0,>=0.4.0->llama-index) (1.57.4)\n",
      "Requirement already satisfied: PyYAML>=6.0.1 in c:\\users\\peter\\appdata\\local\\pypoetry\\cache\\virtualenvs\\llama-index-cmem-ugamzsbq-py3.13\\lib\\site-packages (from llama-index-core<0.13.0,>=0.12.5->llama-index) (6.0.2)\n",
      "Requirement already satisfied: SQLAlchemy>=1.4.49 in c:\\users\\peter\\appdata\\local\\pypoetry\\cache\\virtualenvs\\llama-index-cmem-ugamzsbq-py3.13\\lib\\site-packages (from SQLAlchemy[asyncio]>=1.4.49->llama-index-core<0.13.0,>=0.12.5->llama-index) (2.0.36)\n",
      "Requirement already satisfied: aiohttp<4.0.0,>=3.8.6 in c:\\users\\peter\\appdata\\local\\pypoetry\\cache\\virtualenvs\\llama-index-cmem-ugamzsbq-py3.13\\lib\\site-packages (from llama-index-core<0.13.0,>=0.12.5->llama-index) (3.11.10)\n",
      "Requirement already satisfied: dataclasses-json in c:\\users\\peter\\appdata\\local\\pypoetry\\cache\\virtualenvs\\llama-index-cmem-ugamzsbq-py3.13\\lib\\site-packages (from llama-index-core<0.13.0,>=0.12.5->llama-index) (0.6.7)\n",
      "Requirement already satisfied: deprecated>=1.2.9.3 in c:\\users\\peter\\appdata\\local\\pypoetry\\cache\\virtualenvs\\llama-index-cmem-ugamzsbq-py3.13\\lib\\site-packages (from llama-index-core<0.13.0,>=0.12.5->llama-index) (1.2.15)\n",
      "Requirement already satisfied: dirtyjson<2.0.0,>=1.0.8 in c:\\users\\peter\\appdata\\local\\pypoetry\\cache\\virtualenvs\\llama-index-cmem-ugamzsbq-py3.13\\lib\\site-packages (from llama-index-core<0.13.0,>=0.12.5->llama-index) (1.0.8)\n",
      "Requirement already satisfied: filetype<2.0.0,>=1.2.0 in c:\\users\\peter\\appdata\\local\\pypoetry\\cache\\virtualenvs\\llama-index-cmem-ugamzsbq-py3.13\\lib\\site-packages (from llama-index-core<0.13.0,>=0.12.5->llama-index) (1.2.0)\n",
      "Requirement already satisfied: fsspec>=2023.5.0 in c:\\users\\peter\\appdata\\local\\pypoetry\\cache\\virtualenvs\\llama-index-cmem-ugamzsbq-py3.13\\lib\\site-packages (from llama-index-core<0.13.0,>=0.12.5->llama-index) (2024.10.0)\n",
      "Requirement already satisfied: httpx in c:\\users\\peter\\appdata\\local\\pypoetry\\cache\\virtualenvs\\llama-index-cmem-ugamzsbq-py3.13\\lib\\site-packages (from llama-index-core<0.13.0,>=0.12.5->llama-index) (0.28.1)\n",
      "Requirement already satisfied: nest-asyncio<2.0.0,>=1.5.8 in c:\\users\\peter\\appdata\\local\\pypoetry\\cache\\virtualenvs\\llama-index-cmem-ugamzsbq-py3.13\\lib\\site-packages (from llama-index-core<0.13.0,>=0.12.5->llama-index) (1.6.0)\n",
      "Requirement already satisfied: networkx>=3.0 in c:\\users\\peter\\appdata\\local\\pypoetry\\cache\\virtualenvs\\llama-index-cmem-ugamzsbq-py3.13\\lib\\site-packages (from llama-index-core<0.13.0,>=0.12.5->llama-index) (3.4.2)\n",
      "Requirement already satisfied: numpy in c:\\users\\peter\\appdata\\local\\pypoetry\\cache\\virtualenvs\\llama-index-cmem-ugamzsbq-py3.13\\lib\\site-packages (from llama-index-core<0.13.0,>=0.12.5->llama-index) (2.2.0)\n",
      "Requirement already satisfied: pillow>=9.0.0 in c:\\users\\peter\\appdata\\local\\pypoetry\\cache\\virtualenvs\\llama-index-cmem-ugamzsbq-py3.13\\lib\\site-packages (from llama-index-core<0.13.0,>=0.12.5->llama-index) (11.0.0)\n",
      "Requirement already satisfied: pydantic>=2.8.0 in c:\\users\\peter\\appdata\\local\\pypoetry\\cache\\virtualenvs\\llama-index-cmem-ugamzsbq-py3.13\\lib\\site-packages (from llama-index-core<0.13.0,>=0.12.5->llama-index) (2.10.3)\n",
      "Requirement already satisfied: tenacity!=8.4.0,<10.0.0,>=8.2.0 in c:\\users\\peter\\appdata\\local\\pypoetry\\cache\\virtualenvs\\llama-index-cmem-ugamzsbq-py3.13\\lib\\site-packages (from llama-index-core<0.13.0,>=0.12.5->llama-index) (8.5.0)\n",
      "Requirement already satisfied: tiktoken>=0.3.3 in c:\\users\\peter\\appdata\\local\\pypoetry\\cache\\virtualenvs\\llama-index-cmem-ugamzsbq-py3.13\\lib\\site-packages (from llama-index-core<0.13.0,>=0.12.5->llama-index) (0.8.0)\n",
      "Requirement already satisfied: tqdm<5.0.0,>=4.66.1 in c:\\users\\peter\\appdata\\local\\pypoetry\\cache\\virtualenvs\\llama-index-cmem-ugamzsbq-py3.13\\lib\\site-packages (from llama-index-core<0.13.0,>=0.12.5->llama-index) (4.67.1)\n",
      "Requirement already satisfied: typing-extensions>=4.5.0 in c:\\users\\peter\\appdata\\local\\pypoetry\\cache\\virtualenvs\\llama-index-cmem-ugamzsbq-py3.13\\lib\\site-packages (from llama-index-core<0.13.0,>=0.12.5->llama-index) (4.12.2)\n",
      "Requirement already satisfied: typing-inspect>=0.8.0 in c:\\users\\peter\\appdata\\local\\pypoetry\\cache\\virtualenvs\\llama-index-cmem-ugamzsbq-py3.13\\lib\\site-packages (from llama-index-core<0.13.0,>=0.12.5->llama-index) (0.9.0)\n",
      "Requirement already satisfied: wrapt in c:\\users\\peter\\appdata\\local\\pypoetry\\cache\\virtualenvs\\llama-index-cmem-ugamzsbq-py3.13\\lib\\site-packages (from llama-index-core<0.13.0,>=0.12.5->llama-index) (1.17.0)\n",
      "Requirement already satisfied: llama-cloud>=0.1.5 in c:\\users\\peter\\appdata\\local\\pypoetry\\cache\\virtualenvs\\llama-index-cmem-ugamzsbq-py3.13\\lib\\site-packages (from llama-index-indices-managed-llama-cloud>=0.4.0->llama-index) (0.1.6)\n",
      "Requirement already satisfied: pandas in c:\\users\\peter\\appdata\\local\\pypoetry\\cache\\virtualenvs\\llama-index-cmem-ugamzsbq-py3.13\\lib\\site-packages (from llama-index-legacy<0.10.0,>=0.9.48->llama-index) (2.2.3)\n",
      "Requirement already satisfied: beautifulsoup4<5.0.0,>=4.12.3 in c:\\users\\peter\\appdata\\local\\pypoetry\\cache\\virtualenvs\\llama-index-cmem-ugamzsbq-py3.13\\lib\\site-packages (from llama-index-readers-file<0.5.0,>=0.4.0->llama-index) (4.12.3)\n",
      "Requirement already satisfied: pypdf<6.0.0,>=5.1.0 in c:\\users\\peter\\appdata\\local\\pypoetry\\cache\\virtualenvs\\llama-index-cmem-ugamzsbq-py3.13\\lib\\site-packages (from llama-index-readers-file<0.5.0,>=0.4.0->llama-index) (5.1.0)\n",
      "Requirement already satisfied: striprtf<0.0.27,>=0.0.26 in c:\\users\\peter\\appdata\\local\\pypoetry\\cache\\virtualenvs\\llama-index-cmem-ugamzsbq-py3.13\\lib\\site-packages (from llama-index-readers-file<0.5.0,>=0.4.0->llama-index) (0.0.26)\n",
      "Requirement already satisfied: llama-parse>=0.5.0 in c:\\users\\peter\\appdata\\local\\pypoetry\\cache\\virtualenvs\\llama-index-cmem-ugamzsbq-py3.13\\lib\\site-packages (from llama-index-readers-llama-parse>=0.4.0->llama-index) (0.5.17)\n",
      "Requirement already satisfied: click in c:\\users\\peter\\appdata\\local\\pypoetry\\cache\\virtualenvs\\llama-index-cmem-ugamzsbq-py3.13\\lib\\site-packages (from nltk>3.8.1->llama-index) (8.1.7)\n",
      "Requirement already satisfied: joblib in c:\\users\\peter\\appdata\\local\\pypoetry\\cache\\virtualenvs\\llama-index-cmem-ugamzsbq-py3.13\\lib\\site-packages (from nltk>3.8.1->llama-index) (1.4.2)\n",
      "Requirement already satisfied: regex>=2021.8.3 in c:\\users\\peter\\appdata\\local\\pypoetry\\cache\\virtualenvs\\llama-index-cmem-ugamzsbq-py3.13\\lib\\site-packages (from nltk>3.8.1->llama-index) (2024.11.6)\n",
      "Requirement already satisfied: isodate<0.7.0,>=0.6.0 in c:\\users\\peter\\appdata\\local\\pypoetry\\cache\\virtualenvs\\llama-index-cmem-ugamzsbq-py3.13\\lib\\site-packages (from rdflib<7.0.0,>=6.3.2->cmem-cmempy) (0.6.1)\n",
      "Requirement already satisfied: charset-normalizer<4,>=2 in c:\\users\\peter\\appdata\\local\\pypoetry\\cache\\virtualenvs\\llama-index-cmem-ugamzsbq-py3.13\\lib\\site-packages (from requests<3.0.0,>=2.31.0->cmem-cmempy) (3.4.0)\n",
      "Requirement already satisfied: idna<4,>=2.5 in c:\\users\\peter\\appdata\\local\\pypoetry\\cache\\virtualenvs\\llama-index-cmem-ugamzsbq-py3.13\\lib\\site-packages (from requests<3.0.0,>=2.31.0->cmem-cmempy) (3.10)\n",
      "Requirement already satisfied: urllib3<3,>=1.21.1 in c:\\users\\peter\\appdata\\local\\pypoetry\\cache\\virtualenvs\\llama-index-cmem-ugamzsbq-py3.13\\lib\\site-packages (from requests<3.0.0,>=2.31.0->cmem-cmempy) (2.2.3)\n",
      "Requirement already satisfied: aiohappyeyeballs>=2.3.0 in c:\\users\\peter\\appdata\\local\\pypoetry\\cache\\virtualenvs\\llama-index-cmem-ugamzsbq-py3.13\\lib\\site-packages (from aiohttp<4.0.0,>=3.8.6->llama-index-core<0.13.0,>=0.12.5->llama-index) (2.4.4)\n",
      "Requirement already satisfied: aiosignal>=1.1.2 in c:\\users\\peter\\appdata\\local\\pypoetry\\cache\\virtualenvs\\llama-index-cmem-ugamzsbq-py3.13\\lib\\site-packages (from aiohttp<4.0.0,>=3.8.6->llama-index-core<0.13.0,>=0.12.5->llama-index) (1.3.2)\n",
      "Requirement already satisfied: attrs>=17.3.0 in c:\\users\\peter\\appdata\\local\\pypoetry\\cache\\virtualenvs\\llama-index-cmem-ugamzsbq-py3.13\\lib\\site-packages (from aiohttp<4.0.0,>=3.8.6->llama-index-core<0.13.0,>=0.12.5->llama-index) (24.3.0)\n",
      "Requirement already satisfied: frozenlist>=1.1.1 in c:\\users\\peter\\appdata\\local\\pypoetry\\cache\\virtualenvs\\llama-index-cmem-ugamzsbq-py3.13\\lib\\site-packages (from aiohttp<4.0.0,>=3.8.6->llama-index-core<0.13.0,>=0.12.5->llama-index) (1.5.0)\n",
      "Requirement already satisfied: multidict<7.0,>=4.5 in c:\\users\\peter\\appdata\\local\\pypoetry\\cache\\virtualenvs\\llama-index-cmem-ugamzsbq-py3.13\\lib\\site-packages (from aiohttp<4.0.0,>=3.8.6->llama-index-core<0.13.0,>=0.12.5->llama-index) (6.1.0)\n",
      "Requirement already satisfied: propcache>=0.2.0 in c:\\users\\peter\\appdata\\local\\pypoetry\\cache\\virtualenvs\\llama-index-cmem-ugamzsbq-py3.13\\lib\\site-packages (from aiohttp<4.0.0,>=3.8.6->llama-index-core<0.13.0,>=0.12.5->llama-index) (0.2.1)\n",
      "Requirement already satisfied: yarl<2.0,>=1.17.0 in c:\\users\\peter\\appdata\\local\\pypoetry\\cache\\virtualenvs\\llama-index-cmem-ugamzsbq-py3.13\\lib\\site-packages (from aiohttp<4.0.0,>=3.8.6->llama-index-core<0.13.0,>=0.12.5->llama-index) (1.18.3)\n",
      "Requirement already satisfied: soupsieve>1.2 in c:\\users\\peter\\appdata\\local\\pypoetry\\cache\\virtualenvs\\llama-index-cmem-ugamzsbq-py3.13\\lib\\site-packages (from beautifulsoup4<5.0.0,>=4.12.3->llama-index-readers-file<0.5.0,>=0.4.0->llama-index) (2.6)\n",
      "Requirement already satisfied: six in c:\\users\\peter\\appdata\\local\\pypoetry\\cache\\virtualenvs\\llama-index-cmem-ugamzsbq-py3.13\\lib\\site-packages (from isodate<0.7.0,>=0.6.0->rdflib<7.0.0,>=6.3.2->cmem-cmempy) (1.17.0)\n",
      "Requirement already satisfied: anyio in c:\\users\\peter\\appdata\\local\\pypoetry\\cache\\virtualenvs\\llama-index-cmem-ugamzsbq-py3.13\\lib\\site-packages (from httpx->llama-index-core<0.13.0,>=0.12.5->llama-index) (4.7.0)\n",
      "Requirement already satisfied: httpcore==1.* in c:\\users\\peter\\appdata\\local\\pypoetry\\cache\\virtualenvs\\llama-index-cmem-ugamzsbq-py3.13\\lib\\site-packages (from httpx->llama-index-core<0.13.0,>=0.12.5->llama-index) (1.0.7)\n",
      "Requirement already satisfied: h11<0.15,>=0.13 in c:\\users\\peter\\appdata\\local\\pypoetry\\cache\\virtualenvs\\llama-index-cmem-ugamzsbq-py3.13\\lib\\site-packages (from httpcore==1.*->httpx->llama-index-core<0.13.0,>=0.12.5->llama-index) (0.14.0)\n",
      "Requirement already satisfied: colorama in c:\\users\\peter\\appdata\\local\\pypoetry\\cache\\virtualenvs\\llama-index-cmem-ugamzsbq-py3.13\\lib\\site-packages (from click->nltk>3.8.1->llama-index) (0.4.6)\n",
      "Requirement already satisfied: distro<2,>=1.7.0 in c:\\users\\peter\\appdata\\local\\pypoetry\\cache\\virtualenvs\\llama-index-cmem-ugamzsbq-py3.13\\lib\\site-packages (from openai>=1.14.0->llama-index-agent-openai<0.5.0,>=0.4.0->llama-index) (1.9.0)\n",
      "Requirement already satisfied: jiter<1,>=0.4.0 in c:\\users\\peter\\appdata\\local\\pypoetry\\cache\\virtualenvs\\llama-index-cmem-ugamzsbq-py3.13\\lib\\site-packages (from openai>=1.14.0->llama-index-agent-openai<0.5.0,>=0.4.0->llama-index) (0.8.2)\n",
      "Requirement already satisfied: sniffio in c:\\users\\peter\\appdata\\local\\pypoetry\\cache\\virtualenvs\\llama-index-cmem-ugamzsbq-py3.13\\lib\\site-packages (from openai>=1.14.0->llama-index-agent-openai<0.5.0,>=0.4.0->llama-index) (1.3.1)\n",
      "Requirement already satisfied: annotated-types>=0.6.0 in c:\\users\\peter\\appdata\\local\\pypoetry\\cache\\virtualenvs\\llama-index-cmem-ugamzsbq-py3.13\\lib\\site-packages (from pydantic>=2.8.0->llama-index-core<0.13.0,>=0.12.5->llama-index) (0.7.0)\n",
      "Requirement already satisfied: pydantic-core==2.27.1 in c:\\users\\peter\\appdata\\local\\pypoetry\\cache\\virtualenvs\\llama-index-cmem-ugamzsbq-py3.13\\lib\\site-packages (from pydantic>=2.8.0->llama-index-core<0.13.0,>=0.12.5->llama-index) (2.27.1)\n",
      "Requirement already satisfied: greenlet!=0.4.17 in c:\\users\\peter\\appdata\\local\\pypoetry\\cache\\virtualenvs\\llama-index-cmem-ugamzsbq-py3.13\\lib\\site-packages (from SQLAlchemy[asyncio]>=1.4.49->llama-index-core<0.13.0,>=0.12.5->llama-index) (3.1.1)\n",
      "Requirement already satisfied: mypy-extensions>=0.3.0 in c:\\users\\peter\\appdata\\local\\pypoetry\\cache\\virtualenvs\\llama-index-cmem-ugamzsbq-py3.13\\lib\\site-packages (from typing-inspect>=0.8.0->llama-index-core<0.13.0,>=0.12.5->llama-index) (1.0.0)\n",
      "Requirement already satisfied: marshmallow<4.0.0,>=3.18.0 in c:\\users\\peter\\appdata\\local\\pypoetry\\cache\\virtualenvs\\llama-index-cmem-ugamzsbq-py3.13\\lib\\site-packages (from dataclasses-json->llama-index-core<0.13.0,>=0.12.5->llama-index) (3.23.1)\n",
      "Requirement already satisfied: python-dateutil>=2.8.2 in c:\\users\\peter\\appdata\\local\\pypoetry\\cache\\virtualenvs\\llama-index-cmem-ugamzsbq-py3.13\\lib\\site-packages (from pandas->llama-index-legacy<0.10.0,>=0.9.48->llama-index) (2.9.0.post0)\n",
      "Requirement already satisfied: pytz>=2020.1 in c:\\users\\peter\\appdata\\local\\pypoetry\\cache\\virtualenvs\\llama-index-cmem-ugamzsbq-py3.13\\lib\\site-packages (from pandas->llama-index-legacy<0.10.0,>=0.9.48->llama-index) (2024.2)\n",
      "Requirement already satisfied: tzdata>=2022.7 in c:\\users\\peter\\appdata\\local\\pypoetry\\cache\\virtualenvs\\llama-index-cmem-ugamzsbq-py3.13\\lib\\site-packages (from pandas->llama-index-legacy<0.10.0,>=0.9.48->llama-index) (2024.2)\n",
      "Requirement already satisfied: packaging>=17.0 in c:\\users\\peter\\appdata\\local\\pypoetry\\cache\\virtualenvs\\llama-index-cmem-ugamzsbq-py3.13\\lib\\site-packages (from marshmallow<4.0.0,>=3.18.0->dataclasses-json->llama-index-core<0.13.0,>=0.12.5->llama-index) (24.2)\n",
      "Note: you may need to restart the kernel to use updated packages.\n"
     ]
    }
   ],
   "source": [
    "%pip install cmem-cmempy llama-index python-dotenv"
   ]
  },
  {
   "cell_type": "markdown",
   "metadata": {},
   "source": [
    "Load environment from `.env` file. \n",
    "Start by `cp .env-template .env` and edit the content of `.env` accordingly."
   ]
  },
  {
   "cell_type": "code",
   "execution_count": 9,
   "metadata": {},
   "outputs": [
    {
     "name": "stdout",
     "output_type": "stream",
     "text": [
      "The dotenv extension is already loaded. To reload it, use:\n",
      "  %reload_ext dotenv\n"
     ]
    }
   ],
   "source": [
    "%load_ext dotenv\n",
    "%dotenv"
   ]
  },
  {
   "cell_type": "markdown",
   "metadata": {},
   "source": [
    "Set up the LLM"
   ]
  },
  {
   "cell_type": "code",
   "execution_count": 10,
   "metadata": {},
   "outputs": [],
   "source": [
    "from llama_index.core import Settings\n",
    "from llama_index.llms.openai import OpenAI\n",
    "\n",
    "model=\"gpt-4o-mini\"\n",
    "llm = OpenAI(model=model)\n",
    "Settings.llm = llm"
   ]
  },
  {
   "cell_type": "markdown",
   "metadata": {},
   "source": [
    "Initialize the query builder with an ontology graph and a context (integration) graph."
   ]
  },
  {
   "cell_type": "code",
   "execution_count": 11,
   "metadata": {},
   "outputs": [],
   "source": [
    "from llama_index_cmem.utils.cmem_query_builder import CMEMQueryBuilder\n",
    "\n",
    "ontology_graph = \"http://ld.company.org/prod-vocab/\"\n",
    "context_graph = \"http://ld.company.org/prod-inst/\"\n",
    "\n",
    "cmem_query_builder = CMEMQueryBuilder(ontology_graph=ontology_graph, context_graph=context_graph, llm=llm)"
   ]
  },
  {
   "cell_type": "markdown",
   "metadata": {},
   "source": [
    "## CMEMQuery\n",
    "\n",
    "Now define your natural language question and let the query builder generate a SPARQL query.\n",
    "The query builder return a CMEMQuery object which holds llm predictions and sparql extracts. This allows to refine the SPARQL query as often as you need."
   ]
  },
  {
   "cell_type": "code",
   "execution_count": 12,
   "metadata": {},
   "outputs": [
    {
     "data": {
      "text/markdown": [
       "## Prompt: _What is the product category where the most product managers are experts in?_"
      ],
      "text/plain": [
       "<IPython.core.display.Markdown object>"
      ]
     },
     "metadata": {},
     "output_type": "display_data"
    },
    {
     "data": {
      "text/markdown": [
       "### Prediction\n",
       "\n",
       "To answer the user question \"What is the product category where the most product managers are experts in?\", we need to construct a SPARQL query that counts the number of product managers associated with each product category and then retrieves the category with the highest count.\n",
       "\n",
       "### SPARQL Query\n",
       "\n",
       "```sparql\n",
       "PREFIX pv: <http://ld.company.org/prod-vocab/>\n",
       "PREFIX xsd: <http://www.w3.org/2001/XMLSchema#>\n",
       "\n",
       "SELECT ?category (COUNT(?manager) AS ?managerCount)\n",
       "WHERE {\n",
       "    ?manager a pv:Manager .\n",
       "    ?manager pv:areaOfExpertise ?category .\n",
       "}\n",
       "GROUP BY ?category\n",
       "ORDER BY DESC(?managerCount)\n",
       "LIMIT 1\n",
       "```\n",
       "\n",
       "### Explanation of the Query\n",
       "\n",
       "1. **PREFIX Definitions**: We define the necessary prefixes for our query. Here, `pv:` is used for the product vocabulary.\n",
       "\n",
       "2. **SELECT Clause**: We select two variables:\n",
       "   - `?category`: This will hold the product category.\n",
       "   - `COUNT(?manager) AS ?managerCount`: This counts the number of product managers associated with each category.\n",
       "\n",
       "3. **WHERE Clause**: This is where we specify the conditions for our query:\n",
       "   - `?manager a pv:Manager`: This line filters the results to include only instances of `pv:Manager`, which represents product managers.\n",
       "   - `?manager pv:areaOfExpertise ?category`: This line retrieves the product category that each manager is an expert in.\n",
       "\n",
       "4. **GROUP BY Clause**: We group the results by `?category` to aggregate the counts of managers for each category.\n",
       "\n",
       "5. **ORDER BY Clause**: We order the results in descending order based on the count of managers (`?managerCount`). This ensures that the category with the most managers appears first.\n",
       "\n",
       "6. **LIMIT Clause**: We limit the results to 1, so we only get the category with the highest count of product managers.\n",
       "\n",
       "### Conclusion\n",
       "\n",
       "This query effectively retrieves the product category with the highest number of product managers who are experts in that category, thus answering the user's question.\n",
       "\n"
      ],
      "text/plain": [
       "<IPython.core.display.Markdown object>"
      ]
     },
     "metadata": {},
     "output_type": "display_data"
    },
    {
     "data": {
      "text/markdown": [
       "### SPARQL\n",
       "\n",
       "```sparql\n",
       "PREFIX pv: <http://ld.company.org/prod-vocab/>\n",
       "PREFIX xsd: <http://www.w3.org/2001/XMLSchema#>\n",
       "\n",
       "SELECT ?category (COUNT(?manager) AS ?managerCount)\n",
       "WHERE {\n",
       "    ?manager a pv:Manager .\n",
       "    ?manager pv:areaOfExpertise ?category .\n",
       "}\n",
       "GROUP BY ?category\n",
       "ORDER BY DESC(?managerCount)\n",
       "LIMIT 1```\n",
       "\n"
      ],
      "text/plain": [
       "<IPython.core.display.Markdown object>"
      ]
     },
     "metadata": {},
     "output_type": "display_data"
    }
   ],
   "source": [
    "from IPython.display import display, Markdown\n",
    "from llama_index_cmem.utils.cmem_query import CMEMQuery\n",
    "\n",
    "def generate(prompt) -> CMEMQuery:\n",
    "    display(Markdown(f\"## Prompt: _{prompt}_\"))\n",
    "    cmem_query = cmem_query_builder.generate_sparql(question=prompt)\n",
    "    display(Markdown(f\"### Prediction\\n\\n{str(cmem_query.get_last_prediction())}\\n\\n\"))\n",
    "    display(Markdown(f\"### SPARQL\\n\\n```sparql\\n{str(cmem_query.get_last_sparql())}```\\n\\n\"))\n",
    "    return cmem_query\n",
    "\n",
    "question = \"What is the product category where the most product managers are experts in?\"\n",
    "cmem_query = generate(question)"
   ]
  },
  {
   "cell_type": "markdown",
   "metadata": {},
   "source": [
    "### Refine query\n",
    "\n",
    "Sometimes the generated SPARQL don't work as expected. If so the query builder can be used to refine the generated SPARQL."
   ]
  },
  {
   "cell_type": "code",
   "execution_count": 13,
   "metadata": {},
   "outputs": [
    {
     "data": {
      "text/markdown": [
       "## Prompt: _What is the product category where the most product managers are experts in?_"
      ],
      "text/plain": [
       "<IPython.core.display.Markdown object>"
      ]
     },
     "metadata": {},
     "output_type": "display_data"
    },
    {
     "data": {
      "text/markdown": [
       "### Prediction list\n",
       "\n"
      ],
      "text/plain": [
       "<IPython.core.display.Markdown object>"
      ]
     },
     "metadata": {},
     "output_type": "display_data"
    },
    {
     "data": {
      "text/markdown": [
       "To answer the user question \"What is the product category where the most product managers are experts in?\", we need to construct a SPARQL query that counts the number of product managers associated with each product category and then retrieves the category with the highest count.\n",
       "\n",
       "### SPARQL Query\n",
       "\n",
       "```sparql\n",
       "PREFIX pv: <http://ld.company.org/prod-vocab/>\n",
       "PREFIX xsd: <http://www.w3.org/2001/XMLSchema#>\n",
       "\n",
       "SELECT ?category (COUNT(?manager) AS ?managerCount)\n",
       "WHERE {\n",
       "    ?manager a pv:Manager .\n",
       "    ?manager pv:areaOfExpertise ?category .\n",
       "}\n",
       "GROUP BY ?category\n",
       "ORDER BY DESC(?managerCount)\n",
       "LIMIT 1\n",
       "```\n",
       "\n",
       "### Explanation of the Query\n",
       "\n",
       "1. **PREFIX Definitions**: We define the necessary prefixes for our query. Here, `pv:` is used for the product vocabulary.\n",
       "\n",
       "2. **SELECT Clause**: We select two variables:\n",
       "   - `?category`: This will hold the product category.\n",
       "   - `COUNT(?manager) AS ?managerCount`: This counts the number of product managers associated with each category.\n",
       "\n",
       "3. **WHERE Clause**: This is where we specify the conditions for our query:\n",
       "   - `?manager a pv:Manager`: This line filters the results to include only instances of `pv:Manager`, which represents product managers.\n",
       "   - `?manager pv:areaOfExpertise ?category`: This line retrieves the product category that each manager is an expert in.\n",
       "\n",
       "4. **GROUP BY Clause**: We group the results by `?category` to aggregate the counts of managers for each category.\n",
       "\n",
       "5. **ORDER BY Clause**: We order the results in descending order based on the count of managers (`?managerCount`). This ensures that the category with the most managers appears first.\n",
       "\n",
       "6. **LIMIT Clause**: We limit the results to 1, so we only get the category with the highest count of product managers.\n",
       "\n",
       "### Conclusion\n",
       "\n",
       "This query effectively retrieves the product category with the highest number of product managers who are experts in that category, thus answering the user's question.\n",
       "-----\n"
      ],
      "text/plain": [
       "<IPython.core.display.Markdown object>"
      ]
     },
     "metadata": {},
     "output_type": "display_data"
    },
    {
     "data": {
      "text/markdown": [
       "To refine the SPARQL query based on the user question \"What is the product category where the most product managers are experts in?\", we need to ensure that the query accurately counts the number of product managers associated with each product category and returns the category with the highest count.\n",
       "\n",
       "### Explanation of the Refinement:\n",
       "1. **Focus on Product Managers**: The query should specifically look for instances of `pv:Manager` that have an area of expertise in `pv:ProductCategory`.\n",
       "2. **Count Managers**: We will count the number of distinct managers for each category.\n",
       "3. **Ordering and Limiting**: The results should be ordered by the count of managers in descending order, and we will limit the results to return only the top category.\n",
       "\n",
       "### Refined SPARQL Query:\n",
       "```sparql\n",
       "PREFIX pv: <http://ld.company.org/prod-vocab/>\n",
       "PREFIX xsd: <http://www.w3.org/2001/XMLSchema#>\n",
       "\n",
       "SELECT ?category (COUNT(DISTINCT ?manager) AS ?managerCount)\n",
       "WHERE {\n",
       "    ?manager a pv:Manager .\n",
       "    ?manager pv:areaOfExpertise ?category .\n",
       "}\n",
       "GROUP BY ?category\n",
       "ORDER BY DESC(?managerCount)\n",
       "LIMIT 1\n",
       "```\n",
       "\n",
       "### Explanation of the Query:\n",
       "- **PREFIX Definitions**: We define the necessary prefixes for the vocabulary used in the query.\n",
       "- **SELECT Clause**: We select the product category (`?category`) and the count of distinct managers (`COUNT(DISTINCT ?manager) AS ?managerCount`).\n",
       "- **WHERE Clause**: \n",
       "  - We specify that `?manager` must be of type `pv:Manager`.\n",
       "  - We link each manager to their area of expertise, which is a product category (`?manager pv:areaOfExpertise ?category`).\n",
       "- **GROUP BY Clause**: We group the results by the product category to aggregate the counts of managers.\n",
       "- **ORDER BY Clause**: We order the results by the count of managers in descending order to get the category with the most managers at the top.\n",
       "- **LIMIT Clause**: We limit the results to only one entry, which will be the category with the highest count of product managers.\n",
       "\n",
       "This refined query should effectively answer the user's question while adhering to the specified RDF ontology.\n",
       "-----\n"
      ],
      "text/plain": [
       "<IPython.core.display.Markdown object>"
      ]
     },
     "metadata": {},
     "output_type": "display_data"
    },
    {
     "data": {
      "text/markdown": [
       "### SPARQL list\n",
       "\n"
      ],
      "text/plain": [
       "<IPython.core.display.Markdown object>"
      ]
     },
     "metadata": {},
     "output_type": "display_data"
    },
    {
     "data": {
      "text/markdown": [
       "```sparql\n",
       "PREFIX pv: <http://ld.company.org/prod-vocab/>\n",
       "PREFIX xsd: <http://www.w3.org/2001/XMLSchema#>\n",
       "\n",
       "SELECT ?category (COUNT(?manager) AS ?managerCount)\n",
       "WHERE {\n",
       "    ?manager a pv:Manager .\n",
       "    ?manager pv:areaOfExpertise ?category .\n",
       "}\n",
       "GROUP BY ?category\n",
       "ORDER BY DESC(?managerCount)\n",
       "LIMIT 1\n",
       "-----\n"
      ],
      "text/plain": [
       "<IPython.core.display.Markdown object>"
      ]
     },
     "metadata": {},
     "output_type": "display_data"
    },
    {
     "data": {
      "text/markdown": [
       "```sparql\n",
       "PREFIX pv: <http://ld.company.org/prod-vocab/>\n",
       "PREFIX xsd: <http://www.w3.org/2001/XMLSchema#>\n",
       "\n",
       "SELECT ?category (COUNT(DISTINCT ?manager) AS ?managerCount)\n",
       "WHERE {\n",
       "    ?manager a pv:Manager .\n",
       "    ?manager pv:areaOfExpertise ?category .\n",
       "}\n",
       "GROUP BY ?category\n",
       "ORDER BY DESC(?managerCount)\n",
       "LIMIT 1\n",
       "-----\n"
      ],
      "text/plain": [
       "<IPython.core.display.Markdown object>"
      ]
     },
     "metadata": {},
     "output_type": "display_data"
    }
   ],
   "source": [
    "def refine(prompt):\n",
    "    display(Markdown(f\"## Prompt: _{prompt}_\"))\n",
    "    cmem_query_refined = cmem_query_builder.refine_sparql(question=question, cmem_query=cmem_query)\n",
    "    display(Markdown(f\"### Prediction list\\n\\n\"))\n",
    "    for prediction in cmem_query_refined.get_prediction_list():\n",
    "        display(Markdown(f\"{str(prediction)}\\n-----\\n\"))\n",
    "    display(Markdown(f\"### SPARQL list\\n\\n\"))\n",
    "    for sparql in cmem_query_refined.get_sparql_list():\n",
    "        display(Markdown(f\"```sparql\\n{str(sparql)}\\n-----\\n\"))\n",
    "\n",
    "refine(question)"
   ]
  }
 ],
 "metadata": {
  "kernelspec": {
   "display_name": "llama-index-cmem-UgaMZsBQ-py3.13",
   "language": "python",
   "name": "python3"
  },
  "language_info": {
   "codemirror_mode": {
    "name": "ipython",
    "version": 3
   },
   "file_extension": ".py",
   "mimetype": "text/x-python",
   "name": "python",
   "nbconvert_exporter": "python",
   "pygments_lexer": "ipython3",
   "version": "3.13.0"
  }
 },
 "nbformat": 4,
 "nbformat_minor": 2
}
