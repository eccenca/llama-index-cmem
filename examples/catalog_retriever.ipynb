{
 "cells": [
  {
   "cell_type": "code",
   "id": "initial_id",
   "metadata": {
    "collapsed": true,
    "ExecuteTime": {
     "end_time": "2025-03-30T21:46:38.007834Z",
     "start_time": "2025-03-30T21:46:36.213399Z"
    }
   },
   "source": "%pip install cmem-cmempy llama-index python-dotenv",
   "outputs": [
    {
     "name": "stdout",
     "output_type": "stream",
     "text": [
      "Requirement already satisfied: cmem-cmempy in /home/saipraneeth/work/OS/llama-index-cmem/.venv/lib/python3.11/site-packages (24.3.0)\r\n",
      "Requirement already satisfied: llama-index in /home/saipraneeth/work/OS/llama-index-cmem/.venv/lib/python3.11/site-packages (0.12.18)\r\n",
      "Requirement already satisfied: python-dotenv in /home/saipraneeth/work/OS/llama-index-cmem/.venv/lib/python3.11/site-packages (1.0.1)\r\n",
      "Requirement already satisfied: certifi>=2023.7.22 in /home/saipraneeth/work/OS/llama-index-cmem/.venv/lib/python3.11/site-packages (from cmem-cmempy) (2025.1.31)\r\n",
      "Requirement already satisfied: pyparsing<4.0.0,>=3.1.1 in /home/saipraneeth/work/OS/llama-index-cmem/.venv/lib/python3.11/site-packages (from cmem-cmempy) (3.2.1)\r\n",
      "Requirement already satisfied: rdflib<7.0.0,>=6.3.2 in /home/saipraneeth/work/OS/llama-index-cmem/.venv/lib/python3.11/site-packages (from cmem-cmempy) (6.3.2)\r\n",
      "Requirement already satisfied: requests<3.0.0,>=2.31.0 in /home/saipraneeth/work/OS/llama-index-cmem/.venv/lib/python3.11/site-packages (from cmem-cmempy) (2.32.3)\r\n",
      "Requirement already satisfied: requests-toolbelt<2.0.0,>=1.0.0 in /home/saipraneeth/work/OS/llama-index-cmem/.venv/lib/python3.11/site-packages (from cmem-cmempy) (1.0.0)\r\n",
      "Requirement already satisfied: llama-index-agent-openai<0.5.0,>=0.4.0 in /home/saipraneeth/work/OS/llama-index-cmem/.venv/lib/python3.11/site-packages (from llama-index) (0.4.6)\r\n",
      "Requirement already satisfied: llama-index-cli<0.5.0,>=0.4.0 in /home/saipraneeth/work/OS/llama-index-cmem/.venv/lib/python3.11/site-packages (from llama-index) (0.4.0)\r\n",
      "Requirement already satisfied: llama-index-core<0.13.0,>=0.12.18 in /home/saipraneeth/work/OS/llama-index-cmem/.venv/lib/python3.11/site-packages (from llama-index) (0.12.18)\r\n",
      "Requirement already satisfied: llama-index-embeddings-openai<0.4.0,>=0.3.0 in /home/saipraneeth/work/OS/llama-index-cmem/.venv/lib/python3.11/site-packages (from llama-index) (0.3.1)\r\n",
      "Requirement already satisfied: llama-index-indices-managed-llama-cloud>=0.4.0 in /home/saipraneeth/work/OS/llama-index-cmem/.venv/lib/python3.11/site-packages (from llama-index) (0.6.7)\r\n",
      "Requirement already satisfied: llama-index-llms-openai<0.4.0,>=0.3.0 in /home/saipraneeth/work/OS/llama-index-cmem/.venv/lib/python3.11/site-packages (from llama-index) (0.3.20)\r\n",
      "Requirement already satisfied: llama-index-multi-modal-llms-openai<0.5.0,>=0.4.0 in /home/saipraneeth/work/OS/llama-index-cmem/.venv/lib/python3.11/site-packages (from llama-index) (0.4.3)\r\n",
      "Requirement already satisfied: llama-index-program-openai<0.4.0,>=0.3.0 in /home/saipraneeth/work/OS/llama-index-cmem/.venv/lib/python3.11/site-packages (from llama-index) (0.3.1)\r\n",
      "Requirement already satisfied: llama-index-question-gen-openai<0.4.0,>=0.3.0 in /home/saipraneeth/work/OS/llama-index-cmem/.venv/lib/python3.11/site-packages (from llama-index) (0.3.0)\r\n",
      "Requirement already satisfied: llama-index-readers-file<0.5.0,>=0.4.0 in /home/saipraneeth/work/OS/llama-index-cmem/.venv/lib/python3.11/site-packages (from llama-index) (0.4.5)\r\n",
      "Requirement already satisfied: llama-index-readers-llama-parse>=0.4.0 in /home/saipraneeth/work/OS/llama-index-cmem/.venv/lib/python3.11/site-packages (from llama-index) (0.4.0)\r\n",
      "Requirement already satisfied: nltk>3.8.1 in /home/saipraneeth/work/OS/llama-index-cmem/.venv/lib/python3.11/site-packages (from llama-index) (3.9.1)\r\n",
      "Requirement already satisfied: openai>=1.14.0 in /home/saipraneeth/work/OS/llama-index-cmem/.venv/lib/python3.11/site-packages (from llama-index-agent-openai<0.5.0,>=0.4.0->llama-index) (1.63.2)\r\n",
      "Requirement already satisfied: PyYAML>=6.0.1 in /home/saipraneeth/work/OS/llama-index-cmem/.venv/lib/python3.11/site-packages (from llama-index-core<0.13.0,>=0.12.18->llama-index) (6.0.2)\r\n",
      "Requirement already satisfied: SQLAlchemy>=1.4.49 in /home/saipraneeth/work/OS/llama-index-cmem/.venv/lib/python3.11/site-packages (from SQLAlchemy[asyncio]>=1.4.49->llama-index-core<0.13.0,>=0.12.18->llama-index) (2.0.38)\r\n",
      "Requirement already satisfied: aiohttp<4.0.0,>=3.8.6 in /home/saipraneeth/work/OS/llama-index-cmem/.venv/lib/python3.11/site-packages (from llama-index-core<0.13.0,>=0.12.18->llama-index) (3.11.12)\r\n",
      "Requirement already satisfied: dataclasses-json in /home/saipraneeth/work/OS/llama-index-cmem/.venv/lib/python3.11/site-packages (from llama-index-core<0.13.0,>=0.12.18->llama-index) (0.6.7)\r\n",
      "Requirement already satisfied: deprecated>=1.2.9.3 in /home/saipraneeth/work/OS/llama-index-cmem/.venv/lib/python3.11/site-packages (from llama-index-core<0.13.0,>=0.12.18->llama-index) (1.2.18)\r\n",
      "Requirement already satisfied: dirtyjson<2.0.0,>=1.0.8 in /home/saipraneeth/work/OS/llama-index-cmem/.venv/lib/python3.11/site-packages (from llama-index-core<0.13.0,>=0.12.18->llama-index) (1.0.8)\r\n",
      "Requirement already satisfied: filetype<2.0.0,>=1.2.0 in /home/saipraneeth/work/OS/llama-index-cmem/.venv/lib/python3.11/site-packages (from llama-index-core<0.13.0,>=0.12.18->llama-index) (1.2.0)\r\n",
      "Requirement already satisfied: fsspec>=2023.5.0 in /home/saipraneeth/work/OS/llama-index-cmem/.venv/lib/python3.11/site-packages (from llama-index-core<0.13.0,>=0.12.18->llama-index) (2025.2.0)\r\n",
      "Requirement already satisfied: httpx in /home/saipraneeth/work/OS/llama-index-cmem/.venv/lib/python3.11/site-packages (from llama-index-core<0.13.0,>=0.12.18->llama-index) (0.28.1)\r\n",
      "Requirement already satisfied: nest-asyncio<2.0.0,>=1.5.8 in /home/saipraneeth/work/OS/llama-index-cmem/.venv/lib/python3.11/site-packages (from llama-index-core<0.13.0,>=0.12.18->llama-index) (1.6.0)\r\n",
      "Requirement already satisfied: networkx>=3.0 in /home/saipraneeth/work/OS/llama-index-cmem/.venv/lib/python3.11/site-packages (from llama-index-core<0.13.0,>=0.12.18->llama-index) (3.4.2)\r\n",
      "Requirement already satisfied: numpy in /home/saipraneeth/work/OS/llama-index-cmem/.venv/lib/python3.11/site-packages (from llama-index-core<0.13.0,>=0.12.18->llama-index) (2.2.3)\r\n",
      "Requirement already satisfied: pillow>=9.0.0 in /home/saipraneeth/work/OS/llama-index-cmem/.venv/lib/python3.11/site-packages (from llama-index-core<0.13.0,>=0.12.18->llama-index) (11.1.0)\r\n",
      "Requirement already satisfied: pydantic>=2.8.0 in /home/saipraneeth/work/OS/llama-index-cmem/.venv/lib/python3.11/site-packages (from llama-index-core<0.13.0,>=0.12.18->llama-index) (2.10.6)\r\n",
      "Requirement already satisfied: tenacity!=8.4.0,<10.0.0,>=8.2.0 in /home/saipraneeth/work/OS/llama-index-cmem/.venv/lib/python3.11/site-packages (from llama-index-core<0.13.0,>=0.12.18->llama-index) (9.0.0)\r\n",
      "Requirement already satisfied: tiktoken>=0.3.3 in /home/saipraneeth/work/OS/llama-index-cmem/.venv/lib/python3.11/site-packages (from llama-index-core<0.13.0,>=0.12.18->llama-index) (0.9.0)\r\n",
      "Requirement already satisfied: tqdm<5.0.0,>=4.66.1 in /home/saipraneeth/work/OS/llama-index-cmem/.venv/lib/python3.11/site-packages (from llama-index-core<0.13.0,>=0.12.18->llama-index) (4.67.1)\r\n",
      "Requirement already satisfied: typing-extensions>=4.5.0 in /home/saipraneeth/work/OS/llama-index-cmem/.venv/lib/python3.11/site-packages (from llama-index-core<0.13.0,>=0.12.18->llama-index) (4.12.2)\r\n",
      "Requirement already satisfied: typing-inspect>=0.8.0 in /home/saipraneeth/work/OS/llama-index-cmem/.venv/lib/python3.11/site-packages (from llama-index-core<0.13.0,>=0.12.18->llama-index) (0.9.0)\r\n",
      "Requirement already satisfied: wrapt in /home/saipraneeth/work/OS/llama-index-cmem/.venv/lib/python3.11/site-packages (from llama-index-core<0.13.0,>=0.12.18->llama-index) (1.17.2)\r\n",
      "Requirement already satisfied: llama-cloud<0.2.0,>=0.1.8 in /home/saipraneeth/work/OS/llama-index-cmem/.venv/lib/python3.11/site-packages (from llama-index-indices-managed-llama-cloud>=0.4.0->llama-index) (0.1.12)\r\n",
      "Requirement already satisfied: beautifulsoup4<5.0.0,>=4.12.3 in /home/saipraneeth/work/OS/llama-index-cmem/.venv/lib/python3.11/site-packages (from llama-index-readers-file<0.5.0,>=0.4.0->llama-index) (4.13.3)\r\n",
      "Requirement already satisfied: pandas in /home/saipraneeth/work/OS/llama-index-cmem/.venv/lib/python3.11/site-packages (from llama-index-readers-file<0.5.0,>=0.4.0->llama-index) (2.2.3)\r\n",
      "Requirement already satisfied: pypdf<6.0.0,>=5.1.0 in /home/saipraneeth/work/OS/llama-index-cmem/.venv/lib/python3.11/site-packages (from llama-index-readers-file<0.5.0,>=0.4.0->llama-index) (5.3.0)\r\n",
      "Requirement already satisfied: striprtf<0.0.27,>=0.0.26 in /home/saipraneeth/work/OS/llama-index-cmem/.venv/lib/python3.11/site-packages (from llama-index-readers-file<0.5.0,>=0.4.0->llama-index) (0.0.26)\r\n",
      "Requirement already satisfied: llama-parse>=0.5.0 in /home/saipraneeth/work/OS/llama-index-cmem/.venv/lib/python3.11/site-packages (from llama-index-readers-llama-parse>=0.4.0->llama-index) (0.6.1)\r\n",
      "Requirement already satisfied: click in /home/saipraneeth/work/OS/llama-index-cmem/.venv/lib/python3.11/site-packages (from nltk>3.8.1->llama-index) (8.1.8)\r\n",
      "Requirement already satisfied: joblib in /home/saipraneeth/work/OS/llama-index-cmem/.venv/lib/python3.11/site-packages (from nltk>3.8.1->llama-index) (1.4.2)\r\n",
      "Requirement already satisfied: regex>=2021.8.3 in /home/saipraneeth/work/OS/llama-index-cmem/.venv/lib/python3.11/site-packages (from nltk>3.8.1->llama-index) (2024.11.6)\r\n",
      "Requirement already satisfied: isodate<0.7.0,>=0.6.0 in /home/saipraneeth/work/OS/llama-index-cmem/.venv/lib/python3.11/site-packages (from rdflib<7.0.0,>=6.3.2->cmem-cmempy) (0.6.1)\r\n",
      "Requirement already satisfied: charset-normalizer<4,>=2 in /home/saipraneeth/work/OS/llama-index-cmem/.venv/lib/python3.11/site-packages (from requests<3.0.0,>=2.31.0->cmem-cmempy) (3.4.1)\r\n",
      "Requirement already satisfied: idna<4,>=2.5 in /home/saipraneeth/work/OS/llama-index-cmem/.venv/lib/python3.11/site-packages (from requests<3.0.0,>=2.31.0->cmem-cmempy) (3.10)\r\n",
      "Requirement already satisfied: urllib3<3,>=1.21.1 in /home/saipraneeth/work/OS/llama-index-cmem/.venv/lib/python3.11/site-packages (from requests<3.0.0,>=2.31.0->cmem-cmempy) (2.3.0)\r\n",
      "Requirement already satisfied: aiohappyeyeballs>=2.3.0 in /home/saipraneeth/work/OS/llama-index-cmem/.venv/lib/python3.11/site-packages (from aiohttp<4.0.0,>=3.8.6->llama-index-core<0.13.0,>=0.12.18->llama-index) (2.4.6)\r\n",
      "Requirement already satisfied: aiosignal>=1.1.2 in /home/saipraneeth/work/OS/llama-index-cmem/.venv/lib/python3.11/site-packages (from aiohttp<4.0.0,>=3.8.6->llama-index-core<0.13.0,>=0.12.18->llama-index) (1.3.2)\r\n",
      "Requirement already satisfied: attrs>=17.3.0 in /home/saipraneeth/work/OS/llama-index-cmem/.venv/lib/python3.11/site-packages (from aiohttp<4.0.0,>=3.8.6->llama-index-core<0.13.0,>=0.12.18->llama-index) (25.1.0)\r\n",
      "Requirement already satisfied: frozenlist>=1.1.1 in /home/saipraneeth/work/OS/llama-index-cmem/.venv/lib/python3.11/site-packages (from aiohttp<4.0.0,>=3.8.6->llama-index-core<0.13.0,>=0.12.18->llama-index) (1.5.0)\r\n",
      "Requirement already satisfied: multidict<7.0,>=4.5 in /home/saipraneeth/work/OS/llama-index-cmem/.venv/lib/python3.11/site-packages (from aiohttp<4.0.0,>=3.8.6->llama-index-core<0.13.0,>=0.12.18->llama-index) (6.1.0)\r\n",
      "Requirement already satisfied: propcache>=0.2.0 in /home/saipraneeth/work/OS/llama-index-cmem/.venv/lib/python3.11/site-packages (from aiohttp<4.0.0,>=3.8.6->llama-index-core<0.13.0,>=0.12.18->llama-index) (0.2.1)\r\n",
      "Requirement already satisfied: yarl<2.0,>=1.17.0 in /home/saipraneeth/work/OS/llama-index-cmem/.venv/lib/python3.11/site-packages (from aiohttp<4.0.0,>=3.8.6->llama-index-core<0.13.0,>=0.12.18->llama-index) (1.18.3)\r\n",
      "Requirement already satisfied: soupsieve>1.2 in /home/saipraneeth/work/OS/llama-index-cmem/.venv/lib/python3.11/site-packages (from beautifulsoup4<5.0.0,>=4.12.3->llama-index-readers-file<0.5.0,>=0.4.0->llama-index) (2.6)\r\n",
      "Requirement already satisfied: six in /home/saipraneeth/work/OS/llama-index-cmem/.venv/lib/python3.11/site-packages (from isodate<0.7.0,>=0.6.0->rdflib<7.0.0,>=6.3.2->cmem-cmempy) (1.17.0)\r\n",
      "Requirement already satisfied: anyio in /home/saipraneeth/work/OS/llama-index-cmem/.venv/lib/python3.11/site-packages (from httpx->llama-index-core<0.13.0,>=0.12.18->llama-index) (4.8.0)\r\n",
      "Requirement already satisfied: httpcore==1.* in /home/saipraneeth/work/OS/llama-index-cmem/.venv/lib/python3.11/site-packages (from httpx->llama-index-core<0.13.0,>=0.12.18->llama-index) (1.0.7)\r\n",
      "Requirement already satisfied: h11<0.15,>=0.13 in /home/saipraneeth/work/OS/llama-index-cmem/.venv/lib/python3.11/site-packages (from httpcore==1.*->httpx->llama-index-core<0.13.0,>=0.12.18->llama-index) (0.14.0)\r\n",
      "Requirement already satisfied: llama-cloud-services>=0.6.1 in /home/saipraneeth/work/OS/llama-index-cmem/.venv/lib/python3.11/site-packages (from llama-parse>=0.5.0->llama-index-readers-llama-parse>=0.4.0->llama-index) (0.6.1)\r\n",
      "Requirement already satisfied: distro<2,>=1.7.0 in /home/saipraneeth/work/OS/llama-index-cmem/.venv/lib/python3.11/site-packages (from openai>=1.14.0->llama-index-agent-openai<0.5.0,>=0.4.0->llama-index) (1.9.0)\r\n",
      "Requirement already satisfied: jiter<1,>=0.4.0 in /home/saipraneeth/work/OS/llama-index-cmem/.venv/lib/python3.11/site-packages (from openai>=1.14.0->llama-index-agent-openai<0.5.0,>=0.4.0->llama-index) (0.8.2)\r\n",
      "Requirement already satisfied: sniffio in /home/saipraneeth/work/OS/llama-index-cmem/.venv/lib/python3.11/site-packages (from openai>=1.14.0->llama-index-agent-openai<0.5.0,>=0.4.0->llama-index) (1.3.1)\r\n",
      "Requirement already satisfied: annotated-types>=0.6.0 in /home/saipraneeth/work/OS/llama-index-cmem/.venv/lib/python3.11/site-packages (from pydantic>=2.8.0->llama-index-core<0.13.0,>=0.12.18->llama-index) (0.7.0)\r\n",
      "Requirement already satisfied: pydantic-core==2.27.2 in /home/saipraneeth/work/OS/llama-index-cmem/.venv/lib/python3.11/site-packages (from pydantic>=2.8.0->llama-index-core<0.13.0,>=0.12.18->llama-index) (2.27.2)\r\n",
      "Requirement already satisfied: greenlet!=0.4.17 in /home/saipraneeth/work/OS/llama-index-cmem/.venv/lib/python3.11/site-packages (from SQLAlchemy>=1.4.49->SQLAlchemy[asyncio]>=1.4.49->llama-index-core<0.13.0,>=0.12.18->llama-index) (3.1.1)\r\n",
      "Requirement already satisfied: mypy-extensions>=0.3.0 in /home/saipraneeth/work/OS/llama-index-cmem/.venv/lib/python3.11/site-packages (from typing-inspect>=0.8.0->llama-index-core<0.13.0,>=0.12.18->llama-index) (1.0.0)\r\n",
      "Requirement already satisfied: marshmallow<4.0.0,>=3.18.0 in /home/saipraneeth/work/OS/llama-index-cmem/.venv/lib/python3.11/site-packages (from dataclasses-json->llama-index-core<0.13.0,>=0.12.18->llama-index) (3.26.1)\r\n",
      "Requirement already satisfied: python-dateutil>=2.8.2 in /home/saipraneeth/work/OS/llama-index-cmem/.venv/lib/python3.11/site-packages (from pandas->llama-index-readers-file<0.5.0,>=0.4.0->llama-index) (2.9.0.post0)\r\n",
      "Requirement already satisfied: pytz>=2020.1 in /home/saipraneeth/work/OS/llama-index-cmem/.venv/lib/python3.11/site-packages (from pandas->llama-index-readers-file<0.5.0,>=0.4.0->llama-index) (2025.1)\r\n",
      "Requirement already satisfied: tzdata>=2022.7 in /home/saipraneeth/work/OS/llama-index-cmem/.venv/lib/python3.11/site-packages (from pandas->llama-index-readers-file<0.5.0,>=0.4.0->llama-index) (2025.1)\r\n",
      "Requirement already satisfied: packaging>=17.0 in /home/saipraneeth/work/OS/llama-index-cmem/.venv/lib/python3.11/site-packages (from marshmallow<4.0.0,>=3.18.0->dataclasses-json->llama-index-core<0.13.0,>=0.12.18->llama-index) (24.2)\r\n",
      "Note: you may need to restart the kernel to use updated packages.\n"
     ]
    }
   ],
   "execution_count": 20
  },
  {
   "metadata": {
    "ExecuteTime": {
     "end_time": "2025-03-30T21:46:38.040885Z",
     "start_time": "2025-03-30T21:46:38.022629Z"
    }
   },
   "cell_type": "code",
   "source": [
    "%load_ext dotenv\n",
    "%dotenv\n",
    "%reload_ext dotenv"
   ],
   "id": "e8f630dac1e6814c",
   "outputs": [
    {
     "name": "stdout",
     "output_type": "stream",
     "text": [
      "The dotenv extension is already loaded. To reload it, use:\n",
      "  %reload_ext dotenv\n"
     ]
    }
   ],
   "execution_count": 21
  },
  {
   "metadata": {
    "ExecuteTime": {
     "end_time": "2025-03-30T21:46:38.089070Z",
     "start_time": "2025-03-30T21:46:38.081293Z"
    }
   },
   "cell_type": "code",
   "source": [
    "from llama_index.core import Settings, QueryBundle\n",
    "from llama_index.llms.openai import OpenAI\n",
    "\n",
    "model = \"gpt-4o-mini\"\n",
    "llm = OpenAI(model=model)\n",
    "Settings.llm = llm"
   ],
   "id": "9b2a23445f33c2cd",
   "outputs": [],
   "execution_count": 22
  },
  {
   "metadata": {},
   "cell_type": "markdown",
   "source": [
    "The CatalogRetriever allows using predefined queries from the CMEM query catalog to retrieve nodes from CMEM to be processed by an LLM.\n",
    "This example shows using the predefined query identifier for all services from product demo data."
   ],
   "id": "1e02ff9c3513a2e8"
  },
  {
   "metadata": {
    "ExecuteTime": {
     "end_time": "2025-03-30T21:46:41.955306Z",
     "start_time": "2025-03-30T21:46:38.136682Z"
    }
   },
   "cell_type": "code",
   "source": [
    "from llama_index_cmem.retrievers import CMEMQueryCatalogRetriever\n",
    "from IPython.display import JSON, Markdown\n",
    "\n",
    "retriever = CMEMQueryCatalogRetriever()\n",
    "nodes = retriever.retrieve(QueryBundle(query_str=\":all-service\"))\n",
    "for node in nodes:\n",
    "    display(Markdown(\"#### Metadata\\n\\n\"))\n",
    "    display(JSON(data=node.metadata))\n",
    "    display(Markdown(\"#### SPARQL Query\\n\\n\"))\n",
    "    display(Markdown(f\"```sparql\\n{node.metadata['text']}\\n```\"))"
   ],
   "id": "d0d3dcda2a012c4a",
   "outputs": [
    {
     "data": {
      "text/plain": [
       "<IPython.core.display.Markdown object>"
      ],
      "text/markdown": "#### Metadata\n\n"
     },
     "metadata": {},
     "output_type": "display_data"
    },
    {
     "data": {
      "text/plain": [
       "<IPython.core.display.JSON object>"
      ],
      "application/json": {
       "query": "https://ns.eccenca.com/data/queries/all-services",
       "label": "All Services",
       "description": "all services from products demo data",
       "text": "\nPREFIX rdf: <http://www.w3.org/1999/02/22-rdf-syntax-ns#>\nPREFIX pv: <http://ld.company.org/prod-vocab/>\nPREFIX pi: <http://ld.company.org/prod-inst/>\nPREFIX owl: <http://www.w3.org/2002/07/owl#>\nPREFIX rdfs: <http://www.w3.org/2000/01/rdf-schema#>\nPREFIX qry: <https://ns.eccenca.com/data/queries/>\nPREFIX shui: <https://vocab.eccenca.com/shui/>\nPREFIX purl: <http://purl.org/dc/terms/>\n\nSELECT *\nFROM pi:\nWHERE {\n    ?srv a pv:Service .\n    ?srv pv:hasProductManager ?pm .\n}\n"
      }
     },
     "metadata": {
      "application/json": {
       "expanded": false,
       "root": "root"
      }
     },
     "output_type": "display_data"
    },
    {
     "data": {
      "text/plain": [
       "<IPython.core.display.Markdown object>"
      ],
      "text/markdown": "#### SPARQL Query\n\n"
     },
     "metadata": {},
     "output_type": "display_data"
    },
    {
     "data": {
      "text/plain": [
       "<IPython.core.display.Markdown object>"
      ],
      "text/markdown": "```sparql\n\nPREFIX rdf: <http://www.w3.org/1999/02/22-rdf-syntax-ns#>\nPREFIX pv: <http://ld.company.org/prod-vocab/>\nPREFIX pi: <http://ld.company.org/prod-inst/>\nPREFIX owl: <http://www.w3.org/2002/07/owl#>\nPREFIX rdfs: <http://www.w3.org/2000/01/rdf-schema#>\nPREFIX qry: <https://ns.eccenca.com/data/queries/>\nPREFIX shui: <https://vocab.eccenca.com/shui/>\nPREFIX purl: <http://purl.org/dc/terms/>\n\nSELECT *\nFROM pi:\nWHERE {\n    ?srv a pv:Service .\n    ?srv pv:hasProductManager ?pm .\n}\n\n```"
     },
     "metadata": {},
     "output_type": "display_data"
    }
   ],
   "execution_count": 23
  },
  {
   "metadata": {},
   "cell_type": "markdown",
   "source": "It's also possible to use a query identifier together with a placeholder dict.",
   "id": "7fcdba09d9095d0d"
  },
  {
   "metadata": {
    "ExecuteTime": {
     "end_time": "2025-03-30T21:46:44.771476Z",
     "start_time": "2025-03-30T21:46:42.064598Z"
    }
   },
   "cell_type": "code",
   "source": [
    "retriever2 = CMEMQueryCatalogRetriever()\n",
    "nodes2 = retriever2.retrieve(QueryBundle(query_str=\"list classes for graph http://ld.company.org/prod-inst/\"))\n",
    "for node in nodes2:\n",
    "    display(Markdown(\"#### Metadata\\n\\n\"))\n",
    "    display(JSON(data=node.metadata))\n",
    "    display(Markdown(\"#### SPARQL Query\\n\\n\"))\n",
    "    display(Markdown(f\"```sparql\\n{node.metadata['text']}\\n```\"))"
   ],
   "id": "17b87c2a61e2ecb4",
   "outputs": [
    {
     "data": {
      "text/plain": [
       "<IPython.core.display.Markdown object>"
      ],
      "text/markdown": "#### Metadata\n\n"
     },
     "metadata": {},
     "output_type": "display_data"
    },
    {
     "data": {
      "text/plain": [
       "<IPython.core.display.JSON object>"
      ],
      "application/json": {
       "query": "https://ns.eccenca.com/data/queries/list-classes",
       "label": "ordered list of used classes for a graph",
       "description": "given a graph URI, returns a list of classes with instance count",
       "text": "SELECT ?class (COUNT(?s) AS ?instances )\nWHERE {\n  GRAPH <http://ld.company.org/prod-inst/> {\n\t  ?s a ?class.\n  }\n}\nGROUP BY ?class\nORDER BY DESC(?instances)"
      }
     },
     "metadata": {
      "application/json": {
       "expanded": false,
       "root": "root"
      }
     },
     "output_type": "display_data"
    },
    {
     "data": {
      "text/plain": [
       "<IPython.core.display.Markdown object>"
      ],
      "text/markdown": "#### SPARQL Query\n\n"
     },
     "metadata": {},
     "output_type": "display_data"
    },
    {
     "data": {
      "text/plain": [
       "<IPython.core.display.Markdown object>"
      ],
      "text/markdown": "```sparql\nSELECT ?class (COUNT(?s) AS ?instances )\nWHERE {\n  GRAPH <http://ld.company.org/prod-inst/> {\n\t  ?s a ?class.\n  }\n}\nGROUP BY ?class\nORDER BY DESC(?instances)\n```"
     },
     "metadata": {},
     "output_type": "display_data"
    }
   ],
   "execution_count": 24
  },
  {
   "metadata": {},
   "cell_type": "markdown",
   "source": "This example shows using the CMEMQueryCatalogRetriever to retrieve SPARQL queries for all services from the product demo data.",
   "id": "eb4f444d9d6473be"
  },
  {
   "metadata": {
    "ExecuteTime": {
     "end_time": "2025-03-30T21:46:47.968511Z",
     "start_time": "2025-03-30T21:46:44.880590Z"
    }
   },
   "cell_type": "code",
   "source": [
    "from llama_index_cmem.retrievers import CMEMQueryCatalogRetriever\n",
    "from IPython.display import JSON, Markdown\n",
    "\n",
    "retriever = CMEMQueryCatalogRetriever()\n",
    "nodes = retriever.retrieve(QueryBundle(query_str=\"Show me all services from product demo.\"))\n",
    "for node in nodes:\n",
    "    display(Markdown(\"#### Metadata\\n\\n\"))\n",
    "    display(JSON(data=node.metadata))\n",
    "    display(Markdown(\"#### SPARQL Query\\n\\n\"))\n",
    "    display(Markdown(f\"```sparql\\n{node.metadata['text']}\\n```\"))"
   ],
   "id": "1375f2c4c95f3bf5",
   "outputs": [
    {
     "data": {
      "text/plain": [
       "<IPython.core.display.Markdown object>"
      ],
      "text/markdown": "#### Metadata\n\n"
     },
     "metadata": {},
     "output_type": "display_data"
    },
    {
     "data": {
      "text/plain": [
       "<IPython.core.display.JSON object>"
      ],
      "application/json": {
       "query": "https://ns.eccenca.com/data/queries/all-services",
       "label": "All Services",
       "description": "all services from products demo data",
       "text": "\nPREFIX rdf: <http://www.w3.org/1999/02/22-rdf-syntax-ns#>\nPREFIX pv: <http://ld.company.org/prod-vocab/>\nPREFIX pi: <http://ld.company.org/prod-inst/>\nPREFIX owl: <http://www.w3.org/2002/07/owl#>\nPREFIX rdfs: <http://www.w3.org/2000/01/rdf-schema#>\nPREFIX qry: <https://ns.eccenca.com/data/queries/>\nPREFIX shui: <https://vocab.eccenca.com/shui/>\nPREFIX purl: <http://purl.org/dc/terms/>\n\nSELECT *\nFROM pi:\nWHERE {\n    ?srv a pv:Service .\n    ?srv pv:hasProductManager ?pm .\n}\n"
      }
     },
     "metadata": {
      "application/json": {
       "expanded": false,
       "root": "root"
      }
     },
     "output_type": "display_data"
    },
    {
     "data": {
      "text/plain": [
       "<IPython.core.display.Markdown object>"
      ],
      "text/markdown": "#### SPARQL Query\n\n"
     },
     "metadata": {},
     "output_type": "display_data"
    },
    {
     "data": {
      "text/plain": [
       "<IPython.core.display.Markdown object>"
      ],
      "text/markdown": "```sparql\n\nPREFIX rdf: <http://www.w3.org/1999/02/22-rdf-syntax-ns#>\nPREFIX pv: <http://ld.company.org/prod-vocab/>\nPREFIX pi: <http://ld.company.org/prod-inst/>\nPREFIX owl: <http://www.w3.org/2002/07/owl#>\nPREFIX rdfs: <http://www.w3.org/2000/01/rdf-schema#>\nPREFIX qry: <https://ns.eccenca.com/data/queries/>\nPREFIX shui: <https://vocab.eccenca.com/shui/>\nPREFIX purl: <http://purl.org/dc/terms/>\n\nSELECT *\nFROM pi:\nWHERE {\n    ?srv a pv:Service .\n    ?srv pv:hasProductManager ?pm .\n}\n\n```"
     },
     "metadata": {},
     "output_type": "display_data"
    }
   ],
   "execution_count": 25
  }
 ],
 "metadata": {
  "kernelspec": {
   "display_name": "Python 3",
   "language": "python",
   "name": "python3"
  },
  "language_info": {
   "codemirror_mode": {
    "name": "ipython",
    "version": 2
   },
   "file_extension": ".py",
   "mimetype": "text/x-python",
   "name": "python",
   "nbconvert_exporter": "python",
   "pygments_lexer": "ipython2",
   "version": "2.7.6"
  }
 },
 "nbformat": 4,
 "nbformat_minor": 5
}
