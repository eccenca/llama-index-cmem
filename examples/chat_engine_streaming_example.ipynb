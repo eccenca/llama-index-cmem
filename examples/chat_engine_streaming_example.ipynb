{
 "cells": [
  {
   "cell_type": "markdown",
   "metadata": {},
   "source": [
    "# Chat Engine with CMEMRetriever (streaming)\n",
    "\n",
    "To use the CMEM integration, use a RetrieverQueryEngine with CMEMRetriever and CMEMGraphStore."
   ]
  },
  {
   "cell_type": "code",
   "metadata": {
    "ExecuteTime": {
     "end_time": "2025-04-01T04:15:07.607058Z",
     "start_time": "2025-04-01T04:15:06.579435Z"
    }
   },
   "source": [
    "%pip install cmem-cmempy llama-index python-dotenv"
   ],
   "outputs": [
    {
     "name": "stdout",
     "output_type": "stream",
     "text": [
      "Requirement already satisfied: cmem-cmempy in /home/pfreytag/github.com/eccenca/llama-index-cmem/.venv/lib/python3.12/site-packages (24.3.0)\r\n",
      "Requirement already satisfied: llama-index in /home/pfreytag/github.com/eccenca/llama-index-cmem/.venv/lib/python3.12/site-packages (0.12.18)\r\n",
      "Requirement already satisfied: python-dotenv in /home/pfreytag/github.com/eccenca/llama-index-cmem/.venv/lib/python3.12/site-packages (1.0.1)\r\n",
      "Requirement already satisfied: certifi>=2023.7.22 in /home/pfreytag/github.com/eccenca/llama-index-cmem/.venv/lib/python3.12/site-packages (from cmem-cmempy) (2025.1.31)\r\n",
      "Requirement already satisfied: pyparsing<4.0.0,>=3.1.1 in /home/pfreytag/github.com/eccenca/llama-index-cmem/.venv/lib/python3.12/site-packages (from cmem-cmempy) (3.2.1)\r\n",
      "Requirement already satisfied: rdflib<7.0.0,>=6.3.2 in /home/pfreytag/github.com/eccenca/llama-index-cmem/.venv/lib/python3.12/site-packages (from cmem-cmempy) (6.3.2)\r\n",
      "Requirement already satisfied: requests<3.0.0,>=2.31.0 in /home/pfreytag/github.com/eccenca/llama-index-cmem/.venv/lib/python3.12/site-packages (from cmem-cmempy) (2.32.3)\r\n",
      "Requirement already satisfied: requests-toolbelt<2.0.0,>=1.0.0 in /home/pfreytag/github.com/eccenca/llama-index-cmem/.venv/lib/python3.12/site-packages (from cmem-cmempy) (1.0.0)\r\n",
      "Requirement already satisfied: llama-index-agent-openai<0.5.0,>=0.4.0 in /home/pfreytag/github.com/eccenca/llama-index-cmem/.venv/lib/python3.12/site-packages (from llama-index) (0.4.6)\r\n",
      "Requirement already satisfied: llama-index-cli<0.5.0,>=0.4.0 in /home/pfreytag/github.com/eccenca/llama-index-cmem/.venv/lib/python3.12/site-packages (from llama-index) (0.4.0)\r\n",
      "Requirement already satisfied: llama-index-core<0.13.0,>=0.12.18 in /home/pfreytag/github.com/eccenca/llama-index-cmem/.venv/lib/python3.12/site-packages (from llama-index) (0.12.18)\r\n",
      "Requirement already satisfied: llama-index-embeddings-openai<0.4.0,>=0.3.0 in /home/pfreytag/github.com/eccenca/llama-index-cmem/.venv/lib/python3.12/site-packages (from llama-index) (0.3.1)\r\n",
      "Requirement already satisfied: llama-index-indices-managed-llama-cloud>=0.4.0 in /home/pfreytag/github.com/eccenca/llama-index-cmem/.venv/lib/python3.12/site-packages (from llama-index) (0.6.7)\r\n",
      "Requirement already satisfied: llama-index-llms-openai<0.4.0,>=0.3.0 in /home/pfreytag/github.com/eccenca/llama-index-cmem/.venv/lib/python3.12/site-packages (from llama-index) (0.3.20)\r\n",
      "Requirement already satisfied: llama-index-multi-modal-llms-openai<0.5.0,>=0.4.0 in /home/pfreytag/github.com/eccenca/llama-index-cmem/.venv/lib/python3.12/site-packages (from llama-index) (0.4.3)\r\n",
      "Requirement already satisfied: llama-index-program-openai<0.4.0,>=0.3.0 in /home/pfreytag/github.com/eccenca/llama-index-cmem/.venv/lib/python3.12/site-packages (from llama-index) (0.3.1)\r\n",
      "Requirement already satisfied: llama-index-question-gen-openai<0.4.0,>=0.3.0 in /home/pfreytag/github.com/eccenca/llama-index-cmem/.venv/lib/python3.12/site-packages (from llama-index) (0.3.0)\r\n",
      "Requirement already satisfied: llama-index-readers-file<0.5.0,>=0.4.0 in /home/pfreytag/github.com/eccenca/llama-index-cmem/.venv/lib/python3.12/site-packages (from llama-index) (0.4.5)\r\n",
      "Requirement already satisfied: llama-index-readers-llama-parse>=0.4.0 in /home/pfreytag/github.com/eccenca/llama-index-cmem/.venv/lib/python3.12/site-packages (from llama-index) (0.4.0)\r\n",
      "Requirement already satisfied: nltk>3.8.1 in /home/pfreytag/github.com/eccenca/llama-index-cmem/.venv/lib/python3.12/site-packages (from llama-index) (3.9.1)\r\n",
      "Requirement already satisfied: openai>=1.14.0 in /home/pfreytag/github.com/eccenca/llama-index-cmem/.venv/lib/python3.12/site-packages (from llama-index-agent-openai<0.5.0,>=0.4.0->llama-index) (1.63.2)\r\n",
      "Requirement already satisfied: PyYAML>=6.0.1 in /home/pfreytag/github.com/eccenca/llama-index-cmem/.venv/lib/python3.12/site-packages (from llama-index-core<0.13.0,>=0.12.18->llama-index) (6.0.2)\r\n",
      "Requirement already satisfied: SQLAlchemy>=1.4.49 in /home/pfreytag/github.com/eccenca/llama-index-cmem/.venv/lib/python3.12/site-packages (from SQLAlchemy[asyncio]>=1.4.49->llama-index-core<0.13.0,>=0.12.18->llama-index) (2.0.38)\r\n",
      "Requirement already satisfied: aiohttp<4.0.0,>=3.8.6 in /home/pfreytag/github.com/eccenca/llama-index-cmem/.venv/lib/python3.12/site-packages (from llama-index-core<0.13.0,>=0.12.18->llama-index) (3.11.12)\r\n",
      "Requirement already satisfied: dataclasses-json in /home/pfreytag/github.com/eccenca/llama-index-cmem/.venv/lib/python3.12/site-packages (from llama-index-core<0.13.0,>=0.12.18->llama-index) (0.6.7)\r\n",
      "Requirement already satisfied: deprecated>=1.2.9.3 in /home/pfreytag/github.com/eccenca/llama-index-cmem/.venv/lib/python3.12/site-packages (from llama-index-core<0.13.0,>=0.12.18->llama-index) (1.2.18)\r\n",
      "Requirement already satisfied: dirtyjson<2.0.0,>=1.0.8 in /home/pfreytag/github.com/eccenca/llama-index-cmem/.venv/lib/python3.12/site-packages (from llama-index-core<0.13.0,>=0.12.18->llama-index) (1.0.8)\r\n",
      "Requirement already satisfied: filetype<2.0.0,>=1.2.0 in /home/pfreytag/github.com/eccenca/llama-index-cmem/.venv/lib/python3.12/site-packages (from llama-index-core<0.13.0,>=0.12.18->llama-index) (1.2.0)\r\n",
      "Requirement already satisfied: fsspec>=2023.5.0 in /home/pfreytag/github.com/eccenca/llama-index-cmem/.venv/lib/python3.12/site-packages (from llama-index-core<0.13.0,>=0.12.18->llama-index) (2025.2.0)\r\n",
      "Requirement already satisfied: httpx in /home/pfreytag/github.com/eccenca/llama-index-cmem/.venv/lib/python3.12/site-packages (from llama-index-core<0.13.0,>=0.12.18->llama-index) (0.28.1)\r\n",
      "Requirement already satisfied: nest-asyncio<2.0.0,>=1.5.8 in /home/pfreytag/github.com/eccenca/llama-index-cmem/.venv/lib/python3.12/site-packages (from llama-index-core<0.13.0,>=0.12.18->llama-index) (1.6.0)\r\n",
      "Requirement already satisfied: networkx>=3.0 in /home/pfreytag/github.com/eccenca/llama-index-cmem/.venv/lib/python3.12/site-packages (from llama-index-core<0.13.0,>=0.12.18->llama-index) (3.4.2)\r\n",
      "Requirement already satisfied: numpy in /home/pfreytag/github.com/eccenca/llama-index-cmem/.venv/lib/python3.12/site-packages (from llama-index-core<0.13.0,>=0.12.18->llama-index) (2.2.3)\r\n",
      "Requirement already satisfied: pillow>=9.0.0 in /home/pfreytag/github.com/eccenca/llama-index-cmem/.venv/lib/python3.12/site-packages (from llama-index-core<0.13.0,>=0.12.18->llama-index) (11.1.0)\r\n",
      "Requirement already satisfied: pydantic>=2.8.0 in /home/pfreytag/github.com/eccenca/llama-index-cmem/.venv/lib/python3.12/site-packages (from llama-index-core<0.13.0,>=0.12.18->llama-index) (2.10.6)\r\n",
      "Requirement already satisfied: tenacity!=8.4.0,<10.0.0,>=8.2.0 in /home/pfreytag/github.com/eccenca/llama-index-cmem/.venv/lib/python3.12/site-packages (from llama-index-core<0.13.0,>=0.12.18->llama-index) (9.0.0)\r\n",
      "Requirement already satisfied: tiktoken>=0.3.3 in /home/pfreytag/github.com/eccenca/llama-index-cmem/.venv/lib/python3.12/site-packages (from llama-index-core<0.13.0,>=0.12.18->llama-index) (0.9.0)\r\n",
      "Requirement already satisfied: tqdm<5.0.0,>=4.66.1 in /home/pfreytag/github.com/eccenca/llama-index-cmem/.venv/lib/python3.12/site-packages (from llama-index-core<0.13.0,>=0.12.18->llama-index) (4.67.1)\r\n",
      "Requirement already satisfied: typing-extensions>=4.5.0 in /home/pfreytag/github.com/eccenca/llama-index-cmem/.venv/lib/python3.12/site-packages (from llama-index-core<0.13.0,>=0.12.18->llama-index) (4.12.2)\r\n",
      "Requirement already satisfied: typing-inspect>=0.8.0 in /home/pfreytag/github.com/eccenca/llama-index-cmem/.venv/lib/python3.12/site-packages (from llama-index-core<0.13.0,>=0.12.18->llama-index) (0.9.0)\r\n",
      "Requirement already satisfied: wrapt in /home/pfreytag/github.com/eccenca/llama-index-cmem/.venv/lib/python3.12/site-packages (from llama-index-core<0.13.0,>=0.12.18->llama-index) (1.17.2)\r\n",
      "Requirement already satisfied: llama-cloud<0.2.0,>=0.1.8 in /home/pfreytag/github.com/eccenca/llama-index-cmem/.venv/lib/python3.12/site-packages (from llama-index-indices-managed-llama-cloud>=0.4.0->llama-index) (0.1.12)\r\n",
      "Requirement already satisfied: beautifulsoup4<5.0.0,>=4.12.3 in /home/pfreytag/github.com/eccenca/llama-index-cmem/.venv/lib/python3.12/site-packages (from llama-index-readers-file<0.5.0,>=0.4.0->llama-index) (4.13.3)\r\n",
      "Requirement already satisfied: pandas in /home/pfreytag/github.com/eccenca/llama-index-cmem/.venv/lib/python3.12/site-packages (from llama-index-readers-file<0.5.0,>=0.4.0->llama-index) (2.2.3)\r\n",
      "Requirement already satisfied: pypdf<6.0.0,>=5.1.0 in /home/pfreytag/github.com/eccenca/llama-index-cmem/.venv/lib/python3.12/site-packages (from llama-index-readers-file<0.5.0,>=0.4.0->llama-index) (5.3.0)\r\n",
      "Requirement already satisfied: striprtf<0.0.27,>=0.0.26 in /home/pfreytag/github.com/eccenca/llama-index-cmem/.venv/lib/python3.12/site-packages (from llama-index-readers-file<0.5.0,>=0.4.0->llama-index) (0.0.26)\r\n",
      "Requirement already satisfied: llama-parse>=0.5.0 in /home/pfreytag/github.com/eccenca/llama-index-cmem/.venv/lib/python3.12/site-packages (from llama-index-readers-llama-parse>=0.4.0->llama-index) (0.6.1)\r\n",
      "Requirement already satisfied: click in /home/pfreytag/github.com/eccenca/llama-index-cmem/.venv/lib/python3.12/site-packages (from nltk>3.8.1->llama-index) (8.1.8)\r\n",
      "Requirement already satisfied: joblib in /home/pfreytag/github.com/eccenca/llama-index-cmem/.venv/lib/python3.12/site-packages (from nltk>3.8.1->llama-index) (1.4.2)\r\n",
      "Requirement already satisfied: regex>=2021.8.3 in /home/pfreytag/github.com/eccenca/llama-index-cmem/.venv/lib/python3.12/site-packages (from nltk>3.8.1->llama-index) (2024.11.6)\r\n",
      "Requirement already satisfied: isodate<0.7.0,>=0.6.0 in /home/pfreytag/github.com/eccenca/llama-index-cmem/.venv/lib/python3.12/site-packages (from rdflib<7.0.0,>=6.3.2->cmem-cmempy) (0.6.1)\r\n",
      "Requirement already satisfied: charset-normalizer<4,>=2 in /home/pfreytag/github.com/eccenca/llama-index-cmem/.venv/lib/python3.12/site-packages (from requests<3.0.0,>=2.31.0->cmem-cmempy) (3.4.1)\r\n",
      "Requirement already satisfied: idna<4,>=2.5 in /home/pfreytag/github.com/eccenca/llama-index-cmem/.venv/lib/python3.12/site-packages (from requests<3.0.0,>=2.31.0->cmem-cmempy) (3.10)\r\n",
      "Requirement already satisfied: urllib3<3,>=1.21.1 in /home/pfreytag/github.com/eccenca/llama-index-cmem/.venv/lib/python3.12/site-packages (from requests<3.0.0,>=2.31.0->cmem-cmempy) (2.3.0)\r\n",
      "Requirement already satisfied: aiohappyeyeballs>=2.3.0 in /home/pfreytag/github.com/eccenca/llama-index-cmem/.venv/lib/python3.12/site-packages (from aiohttp<4.0.0,>=3.8.6->llama-index-core<0.13.0,>=0.12.18->llama-index) (2.4.6)\r\n",
      "Requirement already satisfied: aiosignal>=1.1.2 in /home/pfreytag/github.com/eccenca/llama-index-cmem/.venv/lib/python3.12/site-packages (from aiohttp<4.0.0,>=3.8.6->llama-index-core<0.13.0,>=0.12.18->llama-index) (1.3.2)\r\n",
      "Requirement already satisfied: attrs>=17.3.0 in /home/pfreytag/github.com/eccenca/llama-index-cmem/.venv/lib/python3.12/site-packages (from aiohttp<4.0.0,>=3.8.6->llama-index-core<0.13.0,>=0.12.18->llama-index) (25.1.0)\r\n",
      "Requirement already satisfied: frozenlist>=1.1.1 in /home/pfreytag/github.com/eccenca/llama-index-cmem/.venv/lib/python3.12/site-packages (from aiohttp<4.0.0,>=3.8.6->llama-index-core<0.13.0,>=0.12.18->llama-index) (1.5.0)\r\n",
      "Requirement already satisfied: multidict<7.0,>=4.5 in /home/pfreytag/github.com/eccenca/llama-index-cmem/.venv/lib/python3.12/site-packages (from aiohttp<4.0.0,>=3.8.6->llama-index-core<0.13.0,>=0.12.18->llama-index) (6.1.0)\r\n",
      "Requirement already satisfied: propcache>=0.2.0 in /home/pfreytag/github.com/eccenca/llama-index-cmem/.venv/lib/python3.12/site-packages (from aiohttp<4.0.0,>=3.8.6->llama-index-core<0.13.0,>=0.12.18->llama-index) (0.2.1)\r\n",
      "Requirement already satisfied: yarl<2.0,>=1.17.0 in /home/pfreytag/github.com/eccenca/llama-index-cmem/.venv/lib/python3.12/site-packages (from aiohttp<4.0.0,>=3.8.6->llama-index-core<0.13.0,>=0.12.18->llama-index) (1.18.3)\r\n",
      "Requirement already satisfied: soupsieve>1.2 in /home/pfreytag/github.com/eccenca/llama-index-cmem/.venv/lib/python3.12/site-packages (from beautifulsoup4<5.0.0,>=4.12.3->llama-index-readers-file<0.5.0,>=0.4.0->llama-index) (2.6)\r\n",
      "Requirement already satisfied: six in /home/pfreytag/github.com/eccenca/llama-index-cmem/.venv/lib/python3.12/site-packages (from isodate<0.7.0,>=0.6.0->rdflib<7.0.0,>=6.3.2->cmem-cmempy) (1.17.0)\r\n",
      "Requirement already satisfied: anyio in /home/pfreytag/github.com/eccenca/llama-index-cmem/.venv/lib/python3.12/site-packages (from httpx->llama-index-core<0.13.0,>=0.12.18->llama-index) (4.8.0)\r\n",
      "Requirement already satisfied: httpcore==1.* in /home/pfreytag/github.com/eccenca/llama-index-cmem/.venv/lib/python3.12/site-packages (from httpx->llama-index-core<0.13.0,>=0.12.18->llama-index) (1.0.7)\r\n",
      "Requirement already satisfied: h11<0.15,>=0.13 in /home/pfreytag/github.com/eccenca/llama-index-cmem/.venv/lib/python3.12/site-packages (from httpcore==1.*->httpx->llama-index-core<0.13.0,>=0.12.18->llama-index) (0.14.0)\r\n",
      "Requirement already satisfied: llama-cloud-services>=0.6.1 in /home/pfreytag/github.com/eccenca/llama-index-cmem/.venv/lib/python3.12/site-packages (from llama-parse>=0.5.0->llama-index-readers-llama-parse>=0.4.0->llama-index) (0.6.1)\r\n",
      "Requirement already satisfied: distro<2,>=1.7.0 in /home/pfreytag/github.com/eccenca/llama-index-cmem/.venv/lib/python3.12/site-packages (from openai>=1.14.0->llama-index-agent-openai<0.5.0,>=0.4.0->llama-index) (1.9.0)\r\n",
      "Requirement already satisfied: jiter<1,>=0.4.0 in /home/pfreytag/github.com/eccenca/llama-index-cmem/.venv/lib/python3.12/site-packages (from openai>=1.14.0->llama-index-agent-openai<0.5.0,>=0.4.0->llama-index) (0.8.2)\r\n",
      "Requirement already satisfied: sniffio in /home/pfreytag/github.com/eccenca/llama-index-cmem/.venv/lib/python3.12/site-packages (from openai>=1.14.0->llama-index-agent-openai<0.5.0,>=0.4.0->llama-index) (1.3.1)\r\n",
      "Requirement already satisfied: annotated-types>=0.6.0 in /home/pfreytag/github.com/eccenca/llama-index-cmem/.venv/lib/python3.12/site-packages (from pydantic>=2.8.0->llama-index-core<0.13.0,>=0.12.18->llama-index) (0.7.0)\r\n",
      "Requirement already satisfied: pydantic-core==2.27.2 in /home/pfreytag/github.com/eccenca/llama-index-cmem/.venv/lib/python3.12/site-packages (from pydantic>=2.8.0->llama-index-core<0.13.0,>=0.12.18->llama-index) (2.27.2)\r\n",
      "Requirement already satisfied: greenlet!=0.4.17 in /home/pfreytag/github.com/eccenca/llama-index-cmem/.venv/lib/python3.12/site-packages (from SQLAlchemy>=1.4.49->SQLAlchemy[asyncio]>=1.4.49->llama-index-core<0.13.0,>=0.12.18->llama-index) (3.1.1)\r\n",
      "Requirement already satisfied: mypy-extensions>=0.3.0 in /home/pfreytag/github.com/eccenca/llama-index-cmem/.venv/lib/python3.12/site-packages (from typing-inspect>=0.8.0->llama-index-core<0.13.0,>=0.12.18->llama-index) (1.0.0)\r\n",
      "Requirement already satisfied: marshmallow<4.0.0,>=3.18.0 in /home/pfreytag/github.com/eccenca/llama-index-cmem/.venv/lib/python3.12/site-packages (from dataclasses-json->llama-index-core<0.13.0,>=0.12.18->llama-index) (3.26.1)\r\n",
      "Requirement already satisfied: python-dateutil>=2.8.2 in /home/pfreytag/github.com/eccenca/llama-index-cmem/.venv/lib/python3.12/site-packages (from pandas->llama-index-readers-file<0.5.0,>=0.4.0->llama-index) (2.9.0.post0)\r\n",
      "Requirement already satisfied: pytz>=2020.1 in /home/pfreytag/github.com/eccenca/llama-index-cmem/.venv/lib/python3.12/site-packages (from pandas->llama-index-readers-file<0.5.0,>=0.4.0->llama-index) (2025.1)\r\n",
      "Requirement already satisfied: tzdata>=2022.7 in /home/pfreytag/github.com/eccenca/llama-index-cmem/.venv/lib/python3.12/site-packages (from pandas->llama-index-readers-file<0.5.0,>=0.4.0->llama-index) (2025.1)\r\n",
      "Requirement already satisfied: packaging>=17.0 in /home/pfreytag/github.com/eccenca/llama-index-cmem/.venv/lib/python3.12/site-packages (from marshmallow<4.0.0,>=3.18.0->dataclasses-json->llama-index-core<0.13.0,>=0.12.18->llama-index) (24.2)\r\n",
      "Note: you may need to restart the kernel to use updated packages.\n"
     ]
    }
   ],
   "execution_count": 1
  },
  {
   "cell_type": "markdown",
   "metadata": {},
   "source": [
    "Load environment from `.env` file. \n",
    "Start by `cp .env-template .env` and edit the content of `.env` accordingly."
   ]
  },
  {
   "cell_type": "code",
   "metadata": {
    "ExecuteTime": {
     "end_time": "2025-04-01T04:15:07.621889Z",
     "start_time": "2025-04-01T04:15:07.611484Z"
    }
   },
   "source": [
    "%load_ext dotenv\n",
    "%dotenv\n",
    "%reload_ext dotenv"
   ],
   "outputs": [],
   "execution_count": 2
  },
  {
   "cell_type": "markdown",
   "metadata": {},
   "source": [
    "Set up the LLM"
   ]
  },
  {
   "cell_type": "code",
   "metadata": {
    "ExecuteTime": {
     "end_time": "2025-04-01T04:15:09.132682Z",
     "start_time": "2025-04-01T04:15:07.692531Z"
    }
   },
   "source": [
    "from llama_index.core import Settings\n",
    "from llama_index.llms.openai import OpenAI\n",
    "\n",
    "model = \"gpt-4o-mini\"\n",
    "llm = OpenAI(model=model)\n",
    "Settings.llm = llm"
   ],
   "outputs": [],
   "execution_count": 3
  },
  {
   "cell_type": "markdown",
   "metadata": {},
   "source": [
    "Set up all components."
   ]
  },
  {
   "cell_type": "code",
   "metadata": {
    "ExecuteTime": {
     "end_time": "2025-04-01T04:15:09.492801Z",
     "start_time": "2025-04-01T04:15:09.189528Z"
    }
   },
   "source": [
    "from llama_index.core import get_response_synthesizer\n",
    "from llama_index.core.chat_engine import CondensePlusContextChatEngine\n",
    "from llama_index.core.memory import ChatMemoryBuffer\n",
    "\n",
    "from llama_index_cmem.executor.cmem_sparql_executor import CMEMSPARQLExecutor\n",
    "from llama_index_cmem.retrievers import NLSPARQLRetriever\n",
    "\n",
    "from cmem.cmempy.dp.proxy.graph import get\n",
    "\n",
    "\n",
    "response_synthesizer = get_response_synthesizer()\n",
    "\n",
    "ontology_triples = get(\"http://ld.company.org/prod-vocab/\", owl_imports_resolution=True, accept=\"text/turtle\").content\n",
    "\n",
    "retriever = NLSPARQLRetriever(executor=CMEMSPARQLExecutor(), ontology_triples=ontology_triples, llm=llm)\n",
    "\n",
    "memory = ChatMemoryBuffer.from_defaults()\n",
    "\n",
    "chat_engine = CondensePlusContextChatEngine(\n",
    "    retriever=retriever,\n",
    "    llm=llm,\n",
    "    memory=memory\n",
    ")"
   ],
   "outputs": [],
   "execution_count": 4
  },
  {
   "cell_type": "markdown",
   "metadata": {},
   "source": [
    "Define a natural language query, run via query engine and get a natural language response answering the question."
   ]
  },
  {
   "cell_type": "code",
   "metadata": {
    "ExecuteTime": {
     "end_time": "2025-04-01T04:15:25.719051Z",
     "start_time": "2025-04-01T04:15:09.499809Z"
    }
   },
   "source": [
    "from IPython.display import Markdown\n",
    "\n",
    "\n",
    "def ask(prompt: str) -> None:\n",
    "    \"\"\"Ask a question and display the answer.\"\"\"\n",
    "    text = f\"## Prompt: _{prompt}_\\n\\n\"\n",
    "    text += \"### Final response:\\n\\n\"\n",
    "    display_handle = display(Markdown(\"\"), display_id=True)\n",
    "    display_handle.update(Markdown(text))\n",
    "    response = chat_engine.stream_chat(prompt)\n",
    "    for token in response.response_gen:\n",
    "        text += f\"{token}\"\n",
    "        display_handle.update(Markdown(text))\n",
    "\n",
    "\n",
    "query = \"List all hardware with price. Limit the results to 20 items.\"\n",
    "ask(query)"
   ],
   "outputs": [
    {
     "data": {
      "text/plain": [
       "<IPython.core.display.Markdown object>"
      ],
      "text/markdown": "## Prompt: _List all hardware with price. Limit the results to 20 items._\n\n### Final response:\n\nHere are 20 hardware items along with their prices:\n\n1. **Hardware**: [hw-C247-3833661](http://ld.company.org/prod-instances/hw-C247-3833661)\n   - **Price**: 3.44 EUR\n\n2. **Hardware**: [hw-E355-4376121](http://ld.company.org/prod-instances/hw-E355-4376121)\n   - **Price**: 5.53 EUR\n\n3. **Hardware**: [hw-G826-1197003](http://ld.company.org/prod-instances/hw-G826-1197003)\n   - **Price**: 0.44 EUR\n\n4. **Hardware**: [hw-N560-4369045](http://ld.company.org/prod-instances/hw-N560-4369045)\n   - **Price**: 2.61 EUR\n\n5. **Hardware**: [hw-P253-1288849](http://ld.company.org/prod-instances/hw-P253-1288849)\n   - **Price**: 0.98 EUR\n\n6. **Hardware**: [hw-R490-4226805](http://ld.company.org/prod-instances/hw-R490-4226805)\n   - **Price**: 4.78 EUR\n\n7. **Hardware**: [hw-R902-1645052](http://ld.company.org/prod-instances/hw-R902-1645052)\n   - **Price**: 0.65 EUR\n\n8. **Hardware**: [hw-S649-2935217](http://ld.company.org/prod-instances/hw-S649-2935217)\n   - **Price**: 5.22 EUR\n\n9. **Hardware**: [hw-H569-9184293](http://ld.company.org/prod-instances/hw-H569-9184293)\n   - **Price**: 3.96 EUR\n\n10. **Hardware**: [hw-I409-8215134](http://ld.company.org/prod-instances/hw-I409-8215134)\n    - **Price**: 2.46 EUR\n\n11. **Hardware**: [hw-K367-1320550](http://ld.company.org/prod-instances/hw-K367-1320550)\n    - **Price**: 4.08 EUR\n\n12. **Hardware**: [hw-M662-6209836](http://ld.company.org/prod-instances/hw-M662-6209836)\n    - **Price**: 3.29 EUR\n\n13. **Hardware**: [hw-N881-4812973](http://ld.company.org/prod-instances/hw-N881-4812973)\n    - **Price**: 1.60 EUR\n\n14. **Hardware**: [hw-S418-2584457](http://ld.company.org/prod-instances/hw-S418-2584457)\n    - **Price**: 4.32 EUR\n\n15. **Hardware**: [hw-V178-8820348](http://ld.company.org/prod-instances/hw-V178-8820348)\n    - **Price**: 2.30 EUR\n\n16. **Hardware**: [hw-W986-7950553](http://ld.company.org/prod-instances/hw-W986-7950553)\n    - **Price**: 5.27 EUR\n\n17. **Hardware**: [hw-X716-6172862](http://ld.company.org/prod-instances/hw-X716-6172862)\n    - **Price**: 3.20 EUR\n\n18. **Hardware**: [hw-B646-2108570](http://ld.company.org/prod-instances/hw-B646-2108570)\n    - **Price**: 1.14 EUR\n\n19. **Hardware**: [hw-G439-8153345](http://ld.company.org/prod-instances/hw-G439-8153345)\n    - **Price**: 2.33 EUR\n\n20. **Hardware**: [hw-H173-1200706](http://ld.company.org/prod-instances/hw-H173-1200706)\n    - **Price**: 2.77 EUR\n\nIf you need more information or additional items, feel free to ask!"
     },
     "metadata": {},
     "output_type": "display_data"
    }
   ],
   "execution_count": 5
  }
 ],
 "metadata": {
  "kernelspec": {
   "display_name": ".venv",
   "language": "python",
   "name": "python3"
  },
  "language_info": {
   "codemirror_mode": {
    "name": "ipython",
    "version": 3
   },
   "file_extension": ".py",
   "mimetype": "text/x-python",
   "name": "python",
   "nbconvert_exporter": "python",
   "pygments_lexer": "ipython3",
   "version": "3.13.0"
  }
 },
 "nbformat": 4,
 "nbformat_minor": 2
}
