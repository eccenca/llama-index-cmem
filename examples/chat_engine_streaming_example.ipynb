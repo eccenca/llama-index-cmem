{
 "cells": [
  {
   "cell_type": "markdown",
   "metadata": {},
   "source": [
    "# Chat Engine with CMEMRetriever (streaming)\n",
    "\n",
    "To use the CMEM integration, use a RetrieverQueryEngine with CMEMRetriever and CMEMGraphStore."
   ]
  },
  {
   "cell_type": "code",
   "execution_count": 1,
   "metadata": {},
   "outputs": [
    {
     "name": "stdout",
     "output_type": "stream",
     "text": [
      "Requirement already satisfied: cmem-cmempy in /Users/rene/Documents/git/gitlab.eccenca.com/elds/plugins/llama-index-cmem/.venv/lib/python3.13/site-packages (24.3.0)\n",
      "Requirement already satisfied: llama-index in /Users/rene/Documents/git/gitlab.eccenca.com/elds/plugins/llama-index-cmem/.venv/lib/python3.13/site-packages (0.12.5)\n",
      "Requirement already satisfied: python-dotenv in /Users/rene/Documents/git/gitlab.eccenca.com/elds/plugins/llama-index-cmem/.venv/lib/python3.13/site-packages (1.0.1)\n",
      "Requirement already satisfied: certifi>=2023.7.22 in /Users/rene/Documents/git/gitlab.eccenca.com/elds/plugins/llama-index-cmem/.venv/lib/python3.13/site-packages (from cmem-cmempy) (2024.12.14)\n",
      "Requirement already satisfied: pyparsing<4.0.0,>=3.1.1 in /Users/rene/Documents/git/gitlab.eccenca.com/elds/plugins/llama-index-cmem/.venv/lib/python3.13/site-packages (from cmem-cmempy) (3.2.0)\n",
      "Requirement already satisfied: rdflib<7.0.0,>=6.3.2 in /Users/rene/Documents/git/gitlab.eccenca.com/elds/plugins/llama-index-cmem/.venv/lib/python3.13/site-packages (from cmem-cmempy) (6.3.2)\n",
      "Requirement already satisfied: requests<3.0.0,>=2.31.0 in /Users/rene/Documents/git/gitlab.eccenca.com/elds/plugins/llama-index-cmem/.venv/lib/python3.13/site-packages (from cmem-cmempy) (2.32.3)\n",
      "Requirement already satisfied: requests-toolbelt<2.0.0,>=1.0.0 in /Users/rene/Documents/git/gitlab.eccenca.com/elds/plugins/llama-index-cmem/.venv/lib/python3.13/site-packages (from cmem-cmempy) (1.0.0)\n",
      "Requirement already satisfied: llama-index-agent-openai<0.5.0,>=0.4.0 in /Users/rene/Documents/git/gitlab.eccenca.com/elds/plugins/llama-index-cmem/.venv/lib/python3.13/site-packages (from llama-index) (0.4.0)\n",
      "Requirement already satisfied: llama-index-cli<0.5.0,>=0.4.0 in /Users/rene/Documents/git/gitlab.eccenca.com/elds/plugins/llama-index-cmem/.venv/lib/python3.13/site-packages (from llama-index) (0.4.0)\n",
      "Requirement already satisfied: llama-index-core<0.13.0,>=0.12.5 in /Users/rene/Documents/git/gitlab.eccenca.com/elds/plugins/llama-index-cmem/.venv/lib/python3.13/site-packages (from llama-index) (0.12.5)\n",
      "Requirement already satisfied: llama-index-embeddings-openai<0.4.0,>=0.3.0 in /Users/rene/Documents/git/gitlab.eccenca.com/elds/plugins/llama-index-cmem/.venv/lib/python3.13/site-packages (from llama-index) (0.3.1)\n",
      "Requirement already satisfied: llama-index-indices-managed-llama-cloud>=0.4.0 in /Users/rene/Documents/git/gitlab.eccenca.com/elds/plugins/llama-index-cmem/.venv/lib/python3.13/site-packages (from llama-index) (0.6.3)\n",
      "Requirement already satisfied: llama-index-legacy<0.10.0,>=0.9.48 in /Users/rene/Documents/git/gitlab.eccenca.com/elds/plugins/llama-index-cmem/.venv/lib/python3.13/site-packages (from llama-index) (0.9.48.post4)\n",
      "Requirement already satisfied: llama-index-llms-openai<0.4.0,>=0.3.0 in /Users/rene/Documents/git/gitlab.eccenca.com/elds/plugins/llama-index-cmem/.venv/lib/python3.13/site-packages (from llama-index) (0.3.10)\n",
      "Requirement already satisfied: llama-index-multi-modal-llms-openai<0.5.0,>=0.4.0 in /Users/rene/Documents/git/gitlab.eccenca.com/elds/plugins/llama-index-cmem/.venv/lib/python3.13/site-packages (from llama-index) (0.4.0)\n",
      "Requirement already satisfied: llama-index-program-openai<0.4.0,>=0.3.0 in /Users/rene/Documents/git/gitlab.eccenca.com/elds/plugins/llama-index-cmem/.venv/lib/python3.13/site-packages (from llama-index) (0.3.1)\n",
      "Requirement already satisfied: llama-index-question-gen-openai<0.4.0,>=0.3.0 in /Users/rene/Documents/git/gitlab.eccenca.com/elds/plugins/llama-index-cmem/.venv/lib/python3.13/site-packages (from llama-index) (0.3.0)\n",
      "Requirement already satisfied: llama-index-readers-file<0.5.0,>=0.4.0 in /Users/rene/Documents/git/gitlab.eccenca.com/elds/plugins/llama-index-cmem/.venv/lib/python3.13/site-packages (from llama-index) (0.4.1)\n",
      "Requirement already satisfied: llama-index-readers-llama-parse>=0.4.0 in /Users/rene/Documents/git/gitlab.eccenca.com/elds/plugins/llama-index-cmem/.venv/lib/python3.13/site-packages (from llama-index) (0.4.0)\n",
      "Requirement already satisfied: nltk>3.8.1 in /Users/rene/Documents/git/gitlab.eccenca.com/elds/plugins/llama-index-cmem/.venv/lib/python3.13/site-packages (from llama-index) (3.9.1)\n",
      "Requirement already satisfied: openai>=1.14.0 in /Users/rene/Documents/git/gitlab.eccenca.com/elds/plugins/llama-index-cmem/.venv/lib/python3.13/site-packages (from llama-index-agent-openai<0.5.0,>=0.4.0->llama-index) (1.57.4)\n",
      "Requirement already satisfied: PyYAML>=6.0.1 in /Users/rene/Documents/git/gitlab.eccenca.com/elds/plugins/llama-index-cmem/.venv/lib/python3.13/site-packages (from llama-index-core<0.13.0,>=0.12.5->llama-index) (6.0.2)\n",
      "Requirement already satisfied: SQLAlchemy>=1.4.49 in /Users/rene/Documents/git/gitlab.eccenca.com/elds/plugins/llama-index-cmem/.venv/lib/python3.13/site-packages (from SQLAlchemy[asyncio]>=1.4.49->llama-index-core<0.13.0,>=0.12.5->llama-index) (2.0.36)\n",
      "Requirement already satisfied: aiohttp<4.0.0,>=3.8.6 in /Users/rene/Documents/git/gitlab.eccenca.com/elds/plugins/llama-index-cmem/.venv/lib/python3.13/site-packages (from llama-index-core<0.13.0,>=0.12.5->llama-index) (3.11.10)\n",
      "Requirement already satisfied: dataclasses-json in /Users/rene/Documents/git/gitlab.eccenca.com/elds/plugins/llama-index-cmem/.venv/lib/python3.13/site-packages (from llama-index-core<0.13.0,>=0.12.5->llama-index) (0.6.7)\n",
      "Requirement already satisfied: deprecated>=1.2.9.3 in /Users/rene/Documents/git/gitlab.eccenca.com/elds/plugins/llama-index-cmem/.venv/lib/python3.13/site-packages (from llama-index-core<0.13.0,>=0.12.5->llama-index) (1.2.15)\n",
      "Requirement already satisfied: dirtyjson<2.0.0,>=1.0.8 in /Users/rene/Documents/git/gitlab.eccenca.com/elds/plugins/llama-index-cmem/.venv/lib/python3.13/site-packages (from llama-index-core<0.13.0,>=0.12.5->llama-index) (1.0.8)\n",
      "Requirement already satisfied: filetype<2.0.0,>=1.2.0 in /Users/rene/Documents/git/gitlab.eccenca.com/elds/plugins/llama-index-cmem/.venv/lib/python3.13/site-packages (from llama-index-core<0.13.0,>=0.12.5->llama-index) (1.2.0)\n",
      "Requirement already satisfied: fsspec>=2023.5.0 in /Users/rene/Documents/git/gitlab.eccenca.com/elds/plugins/llama-index-cmem/.venv/lib/python3.13/site-packages (from llama-index-core<0.13.0,>=0.12.5->llama-index) (2024.10.0)\n",
      "Requirement already satisfied: httpx in /Users/rene/Documents/git/gitlab.eccenca.com/elds/plugins/llama-index-cmem/.venv/lib/python3.13/site-packages (from llama-index-core<0.13.0,>=0.12.5->llama-index) (0.28.1)\n",
      "Requirement already satisfied: nest-asyncio<2.0.0,>=1.5.8 in /Users/rene/Documents/git/gitlab.eccenca.com/elds/plugins/llama-index-cmem/.venv/lib/python3.13/site-packages (from llama-index-core<0.13.0,>=0.12.5->llama-index) (1.6.0)\n",
      "Requirement already satisfied: networkx>=3.0 in /Users/rene/Documents/git/gitlab.eccenca.com/elds/plugins/llama-index-cmem/.venv/lib/python3.13/site-packages (from llama-index-core<0.13.0,>=0.12.5->llama-index) (3.4.2)\n",
      "Requirement already satisfied: numpy in /Users/rene/Documents/git/gitlab.eccenca.com/elds/plugins/llama-index-cmem/.venv/lib/python3.13/site-packages (from llama-index-core<0.13.0,>=0.12.5->llama-index) (2.2.0)\n",
      "Requirement already satisfied: pillow>=9.0.0 in /Users/rene/Documents/git/gitlab.eccenca.com/elds/plugins/llama-index-cmem/.venv/lib/python3.13/site-packages (from llama-index-core<0.13.0,>=0.12.5->llama-index) (11.0.0)\n",
      "Requirement already satisfied: pydantic>=2.8.0 in /Users/rene/Documents/git/gitlab.eccenca.com/elds/plugins/llama-index-cmem/.venv/lib/python3.13/site-packages (from llama-index-core<0.13.0,>=0.12.5->llama-index) (2.10.3)\n",
      "Requirement already satisfied: tenacity!=8.4.0,<10.0.0,>=8.2.0 in /Users/rene/Documents/git/gitlab.eccenca.com/elds/plugins/llama-index-cmem/.venv/lib/python3.13/site-packages (from llama-index-core<0.13.0,>=0.12.5->llama-index) (8.5.0)\n",
      "Requirement already satisfied: tiktoken>=0.3.3 in /Users/rene/Documents/git/gitlab.eccenca.com/elds/plugins/llama-index-cmem/.venv/lib/python3.13/site-packages (from llama-index-core<0.13.0,>=0.12.5->llama-index) (0.8.0)\n",
      "Requirement already satisfied: tqdm<5.0.0,>=4.66.1 in /Users/rene/Documents/git/gitlab.eccenca.com/elds/plugins/llama-index-cmem/.venv/lib/python3.13/site-packages (from llama-index-core<0.13.0,>=0.12.5->llama-index) (4.67.1)\n",
      "Requirement already satisfied: typing-extensions>=4.5.0 in /Users/rene/Documents/git/gitlab.eccenca.com/elds/plugins/llama-index-cmem/.venv/lib/python3.13/site-packages (from llama-index-core<0.13.0,>=0.12.5->llama-index) (4.12.2)\n",
      "Requirement already satisfied: typing-inspect>=0.8.0 in /Users/rene/Documents/git/gitlab.eccenca.com/elds/plugins/llama-index-cmem/.venv/lib/python3.13/site-packages (from llama-index-core<0.13.0,>=0.12.5->llama-index) (0.9.0)\n",
      "Requirement already satisfied: wrapt in /Users/rene/Documents/git/gitlab.eccenca.com/elds/plugins/llama-index-cmem/.venv/lib/python3.13/site-packages (from llama-index-core<0.13.0,>=0.12.5->llama-index) (1.17.0)\n",
      "Requirement already satisfied: llama-cloud>=0.1.5 in /Users/rene/Documents/git/gitlab.eccenca.com/elds/plugins/llama-index-cmem/.venv/lib/python3.13/site-packages (from llama-index-indices-managed-llama-cloud>=0.4.0->llama-index) (0.1.6)\n",
      "Requirement already satisfied: pandas in /Users/rene/Documents/git/gitlab.eccenca.com/elds/plugins/llama-index-cmem/.venv/lib/python3.13/site-packages (from llama-index-legacy<0.10.0,>=0.9.48->llama-index) (2.2.3)\n",
      "Requirement already satisfied: beautifulsoup4<5.0.0,>=4.12.3 in /Users/rene/Documents/git/gitlab.eccenca.com/elds/plugins/llama-index-cmem/.venv/lib/python3.13/site-packages (from llama-index-readers-file<0.5.0,>=0.4.0->llama-index) (4.12.3)\n",
      "Requirement already satisfied: pypdf<6.0.0,>=5.1.0 in /Users/rene/Documents/git/gitlab.eccenca.com/elds/plugins/llama-index-cmem/.venv/lib/python3.13/site-packages (from llama-index-readers-file<0.5.0,>=0.4.0->llama-index) (5.1.0)\n",
      "Requirement already satisfied: striprtf<0.0.27,>=0.0.26 in /Users/rene/Documents/git/gitlab.eccenca.com/elds/plugins/llama-index-cmem/.venv/lib/python3.13/site-packages (from llama-index-readers-file<0.5.0,>=0.4.0->llama-index) (0.0.26)\n",
      "Requirement already satisfied: llama-parse>=0.5.0 in /Users/rene/Documents/git/gitlab.eccenca.com/elds/plugins/llama-index-cmem/.venv/lib/python3.13/site-packages (from llama-index-readers-llama-parse>=0.4.0->llama-index) (0.5.17)\n",
      "Requirement already satisfied: click in /Users/rene/Documents/git/gitlab.eccenca.com/elds/plugins/llama-index-cmem/.venv/lib/python3.13/site-packages (from nltk>3.8.1->llama-index) (8.1.7)\n",
      "Requirement already satisfied: joblib in /Users/rene/Documents/git/gitlab.eccenca.com/elds/plugins/llama-index-cmem/.venv/lib/python3.13/site-packages (from nltk>3.8.1->llama-index) (1.4.2)\n",
      "Requirement already satisfied: regex>=2021.8.3 in /Users/rene/Documents/git/gitlab.eccenca.com/elds/plugins/llama-index-cmem/.venv/lib/python3.13/site-packages (from nltk>3.8.1->llama-index) (2024.11.6)\n",
      "Requirement already satisfied: isodate<0.7.0,>=0.6.0 in /Users/rene/Documents/git/gitlab.eccenca.com/elds/plugins/llama-index-cmem/.venv/lib/python3.13/site-packages (from rdflib<7.0.0,>=6.3.2->cmem-cmempy) (0.6.1)\n",
      "Requirement already satisfied: charset-normalizer<4,>=2 in /Users/rene/Documents/git/gitlab.eccenca.com/elds/plugins/llama-index-cmem/.venv/lib/python3.13/site-packages (from requests<3.0.0,>=2.31.0->cmem-cmempy) (3.4.0)\n",
      "Requirement already satisfied: idna<4,>=2.5 in /Users/rene/Documents/git/gitlab.eccenca.com/elds/plugins/llama-index-cmem/.venv/lib/python3.13/site-packages (from requests<3.0.0,>=2.31.0->cmem-cmempy) (3.10)\n",
      "Requirement already satisfied: urllib3<3,>=1.21.1 in /Users/rene/Documents/git/gitlab.eccenca.com/elds/plugins/llama-index-cmem/.venv/lib/python3.13/site-packages (from requests<3.0.0,>=2.31.0->cmem-cmempy) (2.2.3)\n",
      "Requirement already satisfied: aiohappyeyeballs>=2.3.0 in /Users/rene/Documents/git/gitlab.eccenca.com/elds/plugins/llama-index-cmem/.venv/lib/python3.13/site-packages (from aiohttp<4.0.0,>=3.8.6->llama-index-core<0.13.0,>=0.12.5->llama-index) (2.4.4)\n",
      "Requirement already satisfied: aiosignal>=1.1.2 in /Users/rene/Documents/git/gitlab.eccenca.com/elds/plugins/llama-index-cmem/.venv/lib/python3.13/site-packages (from aiohttp<4.0.0,>=3.8.6->llama-index-core<0.13.0,>=0.12.5->llama-index) (1.3.2)\n",
      "Requirement already satisfied: attrs>=17.3.0 in /Users/rene/Documents/git/gitlab.eccenca.com/elds/plugins/llama-index-cmem/.venv/lib/python3.13/site-packages (from aiohttp<4.0.0,>=3.8.6->llama-index-core<0.13.0,>=0.12.5->llama-index) (24.3.0)\n",
      "Requirement already satisfied: frozenlist>=1.1.1 in /Users/rene/Documents/git/gitlab.eccenca.com/elds/plugins/llama-index-cmem/.venv/lib/python3.13/site-packages (from aiohttp<4.0.0,>=3.8.6->llama-index-core<0.13.0,>=0.12.5->llama-index) (1.5.0)\n",
      "Requirement already satisfied: multidict<7.0,>=4.5 in /Users/rene/Documents/git/gitlab.eccenca.com/elds/plugins/llama-index-cmem/.venv/lib/python3.13/site-packages (from aiohttp<4.0.0,>=3.8.6->llama-index-core<0.13.0,>=0.12.5->llama-index) (6.1.0)\n",
      "Requirement already satisfied: propcache>=0.2.0 in /Users/rene/Documents/git/gitlab.eccenca.com/elds/plugins/llama-index-cmem/.venv/lib/python3.13/site-packages (from aiohttp<4.0.0,>=3.8.6->llama-index-core<0.13.0,>=0.12.5->llama-index) (0.2.1)\n",
      "Requirement already satisfied: yarl<2.0,>=1.17.0 in /Users/rene/Documents/git/gitlab.eccenca.com/elds/plugins/llama-index-cmem/.venv/lib/python3.13/site-packages (from aiohttp<4.0.0,>=3.8.6->llama-index-core<0.13.0,>=0.12.5->llama-index) (1.18.3)\n",
      "Requirement already satisfied: soupsieve>1.2 in /Users/rene/Documents/git/gitlab.eccenca.com/elds/plugins/llama-index-cmem/.venv/lib/python3.13/site-packages (from beautifulsoup4<5.0.0,>=4.12.3->llama-index-readers-file<0.5.0,>=0.4.0->llama-index) (2.6)\n",
      "Requirement already satisfied: six in /Users/rene/Documents/git/gitlab.eccenca.com/elds/plugins/llama-index-cmem/.venv/lib/python3.13/site-packages (from isodate<0.7.0,>=0.6.0->rdflib<7.0.0,>=6.3.2->cmem-cmempy) (1.17.0)\n",
      "Requirement already satisfied: anyio in /Users/rene/Documents/git/gitlab.eccenca.com/elds/plugins/llama-index-cmem/.venv/lib/python3.13/site-packages (from httpx->llama-index-core<0.13.0,>=0.12.5->llama-index) (4.7.0)\n",
      "Requirement already satisfied: httpcore==1.* in /Users/rene/Documents/git/gitlab.eccenca.com/elds/plugins/llama-index-cmem/.venv/lib/python3.13/site-packages (from httpx->llama-index-core<0.13.0,>=0.12.5->llama-index) (1.0.7)\n",
      "Requirement already satisfied: h11<0.15,>=0.13 in /Users/rene/Documents/git/gitlab.eccenca.com/elds/plugins/llama-index-cmem/.venv/lib/python3.13/site-packages (from httpcore==1.*->httpx->llama-index-core<0.13.0,>=0.12.5->llama-index) (0.14.0)\n",
      "Requirement already satisfied: distro<2,>=1.7.0 in /Users/rene/Documents/git/gitlab.eccenca.com/elds/plugins/llama-index-cmem/.venv/lib/python3.13/site-packages (from openai>=1.14.0->llama-index-agent-openai<0.5.0,>=0.4.0->llama-index) (1.9.0)\n",
      "Requirement already satisfied: jiter<1,>=0.4.0 in /Users/rene/Documents/git/gitlab.eccenca.com/elds/plugins/llama-index-cmem/.venv/lib/python3.13/site-packages (from openai>=1.14.0->llama-index-agent-openai<0.5.0,>=0.4.0->llama-index) (0.8.2)\n",
      "Requirement already satisfied: sniffio in /Users/rene/Documents/git/gitlab.eccenca.com/elds/plugins/llama-index-cmem/.venv/lib/python3.13/site-packages (from openai>=1.14.0->llama-index-agent-openai<0.5.0,>=0.4.0->llama-index) (1.3.1)\n",
      "Requirement already satisfied: annotated-types>=0.6.0 in /Users/rene/Documents/git/gitlab.eccenca.com/elds/plugins/llama-index-cmem/.venv/lib/python3.13/site-packages (from pydantic>=2.8.0->llama-index-core<0.13.0,>=0.12.5->llama-index) (0.7.0)\n",
      "Requirement already satisfied: pydantic-core==2.27.1 in /Users/rene/Documents/git/gitlab.eccenca.com/elds/plugins/llama-index-cmem/.venv/lib/python3.13/site-packages (from pydantic>=2.8.0->llama-index-core<0.13.0,>=0.12.5->llama-index) (2.27.1)\n",
      "Requirement already satisfied: greenlet!=0.4.17 in /Users/rene/Documents/git/gitlab.eccenca.com/elds/plugins/llama-index-cmem/.venv/lib/python3.13/site-packages (from SQLAlchemy[asyncio]>=1.4.49->llama-index-core<0.13.0,>=0.12.5->llama-index) (3.1.1)\n",
      "Requirement already satisfied: mypy-extensions>=0.3.0 in /Users/rene/Documents/git/gitlab.eccenca.com/elds/plugins/llama-index-cmem/.venv/lib/python3.13/site-packages (from typing-inspect>=0.8.0->llama-index-core<0.13.0,>=0.12.5->llama-index) (1.0.0)\n",
      "Requirement already satisfied: marshmallow<4.0.0,>=3.18.0 in /Users/rene/Documents/git/gitlab.eccenca.com/elds/plugins/llama-index-cmem/.venv/lib/python3.13/site-packages (from dataclasses-json->llama-index-core<0.13.0,>=0.12.5->llama-index) (3.23.1)\n",
      "Requirement already satisfied: python-dateutil>=2.8.2 in /Users/rene/Documents/git/gitlab.eccenca.com/elds/plugins/llama-index-cmem/.venv/lib/python3.13/site-packages (from pandas->llama-index-legacy<0.10.0,>=0.9.48->llama-index) (2.9.0.post0)\n",
      "Requirement already satisfied: pytz>=2020.1 in /Users/rene/Documents/git/gitlab.eccenca.com/elds/plugins/llama-index-cmem/.venv/lib/python3.13/site-packages (from pandas->llama-index-legacy<0.10.0,>=0.9.48->llama-index) (2024.2)\n",
      "Requirement already satisfied: tzdata>=2022.7 in /Users/rene/Documents/git/gitlab.eccenca.com/elds/plugins/llama-index-cmem/.venv/lib/python3.13/site-packages (from pandas->llama-index-legacy<0.10.0,>=0.9.48->llama-index) (2024.2)\n",
      "Requirement already satisfied: packaging>=17.0 in /Users/rene/Documents/git/gitlab.eccenca.com/elds/plugins/llama-index-cmem/.venv/lib/python3.13/site-packages (from marshmallow<4.0.0,>=3.18.0->dataclasses-json->llama-index-core<0.13.0,>=0.12.5->llama-index) (24.2)\n",
      "Note: you may need to restart the kernel to use updated packages.\n"
     ]
    }
   ],
   "source": [
    "%pip install cmem-cmempy llama-index python-dotenv"
   ]
  },
  {
   "cell_type": "markdown",
   "metadata": {},
   "source": [
    "Load environment from `.env` file. \n",
    "Start by `cp .env-template .env` and edit the content of `.env` accordingly."
   ]
  },
  {
   "cell_type": "code",
   "execution_count": 2,
   "metadata": {},
   "outputs": [],
   "source": [
    "%load_ext dotenv\n",
    "%dotenv"
   ]
  },
  {
   "cell_type": "markdown",
   "metadata": {},
   "source": [
    "Set up the LLM"
   ]
  },
  {
   "cell_type": "code",
   "execution_count": 3,
   "metadata": {},
   "outputs": [],
   "source": [
    "from llama_index.core import Settings\n",
    "from llama_index.llms.openai import OpenAI\n",
    "\n",
    "model=\"gpt-4o-mini\"\n",
    "llm = OpenAI(model=model)\n",
    "Settings.llm = llm"
   ]
  },
  {
   "cell_type": "markdown",
   "metadata": {},
   "source": [
    "Set up all components."
   ]
  },
  {
   "cell_type": "code",
   "execution_count": 4,
   "metadata": {},
   "outputs": [],
   "source": [
    "from llama_index.core import get_response_synthesizer\n",
    "from llama_index.core.chat_engine import CondensePlusContextChatEngine\n",
    "from llama_index.core.memory import ChatMemoryBuffer\n",
    "\n",
    "from llama_index_cmem.graph_stores.cmem import CMEMGraphStore\n",
    "from llama_index_cmem.retrievers.cmem.cmem_retriever import CMEMRetriever\n",
    "\n",
    "ontology_graph = \"http://ld.company.org/prod-vocab/\"\n",
    "context_graph = \"http://ld.company.org/prod-inst/\"\n",
    "\n",
    "response_synthesizer = get_response_synthesizer()\n",
    "\n",
    "graph_store = CMEMGraphStore()\n",
    "\n",
    "retriever = CMEMRetriever(\n",
    "    graph_store=graph_store,\n",
    "    ontology_graph=ontology_graph,\n",
    "    context_graph=context_graph,\n",
    "    llm=llm\n",
    ")\n",
    "\n",
    "memory = ChatMemoryBuffer.from_defaults()\n",
    "\n",
    "chat_engine = CondensePlusContextChatEngine(\n",
    "    retriever=retriever,\n",
    "    llm=llm,\n",
    "    memory=memory\n",
    ")"
   ]
  },
  {
   "cell_type": "markdown",
   "metadata": {},
   "source": [
    "Define a natural language query, run via query engine and get a natural language response answering the question."
   ]
  },
  {
   "cell_type": "code",
   "execution_count": 7,
   "metadata": {},
   "outputs": [
    {
     "data": {
      "text/markdown": [
       "## Prompt: _List all hardware with price. Limit the results to 20 items._"
      ],
      "text/plain": [
       "<IPython.core.display.Markdown object>"
      ]
     },
     "metadata": {},
     "output_type": "display_data"
    },
    {
     "data": {
      "text/markdown": [
       "### Final response:"
      ],
      "text/plain": [
       "<IPython.core.display.Markdown object>"
      ]
     },
     "metadata": {},
     "output_type": "display_data"
    },
    {
     "name": "stdout",
     "output_type": "stream",
     "text": [
      "Sure! Here’s a list of 20 hardware items along with their prices:\n",
      "\n",
      "1. **Gauge Breaker** - €2.44\n",
      "   - [More Info](http://ld.company.org/prod-instances/hw-F332-3707903)\n",
      "\n",
      "2. **Gauge Compensator** - €2.29\n",
      "   - [More Info](http://ld.company.org/prod-instances/hw-E652-6887116)\n",
      "\n",
      "3. **Resistor Compensator** - €2.61\n",
      "   - [More Info](http://ld.company.org/prod-instances/hw-N560-4369045)\n",
      "\n",
      "4. **Dipole Capacitor** - €5.97\n",
      "   - [More Info](http://ld.company.org/prod-instances/hw-P903-7514284)\n",
      "\n",
      "5. **Encoder Transformer** - €3.44\n",
      "   - [More Info](http://ld.company.org/prod-instances/hw-C247-3833661)\n",
      "\n",
      "6. **Resonator Transformer** - €0.79\n",
      "   - [More Info](http://ld.company.org/prod-instances/hw-N480-3487616)\n",
      "\n",
      "7. **Coil Driver** - €3.48\n",
      "   - [More Info](http://ld.company.org/prod-instances/hw-N832-1055352)\n",
      "\n",
      "8. **Field-effect Multiplexer Potentiometer** - €0.51\n",
      "   - [More Info](http://ld.company.org/prod-instances/hw-L128-5499058)\n",
      "\n",
      "9. **Network Dipole Warp** - €3.68\n",
      "   - [More Info](http://ld.company.org/prod-instances/hw-V382-3883746)\n",
      "\n",
      "10. **Dipole Transformer** - €5.53\n",
      "    - [More Info](http://ld.company.org/prod-instances/hw-N573-1498086)\n",
      "\n",
      "11. **Multiplexer Sensor Encoder** - €4.31\n",
      "    - [More Info](http://ld.company.org/prod-instances/hw-Z143-3180282)\n",
      "\n",
      "12. **Sensor Breaker** - €2.86\n",
      "    - [More Info](http://ld.company.org/prod-instances/hw-R946-7112528)\n",
      "\n",
      "13. **LCD Encoder Compensator** - €3.13\n",
      "    - [More Info](http://ld.company.org/prod-instances/hw-K926-9334427)\n",
      "\n",
      "14. **Multiplexer Switch** - €4.90\n",
      "    - [More Info](http://ld.company.org/prod-instances/hw-W658-9979899)\n",
      "\n",
      "15. **Film Resistor Memristor Meter** - €5.49\n",
      "    - [More Info](http://ld.company.org/prod-instances/hw-A750-6901242)\n",
      "\n",
      "16. **Heisenberg Crystal Transformer** - €2.92\n",
      "    - [More Info](http://ld.company.org/prod-instances/hw-K313-8452822)\n",
      "\n",
      "17. **Inductor** - €3.21\n",
      "    - [More Info](http://ld.company.org/prod-instances/hw-L816-8238278)\n",
      "\n",
      "18. **Transistor Breaker** - €2.36\n",
      "    - [More Info](http://ld.company.org/prod-instances/hw-X407-9945990)\n",
      "\n",
      "19. **Film Network Crystal** - €2.44\n",
      "    - [More Info](http://ld.company.org/prod-instances/hw-G249-4926490)\n",
      "\n",
      "20. **Driver Strain** - €5.92\n",
      "    - [More Info](http://ld.company.org/prod-instances/hw-Z212-3451369)\n",
      "\n",
      "Let me know if you need more information about any specific item!"
     ]
    }
   ],
   "source": [
    "from IPython.display import display, Markdown\n",
    "\n",
    "def ask(prompt):\n",
    "    display(Markdown(f\"## Prompt: _{prompt}_\"))\n",
    "    response = chat_engine.stream_chat(prompt)\n",
    "    display(Markdown(f\"### Final response:\"))\n",
    "    for token in response.response_gen:\n",
    "        print(token, end=\"\")\n",
    "\n",
    "query = \"List all hardware with price. Limit the results to 20 items.\"\n",
    "ask(query)"
   ]
  }
 ],
 "metadata": {
  "kernelspec": {
   "display_name": ".venv",
   "language": "python",
   "name": "python3"
  },
  "language_info": {
   "codemirror_mode": {
    "name": "ipython",
    "version": 3
   },
   "file_extension": ".py",
   "mimetype": "text/x-python",
   "name": "python",
   "nbconvert_exporter": "python",
   "pygments_lexer": "ipython3",
   "version": "3.13.1"
  }
 },
 "nbformat": 4,
 "nbformat_minor": 2
}
