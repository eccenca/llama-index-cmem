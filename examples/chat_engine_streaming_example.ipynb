{
 "cells": [
  {
   "cell_type": "markdown",
   "metadata": {},
   "source": [
    "# Chat Engine with CMEMRetriever (streaming)\n",
    "\n",
    "To use the CMEM integration, use a RetrieverQueryEngine with CMEMRetriever and CMEMGraphStore."
   ]
  },
  {
   "cell_type": "code",
   "execution_count": 1,
   "metadata": {
    "ExecuteTime": {
     "end_time": "2025-01-20T14:57:32.245602Z",
     "start_time": "2025-01-20T14:57:31.399405Z"
    }
   },
   "outputs": [
    {
     "name": "stdout",
     "output_type": "stream",
     "text": [
      "Requirement already satisfied: cmem-cmempy in /Users/rene/Documents/git/github/eccenca/llama-index-cmem/.venv/lib/python3.13/site-packages (24.3.0)\n",
      "Requirement already satisfied: llama-index in /Users/rene/Documents/git/github/eccenca/llama-index-cmem/.venv/lib/python3.13/site-packages (0.12.11)\n",
      "Requirement already satisfied: python-dotenv in /Users/rene/Documents/git/github/eccenca/llama-index-cmem/.venv/lib/python3.13/site-packages (1.0.1)\n",
      "Requirement already satisfied: certifi>=2023.7.22 in /Users/rene/Documents/git/github/eccenca/llama-index-cmem/.venv/lib/python3.13/site-packages (from cmem-cmempy) (2024.12.14)\n",
      "Requirement already satisfied: pyparsing<4.0.0,>=3.1.1 in /Users/rene/Documents/git/github/eccenca/llama-index-cmem/.venv/lib/python3.13/site-packages (from cmem-cmempy) (3.2.1)\n",
      "Requirement already satisfied: rdflib<7.0.0,>=6.3.2 in /Users/rene/Documents/git/github/eccenca/llama-index-cmem/.venv/lib/python3.13/site-packages (from cmem-cmempy) (6.3.2)\n",
      "Requirement already satisfied: requests<3.0.0,>=2.31.0 in /Users/rene/Documents/git/github/eccenca/llama-index-cmem/.venv/lib/python3.13/site-packages (from cmem-cmempy) (2.32.3)\n",
      "Requirement already satisfied: requests-toolbelt<2.0.0,>=1.0.0 in /Users/rene/Documents/git/github/eccenca/llama-index-cmem/.venv/lib/python3.13/site-packages (from cmem-cmempy) (1.0.0)\n",
      "Requirement already satisfied: llama-index-agent-openai<0.5.0,>=0.4.0 in /Users/rene/Documents/git/github/eccenca/llama-index-cmem/.venv/lib/python3.13/site-packages (from llama-index) (0.4.2)\n",
      "Requirement already satisfied: llama-index-cli<0.5.0,>=0.4.0 in /Users/rene/Documents/git/github/eccenca/llama-index-cmem/.venv/lib/python3.13/site-packages (from llama-index) (0.4.0)\n",
      "Requirement already satisfied: llama-index-core<0.13.0,>=0.12.11 in /Users/rene/Documents/git/github/eccenca/llama-index-cmem/.venv/lib/python3.13/site-packages (from llama-index) (0.12.11)\n",
      "Requirement already satisfied: llama-index-embeddings-openai<0.4.0,>=0.3.0 in /Users/rene/Documents/git/github/eccenca/llama-index-cmem/.venv/lib/python3.13/site-packages (from llama-index) (0.3.1)\n",
      "Requirement already satisfied: llama-index-indices-managed-llama-cloud>=0.4.0 in /Users/rene/Documents/git/github/eccenca/llama-index-cmem/.venv/lib/python3.13/site-packages (from llama-index) (0.6.3)\n",
      "Requirement already satisfied: llama-index-llms-openai<0.4.0,>=0.3.0 in /Users/rene/Documents/git/github/eccenca/llama-index-cmem/.venv/lib/python3.13/site-packages (from llama-index) (0.3.13)\n",
      "Requirement already satisfied: llama-index-multi-modal-llms-openai<0.5.0,>=0.4.0 in /Users/rene/Documents/git/github/eccenca/llama-index-cmem/.venv/lib/python3.13/site-packages (from llama-index) (0.4.2)\n",
      "Requirement already satisfied: llama-index-program-openai<0.4.0,>=0.3.0 in /Users/rene/Documents/git/github/eccenca/llama-index-cmem/.venv/lib/python3.13/site-packages (from llama-index) (0.3.1)\n",
      "Requirement already satisfied: llama-index-question-gen-openai<0.4.0,>=0.3.0 in /Users/rene/Documents/git/github/eccenca/llama-index-cmem/.venv/lib/python3.13/site-packages (from llama-index) (0.3.0)\n",
      "Requirement already satisfied: llama-index-readers-file<0.5.0,>=0.4.0 in /Users/rene/Documents/git/github/eccenca/llama-index-cmem/.venv/lib/python3.13/site-packages (from llama-index) (0.4.3)\n",
      "Requirement already satisfied: llama-index-readers-llama-parse>=0.4.0 in /Users/rene/Documents/git/github/eccenca/llama-index-cmem/.venv/lib/python3.13/site-packages (from llama-index) (0.4.0)\n",
      "Requirement already satisfied: nltk>3.8.1 in /Users/rene/Documents/git/github/eccenca/llama-index-cmem/.venv/lib/python3.13/site-packages (from llama-index) (3.9.1)\n",
      "Requirement already satisfied: openai>=1.14.0 in /Users/rene/Documents/git/github/eccenca/llama-index-cmem/.venv/lib/python3.13/site-packages (from llama-index-agent-openai<0.5.0,>=0.4.0->llama-index) (1.59.8)\n",
      "Requirement already satisfied: PyYAML>=6.0.1 in /Users/rene/Documents/git/github/eccenca/llama-index-cmem/.venv/lib/python3.13/site-packages (from llama-index-core<0.13.0,>=0.12.11->llama-index) (6.0.2)\n",
      "Requirement already satisfied: SQLAlchemy>=1.4.49 in /Users/rene/Documents/git/github/eccenca/llama-index-cmem/.venv/lib/python3.13/site-packages (from SQLAlchemy[asyncio]>=1.4.49->llama-index-core<0.13.0,>=0.12.11->llama-index) (2.0.37)\n",
      "Requirement already satisfied: aiohttp<4.0.0,>=3.8.6 in /Users/rene/Documents/git/github/eccenca/llama-index-cmem/.venv/lib/python3.13/site-packages (from llama-index-core<0.13.0,>=0.12.11->llama-index) (3.11.11)\n",
      "Requirement already satisfied: dataclasses-json in /Users/rene/Documents/git/github/eccenca/llama-index-cmem/.venv/lib/python3.13/site-packages (from llama-index-core<0.13.0,>=0.12.11->llama-index) (0.6.7)\n",
      "Requirement already satisfied: deprecated>=1.2.9.3 in /Users/rene/Documents/git/github/eccenca/llama-index-cmem/.venv/lib/python3.13/site-packages (from llama-index-core<0.13.0,>=0.12.11->llama-index) (1.2.15)\n",
      "Requirement already satisfied: dirtyjson<2.0.0,>=1.0.8 in /Users/rene/Documents/git/github/eccenca/llama-index-cmem/.venv/lib/python3.13/site-packages (from llama-index-core<0.13.0,>=0.12.11->llama-index) (1.0.8)\n",
      "Requirement already satisfied: filetype<2.0.0,>=1.2.0 in /Users/rene/Documents/git/github/eccenca/llama-index-cmem/.venv/lib/python3.13/site-packages (from llama-index-core<0.13.0,>=0.12.11->llama-index) (1.2.0)\n",
      "Requirement already satisfied: fsspec>=2023.5.0 in /Users/rene/Documents/git/github/eccenca/llama-index-cmem/.venv/lib/python3.13/site-packages (from llama-index-core<0.13.0,>=0.12.11->llama-index) (2024.12.0)\n",
      "Requirement already satisfied: httpx in /Users/rene/Documents/git/github/eccenca/llama-index-cmem/.venv/lib/python3.13/site-packages (from llama-index-core<0.13.0,>=0.12.11->llama-index) (0.28.1)\n",
      "Requirement already satisfied: nest-asyncio<2.0.0,>=1.5.8 in /Users/rene/Documents/git/github/eccenca/llama-index-cmem/.venv/lib/python3.13/site-packages (from llama-index-core<0.13.0,>=0.12.11->llama-index) (1.6.0)\n",
      "Requirement already satisfied: networkx>=3.0 in /Users/rene/Documents/git/github/eccenca/llama-index-cmem/.venv/lib/python3.13/site-packages (from llama-index-core<0.13.0,>=0.12.11->llama-index) (3.4.2)\n",
      "Requirement already satisfied: numpy in /Users/rene/Documents/git/github/eccenca/llama-index-cmem/.venv/lib/python3.13/site-packages (from llama-index-core<0.13.0,>=0.12.11->llama-index) (2.2.1)\n",
      "Requirement already satisfied: pillow>=9.0.0 in /Users/rene/Documents/git/github/eccenca/llama-index-cmem/.venv/lib/python3.13/site-packages (from llama-index-core<0.13.0,>=0.12.11->llama-index) (11.1.0)\n",
      "Requirement already satisfied: pydantic>=2.8.0 in /Users/rene/Documents/git/github/eccenca/llama-index-cmem/.venv/lib/python3.13/site-packages (from llama-index-core<0.13.0,>=0.12.11->llama-index) (2.10.5)\n",
      "Requirement already satisfied: tenacity!=8.4.0,<10.0.0,>=8.2.0 in /Users/rene/Documents/git/github/eccenca/llama-index-cmem/.venv/lib/python3.13/site-packages (from llama-index-core<0.13.0,>=0.12.11->llama-index) (9.0.0)\n",
      "Requirement already satisfied: tiktoken>=0.3.3 in /Users/rene/Documents/git/github/eccenca/llama-index-cmem/.venv/lib/python3.13/site-packages (from llama-index-core<0.13.0,>=0.12.11->llama-index) (0.8.0)\n",
      "Requirement already satisfied: tqdm<5.0.0,>=4.66.1 in /Users/rene/Documents/git/github/eccenca/llama-index-cmem/.venv/lib/python3.13/site-packages (from llama-index-core<0.13.0,>=0.12.11->llama-index) (4.67.1)\n",
      "Requirement already satisfied: typing-extensions>=4.5.0 in /Users/rene/Documents/git/github/eccenca/llama-index-cmem/.venv/lib/python3.13/site-packages (from llama-index-core<0.13.0,>=0.12.11->llama-index) (4.12.2)\n",
      "Requirement already satisfied: typing-inspect>=0.8.0 in /Users/rene/Documents/git/github/eccenca/llama-index-cmem/.venv/lib/python3.13/site-packages (from llama-index-core<0.13.0,>=0.12.11->llama-index) (0.9.0)\n",
      "Requirement already satisfied: wrapt in /Users/rene/Documents/git/github/eccenca/llama-index-cmem/.venv/lib/python3.13/site-packages (from llama-index-core<0.13.0,>=0.12.11->llama-index) (1.17.2)\n",
      "Requirement already satisfied: llama-cloud>=0.1.5 in /Users/rene/Documents/git/github/eccenca/llama-index-cmem/.venv/lib/python3.13/site-packages (from llama-index-indices-managed-llama-cloud>=0.4.0->llama-index) (0.1.9)\n",
      "Requirement already satisfied: beautifulsoup4<5.0.0,>=4.12.3 in /Users/rene/Documents/git/github/eccenca/llama-index-cmem/.venv/lib/python3.13/site-packages (from llama-index-readers-file<0.5.0,>=0.4.0->llama-index) (4.12.3)\n",
      "Requirement already satisfied: pandas in /Users/rene/Documents/git/github/eccenca/llama-index-cmem/.venv/lib/python3.13/site-packages (from llama-index-readers-file<0.5.0,>=0.4.0->llama-index) (2.2.3)\n",
      "Requirement already satisfied: pypdf<6.0.0,>=5.1.0 in /Users/rene/Documents/git/github/eccenca/llama-index-cmem/.venv/lib/python3.13/site-packages (from llama-index-readers-file<0.5.0,>=0.4.0->llama-index) (5.1.0)\n",
      "Requirement already satisfied: striprtf<0.0.27,>=0.0.26 in /Users/rene/Documents/git/github/eccenca/llama-index-cmem/.venv/lib/python3.13/site-packages (from llama-index-readers-file<0.5.0,>=0.4.0->llama-index) (0.0.26)\n",
      "Requirement already satisfied: llama-parse>=0.5.0 in /Users/rene/Documents/git/github/eccenca/llama-index-cmem/.venv/lib/python3.13/site-packages (from llama-index-readers-llama-parse>=0.4.0->llama-index) (0.5.19)\n",
      "Requirement already satisfied: click in /Users/rene/Documents/git/github/eccenca/llama-index-cmem/.venv/lib/python3.13/site-packages (from nltk>3.8.1->llama-index) (8.1.8)\n",
      "Requirement already satisfied: joblib in /Users/rene/Documents/git/github/eccenca/llama-index-cmem/.venv/lib/python3.13/site-packages (from nltk>3.8.1->llama-index) (1.4.2)\n",
      "Requirement already satisfied: regex>=2021.8.3 in /Users/rene/Documents/git/github/eccenca/llama-index-cmem/.venv/lib/python3.13/site-packages (from nltk>3.8.1->llama-index) (2024.11.6)\n",
      "Requirement already satisfied: isodate<0.7.0,>=0.6.0 in /Users/rene/Documents/git/github/eccenca/llama-index-cmem/.venv/lib/python3.13/site-packages (from rdflib<7.0.0,>=6.3.2->cmem-cmempy) (0.6.1)\n",
      "Requirement already satisfied: charset-normalizer<4,>=2 in /Users/rene/Documents/git/github/eccenca/llama-index-cmem/.venv/lib/python3.13/site-packages (from requests<3.0.0,>=2.31.0->cmem-cmempy) (3.4.1)\n",
      "Requirement already satisfied: idna<4,>=2.5 in /Users/rene/Documents/git/github/eccenca/llama-index-cmem/.venv/lib/python3.13/site-packages (from requests<3.0.0,>=2.31.0->cmem-cmempy) (3.10)\n",
      "Requirement already satisfied: urllib3<3,>=1.21.1 in /Users/rene/Documents/git/github/eccenca/llama-index-cmem/.venv/lib/python3.13/site-packages (from requests<3.0.0,>=2.31.0->cmem-cmempy) (2.3.0)\n",
      "Requirement already satisfied: aiohappyeyeballs>=2.3.0 in /Users/rene/Documents/git/github/eccenca/llama-index-cmem/.venv/lib/python3.13/site-packages (from aiohttp<4.0.0,>=3.8.6->llama-index-core<0.13.0,>=0.12.11->llama-index) (2.4.4)\n",
      "Requirement already satisfied: aiosignal>=1.1.2 in /Users/rene/Documents/git/github/eccenca/llama-index-cmem/.venv/lib/python3.13/site-packages (from aiohttp<4.0.0,>=3.8.6->llama-index-core<0.13.0,>=0.12.11->llama-index) (1.3.2)\n",
      "Requirement already satisfied: attrs>=17.3.0 in /Users/rene/Documents/git/github/eccenca/llama-index-cmem/.venv/lib/python3.13/site-packages (from aiohttp<4.0.0,>=3.8.6->llama-index-core<0.13.0,>=0.12.11->llama-index) (24.3.0)\n",
      "Requirement already satisfied: frozenlist>=1.1.1 in /Users/rene/Documents/git/github/eccenca/llama-index-cmem/.venv/lib/python3.13/site-packages (from aiohttp<4.0.0,>=3.8.6->llama-index-core<0.13.0,>=0.12.11->llama-index) (1.5.0)\n",
      "Requirement already satisfied: multidict<7.0,>=4.5 in /Users/rene/Documents/git/github/eccenca/llama-index-cmem/.venv/lib/python3.13/site-packages (from aiohttp<4.0.0,>=3.8.6->llama-index-core<0.13.0,>=0.12.11->llama-index) (6.1.0)\n",
      "Requirement already satisfied: propcache>=0.2.0 in /Users/rene/Documents/git/github/eccenca/llama-index-cmem/.venv/lib/python3.13/site-packages (from aiohttp<4.0.0,>=3.8.6->llama-index-core<0.13.0,>=0.12.11->llama-index) (0.2.1)\n",
      "Requirement already satisfied: yarl<2.0,>=1.17.0 in /Users/rene/Documents/git/github/eccenca/llama-index-cmem/.venv/lib/python3.13/site-packages (from aiohttp<4.0.0,>=3.8.6->llama-index-core<0.13.0,>=0.12.11->llama-index) (1.18.3)\n",
      "Requirement already satisfied: soupsieve>1.2 in /Users/rene/Documents/git/github/eccenca/llama-index-cmem/.venv/lib/python3.13/site-packages (from beautifulsoup4<5.0.0,>=4.12.3->llama-index-readers-file<0.5.0,>=0.4.0->llama-index) (2.6)\n",
      "Requirement already satisfied: six in /Users/rene/Documents/git/github/eccenca/llama-index-cmem/.venv/lib/python3.13/site-packages (from isodate<0.7.0,>=0.6.0->rdflib<7.0.0,>=6.3.2->cmem-cmempy) (1.17.0)\n",
      "Requirement already satisfied: anyio in /Users/rene/Documents/git/github/eccenca/llama-index-cmem/.venv/lib/python3.13/site-packages (from httpx->llama-index-core<0.13.0,>=0.12.11->llama-index) (4.8.0)\n",
      "Requirement already satisfied: httpcore==1.* in /Users/rene/Documents/git/github/eccenca/llama-index-cmem/.venv/lib/python3.13/site-packages (from httpx->llama-index-core<0.13.0,>=0.12.11->llama-index) (1.0.7)\n",
      "Requirement already satisfied: h11<0.15,>=0.13 in /Users/rene/Documents/git/github/eccenca/llama-index-cmem/.venv/lib/python3.13/site-packages (from httpcore==1.*->httpx->llama-index-core<0.13.0,>=0.12.11->llama-index) (0.14.0)\n",
      "Requirement already satisfied: distro<2,>=1.7.0 in /Users/rene/Documents/git/github/eccenca/llama-index-cmem/.venv/lib/python3.13/site-packages (from openai>=1.14.0->llama-index-agent-openai<0.5.0,>=0.4.0->llama-index) (1.9.0)\n",
      "Requirement already satisfied: jiter<1,>=0.4.0 in /Users/rene/Documents/git/github/eccenca/llama-index-cmem/.venv/lib/python3.13/site-packages (from openai>=1.14.0->llama-index-agent-openai<0.5.0,>=0.4.0->llama-index) (0.8.2)\n",
      "Requirement already satisfied: sniffio in /Users/rene/Documents/git/github/eccenca/llama-index-cmem/.venv/lib/python3.13/site-packages (from openai>=1.14.0->llama-index-agent-openai<0.5.0,>=0.4.0->llama-index) (1.3.1)\n",
      "Requirement already satisfied: annotated-types>=0.6.0 in /Users/rene/Documents/git/github/eccenca/llama-index-cmem/.venv/lib/python3.13/site-packages (from pydantic>=2.8.0->llama-index-core<0.13.0,>=0.12.11->llama-index) (0.7.0)\n",
      "Requirement already satisfied: pydantic-core==2.27.2 in /Users/rene/Documents/git/github/eccenca/llama-index-cmem/.venv/lib/python3.13/site-packages (from pydantic>=2.8.0->llama-index-core<0.13.0,>=0.12.11->llama-index) (2.27.2)\n",
      "Requirement already satisfied: greenlet!=0.4.17 in /Users/rene/Documents/git/github/eccenca/llama-index-cmem/.venv/lib/python3.13/site-packages (from SQLAlchemy[asyncio]>=1.4.49->llama-index-core<0.13.0,>=0.12.11->llama-index) (3.1.1)\n",
      "Requirement already satisfied: mypy-extensions>=0.3.0 in /Users/rene/Documents/git/github/eccenca/llama-index-cmem/.venv/lib/python3.13/site-packages (from typing-inspect>=0.8.0->llama-index-core<0.13.0,>=0.12.11->llama-index) (1.0.0)\n",
      "Requirement already satisfied: marshmallow<4.0.0,>=3.18.0 in /Users/rene/Documents/git/github/eccenca/llama-index-cmem/.venv/lib/python3.13/site-packages (from dataclasses-json->llama-index-core<0.13.0,>=0.12.11->llama-index) (3.25.1)\n",
      "Requirement already satisfied: python-dateutil>=2.8.2 in /Users/rene/Documents/git/github/eccenca/llama-index-cmem/.venv/lib/python3.13/site-packages (from pandas->llama-index-readers-file<0.5.0,>=0.4.0->llama-index) (2.9.0.post0)\n",
      "Requirement already satisfied: pytz>=2020.1 in /Users/rene/Documents/git/github/eccenca/llama-index-cmem/.venv/lib/python3.13/site-packages (from pandas->llama-index-readers-file<0.5.0,>=0.4.0->llama-index) (2024.2)\n",
      "Requirement already satisfied: tzdata>=2022.7 in /Users/rene/Documents/git/github/eccenca/llama-index-cmem/.venv/lib/python3.13/site-packages (from pandas->llama-index-readers-file<0.5.0,>=0.4.0->llama-index) (2024.2)\n",
      "Requirement already satisfied: packaging>=17.0 in /Users/rene/Documents/git/github/eccenca/llama-index-cmem/.venv/lib/python3.13/site-packages (from marshmallow<4.0.0,>=3.18.0->dataclasses-json->llama-index-core<0.13.0,>=0.12.11->llama-index) (24.2)\n",
      "\n",
      "\u001b[1m[\u001b[0m\u001b[34;49mnotice\u001b[0m\u001b[1;39;49m]\u001b[0m\u001b[39;49m A new release of pip is available: \u001b[0m\u001b[31;49m24.3.1\u001b[0m\u001b[39;49m -> \u001b[0m\u001b[32;49m25.0\u001b[0m\n",
      "\u001b[1m[\u001b[0m\u001b[34;49mnotice\u001b[0m\u001b[1;39;49m]\u001b[0m\u001b[39;49m To update, run: \u001b[0m\u001b[32;49mpip install --upgrade pip\u001b[0m\n",
      "Note: you may need to restart the kernel to use updated packages.\n"
     ]
    }
   ],
   "source": [
    "%pip install cmem-cmempy llama-index python-dotenv"
   ]
  },
  {
   "cell_type": "markdown",
   "metadata": {},
   "source": [
    "Load environment from `.env` file. \n",
    "Start by `cp .env-template .env` and edit the content of `.env` accordingly."
   ]
  },
  {
   "cell_type": "code",
   "execution_count": 2,
   "metadata": {
    "ExecuteTime": {
     "end_time": "2025-01-20T14:57:32.257996Z",
     "start_time": "2025-01-20T14:57:32.249673Z"
    }
   },
   "outputs": [],
   "source": [
    "%load_ext dotenv\n",
    "%dotenv\n",
    "%reload_ext dotenv"
   ]
  },
  {
   "cell_type": "markdown",
   "metadata": {},
   "source": [
    "Set up the LLM"
   ]
  },
  {
   "cell_type": "code",
   "execution_count": 3,
   "metadata": {
    "ExecuteTime": {
     "end_time": "2025-01-20T14:57:36.966015Z",
     "start_time": "2025-01-20T14:57:32.383638Z"
    }
   },
   "outputs": [],
   "source": [
    "from llama_index.core import Settings\n",
    "from llama_index.llms.openai import OpenAI\n",
    "\n",
    "model=\"gpt-4o-mini\"\n",
    "llm = OpenAI(model=model)\n",
    "Settings.llm = llm"
   ]
  },
  {
   "cell_type": "markdown",
   "metadata": {},
   "source": [
    "Set up all components."
   ]
  },
  {
   "cell_type": "code",
   "execution_count": 4,
   "metadata": {
    "ExecuteTime": {
     "end_time": "2025-01-20T14:57:37.473838Z",
     "start_time": "2025-01-20T14:57:36.973153Z"
    }
   },
   "outputs": [],
   "source": [
    "from llama_index.core import get_response_synthesizer\n",
    "from llama_index.core.chat_engine import CondensePlusContextChatEngine\n",
    "from llama_index.core.memory import ChatMemoryBuffer\n",
    "\n",
    "from llama_index_cmem.retrievers.cmem.cmem_retriever import CMEMRetriever\n",
    "\n",
    "ontology_graph = \"http://ld.company.org/prod-vocab/\"\n",
    "context_graph = \"http://ld.company.org/prod-inst/\"\n",
    "\n",
    "response_synthesizer = get_response_synthesizer()\n",
    "\n",
    "retriever = CMEMRetriever(\n",
    "    ontology_graph=ontology_graph,\n",
    "    context_graph=context_graph,\n",
    "    llm=llm\n",
    ")\n",
    "\n",
    "memory = ChatMemoryBuffer.from_defaults()\n",
    "\n",
    "chat_engine = CondensePlusContextChatEngine(\n",
    "    retriever=retriever,\n",
    "    llm=llm,\n",
    "    memory=memory\n",
    ")"
   ]
  },
  {
   "cell_type": "markdown",
   "metadata": {},
   "source": [
    "Define a natural language query, run via query engine and get a natural language response answering the question."
   ]
  },
  {
   "cell_type": "code",
   "execution_count": 5,
   "metadata": {
    "ExecuteTime": {
     "end_time": "2025-01-20T14:57:58.819257Z",
     "start_time": "2025-01-20T14:57:37.481236Z"
    }
   },
   "outputs": [
    {
     "data": {
      "text/markdown": [
       "## Prompt: _List all hardware with price. Limit the results to 20 items._\n",
       "\n",
       "### Final response:\n",
       "\n",
       "Here are 20 hardware items along with their prices:\n",
       "\n",
       "1. **Hardware**: [hw-F332-3707903](http://ld.company.org/prod-instances/hw-F332-3707903) - **Price**: 2.44 EUR\n",
       "2. **Hardware**: [hw-E652-6887116](http://ld.company.org/prod-instances/hw-E652-6887116) - **Price**: 2.29 EUR\n",
       "3. **Hardware**: [hw-N560-4369045](http://ld.company.org/prod-instances/hw-N560-4369045) - **Price**: 2.61 EUR\n",
       "4. **Hardware**: [hw-P903-7514284](http://ld.company.org/prod-instances/hw-P903-7514284) - **Price**: 5.97 EUR\n",
       "5. **Hardware**: [hw-C247-3833661](http://ld.company.org/prod-instances/hw-C247-3833661) - **Price**: 3.44 EUR\n",
       "6. **Hardware**: [hw-N480-3487616](http://ld.company.org/prod-instances/hw-N480-3487616) - **Price**: 0.79 EUR\n",
       "7. **Hardware**: [hw-N832-1055352](http://ld.company.org/prod-instances/hw-N832-1055352) - **Price**: 3.48 EUR\n",
       "8. **Hardware**: [hw-L128-5499058](http://ld.company.org/prod-instances/hw-L128-5499058) - **Price**: 0.51 EUR\n",
       "9. **Hardware**: [hw-V382-3883746](http://ld.company.org/prod-instances/hw-V382-3883746) - **Price**: 3.68 EUR\n",
       "10. **Hardware**: [hw-N573-1498086](http://ld.company.org/prod-instances/hw-N573-1498086) - **Price**: 5.53 EUR\n",
       "11. **Hardware**: [hw-Z143-3180282](http://ld.company.org/prod-instances/hw-Z143-3180282) - **Price**: 4.31 EUR\n",
       "12. **Hardware**: [hw-R946-7112528](http://ld.company.org/prod-instances/hw-R946-7112528) - **Price**: 2.86 EUR\n",
       "13. **Hardware**: [hw-K926-9334427](http://ld.company.org/prod-instances/hw-K926-9334427) - **Price**: 3.13 EUR\n",
       "14. **Hardware**: [hw-W658-9979899](http://ld.company.org/prod-instances/hw-W658-9979899) - **Price**: 4.90 EUR\n",
       "15. **Hardware**: [hw-A750-6901242](http://ld.company.org/prod-instances/hw-A750-6901242) - **Price**: 5.49 EUR\n",
       "16. **Hardware**: [hw-K313-8452822](http://ld.company.org/prod-instances/hw-K313-8452822) - **Price**: 2.92 EUR\n",
       "17. **Hardware**: [hw-L816-8238278](http://ld.company.org/prod-instances/hw-L816-8238278) - **Price**: 3.21 EUR\n",
       "18. **Hardware**: [hw-X407-9945990](http://ld.company.org/prod-instances/hw-X407-9945990) - **Price**: 2.36 EUR\n",
       "19. **Hardware**: [hw-G249-4926490](http://ld.company.org/prod-instances/hw-G249-4926490) - **Price**: 2.44 EUR\n",
       "20. **Hardware**: [hw-Z212-3451369](http://ld.company.org/prod-instances/hw-Z212-3451369) - **Price**: 5.92 EUR\n",
       "\n",
       "Let me know if you need more information!"
      ],
      "text/plain": [
       "<IPython.core.display.Markdown object>"
      ]
     },
     "metadata": {},
     "output_type": "display_data"
    }
   ],
   "source": [
    "from IPython.display import display, Markdown\n",
    "\n",
    "def ask(prompt):\n",
    "    text = f\"## Prompt: _{prompt}_\\n\\n\"\n",
    "    text += \"### Final response:\\n\\n\"\n",
    "    display_handle = display(Markdown(\"\"), display_id=True)\n",
    "    display_handle.update(Markdown(text))\n",
    "    response = chat_engine.stream_chat(prompt)\n",
    "    for token in response.response_gen:\n",
    "        text += f\"{token}\"\n",
    "        display_handle.update(Markdown(text))\n",
    "\n",
    "query = \"List all hardware with price. Limit the results to 20 items.\"\n",
    "ask(query)"
   ]
  }
 ],
 "metadata": {
  "kernelspec": {
   "display_name": ".venv",
   "language": "python",
   "name": "python3"
  },
  "language_info": {
   "codemirror_mode": {
    "name": "ipython",
    "version": 3
   },
   "file_extension": ".py",
   "mimetype": "text/x-python",
   "name": "python",
   "nbconvert_exporter": "python",
   "pygments_lexer": "ipython3",
   "version": "3.13.0"
  }
 },
 "nbformat": 4,
 "nbformat_minor": 2
}
