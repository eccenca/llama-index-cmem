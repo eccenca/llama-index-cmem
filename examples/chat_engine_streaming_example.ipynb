{
 "cells": [
  {
   "cell_type": "markdown",
   "metadata": {},
   "source": [
    "# Chat Engine with CMEMRetriever (streaming)\n",
    "\n",
    "To use the CMEM integration, use a RetrieverQueryEngine with CMEMRetriever and CMEMGraphStore."
   ]
  },
  {
   "cell_type": "code",
   "execution_count": 1,
   "metadata": {
    "ExecuteTime": {
     "end_time": "2025-01-20T14:57:32.245602Z",
     "start_time": "2025-01-20T14:57:31.399405Z"
    }
   },
   "outputs": [
    {
     "name": "stdout",
     "output_type": "stream",
     "text": [
      "Requirement already satisfied: cmem-cmempy in /home/pfreytag/github.com/eccenca/llama-index-cmem/.venv/lib/python3.12/site-packages (24.3.0)\r\n",
      "Requirement already satisfied: llama-index in /home/pfreytag/github.com/eccenca/llama-index-cmem/.venv/lib/python3.12/site-packages (0.12.11)\r\n",
      "Requirement already satisfied: python-dotenv in /home/pfreytag/github.com/eccenca/llama-index-cmem/.venv/lib/python3.12/site-packages (1.0.1)\r\n",
      "Requirement already satisfied: certifi>=2023.7.22 in /home/pfreytag/github.com/eccenca/llama-index-cmem/.venv/lib/python3.12/site-packages (from cmem-cmempy) (2024.12.14)\r\n",
      "Requirement already satisfied: pyparsing<4.0.0,>=3.1.1 in /home/pfreytag/github.com/eccenca/llama-index-cmem/.venv/lib/python3.12/site-packages (from cmem-cmempy) (3.2.1)\r\n",
      "Requirement already satisfied: rdflib<7.0.0,>=6.3.2 in /home/pfreytag/github.com/eccenca/llama-index-cmem/.venv/lib/python3.12/site-packages (from cmem-cmempy) (6.3.2)\r\n",
      "Requirement already satisfied: requests<3.0.0,>=2.31.0 in /home/pfreytag/github.com/eccenca/llama-index-cmem/.venv/lib/python3.12/site-packages (from cmem-cmempy) (2.32.3)\r\n",
      "Requirement already satisfied: requests-toolbelt<2.0.0,>=1.0.0 in /home/pfreytag/github.com/eccenca/llama-index-cmem/.venv/lib/python3.12/site-packages (from cmem-cmempy) (1.0.0)\r\n",
      "Requirement already satisfied: llama-index-agent-openai<0.5.0,>=0.4.0 in /home/pfreytag/github.com/eccenca/llama-index-cmem/.venv/lib/python3.12/site-packages (from llama-index) (0.4.2)\r\n",
      "Requirement already satisfied: llama-index-cli<0.5.0,>=0.4.0 in /home/pfreytag/github.com/eccenca/llama-index-cmem/.venv/lib/python3.12/site-packages (from llama-index) (0.4.0)\r\n",
      "Requirement already satisfied: llama-index-core<0.13.0,>=0.12.11 in /home/pfreytag/github.com/eccenca/llama-index-cmem/.venv/lib/python3.12/site-packages (from llama-index) (0.12.11)\r\n",
      "Requirement already satisfied: llama-index-embeddings-openai<0.4.0,>=0.3.0 in /home/pfreytag/github.com/eccenca/llama-index-cmem/.venv/lib/python3.12/site-packages (from llama-index) (0.3.1)\r\n",
      "Requirement already satisfied: llama-index-indices-managed-llama-cloud>=0.4.0 in /home/pfreytag/github.com/eccenca/llama-index-cmem/.venv/lib/python3.12/site-packages (from llama-index) (0.6.3)\r\n",
      "Requirement already satisfied: llama-index-llms-openai<0.4.0,>=0.3.0 in /home/pfreytag/github.com/eccenca/llama-index-cmem/.venv/lib/python3.12/site-packages (from llama-index) (0.3.13)\r\n",
      "Requirement already satisfied: llama-index-multi-modal-llms-openai<0.5.0,>=0.4.0 in /home/pfreytag/github.com/eccenca/llama-index-cmem/.venv/lib/python3.12/site-packages (from llama-index) (0.4.2)\r\n",
      "Requirement already satisfied: llama-index-program-openai<0.4.0,>=0.3.0 in /home/pfreytag/github.com/eccenca/llama-index-cmem/.venv/lib/python3.12/site-packages (from llama-index) (0.3.1)\r\n",
      "Requirement already satisfied: llama-index-question-gen-openai<0.4.0,>=0.3.0 in /home/pfreytag/github.com/eccenca/llama-index-cmem/.venv/lib/python3.12/site-packages (from llama-index) (0.3.0)\r\n",
      "Requirement already satisfied: llama-index-readers-file<0.5.0,>=0.4.0 in /home/pfreytag/github.com/eccenca/llama-index-cmem/.venv/lib/python3.12/site-packages (from llama-index) (0.4.3)\r\n",
      "Requirement already satisfied: llama-index-readers-llama-parse>=0.4.0 in /home/pfreytag/github.com/eccenca/llama-index-cmem/.venv/lib/python3.12/site-packages (from llama-index) (0.4.0)\r\n",
      "Requirement already satisfied: nltk>3.8.1 in /home/pfreytag/github.com/eccenca/llama-index-cmem/.venv/lib/python3.12/site-packages (from llama-index) (3.9.1)\r\n",
      "Requirement already satisfied: openai>=1.14.0 in /home/pfreytag/github.com/eccenca/llama-index-cmem/.venv/lib/python3.12/site-packages (from llama-index-agent-openai<0.5.0,>=0.4.0->llama-index) (1.59.8)\r\n",
      "Requirement already satisfied: PyYAML>=6.0.1 in /home/pfreytag/github.com/eccenca/llama-index-cmem/.venv/lib/python3.12/site-packages (from llama-index-core<0.13.0,>=0.12.11->llama-index) (6.0.2)\r\n",
      "Requirement already satisfied: SQLAlchemy>=1.4.49 in /home/pfreytag/github.com/eccenca/llama-index-cmem/.venv/lib/python3.12/site-packages (from SQLAlchemy[asyncio]>=1.4.49->llama-index-core<0.13.0,>=0.12.11->llama-index) (2.0.37)\r\n",
      "Requirement already satisfied: aiohttp<4.0.0,>=3.8.6 in /home/pfreytag/github.com/eccenca/llama-index-cmem/.venv/lib/python3.12/site-packages (from llama-index-core<0.13.0,>=0.12.11->llama-index) (3.11.11)\r\n",
      "Requirement already satisfied: dataclasses-json in /home/pfreytag/github.com/eccenca/llama-index-cmem/.venv/lib/python3.12/site-packages (from llama-index-core<0.13.0,>=0.12.11->llama-index) (0.6.7)\r\n",
      "Requirement already satisfied: deprecated>=1.2.9.3 in /home/pfreytag/github.com/eccenca/llama-index-cmem/.venv/lib/python3.12/site-packages (from llama-index-core<0.13.0,>=0.12.11->llama-index) (1.2.15)\r\n",
      "Requirement already satisfied: dirtyjson<2.0.0,>=1.0.8 in /home/pfreytag/github.com/eccenca/llama-index-cmem/.venv/lib/python3.12/site-packages (from llama-index-core<0.13.0,>=0.12.11->llama-index) (1.0.8)\r\n",
      "Requirement already satisfied: filetype<2.0.0,>=1.2.0 in /home/pfreytag/github.com/eccenca/llama-index-cmem/.venv/lib/python3.12/site-packages (from llama-index-core<0.13.0,>=0.12.11->llama-index) (1.2.0)\r\n",
      "Requirement already satisfied: fsspec>=2023.5.0 in /home/pfreytag/github.com/eccenca/llama-index-cmem/.venv/lib/python3.12/site-packages (from llama-index-core<0.13.0,>=0.12.11->llama-index) (2024.12.0)\r\n",
      "Requirement already satisfied: httpx in /home/pfreytag/github.com/eccenca/llama-index-cmem/.venv/lib/python3.12/site-packages (from llama-index-core<0.13.0,>=0.12.11->llama-index) (0.28.1)\r\n",
      "Requirement already satisfied: nest-asyncio<2.0.0,>=1.5.8 in /home/pfreytag/github.com/eccenca/llama-index-cmem/.venv/lib/python3.12/site-packages (from llama-index-core<0.13.0,>=0.12.11->llama-index) (1.6.0)\r\n",
      "Requirement already satisfied: networkx>=3.0 in /home/pfreytag/github.com/eccenca/llama-index-cmem/.venv/lib/python3.12/site-packages (from llama-index-core<0.13.0,>=0.12.11->llama-index) (3.4.2)\r\n",
      "Requirement already satisfied: numpy in /home/pfreytag/github.com/eccenca/llama-index-cmem/.venv/lib/python3.12/site-packages (from llama-index-core<0.13.0,>=0.12.11->llama-index) (2.2.1)\r\n",
      "Requirement already satisfied: pillow>=9.0.0 in /home/pfreytag/github.com/eccenca/llama-index-cmem/.venv/lib/python3.12/site-packages (from llama-index-core<0.13.0,>=0.12.11->llama-index) (11.1.0)\r\n",
      "Requirement already satisfied: pydantic>=2.8.0 in /home/pfreytag/github.com/eccenca/llama-index-cmem/.venv/lib/python3.12/site-packages (from llama-index-core<0.13.0,>=0.12.11->llama-index) (2.10.5)\r\n",
      "Requirement already satisfied: tenacity!=8.4.0,<10.0.0,>=8.2.0 in /home/pfreytag/github.com/eccenca/llama-index-cmem/.venv/lib/python3.12/site-packages (from llama-index-core<0.13.0,>=0.12.11->llama-index) (9.0.0)\r\n",
      "Requirement already satisfied: tiktoken>=0.3.3 in /home/pfreytag/github.com/eccenca/llama-index-cmem/.venv/lib/python3.12/site-packages (from llama-index-core<0.13.0,>=0.12.11->llama-index) (0.8.0)\r\n",
      "Requirement already satisfied: tqdm<5.0.0,>=4.66.1 in /home/pfreytag/github.com/eccenca/llama-index-cmem/.venv/lib/python3.12/site-packages (from llama-index-core<0.13.0,>=0.12.11->llama-index) (4.67.1)\r\n",
      "Requirement already satisfied: typing-extensions>=4.5.0 in /home/pfreytag/github.com/eccenca/llama-index-cmem/.venv/lib/python3.12/site-packages (from llama-index-core<0.13.0,>=0.12.11->llama-index) (4.12.2)\r\n",
      "Requirement already satisfied: typing-inspect>=0.8.0 in /home/pfreytag/github.com/eccenca/llama-index-cmem/.venv/lib/python3.12/site-packages (from llama-index-core<0.13.0,>=0.12.11->llama-index) (0.9.0)\r\n",
      "Requirement already satisfied: wrapt in /home/pfreytag/github.com/eccenca/llama-index-cmem/.venv/lib/python3.12/site-packages (from llama-index-core<0.13.0,>=0.12.11->llama-index) (1.17.2)\r\n",
      "Requirement already satisfied: llama-cloud>=0.1.5 in /home/pfreytag/github.com/eccenca/llama-index-cmem/.venv/lib/python3.12/site-packages (from llama-index-indices-managed-llama-cloud>=0.4.0->llama-index) (0.1.9)\r\n",
      "Requirement already satisfied: beautifulsoup4<5.0.0,>=4.12.3 in /home/pfreytag/github.com/eccenca/llama-index-cmem/.venv/lib/python3.12/site-packages (from llama-index-readers-file<0.5.0,>=0.4.0->llama-index) (4.12.3)\r\n",
      "Requirement already satisfied: pandas in /home/pfreytag/github.com/eccenca/llama-index-cmem/.venv/lib/python3.12/site-packages (from llama-index-readers-file<0.5.0,>=0.4.0->llama-index) (2.2.3)\r\n",
      "Requirement already satisfied: pypdf<6.0.0,>=5.1.0 in /home/pfreytag/github.com/eccenca/llama-index-cmem/.venv/lib/python3.12/site-packages (from llama-index-readers-file<0.5.0,>=0.4.0->llama-index) (5.1.0)\r\n",
      "Requirement already satisfied: striprtf<0.0.27,>=0.0.26 in /home/pfreytag/github.com/eccenca/llama-index-cmem/.venv/lib/python3.12/site-packages (from llama-index-readers-file<0.5.0,>=0.4.0->llama-index) (0.0.26)\r\n",
      "Requirement already satisfied: llama-parse>=0.5.0 in /home/pfreytag/github.com/eccenca/llama-index-cmem/.venv/lib/python3.12/site-packages (from llama-index-readers-llama-parse>=0.4.0->llama-index) (0.5.19)\r\n",
      "Requirement already satisfied: click in /home/pfreytag/github.com/eccenca/llama-index-cmem/.venv/lib/python3.12/site-packages (from nltk>3.8.1->llama-index) (8.1.8)\r\n",
      "Requirement already satisfied: joblib in /home/pfreytag/github.com/eccenca/llama-index-cmem/.venv/lib/python3.12/site-packages (from nltk>3.8.1->llama-index) (1.4.2)\r\n",
      "Requirement already satisfied: regex>=2021.8.3 in /home/pfreytag/github.com/eccenca/llama-index-cmem/.venv/lib/python3.12/site-packages (from nltk>3.8.1->llama-index) (2024.11.6)\r\n",
      "Requirement already satisfied: isodate<0.7.0,>=0.6.0 in /home/pfreytag/github.com/eccenca/llama-index-cmem/.venv/lib/python3.12/site-packages (from rdflib<7.0.0,>=6.3.2->cmem-cmempy) (0.6.1)\r\n",
      "Requirement already satisfied: charset-normalizer<4,>=2 in /home/pfreytag/github.com/eccenca/llama-index-cmem/.venv/lib/python3.12/site-packages (from requests<3.0.0,>=2.31.0->cmem-cmempy) (3.4.1)\r\n",
      "Requirement already satisfied: idna<4,>=2.5 in /home/pfreytag/github.com/eccenca/llama-index-cmem/.venv/lib/python3.12/site-packages (from requests<3.0.0,>=2.31.0->cmem-cmempy) (3.10)\r\n",
      "Requirement already satisfied: urllib3<3,>=1.21.1 in /home/pfreytag/github.com/eccenca/llama-index-cmem/.venv/lib/python3.12/site-packages (from requests<3.0.0,>=2.31.0->cmem-cmempy) (2.3.0)\r\n",
      "Requirement already satisfied: aiohappyeyeballs>=2.3.0 in /home/pfreytag/github.com/eccenca/llama-index-cmem/.venv/lib/python3.12/site-packages (from aiohttp<4.0.0,>=3.8.6->llama-index-core<0.13.0,>=0.12.11->llama-index) (2.4.4)\r\n",
      "Requirement already satisfied: aiosignal>=1.1.2 in /home/pfreytag/github.com/eccenca/llama-index-cmem/.venv/lib/python3.12/site-packages (from aiohttp<4.0.0,>=3.8.6->llama-index-core<0.13.0,>=0.12.11->llama-index) (1.3.2)\r\n",
      "Requirement already satisfied: attrs>=17.3.0 in /home/pfreytag/github.com/eccenca/llama-index-cmem/.venv/lib/python3.12/site-packages (from aiohttp<4.0.0,>=3.8.6->llama-index-core<0.13.0,>=0.12.11->llama-index) (24.3.0)\r\n",
      "Requirement already satisfied: frozenlist>=1.1.1 in /home/pfreytag/github.com/eccenca/llama-index-cmem/.venv/lib/python3.12/site-packages (from aiohttp<4.0.0,>=3.8.6->llama-index-core<0.13.0,>=0.12.11->llama-index) (1.5.0)\r\n",
      "Requirement already satisfied: multidict<7.0,>=4.5 in /home/pfreytag/github.com/eccenca/llama-index-cmem/.venv/lib/python3.12/site-packages (from aiohttp<4.0.0,>=3.8.6->llama-index-core<0.13.0,>=0.12.11->llama-index) (6.1.0)\r\n",
      "Requirement already satisfied: propcache>=0.2.0 in /home/pfreytag/github.com/eccenca/llama-index-cmem/.venv/lib/python3.12/site-packages (from aiohttp<4.0.0,>=3.8.6->llama-index-core<0.13.0,>=0.12.11->llama-index) (0.2.1)\r\n",
      "Requirement already satisfied: yarl<2.0,>=1.17.0 in /home/pfreytag/github.com/eccenca/llama-index-cmem/.venv/lib/python3.12/site-packages (from aiohttp<4.0.0,>=3.8.6->llama-index-core<0.13.0,>=0.12.11->llama-index) (1.18.3)\r\n",
      "Requirement already satisfied: soupsieve>1.2 in /home/pfreytag/github.com/eccenca/llama-index-cmem/.venv/lib/python3.12/site-packages (from beautifulsoup4<5.0.0,>=4.12.3->llama-index-readers-file<0.5.0,>=0.4.0->llama-index) (2.6)\r\n",
      "Requirement already satisfied: six in /home/pfreytag/github.com/eccenca/llama-index-cmem/.venv/lib/python3.12/site-packages (from isodate<0.7.0,>=0.6.0->rdflib<7.0.0,>=6.3.2->cmem-cmempy) (1.17.0)\r\n",
      "Requirement already satisfied: anyio in /home/pfreytag/github.com/eccenca/llama-index-cmem/.venv/lib/python3.12/site-packages (from httpx->llama-index-core<0.13.0,>=0.12.11->llama-index) (4.8.0)\r\n",
      "Requirement already satisfied: httpcore==1.* in /home/pfreytag/github.com/eccenca/llama-index-cmem/.venv/lib/python3.12/site-packages (from httpx->llama-index-core<0.13.0,>=0.12.11->llama-index) (1.0.7)\r\n",
      "Requirement already satisfied: h11<0.15,>=0.13 in /home/pfreytag/github.com/eccenca/llama-index-cmem/.venv/lib/python3.12/site-packages (from httpcore==1.*->httpx->llama-index-core<0.13.0,>=0.12.11->llama-index) (0.14.0)\r\n",
      "Requirement already satisfied: distro<2,>=1.7.0 in /home/pfreytag/github.com/eccenca/llama-index-cmem/.venv/lib/python3.12/site-packages (from openai>=1.14.0->llama-index-agent-openai<0.5.0,>=0.4.0->llama-index) (1.9.0)\r\n",
      "Requirement already satisfied: jiter<1,>=0.4.0 in /home/pfreytag/github.com/eccenca/llama-index-cmem/.venv/lib/python3.12/site-packages (from openai>=1.14.0->llama-index-agent-openai<0.5.0,>=0.4.0->llama-index) (0.8.2)\r\n",
      "Requirement already satisfied: sniffio in /home/pfreytag/github.com/eccenca/llama-index-cmem/.venv/lib/python3.12/site-packages (from openai>=1.14.0->llama-index-agent-openai<0.5.0,>=0.4.0->llama-index) (1.3.1)\r\n",
      "Requirement already satisfied: annotated-types>=0.6.0 in /home/pfreytag/github.com/eccenca/llama-index-cmem/.venv/lib/python3.12/site-packages (from pydantic>=2.8.0->llama-index-core<0.13.0,>=0.12.11->llama-index) (0.7.0)\r\n",
      "Requirement already satisfied: pydantic-core==2.27.2 in /home/pfreytag/github.com/eccenca/llama-index-cmem/.venv/lib/python3.12/site-packages (from pydantic>=2.8.0->llama-index-core<0.13.0,>=0.12.11->llama-index) (2.27.2)\r\n",
      "Requirement already satisfied: greenlet!=0.4.17 in /home/pfreytag/github.com/eccenca/llama-index-cmem/.venv/lib/python3.12/site-packages (from SQLAlchemy>=1.4.49->SQLAlchemy[asyncio]>=1.4.49->llama-index-core<0.13.0,>=0.12.11->llama-index) (3.1.1)\r\n",
      "Requirement already satisfied: mypy-extensions>=0.3.0 in /home/pfreytag/github.com/eccenca/llama-index-cmem/.venv/lib/python3.12/site-packages (from typing-inspect>=0.8.0->llama-index-core<0.13.0,>=0.12.11->llama-index) (1.0.0)\r\n",
      "Requirement already satisfied: marshmallow<4.0.0,>=3.18.0 in /home/pfreytag/github.com/eccenca/llama-index-cmem/.venv/lib/python3.12/site-packages (from dataclasses-json->llama-index-core<0.13.0,>=0.12.11->llama-index) (3.25.1)\r\n",
      "Requirement already satisfied: python-dateutil>=2.8.2 in /home/pfreytag/github.com/eccenca/llama-index-cmem/.venv/lib/python3.12/site-packages (from pandas->llama-index-readers-file<0.5.0,>=0.4.0->llama-index) (2.9.0.post0)\r\n",
      "Requirement already satisfied: pytz>=2020.1 in /home/pfreytag/github.com/eccenca/llama-index-cmem/.venv/lib/python3.12/site-packages (from pandas->llama-index-readers-file<0.5.0,>=0.4.0->llama-index) (2024.2)\r\n",
      "Requirement already satisfied: tzdata>=2022.7 in /home/pfreytag/github.com/eccenca/llama-index-cmem/.venv/lib/python3.12/site-packages (from pandas->llama-index-readers-file<0.5.0,>=0.4.0->llama-index) (2024.2)\r\n",
      "Requirement already satisfied: packaging>=17.0 in /home/pfreytag/github.com/eccenca/llama-index-cmem/.venv/lib/python3.12/site-packages (from marshmallow<4.0.0,>=3.18.0->dataclasses-json->llama-index-core<0.13.0,>=0.12.11->llama-index) (24.2)\r\n",
      "Note: you may need to restart the kernel to use updated packages.\n"
     ]
    }
   ],
   "source": [
    "%pip install cmem-cmempy llama-index python-dotenv"
   ]
  },
  {
   "cell_type": "markdown",
   "metadata": {},
   "source": [
    "Load environment from `.env` file. \n",
    "Start by `cp .env-template .env` and edit the content of `.env` accordingly."
   ]
  },
  {
   "cell_type": "code",
   "execution_count": 2,
   "metadata": {
    "ExecuteTime": {
     "end_time": "2025-01-20T14:57:32.257996Z",
     "start_time": "2025-01-20T14:57:32.249673Z"
    }
   },
   "outputs": [],
   "source": [
    "%load_ext dotenv\n",
    "%dotenv"
   ]
  },
  {
   "cell_type": "markdown",
   "metadata": {},
   "source": [
    "Set up the LLM"
   ]
  },
  {
   "cell_type": "code",
   "execution_count": 3,
   "metadata": {
    "ExecuteTime": {
     "end_time": "2025-01-20T14:57:36.966015Z",
     "start_time": "2025-01-20T14:57:32.383638Z"
    }
   },
   "outputs": [],
   "source": [
    "from llama_index.core import Settings\n",
    "from llama_index.llms.openai import OpenAI\n",
    "\n",
    "model = \"gpt-4o-mini\"\n",
    "llm = OpenAI(model=model)\n",
    "Settings.llm = llm"
   ]
  },
  {
   "cell_type": "markdown",
   "metadata": {},
   "source": [
    "Set up all components."
   ]
  },
  {
   "cell_type": "code",
   "execution_count": 4,
   "metadata": {
    "ExecuteTime": {
     "end_time": "2025-01-20T14:57:37.473838Z",
     "start_time": "2025-01-20T14:57:36.973153Z"
    }
   },
   "outputs": [],
   "source": [
    "from llama_index.core import get_response_synthesizer\n",
    "from llama_index.core.chat_engine import CondensePlusContextChatEngine\n",
    "from llama_index.core.memory import ChatMemoryBuffer\n",
    "\n",
    "from llama_index_cmem.retrievers.cmem.cmem_retriever import CMEMRetriever\n",
    "\n",
    "ontology_graph = \"http://ld.company.org/prod-vocab/\"\n",
    "context_graph = \"http://ld.company.org/prod-inst/\"\n",
    "\n",
    "response_synthesizer = get_response_synthesizer()\n",
    "\n",
    "retriever = CMEMRetriever(ontology_graph=ontology_graph, context_graph=context_graph, llm=llm)\n",
    "\n",
    "memory = ChatMemoryBuffer.from_defaults()\n",
    "\n",
    "chat_engine = CondensePlusContextChatEngine(retriever=retriever, llm=llm, memory=memory)"
   ]
  },
  {
   "cell_type": "markdown",
   "metadata": {},
   "source": [
    "Define a natural language query, run via query engine and get a natural language response answering the question."
   ]
  },
  {
   "cell_type": "code",
   "execution_count": 5,
   "metadata": {
    "ExecuteTime": {
     "end_time": "2025-01-20T14:57:58.819257Z",
     "start_time": "2025-01-20T14:57:37.481236Z"
    }
   },
   "outputs": [
    {
     "data": {
      "text/markdown": "## Prompt: _List all hardware with price. Limit the results to 20 items._\n\n### Final response:\n\nHere are 20 hardware items along with their prices:\n\n1. **Hardware**: [hw-X716-6172862](http://ld.company.org/prod-instances/hw-X716-6172862) - **Price**: 3.2 EUR\n2. **Hardware**: [hw-Q986-9996088](http://ld.company.org/prod-instances/hw-Q986-9996088) - **Price**: 1.12 EUR\n3. **Hardware**: [hw-M605-5951566](http://ld.company.org/prod-instances/hw-M605-5951566) - **Price**: 3.94 EUR\n4. **Hardware**: [hw-Y299-9772513](http://ld.company.org/prod-instances/hw-Y299-9772513) - **Price**: 0.38 EUR\n5. **Hardware**: [hw-O184-6903943](http://ld.company.org/prod-instances/hw-O184-6903943) - **Price**: 1.15 EUR\n6. **Hardware**: [hw-O311-4466005](http://ld.company.org/prod-instances/hw-O311-4466005) - **Price**: 3.1 EUR\n7. **Hardware**: [hw-I980-1040313](http://ld.company.org/prod-instances/hw-I980-1040313) - **Price**: 3.38 EUR\n8. **Hardware**: [hw-D762-3837218](http://ld.company.org/prod-instances/hw-D762-3837218) - **Price**: 2.43 EUR\n9. **Hardware**: [hw-L128-5499058](http://ld.company.org/prod-instances/hw-L128-5499058) - **Price**: 0.51 EUR\n10. **Hardware**: [hw-Q442-2123335](http://ld.company.org/prod-instances/hw-Q442-2123335) - **Price**: 1.65 EUR\n11. **Hardware**: [hw-U286-4664935](http://ld.company.org/prod-instances/hw-U286-4664935) - **Price**: 0.38 EUR\n12. **Hardware**: [hw-Z272-2955088](http://ld.company.org/prod-instances/hw-Z272-2955088) - **Price**: 0.82 EUR\n13. **Hardware**: [hw-L536-5185541](http://ld.company.org/prod-instances/hw-L536-5185541) - **Price**: 4.22 EUR\n14. **Hardware**: [hw-Z249-1364492](http://ld.company.org/prod-instances/hw-Z249-1364492) - **Price**: 4.12 EUR\n15. **Hardware**: [hw-F344-7012314](http://ld.company.org/prod-instances/hw-F344-7012314) - **Price**: 3.25 EUR\n16. **Hardware**: [hw-O857-5463957](http://ld.company.org/prod-instances/hw-O857-5463957) - **Price**: 3.62 EUR\n17. **Hardware**: [hw-L586-5133830](http://ld.company.org/prod-instances/hw-L586-5133830) - **Price**: 3.08 EUR\n18. **Hardware**: [hw-L316-4863597](http://ld.company.org/prod-instances/hw-L316-4863597) - **Price**: 1.23 EUR\n19. **Hardware**: [hw-R860-6284767](http://ld.company.org/prod-instances/hw-R860-6284767) - **Price**: 1.02 EUR\n20. **Hardware**: [hw-A688-6056899](http://ld.company.org/prod-instances/hw-A688-6056899) - **Price**: 0.98 EUR\n\nLet me know if you need more information!",
      "text/plain": [
       "<IPython.core.display.Markdown object>"
      ]
     },
     "metadata": {},
     "output_type": "display_data"
    }
   ],
   "source": [
    "from IPython.display import Markdown\n",
    "\n",
    "\n",
    "def ask(prompt: str) -> None:\n",
    "    \"\"\"Ask a question and display the answer.\"\"\"\n",
    "    text = f\"## Prompt: _{prompt}_\\n\\n\"\n",
    "    text += \"### Final response:\\n\\n\"\n",
    "    display_handle = display(Markdown(\"\"), display_id=True)\n",
    "    display_handle.update(Markdown(text))\n",
    "    response = chat_engine.stream_chat(prompt)\n",
    "    for token in response.response_gen:\n",
    "        text += f\"{token}\"\n",
    "        display_handle.update(Markdown(text))\n",
    "\n",
    "\n",
    "query = \"List all hardware with price. Limit the results to 20 items.\"\n",
    "ask(query)"
   ]
  }
 ],
 "metadata": {
  "kernelspec": {
   "display_name": ".venv",
   "language": "python",
   "name": "python3"
  },
  "language_info": {
   "codemirror_mode": {
    "name": "ipython",
    "version": 3
   },
   "file_extension": ".py",
   "mimetype": "text/x-python",
   "name": "python",
   "nbconvert_exporter": "python",
   "pygments_lexer": "ipython3",
   "version": "3.13.1"
  }
 },
 "nbformat": 4,
 "nbformat_minor": 2
}
