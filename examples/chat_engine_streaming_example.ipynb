{
 "cells": [
  {
   "cell_type": "markdown",
   "metadata": {},
   "source": [
    "# Chat Engine with CMEMRetriever (streaming)\n",
    "\n",
    "To use the CMEM integration, use a RetrieverQueryEngine with CMEMRetriever and CMEMGraphStore."
   ]
  },
  {
   "cell_type": "code",
   "execution_count": null,
   "metadata": {},
   "outputs": [],
   "source": [
    "%pip install cmem-cmempy llama-index"
   ]
  },
  {
   "cell_type": "markdown",
   "metadata": {},
   "source": [
    "Add environment if neccessary."
   ]
  },
  {
   "cell_type": "code",
   "execution_count": null,
   "metadata": {},
   "outputs": [],
   "source": [
    "from os import environ\n",
    "\n",
    "environ[\"CMEM_BASE_URI\"] = \"\"\n",
    "environ[\"OAUTH_GRANT_TYPE\"] = \"password\"\n",
    "environ[\"OAUTH_USER\"] = \"admin\"\n",
    "environ[\"OAUTH_PASSWORD\"] = \"\"\n",
    "environ[\"OAUTH_CLIENT_ID\"] = \"cmemc\"\n",
    "\n",
    "environ[\"OPENAI_API_KEY\"] = \"\""
   ]
  },
  {
   "cell_type": "markdown",
   "metadata": {},
   "source": [
    "Set up the LLM"
   ]
  },
  {
   "cell_type": "code",
   "execution_count": 1,
   "metadata": {},
   "outputs": [],
   "source": [
    "from llama_index.core import Settings\n",
    "from llama_index.llms.openai import OpenAI\n",
    "\n",
    "model=\"gpt-4o-mini\"\n",
    "llm = OpenAI(model=model)\n",
    "Settings.llm = llm"
   ]
  },
  {
   "cell_type": "markdown",
   "metadata": {},
   "source": [
    "Set up all components."
   ]
  },
  {
   "cell_type": "code",
   "execution_count": 2,
   "metadata": {},
   "outputs": [],
   "source": [
    "from llama_index.core import get_response_synthesizer\n",
    "from llama_index.core.chat_engine import CondensePlusContextChatEngine\n",
    "from llama_index.core.memory import ChatMemoryBuffer\n",
    "\n",
    "from llama_index_cmem.graph_stores.cmem import CMEMGraphStore\n",
    "from llama_index_cmem.retrievers.cmem.cmem_retriever import CMEMRetriever\n",
    "\n",
    "ontology_graph = \"http://ld.company.org/prod-vocab/\"\n",
    "context_graph = \"http://ld.company.org/prod-inst/\"\n",
    "\n",
    "response_synthesizer = get_response_synthesizer()\n",
    "\n",
    "graph_store = CMEMGraphStore()\n",
    "\n",
    "retriever = CMEMRetriever(\n",
    "    graph_store=graph_store,\n",
    "    ontology_graph=ontology_graph,\n",
    "    context_graph=context_graph,\n",
    "    llm=llm\n",
    ")\n",
    "\n",
    "memory = ChatMemoryBuffer.from_defaults()\n",
    "\n",
    "chat_engine = CondensePlusContextChatEngine(\n",
    "    retriever=retriever,\n",
    "    llm=llm,\n",
    "    memory=memory\n",
    ")"
   ]
  },
  {
   "cell_type": "markdown",
   "metadata": {},
   "source": [
    "Define a natural language query, run via query engine and get a natural language response answering the question."
   ]
  },
  {
   "cell_type": "code",
   "execution_count": null,
   "metadata": {},
   "outputs": [],
   "source": [
    "query = \"List all hardware with price. Limit the results to 20 items.\"\n",
    "\n",
    "print(\"Query:\\n\" + query)\n",
    "response = chat_engine.stream_chat(query)\n",
    "\n",
    "print(\"Final response:\\n\")\n",
    "for token in response.response_gen:\n",
    "    print(token, end=\"\")"
   ]
  }
 ],
 "metadata": {
  "kernelspec": {
   "display_name": "llama-index-cmem-UgaMZsBQ-py3.13",
   "language": "python",
   "name": "python3"
  },
  "language_info": {
   "codemirror_mode": {
    "name": "ipython",
    "version": 3
   },
   "file_extension": ".py",
   "mimetype": "text/x-python",
   "name": "python",
   "nbconvert_exporter": "python",
   "pygments_lexer": "ipython3",
   "version": "3.13.0"
  }
 },
 "nbformat": 4,
 "nbformat_minor": 2
}
